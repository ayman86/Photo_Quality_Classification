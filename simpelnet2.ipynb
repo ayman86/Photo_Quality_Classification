{
  "cells": [
    {
      "cell_type": "markdown",
      "metadata": {
        "id": "view-in-github",
        "colab_type": "text"
      },
      "source": [
        "<a href=\"https://colab.research.google.com/github/ayman86/Photo_Quality_Classification/blob/main/simpelnet2.ipynb\" target=\"_parent\"><img src=\"https://colab.research.google.com/assets/colab-badge.svg\" alt=\"Open In Colab\"/></a>"
      ]
    },
    {
      "cell_type": "code",
      "execution_count": 6,
      "metadata": {
        "id": "qWKhURmqANPw"
      },
      "outputs": [],
      "source": [
        "import cv2\n",
        "import os\n",
        "import random\n",
        "import matplotlib.pylab as plt\n",
        "from glob import glob\n",
        "import pandas as pd\n",
        "import numpy as np\n",
        "from sklearn.model_selection import train_test_split"
      ]
    },
    {
      "cell_type": "code",
      "execution_count": 7,
      "metadata": {
        "id": "Pwgj2q67AgFD"
      },
      "outputs": [],
      "source": [
        "def proc_image_dir(Images_Path):\n",
        "    \n",
        "    image_classes = sorted([dirname for dirname in os.listdir(Images_Path)\n",
        "                      if os.path.isdir(os.path.join(Images_Path, dirname))])\n",
        "    # and not dirname.startswith(\".\") and not dirname.startswith(\"mblur\")])\n",
        "    #image_classes.append('mblur')\n",
        "    \n",
        "    print(image_classes)\n",
        "    \n",
        "    x = [] # images as arrays\n",
        "    y = [] # labels Infiltration or Not_infiltration\n",
        "    WIDTH = 256\n",
        "    HEIGHT = 256\n",
        "  \n",
        "    print(\"Adding Images: \",end=\"\")\n",
        "    i = 0\n",
        "    for image_class in image_classes:\n",
        "        print(\"Processing \", image_class)\n",
        "        items = glob(os.path.join(Images_Path, image_class,\"*\"))\n",
        "        for item in items:\n",
        "            if item.lower().endswith(\".jpg\") or item.lower().endswith(\".bmp\"):\n",
        "                # Read and resize image\n",
        "                full_size_image = cv2.imread(item)\n",
        "                x.append(cv2.resize(full_size_image, (WIDTH,HEIGHT), interpolation=cv2.INTER_CUBIC))\n",
        "                out = [0] * len(image_classes)\n",
        "                out[i] = 1\n",
        "                y.append(out)\n",
        "        i+=1\n",
        "\n",
        "    print(\"\")\n",
        "    return x,y,image_classes\n",
        "\n",
        "def horizontal_motion_blur(img, blur_factor):\n",
        "    import cv2 \n",
        "    import numpy as np \n",
        "\n",
        "    kernel_size = blur_factor\n",
        "    kernel_h = np.zeros((kernel_size, kernel_size))\n",
        "    kernel_h[int((kernel_size - 1)/2), :] = np.ones(kernel_size) \n",
        "    kernel_h /= kernel_size \n",
        "\n",
        "    # Apply the horizontal kernel. \n",
        "    horizontal_mb = cv2.filter2D(img, -1, kernel_h) \n",
        "    \n",
        "    return horizontal_mb"
      ]
    },
    {
      "cell_type": "code",
      "execution_count": 8,
      "metadata": {
        "id": "qHlujpENAkLd",
        "colab": {
          "base_uri": "https://localhost:8080/"
        },
        "outputId": "654a2690-5b10-4f94-a31f-c5da8e86152f"
      },
      "outputs": [
        {
          "output_type": "stream",
          "name": "stdout",
          "text": [
            "['bad_lighting', 'fastfading', 'gblur', 'jp2k', 'jpeg', 'refimgs']\n",
            "Adding Images: Processing  bad_lighting\n",
            "Processing  fastfading\n",
            "Processing  gblur\n",
            "Processing  jp2k\n",
            "Processing  jpeg\n",
            "Processing  refimgs\n",
            "\n"
          ]
        }
      ],
      "source": [
        "# ./input/\n",
        "PATH = os.path.abspath(os.path.join('.', 'databaserelease2'))\n",
        "\n",
        "# ./input/sample/images/\n",
        "SOURCE_IMAGES = '/content/drive/MyDrive/Datasets - Copy/First Dataset'#os.path.join(PATH, \"sample\", \"images\")\n",
        "x2,y2,image_classes = proc_image_dir(SOURCE_IMAGES)\n"
      ]
    },
    {
      "cell_type": "code",
      "execution_count": 9,
      "metadata": {
        "id": "xkz5A8fhAwFm",
        "colab": {
          "base_uri": "https://localhost:8080/"
        },
        "outputId": "0794426e-53ec-441d-d2f2-2a9b91f61874"
      },
      "outputs": [
        {
          "output_type": "stream",
          "name": "stdout",
          "text": [
            "['bad_lighting', 'fastfading', 'gblur', 'jp2k', 'jpeg', 'refimgs']\n"
          ]
        }
      ],
      "source": [
        "for i in range(0,len(x2)):\n",
        "    if(y2[i][2] > 0):\n",
        "        # Specify the kernel size. \n",
        "        # The greater the size, the more the motion. \n",
        "        \n",
        "        random.seed(221234)\n",
        "        kernel_size_h = random.randrange(30, 60, 5)\n",
        "\n",
        "\n",
        "        # Apply the horizontal kernel. \n",
        "        horizonal_mb = horizontal_motion_blur(x2[i],kernel_size_h)\n",
        "        \n",
        "        x2.append(horizonal_mb)\n",
        "        y2.append([0,0,0,0,0,1])\n",
        "\n",
        "print(image_classes)"
      ]
    },
    {
      "cell_type": "code",
      "execution_count": 10,
      "metadata": {
        "id": "Ge9UqC_fAzAn",
        "colab": {
          "base_uri": "https://localhost:8080/"
        },
        "outputId": "9a8b0d4f-cb6f-4b61-e139-b49194a0a5da"
      },
      "outputs": [
        {
          "output_type": "stream",
          "name": "stdout",
          "text": [
            "(962, 256, 256, 3)\n",
            "(121, 256, 256, 3)\n",
            "(120, 256, 256, 3)\n"
          ]
        }
      ],
      "source": [
        "# First split the data in two sets, 80% for training, 20% for Val/Test)\n",
        "X_train, X_valtest, y_train, y_valtest = train_test_split(x2,y2, test_size=0.20, random_state=1, stratify=y2)\n",
        "\n",
        "# Second split the 40% into validation and test sets\n",
        "X_test, X_val, y_test, y_val = train_test_split(X_valtest, y_valtest, test_size=0.5, random_state=1, stratify=y_valtest)\n",
        "\n",
        "print(np.array(X_train).shape)\n",
        "print(np.array(X_val).shape)\n",
        "print(np.array(X_test).shape)"
      ]
    },
    {
      "cell_type": "code",
      "execution_count": 11,
      "metadata": {
        "id": "vP9bfmPbA02v"
      },
      "outputs": [],
      "source": [
        "import tensorflow as tf\n",
        "from tensorflow.keras.preprocessing.image import ImageDataGenerator\n",
        "from tensorflow.keras import layers, models, optimizers\n",
        "from tensorflow.keras import backend as K\n",
        "import tensorflow.keras\n",
        "from tensorflow.keras.datasets import cifar10\n",
        "from tensorflow.keras.preprocessing.image import ImageDataGenerator\n",
        "from tensorflow.keras.models import Sequential\n",
        "from tensorflow.keras.layers import Dense, Dropout, Activation, Flatten\n",
        "from tensorflow.keras.layers import Conv2D, MaxPooling2D\n",
        "import os\n",
        "from tensorflow.keras.layers import Input, Dense, Activation,Flatten,Conv2D,MaxPool2D,Dropout\n",
        "from tensorflow.keras.models import Model\n",
        "import keras\n",
        "from keras.preprocessing.image import ImageDataGenerator\n",
        "from keras.models import Sequential\n",
        "from keras.layers import Dense\n",
        "from keras.utils.traceback_utils import include_frame\n",
        "import matplotlib.pyplot as plt\n",
        "import numpy as np\n",
        "\n",
        "num_classes=6\n",
        "\n",
        "K.image_data_format()\n",
        "\n",
        "img_width, img_height = 256, 256\n",
        "nb_train_samples = len(X_train)\n",
        "nb_validation_samples = len(X_val)\n",
        "batch_size = 16"
      ]
    },
    {
      "cell_type": "code",
      "execution_count": 12,
      "metadata": {
        "id": "f9chEpMRA3d_",
        "colab": {
          "base_uri": "https://localhost:8080/"
        },
        "outputId": "9ff846bb-b360-4a6f-821e-8a05264c40d8"
      },
      "outputs": [
        {
          "output_type": "stream",
          "name": "stdout",
          "text": [
            "Model: \"sequential\"\n",
            "_________________________________________________________________\n",
            " Layer (type)                Output Shape              Param #   \n",
            "=================================================================\n",
            " conv2d (Conv2D)             (None, 252, 252, 32)      2432      \n",
            "                                                                 \n",
            " batch_normalization (BatchN  (None, 252, 252, 32)     128       \n",
            " ormalization)                                                   \n",
            "                                                                 \n",
            " activation (Activation)     (None, 252, 252, 32)      0         \n",
            "                                                                 \n",
            " max_pooling2d (MaxPooling2D  (None, 126, 126, 32)     0         \n",
            " )                                                               \n",
            "                                                                 \n",
            " conv2d_1 (Conv2D)           (None, 124, 124, 64)      18496     \n",
            "                                                                 \n",
            " batch_normalization_1 (Batc  (None, 124, 124, 64)     256       \n",
            " hNormalization)                                                 \n",
            "                                                                 \n",
            " activation_1 (Activation)   (None, 124, 124, 64)      0         \n",
            "                                                                 \n",
            " max_pooling2d_1 (MaxPooling  (None, 62, 62, 64)       0         \n",
            " 2D)                                                             \n",
            "                                                                 \n",
            " conv2d_2 (Conv2D)           (None, 60, 60, 128)       73856     \n",
            "                                                                 \n",
            " batch_normalization_2 (Batc  (None, 60, 60, 128)      512       \n",
            " hNormalization)                                                 \n",
            "                                                                 \n",
            " activation_2 (Activation)   (None, 60, 60, 128)       0         \n",
            "                                                                 \n",
            " max_pooling2d_2 (MaxPooling  (None, 30, 30, 128)      0         \n",
            " 2D)                                                             \n",
            "                                                                 \n",
            " flatten (Flatten)           (None, 115200)            0         \n",
            "                                                                 \n",
            " dropout (Dropout)           (None, 115200)            0         \n",
            "                                                                 \n",
            " dense (Dense)               (None, 64)                7372864   \n",
            "                                                                 \n",
            " batch_normalization_3 (Batc  (None, 64)               256       \n",
            " hNormalization)                                                 \n",
            "                                                                 \n",
            " activation_3 (Activation)   (None, 64)                0         \n",
            "                                                                 \n",
            " dropout_1 (Dropout)         (None, 64)                0         \n",
            "                                                                 \n",
            " dense_1 (Dense)             (None, 6)                 390       \n",
            "                                                                 \n",
            " batch_normalization_4 (Batc  (None, 6)                24        \n",
            " hNormalization)                                                 \n",
            "                                                                 \n",
            " activation_4 (Activation)   (None, 6)                 0         \n",
            "                                                                 \n",
            "=================================================================\n",
            "Total params: 7,469,214\n",
            "Trainable params: 7,468,626\n",
            "Non-trainable params: 588\n",
            "_________________________________________________________________\n"
          ]
        },
        {
          "output_type": "stream",
          "name": "stderr",
          "text": [
            "/usr/local/lib/python3.7/dist-packages/keras/optimizer_v2/adam.py:105: UserWarning: The `lr` argument is deprecated, use `learning_rate` instead.\n",
            "  super(Adam, self).__init__(name, **kwargs)\n"
          ]
        }
      ],
      "source": [
        "\n",
        "input_shape = (256,256,3)\n",
        "\n",
        "model = models.Sequential()\n",
        "\n",
        "model.add(layers.Conv2D(32, (5, 5), input_shape=(img_width, img_height, 3)))\n",
        "model.add(layers.BatchNormalization())\n",
        "model.add(layers.Activation(\"softmax\"))\n",
        "\n",
        "model.add(layers.MaxPooling2D((2, 2)))\n",
        "\n",
        "model.add(layers.Conv2D(64, (3, 3)))\n",
        "model.add(layers.BatchNormalization())\n",
        "model.add(layers.Activation(\"softmax\"))\n",
        "\n",
        "model.add(layers.MaxPooling2D((2, 2)))\n",
        "\n",
        "model.add(layers.Conv2D(128, (3, 3)))\n",
        "model.add(layers.BatchNormalization())\n",
        "model.add(layers.Activation(\"softmax\"))\n",
        "\n",
        "model.add(layers.MaxPooling2D((2, 2)))\n",
        "\n",
        "model.add(layers.Flatten())\n",
        "model.add(layers.Dropout(0.2))\n",
        "model.add(layers.Dense(64))\n",
        "model.add(layers.BatchNormalization())\n",
        "model.add(layers.Activation(\"relu\"))\n",
        "model.add(layers.Dropout(0.2))\n",
        "\n",
        "model.add(layers.Dense(len(image_classes)))\n",
        "model.add(layers.BatchNormalization())\n",
        "model.add(layers.Activation(\"sigmoid\"))\n",
        "#Generate model\n",
        "\n",
        "model.compile(\n",
        "\tloss='binary_crossentropy',\n",
        "\toptimizer=optimizers.Adam(lr=0.001, beta_1=0.9, beta_2=0.999, epsilon=1e-08, decay=0.0),\n",
        "\tmetrics=['acc'])\n",
        "model.summary()\n",
        "\n",
        "\n"
      ]
    },
    {
      "cell_type": "code",
      "execution_count": null,
      "metadata": {
        "id": "3YqNyGGOA5lH",
        "colab": {
          "base_uri": "https://localhost:8080/"
        },
        "outputId": "afb9f591-e70e-4125-896a-09838017cd3a"
      },
      "outputs": [
        {
          "output_type": "stream",
          "name": "stderr",
          "text": [
            "/usr/local/lib/python3.7/dist-packages/keras/optimizer_v2/adam.py:105: UserWarning: The `lr` argument is deprecated, use `learning_rate` instead.\n",
            "  super(Adam, self).__init__(name, **kwargs)\n"
          ]
        }
      ],
      "source": [
        "model.compile(\n",
        "\tloss='binary_crossentropy',\n",
        "\toptimizer=optimizers.Adam(lr=0.001, beta_1=0.9, beta_2=0.999, epsilon=1e-08, decay=0.0),\n",
        "\tmetrics=['acc'])"
      ]
    },
    {
      "cell_type": "code",
      "execution_count": null,
      "metadata": {
        "id": "S-YXtkrRA7bP",
        "colab": {
          "base_uri": "https://localhost:8080/"
        },
        "outputId": "549292c2-6bea-44e5-9e79-2ccb2c7df021"
      },
      "outputs": [
        {
          "output_type": "stream",
          "name": "stdout",
          "text": [
            "Epoch 1/50\n",
            "31/31 [==============================] - 22s 224ms/step - loss: 1.5211 - acc: 0.2152 - val_loss: 0.4348 - val_acc: 0.2810\n",
            "Epoch 2/50\n",
            "31/31 [==============================] - 5s 159ms/step - loss: 0.4555 - acc: 0.2349 - val_loss: 0.4655 - val_acc: 0.1736\n",
            "Epoch 3/50\n",
            "31/31 [==============================] - 5s 159ms/step - loss: 0.4547 - acc: 0.2214 - val_loss: 0.4271 - val_acc: 0.2810\n",
            "Epoch 4/50\n",
            "31/31 [==============================] - 5s 161ms/step - loss: 0.4455 - acc: 0.2432 - val_loss: 0.4262 - val_acc: 0.3471\n",
            "Epoch 5/50\n",
            "31/31 [==============================] - 5s 162ms/step - loss: 0.4297 - acc: 0.3202 - val_loss: 0.4111 - val_acc: 0.4050\n",
            "Epoch 6/50\n",
            "31/31 [==============================] - 5s 163ms/step - loss: 0.4173 - acc: 0.3493 - val_loss: 0.4200 - val_acc: 0.3388\n",
            "Epoch 7/50\n",
            "31/31 [==============================] - 5s 164ms/step - loss: 0.3951 - acc: 0.3430 - val_loss: 0.3706 - val_acc: 0.4132\n",
            "Epoch 8/50\n",
            "31/31 [==============================] - 5s 165ms/step - loss: 0.3607 - acc: 0.4054 - val_loss: 0.3680 - val_acc: 0.3884\n",
            "Epoch 9/50\n",
            "31/31 [==============================] - 5s 166ms/step - loss: 0.3646 - acc: 0.4158 - val_loss: 0.3617 - val_acc: 0.4298\n",
            "Epoch 10/50\n",
            "31/31 [==============================] - 5s 167ms/step - loss: 0.3738 - acc: 0.4033 - val_loss: 0.3724 - val_acc: 0.3719\n",
            "Epoch 11/50\n",
            "31/31 [==============================] - 5s 165ms/step - loss: 0.3501 - acc: 0.4241 - val_loss: 0.5309 - val_acc: 0.3554\n",
            "Epoch 12/50\n",
            "31/31 [==============================] - 5s 166ms/step - loss: 0.4419 - acc: 0.2578 - val_loss: 0.4347 - val_acc: 0.2231\n",
            "Epoch 13/50\n",
            "31/31 [==============================] - 5s 166ms/step - loss: 0.4367 - acc: 0.2630 - val_loss: 0.4211 - val_acc: 0.3554\n",
            "Epoch 14/50\n",
            "31/31 [==============================] - 5s 167ms/step - loss: 0.3958 - acc: 0.3690 - val_loss: 0.4040 - val_acc: 0.4132\n",
            "Epoch 15/50\n",
            "31/31 [==============================] - 5s 169ms/step - loss: 0.3634 - acc: 0.4054 - val_loss: 0.3696 - val_acc: 0.3719\n",
            "Epoch 16/50\n",
            "31/31 [==============================] - 5s 169ms/step - loss: 0.3586 - acc: 0.4168 - val_loss: 0.3783 - val_acc: 0.4298\n",
            "Epoch 17/50\n",
            "31/31 [==============================] - 5s 172ms/step - loss: 0.3578 - acc: 0.4210 - val_loss: 0.3918 - val_acc: 0.4215\n",
            "Epoch 18/50\n",
            "31/31 [==============================] - 5s 168ms/step - loss: 0.3383 - acc: 0.4231 - val_loss: 0.4069 - val_acc: 0.4380\n",
            "Epoch 19/50\n",
            "31/31 [==============================] - 5s 167ms/step - loss: 0.3314 - acc: 0.4636 - val_loss: 0.3422 - val_acc: 0.4380\n",
            "Epoch 20/50\n",
            "31/31 [==============================] - 5s 166ms/step - loss: 0.3284 - acc: 0.4376 - val_loss: 0.3473 - val_acc: 0.4050\n",
            "Epoch 21/50\n",
            "31/31 [==============================] - 5s 166ms/step - loss: 0.3196 - acc: 0.4730 - val_loss: 0.3297 - val_acc: 0.4298\n",
            "Epoch 22/50\n",
            "31/31 [==============================] - 5s 166ms/step - loss: 0.3235 - acc: 0.4647 - val_loss: 0.4736 - val_acc: 0.4215\n",
            "Epoch 23/50\n",
            "31/31 [==============================] - 5s 165ms/step - loss: 0.3165 - acc: 0.4699 - val_loss: 0.4709 - val_acc: 0.4959\n",
            "Epoch 24/50\n",
            "31/31 [==============================] - 5s 165ms/step - loss: 0.3133 - acc: 0.4823 - val_loss: 0.3729 - val_acc: 0.4628\n",
            "Epoch 25/50\n",
            "31/31 [==============================] - 5s 165ms/step - loss: 0.3064 - acc: 0.4979 - val_loss: 0.3876 - val_acc: 0.4298\n",
            "Epoch 26/50\n",
            "31/31 [==============================] - 5s 164ms/step - loss: 0.3164 - acc: 0.4782 - val_loss: 0.3198 - val_acc: 0.5124\n",
            "Epoch 27/50\n",
            "31/31 [==============================] - 5s 166ms/step - loss: 0.3102 - acc: 0.4875 - val_loss: 0.3915 - val_acc: 0.4215\n",
            "Epoch 28/50\n",
            "31/31 [==============================] - 5s 165ms/step - loss: 0.3059 - acc: 0.5052 - val_loss: 0.3345 - val_acc: 0.4298\n",
            "Epoch 29/50\n",
            "31/31 [==============================] - 5s 165ms/step - loss: 0.2996 - acc: 0.5042 - val_loss: 0.3474 - val_acc: 0.5207\n",
            "Epoch 30/50\n",
            "31/31 [==============================] - 5s 166ms/step - loss: 0.2995 - acc: 0.5062 - val_loss: 0.3684 - val_acc: 0.4628\n",
            "Epoch 31/50\n",
            "31/31 [==============================] - 5s 166ms/step - loss: 0.2954 - acc: 0.5166 - val_loss: 0.3464 - val_acc: 0.5620\n",
            "Epoch 32/50\n",
            "31/31 [==============================] - 5s 166ms/step - loss: 0.2882 - acc: 0.5489 - val_loss: 0.4089 - val_acc: 0.5124\n",
            "Epoch 33/50\n",
            "31/31 [==============================] - 5s 167ms/step - loss: 0.2853 - acc: 0.5291 - val_loss: 0.4880 - val_acc: 0.4050\n",
            "Epoch 34/50\n",
            "31/31 [==============================] - 5s 166ms/step - loss: 0.3033 - acc: 0.5114 - val_loss: 0.5410 - val_acc: 0.4298\n",
            "Epoch 35/50\n",
            "31/31 [==============================] - 5s 166ms/step - loss: 0.2826 - acc: 0.5353 - val_loss: 0.5324 - val_acc: 0.4628\n",
            "Epoch 36/50\n",
            "31/31 [==============================] - 5s 166ms/step - loss: 0.2823 - acc: 0.5426 - val_loss: 0.3471 - val_acc: 0.5207\n",
            "Epoch 37/50\n",
            "31/31 [==============================] - 5s 166ms/step - loss: 0.2788 - acc: 0.5551 - val_loss: 0.3508 - val_acc: 0.5207\n",
            "Epoch 38/50\n",
            "31/31 [==============================] - 5s 166ms/step - loss: 0.2915 - acc: 0.5385 - val_loss: 0.4037 - val_acc: 0.4545\n",
            "Epoch 39/50\n",
            "31/31 [==============================] - 5s 165ms/step - loss: 0.2876 - acc: 0.5343 - val_loss: 0.4323 - val_acc: 0.5041\n",
            "Epoch 40/50\n",
            "31/31 [==============================] - 5s 165ms/step - loss: 0.2759 - acc: 0.5457 - val_loss: 0.3391 - val_acc: 0.5702\n",
            "Epoch 41/50\n",
            "31/31 [==============================] - 5s 165ms/step - loss: 0.2722 - acc: 0.5520 - val_loss: 0.3925 - val_acc: 0.4711\n",
            "Epoch 42/50\n",
            "31/31 [==============================] - 5s 165ms/step - loss: 0.2676 - acc: 0.5655 - val_loss: 0.3866 - val_acc: 0.5455\n",
            "Epoch 43/50\n",
            "31/31 [==============================] - 5s 165ms/step - loss: 0.2688 - acc: 0.5520 - val_loss: 0.4072 - val_acc: 0.5207\n",
            "Epoch 44/50\n",
            "31/31 [==============================] - 5s 165ms/step - loss: 0.2697 - acc: 0.5593 - val_loss: 0.9416 - val_acc: 0.4711\n",
            "Epoch 45/50\n",
            "31/31 [==============================] - 5s 166ms/step - loss: 0.2724 - acc: 0.5520 - val_loss: 0.3359 - val_acc: 0.5372\n",
            "Epoch 46/50\n",
            "31/31 [==============================] - 5s 166ms/step - loss: 0.2659 - acc: 0.5728 - val_loss: 0.3332 - val_acc: 0.5702\n",
            "Epoch 47/50\n",
            "31/31 [==============================] - 5s 166ms/step - loss: 0.2602 - acc: 0.5904 - val_loss: 0.3699 - val_acc: 0.5702\n",
            "Epoch 48/50\n",
            "31/31 [==============================] - 5s 171ms/step - loss: 0.2601 - acc: 0.5790 - val_loss: 0.3889 - val_acc: 0.5372\n",
            "Epoch 49/50\n",
            "31/31 [==============================] - 5s 165ms/step - loss: 0.2560 - acc: 0.6019 - val_loss: 0.4995 - val_acc: 0.5289\n",
            "Epoch 50/50\n",
            "31/31 [==============================] - 5s 166ms/step - loss: 0.2648 - acc: 0.5894 - val_loss: 0.4314 - val_acc: 0.4959\n"
          ]
        }
      ],
      "source": [
        "train_datagen = ImageDataGenerator(rescale=1. / 255, \n",
        "                                   rotation_range=15,\n",
        "                                   width_shift_range=0.1,\n",
        "                                   height_shift_range=0.1,\n",
        "                                   shear_range=0.01,\n",
        "                                   zoom_range=[0.9, 1.25],\n",
        "                                   horizontal_flip=True,\n",
        "                                   vertical_flip=False,\n",
        "                                   fill_mode='reflect')\n",
        "valtest_datagen = ImageDataGenerator(rescale=1. / 255)\n",
        "\n",
        "train_generator = train_datagen.flow(np.array(X_train), y_train, batch_size=batch_size)\n",
        "validation_generator = valtest_datagen.flow(np.array(X_val), y_val, batch_size=batch_size)\n",
        "test_generator = valtest_datagen.flow(np.array(X_test), y_test, batch_size=batch_size)\n",
        "\n",
        "history = model.fit(np.array(X_train), np.array(y_train), validation_data=(np.array(X_val), np.array(y_val)), epochs=50)\n"
      ]
    },
    {
      "cell_type": "code",
      "execution_count": null,
      "metadata": {
        "id": "F-niGU5oA-q4"
      },
      "outputs": [],
      "source": [
        "model.save_weights('/content/drive/MyDrive/Datasets - Copy/8020weights.h5')\n"
      ]
    },
    {
      "cell_type": "code",
      "execution_count": null,
      "metadata": {
        "id": "FNGBtlTeB1jp"
      },
      "outputs": [],
      "source": [
        "model.load_weights('/content/drive/MyDrive/Datasets - Copy/8020weights.h5')\n"
      ]
    },
    {
      "cell_type": "code",
      "execution_count": null,
      "metadata": {
        "id": "YMJ6snRnB5nh",
        "colab": {
          "base_uri": "https://localhost:8080/",
          "height": 896
        },
        "outputId": "3ad96636-9c92-4071-a056-4c900465de60"
      },
      "outputs": [
        {
          "output_type": "display_data",
          "data": {
            "text/plain": [
              "<Figure size 432x288 with 1 Axes>"
            ],
            "image/png": "[encoded data removed]"
          },
          "metadata": {
            "needs_background": "light"
          }
        },
        {
          "output_type": "display_data",
          "data": {
            "text/plain": [
              "<Figure size 432x288 with 1 Axes>"
            ],
            "image/png": "[encoded data removed]"
          },
          "metadata": {
            "needs_background": "light"
          }
        },
        {
          "output_type": "display_data",
          "data": {
            "text/plain": [
              "<Figure size 360x360 with 2 Axes>"
            ],
            "image/png": "[encoded data removed]"
          },
          "metadata": {
            "needs_background": "light"
          }
        }
      ],
      "source": [
        "acc = history.history['acc']\n",
        "val_acc = history.history['val_acc']\n",
        "loss = history.history['loss']\n",
        "val_loss = history.history['val_loss']\n",
        "epochs = range(1, len(acc) + 1)\n",
        "plt.plot(epochs, acc, 'blue', label='Training acc')\n",
        "plt.plot(epochs, val_acc, 'red', label='Validation acc')\n",
        "plt.title('Training and validation accuracy')\n",
        "plt.legend()\n",
        "plt.savefig(\"/content/drive/MyDrive/Datasets - Copy/trvlAcc.png\")\n",
        "plt.show()\n",
        "\n",
        "plt.figure()\n",
        "plt.plot(epochs, loss, 'blue', label='Training loss')\n",
        "plt.plot(epochs, val_loss, 'red', label='Validation loss')\n",
        "plt.title('Training and validation loss')\n",
        "plt.legend()\n",
        "plt.savefig(\"/content/drive/MyDrive/Datasets - Copy/trvlLoss.png\")\n",
        "plt.show()\n",
        "\n",
        "import sklearn\n",
        "import itertools\n",
        "from sklearn.metrics import confusion_matrix\n",
        "dict_characters = {0: 'Clear', 1: 'Blurry'}\n",
        "def plot_confusion_matrix(cm, classes,\n",
        "                          normalize=False,\n",
        "                          title='Confusion matrix',\n",
        "                          cmap=plt.cm.Blues):\n",
        "    plt.figure(figsize = (5,5))\n",
        "    plt.imshow(cm, interpolation='nearest', cmap=cmap)\n",
        "    plt.title(title)\n",
        "    plt.colorbar()\n",
        "    tick_marks = np.arange(len(classes))\n",
        "    plt.xticks(tick_marks, classes, rotation=90)\n",
        "    plt.yticks(tick_marks, classes)\n",
        "    if normalize:\n",
        "        cm = cm.astype('float') / cm.sum(axis=1)[:, np.newaxis]\n",
        "    thresh = cm.max() / 2.\n",
        "    for i, j in itertools.product(range(cm.shape[0]), range(cm.shape[1])):\n",
        "        plt.text(j, i, cm[i, j],\n",
        "                 horizontalalignment=\"center\",\n",
        "                 color=\"white\" if cm[i, j] > thresh else \"black\")\n",
        "    plt.tight_layout()\n",
        "    plt.ylabel('True label')\n",
        "    plt.xlabel('Predicted label')\n",
        "    plt.savefig(\"/content/drive/MyDrive/Datasets - Copy/cm-\"+title+\".png\")\n",
        "    plt.show()\n",
        "\n",
        "    \n",
        "a=np.array(X_test)\n",
        "b=np.array(y_test)\n",
        "Y_pred = model.predict(a)\n",
        "\n",
        "\n",
        "Y_pred_classes = np.argmax(Y_pred,axis=1)\n",
        "confusion_mtx = confusion_matrix(np.argmax(b,axis=1), Y_pred_classes) \n",
        "plot_confusion_matrix(confusion_mtx, classes = list(image_classes))"
      ]
    },
    {
      "cell_type": "code",
      "execution_count": null,
      "metadata": {
        "id": "oL1vpGz6TFJf",
        "colab": {
          "base_uri": "https://localhost:8080/"
        },
        "outputId": "cecc4930-f9df-4620-8a0a-f394e8649aba"
      },
      "outputs": [
        {
          "output_type": "execute_result",
          "data": {
            "text/plain": [
              "0.45"
            ]
          },
          "metadata": {},
          "execution_count": 13
        }
      ],
      "source": [
        "sklearn.metrics.accuracy_score(Y_pred_classes,np.argmax(b,axis=1))\n"
      ]
    },
    {
      "cell_type": "code",
      "execution_count": null,
      "metadata": {
        "id": "MRVPLK-QTitJ",
        "colab": {
          "base_uri": "https://localhost:8080/"
        },
        "outputId": "8dbef07a-a45e-4e71-9e34-7a399010e293"
      },
      "outputs": [
        {
          "output_type": "execute_result",
          "data": {
            "text/plain": [
              "array([[ 2,  0,  0,  0,  0,  0],\n",
              "       [ 0,  4,  1,  7,  6,  0],\n",
              "       [ 0,  3,  9,  6,  3,  0],\n",
              "       [ 0,  8,  1,  4, 10,  0],\n",
              "       [ 0,  7,  0, 10,  6,  0],\n",
              "       [ 1,  0,  1,  1,  1, 29]])"
            ]
          },
          "metadata": {},
          "execution_count": 14
        }
      ],
      "source": [
        "confusion_mtx\n"
      ]
    },
    {
      "cell_type": "code",
      "execution_count": null,
      "metadata": {
        "id": "hZeFNFxTbhA-",
        "colab": {
          "base_uri": "https://localhost:8080/"
        },
        "outputId": "8dd3770b-1b60-451e-c5e6-fda6a1c696e6"
      },
      "outputs": [
        {
          "output_type": "execute_result",
          "data": {
            "text/plain": [
              "[2, 18, 21, 23, 23, 33]"
            ]
          },
          "metadata": {},
          "execution_count": 15
        }
      ],
      "source": [
        "class_totals = [sum(i) for i in confusion_mtx]\n",
        "class_totals"
      ]
    },
    {
      "cell_type": "code",
      "execution_count": null,
      "metadata": {
        "id": "Ek7KoYxMblDV",
        "colab": {
          "base_uri": "https://localhost:8080/"
        },
        "outputId": "27ad937e-6f6d-4dee-ab89-4a09ca7ee0d9"
      },
      "outputs": [
        {
          "output_type": "execute_result",
          "data": {
            "text/plain": [
              "[2, 4, 9, 4, 6, 29]"
            ]
          },
          "metadata": {},
          "execution_count": 16
        }
      ],
      "source": [
        "class_correct_pred = [confusion_mtx[i][i] for i in range(6)]\n",
        "class_correct_pred"
      ]
    },
    {
      "cell_type": "code",
      "execution_count": null,
      "metadata": {
        "id": "oRJywwp7bnh9",
        "colab": {
          "base_uri": "https://localhost:8080/"
        },
        "outputId": "db49fbfb-08d6-45fb-a2cf-d16558221917"
      },
      "outputs": [
        {
          "output_type": "execute_result",
          "data": {
            "text/plain": [
              "[1.0,\n",
              " 0.2222222222222222,\n",
              " 0.42857142857142855,\n",
              " 0.17391304347826086,\n",
              " 0.2608695652173913,\n",
              " 0.8787878787878788]"
            ]
          },
          "metadata": {},
          "execution_count": 17
        }
      ],
      "source": [
        "accuracies = [class_correct_pred[i]/class_totals[i] for i in range(6)]\n",
        "accuracies"
      ]
    },
    {
      "cell_type": "code",
      "execution_count": null,
      "metadata": {
        "id": "tiyoKLXRbpge",
        "colab": {
          "base_uri": "https://localhost:8080/"
        },
        "outputId": "fa7d1e5b-41d2-4a62-d641-3fa1764fad1f"
      },
      "outputs": [
        {
          "output_type": "execute_result",
          "data": {
            "text/plain": [
              "[1.0,\n",
              " 0.2222222222222222,\n",
              " 0.42857142857142855,\n",
              " 0.17391304347826086,\n",
              " 0.2608695652173913,\n",
              " 0.8787878787878788]"
            ]
          },
          "metadata": {},
          "execution_count": 18
        }
      ],
      "source": [
        "class_totals = [sum(i) for i in confusion_mtx]\n",
        "class_totals\n",
        "\n",
        "tp = [confusion_mtx[i][i] for i in range(6)]\n",
        "tp\n",
        "\n",
        "sensetivity = [tp[i]/class_totals[i] for i in range(6)]\n",
        "sensetivity"
      ]
    },
    {
      "cell_type": "code",
      "execution_count": null,
      "metadata": {
        "id": "bQhIA-q8btxe",
        "colab": {
          "base_uri": "https://localhost:8080/"
        },
        "outputId": "f5c7ee61-1691-4e74-fc05-4c0d6b359b67"
      },
      "outputs": [
        {
          "output_type": "execute_result",
          "data": {
            "text/plain": [
              "[1, 18, 3, 24, 20, 0]"
            ]
          },
          "metadata": {},
          "execution_count": 19
        }
      ],
      "source": [
        "fp = [[sum(x) for x in zip(*confusion_mtx)][i] - tp[i] for i in range(6)]\n",
        "fp"
      ]
    },
    {
      "cell_type": "code",
      "execution_count": null,
      "metadata": {
        "id": "UK_W59LXbvzG",
        "colab": {
          "base_uri": "https://localhost:8080/"
        },
        "outputId": "934b4db5-2e07-4249-c0bb-27031a81add8"
      },
      "outputs": [
        {
          "output_type": "stream",
          "name": "stdout",
          "text": [
            "120\n"
          ]
        },
        {
          "output_type": "execute_result",
          "data": {
            "text/plain": [
              "[0.9915254237288136,\n",
              " 0.8448275862068966,\n",
              " 0.972972972972973,\n",
              " 0.7931034482758621,\n",
              " 0.8245614035087719,\n",
              " 1.0]"
            ]
          },
          "metadata": {},
          "execution_count": 20
        }
      ],
      "source": [
        "sumall = sum(map(sum, confusion_mtx))\n",
        "print(sumall)\n",
        "tn = [sumall - [sum(x) for x in zip(*confusion_mtx)][i] for i in range(6)]\n",
        "tn\n",
        "specificity = [tn[i]/(tn[i]+fp[i]) for i in range(6)]\n",
        "specificity"
      ]
    },
    {
      "cell_type": "code",
      "execution_count": null,
      "metadata": {
        "id": "buhU86_-qhxy",
        "colab": {
          "base_uri": "https://localhost:8080/"
        },
        "outputId": "0b0770c7-2176-4118-8e95-b6686eaf207b"
      },
      "outputs": [
        {
          "output_type": "stream",
          "name": "stdout",
          "text": [
            "Epoch 1/250\n",
            "31/31 [==============================] - 5s 167ms/step - loss: 0.2589 - acc: 0.5790 - val_loss: 0.4529 - val_acc: 0.5455\n",
            "Epoch 2/250\n",
            "31/31 [==============================] - 5s 169ms/step - loss: 0.2530 - acc: 0.5842 - val_loss: 0.4292 - val_acc: 0.5372\n",
            "Epoch 3/250\n",
            "31/31 [==============================] - 5s 166ms/step - loss: 0.2430 - acc: 0.6279 - val_loss: 0.4095 - val_acc: 0.5124\n",
            "Epoch 4/250\n",
            "31/31 [==============================] - 5s 165ms/step - loss: 0.2472 - acc: 0.6029 - val_loss: 0.4654 - val_acc: 0.5785\n",
            "Epoch 5/250\n",
            "31/31 [==============================] - 5s 166ms/step - loss: 0.2555 - acc: 0.5967 - val_loss: 0.4088 - val_acc: 0.5289\n",
            "Epoch 6/250\n",
            "31/31 [==============================] - 5s 166ms/step - loss: 0.2629 - acc: 0.5800 - val_loss: 0.4467 - val_acc: 0.4959\n",
            "Epoch 7/250\n",
            "31/31 [==============================] - 5s 166ms/step - loss: 0.2790 - acc: 0.5593 - val_loss: 0.3690 - val_acc: 0.5537\n",
            "Epoch 8/250\n",
            "31/31 [==============================] - 5s 166ms/step - loss: 0.2512 - acc: 0.5873 - val_loss: 0.3680 - val_acc: 0.5124\n",
            "Epoch 9/250\n",
            "31/31 [==============================] - 5s 166ms/step - loss: 0.2541 - acc: 0.6206 - val_loss: 0.4879 - val_acc: 0.4876\n",
            "Epoch 10/250\n",
            "31/31 [==============================] - 5s 168ms/step - loss: 0.2594 - acc: 0.5956 - val_loss: 0.4853 - val_acc: 0.5124\n",
            "Epoch 11/250\n",
            "31/31 [==============================] - 5s 166ms/step - loss: 0.2454 - acc: 0.6164 - val_loss: 0.4925 - val_acc: 0.5372\n",
            "Epoch 12/250\n",
            "31/31 [==============================] - 5s 165ms/step - loss: 0.2462 - acc: 0.6247 - val_loss: 0.5009 - val_acc: 0.5289\n",
            "Epoch 13/250\n",
            "31/31 [==============================] - 5s 166ms/step - loss: 0.2457 - acc: 0.6029 - val_loss: 0.5107 - val_acc: 0.5041\n",
            "Epoch 14/250\n",
            "31/31 [==============================] - 5s 168ms/step - loss: 0.2396 - acc: 0.6247 - val_loss: 0.5435 - val_acc: 0.5372\n",
            "Epoch 15/250\n",
            "31/31 [==============================] - 5s 165ms/step - loss: 0.2621 - acc: 0.5925 - val_loss: 0.6836 - val_acc: 0.5868\n",
            "Epoch 16/250\n",
            "31/31 [==============================] - 5s 165ms/step - loss: 0.2419 - acc: 0.6206 - val_loss: 0.7501 - val_acc: 0.5372\n",
            "Epoch 17/250\n",
            "31/31 [==============================] - 5s 168ms/step - loss: 0.2401 - acc: 0.6445 - val_loss: 0.6877 - val_acc: 0.4711\n",
            "Epoch 18/250\n",
            "31/31 [==============================] - 5s 168ms/step - loss: 0.2388 - acc: 0.6299 - val_loss: 0.6393 - val_acc: 0.5207\n",
            "Epoch 19/250\n",
            "31/31 [==============================] - 5s 165ms/step - loss: 0.2339 - acc: 0.6331 - val_loss: 0.7172 - val_acc: 0.6198\n",
            "Epoch 20/250\n",
            "31/31 [==============================] - 5s 166ms/step - loss: 0.2346 - acc: 0.6331 - val_loss: 0.6703 - val_acc: 0.4463\n",
            "Epoch 21/250\n",
            "31/31 [==============================] - 5s 165ms/step - loss: 0.2429 - acc: 0.6351 - val_loss: 0.4617 - val_acc: 0.5124\n",
            "Epoch 22/250\n",
            "31/31 [==============================] - 5s 166ms/step - loss: 0.2395 - acc: 0.6383 - val_loss: 0.5720 - val_acc: 0.5455\n",
            "Epoch 23/250\n",
            "31/31 [==============================] - 5s 166ms/step - loss: 0.2535 - acc: 0.6019 - val_loss: 0.5848 - val_acc: 0.4628\n",
            "Epoch 24/250\n",
            "31/31 [==============================] - 5s 166ms/step - loss: 0.2592 - acc: 0.5884 - val_loss: 0.4444 - val_acc: 0.5289\n",
            "Epoch 25/250\n",
            "31/31 [==============================] - 5s 166ms/step - loss: 0.2351 - acc: 0.6372 - val_loss: 0.5394 - val_acc: 0.5620\n",
            "Epoch 26/250\n",
            "31/31 [==============================] - 5s 166ms/step - loss: 0.2377 - acc: 0.6247 - val_loss: 0.6274 - val_acc: 0.5124\n",
            "Epoch 27/250\n",
            "31/31 [==============================] - 5s 165ms/step - loss: 0.2431 - acc: 0.6341 - val_loss: 0.7909 - val_acc: 0.5207\n",
            "Epoch 28/250\n",
            "31/31 [==============================] - 5s 173ms/step - loss: 0.2289 - acc: 0.6674 - val_loss: 0.4661 - val_acc: 0.5455\n",
            "Epoch 29/250\n",
            "31/31 [==============================] - 5s 170ms/step - loss: 0.2328 - acc: 0.6528 - val_loss: 0.6531 - val_acc: 0.4545\n",
            "Epoch 30/250\n",
            "31/31 [==============================] - 5s 165ms/step - loss: 0.2688 - acc: 0.5904 - val_loss: 0.5648 - val_acc: 0.5041\n",
            "Epoch 31/250\n",
            "31/31 [==============================] - 5s 165ms/step - loss: 0.2433 - acc: 0.6279 - val_loss: 0.3635 - val_acc: 0.4959\n",
            "Epoch 32/250\n",
            "31/31 [==============================] - 5s 165ms/step - loss: 0.2379 - acc: 0.6299 - val_loss: 0.5704 - val_acc: 0.5289\n",
            "Epoch 33/250\n",
            "31/31 [==============================] - 5s 165ms/step - loss: 0.2489 - acc: 0.6258 - val_loss: 0.5049 - val_acc: 0.5702\n",
            "Epoch 34/250\n",
            "31/31 [==============================] - 5s 165ms/step - loss: 0.2314 - acc: 0.6466 - val_loss: 0.4881 - val_acc: 0.5124\n",
            "Epoch 35/250\n",
            "31/31 [==============================] - 5s 166ms/step - loss: 0.2308 - acc: 0.6538 - val_loss: 0.5063 - val_acc: 0.4959\n",
            "Epoch 36/250\n",
            "31/31 [==============================] - 5s 165ms/step - loss: 0.2221 - acc: 0.6684 - val_loss: 0.6111 - val_acc: 0.5455\n",
            "Epoch 37/250\n",
            "31/31 [==============================] - 5s 165ms/step - loss: 0.2282 - acc: 0.6383 - val_loss: 0.4825 - val_acc: 0.5620\n",
            "Epoch 38/250\n",
            "31/31 [==============================] - 5s 166ms/step - loss: 0.2189 - acc: 0.6871 - val_loss: 0.5974 - val_acc: 0.5868\n",
            "Epoch 39/250\n",
            "31/31 [==============================] - 5s 166ms/step - loss: 0.2342 - acc: 0.6435 - val_loss: 0.5513 - val_acc: 0.5372\n",
            "Epoch 40/250\n",
            "31/31 [==============================] - 5s 165ms/step - loss: 0.2228 - acc: 0.6601 - val_loss: 0.4194 - val_acc: 0.5455\n",
            "Epoch 41/250\n",
            "31/31 [==============================] - 5s 169ms/step - loss: 0.2313 - acc: 0.6424 - val_loss: 0.4645 - val_acc: 0.5620\n",
            "Epoch 42/250\n",
            "31/31 [==============================] - 5s 165ms/step - loss: 0.2155 - acc: 0.6881 - val_loss: 0.5289 - val_acc: 0.5785\n",
            "Epoch 43/250\n",
            "31/31 [==============================] - 5s 167ms/step - loss: 0.2136 - acc: 0.6788 - val_loss: 0.6440 - val_acc: 0.5207\n",
            "Epoch 44/250\n",
            "31/31 [==============================] - 5s 166ms/step - loss: 0.2127 - acc: 0.6975 - val_loss: 0.4981 - val_acc: 0.5950\n",
            "Epoch 45/250\n",
            "31/31 [==============================] - 5s 167ms/step - loss: 0.2122 - acc: 0.6840 - val_loss: 0.4701 - val_acc: 0.5868\n",
            "Epoch 46/250\n",
            "31/31 [==============================] - 5s 165ms/step - loss: 0.2052 - acc: 0.6819 - val_loss: 0.6303 - val_acc: 0.5785\n",
            "Epoch 47/250\n",
            "31/31 [==============================] - 5s 165ms/step - loss: 0.2079 - acc: 0.7121 - val_loss: 0.5659 - val_acc: 0.6033\n",
            "Epoch 48/250\n",
            "31/31 [==============================] - 5s 166ms/step - loss: 0.1980 - acc: 0.7027 - val_loss: 0.5560 - val_acc: 0.5868\n",
            "Epoch 49/250\n",
            "31/31 [==============================] - 5s 165ms/step - loss: 0.2139 - acc: 0.6871 - val_loss: 0.5517 - val_acc: 0.5702\n",
            "Epoch 50/250\n",
            "31/31 [==============================] - 5s 165ms/step - loss: 0.2140 - acc: 0.6944 - val_loss: 0.6136 - val_acc: 0.5620\n",
            "Epoch 51/250\n",
            "31/31 [==============================] - 5s 165ms/step - loss: 0.2144 - acc: 0.6881 - val_loss: 0.3800 - val_acc: 0.5289\n",
            "Epoch 52/250\n",
            "31/31 [==============================] - 5s 166ms/step - loss: 0.2055 - acc: 0.7079 - val_loss: 0.6293 - val_acc: 0.5785\n",
            "Epoch 53/250\n",
            "31/31 [==============================] - 5s 165ms/step - loss: 0.2154 - acc: 0.6861 - val_loss: 0.5899 - val_acc: 0.5785\n",
            "Epoch 54/250\n",
            "31/31 [==============================] - 5s 165ms/step - loss: 0.1994 - acc: 0.7058 - val_loss: 0.6496 - val_acc: 0.6364\n",
            "Epoch 55/250\n",
            "31/31 [==============================] - 5s 166ms/step - loss: 0.2141 - acc: 0.7006 - val_loss: 0.4824 - val_acc: 0.5785\n",
            "Epoch 56/250\n",
            "31/31 [==============================] - 5s 166ms/step - loss: 0.2018 - acc: 0.7006 - val_loss: 0.5416 - val_acc: 0.6198\n",
            "Epoch 57/250\n",
            "31/31 [==============================] - 5s 165ms/step - loss: 0.2073 - acc: 0.7141 - val_loss: 0.6804 - val_acc: 0.5785\n",
            "Epoch 58/250\n",
            "31/31 [==============================] - 5s 168ms/step - loss: 0.2098 - acc: 0.6809 - val_loss: 0.5055 - val_acc: 0.6116\n",
            "Epoch 59/250\n",
            "31/31 [==============================] - 5s 165ms/step - loss: 0.2035 - acc: 0.6954 - val_loss: 0.5408 - val_acc: 0.6446\n",
            "Epoch 60/250\n",
            "31/31 [==============================] - 5s 165ms/step - loss: 0.2074 - acc: 0.7058 - val_loss: 0.8687 - val_acc: 0.5455\n",
            "Epoch 61/250\n",
            "31/31 [==============================] - 5s 168ms/step - loss: 0.2089 - acc: 0.6840 - val_loss: 0.4170 - val_acc: 0.6116\n",
            "Epoch 62/250\n",
            "31/31 [==============================] - 5s 165ms/step - loss: 0.1991 - acc: 0.7141 - val_loss: 0.5347 - val_acc: 0.5702\n",
            "Epoch 63/250\n",
            "31/31 [==============================] - 5s 165ms/step - loss: 0.2121 - acc: 0.7037 - val_loss: 0.5869 - val_acc: 0.6198\n",
            "Epoch 64/250\n",
            "31/31 [==============================] - 5s 165ms/step - loss: 0.2115 - acc: 0.6809 - val_loss: 0.4538 - val_acc: 0.6033\n",
            "Epoch 65/250\n",
            "31/31 [==============================] - 5s 165ms/step - loss: 0.2205 - acc: 0.6798 - val_loss: 0.5991 - val_acc: 0.5868\n",
            "Epoch 66/250\n",
            "31/31 [==============================] - 5s 165ms/step - loss: 0.2356 - acc: 0.6455 - val_loss: 0.5885 - val_acc: 0.5537\n",
            "Epoch 67/250\n",
            "31/31 [==============================] - 5s 165ms/step - loss: 0.2052 - acc: 0.7069 - val_loss: 0.5182 - val_acc: 0.5785\n",
            "Epoch 68/250\n",
            "31/31 [==============================] - 5s 165ms/step - loss: 0.1968 - acc: 0.7006 - val_loss: 0.5600 - val_acc: 0.5868\n",
            "Epoch 69/250\n",
            "31/31 [==============================] - 5s 166ms/step - loss: 0.2069 - acc: 0.6913 - val_loss: 0.5418 - val_acc: 0.5289\n",
            "Epoch 70/250\n",
            "31/31 [==============================] - 5s 165ms/step - loss: 0.1888 - acc: 0.7277 - val_loss: 0.6116 - val_acc: 0.5868\n",
            "Epoch 71/250\n",
            "31/31 [==============================] - 5s 165ms/step - loss: 0.1955 - acc: 0.7152 - val_loss: 0.5040 - val_acc: 0.6612\n",
            "Epoch 72/250\n",
            "31/31 [==============================] - 5s 165ms/step - loss: 0.1959 - acc: 0.7339 - val_loss: 0.5278 - val_acc: 0.6033\n",
            "Epoch 73/250\n",
            "31/31 [==============================] - 5s 169ms/step - loss: 0.1835 - acc: 0.7401 - val_loss: 0.5047 - val_acc: 0.5950\n",
            "Epoch 74/250\n",
            "31/31 [==============================] - 5s 165ms/step - loss: 0.1897 - acc: 0.7245 - val_loss: 0.5998 - val_acc: 0.5455\n",
            "Epoch 75/250\n",
            "31/31 [==============================] - 5s 165ms/step - loss: 0.2110 - acc: 0.6985 - val_loss: 0.6260 - val_acc: 0.6281\n",
            "Epoch 76/250\n",
            "31/31 [==============================] - 5s 164ms/step - loss: 0.1782 - acc: 0.7380 - val_loss: 0.5347 - val_acc: 0.5785\n",
            "Epoch 77/250\n",
            "31/31 [==============================] - 5s 165ms/step - loss: 0.1847 - acc: 0.7360 - val_loss: 0.4705 - val_acc: 0.5868\n",
            "Epoch 78/250\n",
            "31/31 [==============================] - 5s 165ms/step - loss: 0.1910 - acc: 0.7089 - val_loss: 0.9960 - val_acc: 0.6033\n",
            "Epoch 79/250\n",
            "31/31 [==============================] - 5s 165ms/step - loss: 0.1920 - acc: 0.7110 - val_loss: 0.7147 - val_acc: 0.5785\n",
            "Epoch 80/250\n",
            "31/31 [==============================] - 5s 166ms/step - loss: 0.2008 - acc: 0.7037 - val_loss: 0.7144 - val_acc: 0.5537\n",
            "Epoch 81/250\n",
            "31/31 [==============================] - 5s 165ms/step - loss: 0.1964 - acc: 0.7121 - val_loss: 0.5319 - val_acc: 0.5455\n",
            "Epoch 82/250\n",
            "31/31 [==============================] - 5s 165ms/step - loss: 0.1830 - acc: 0.7370 - val_loss: 0.5011 - val_acc: 0.6033\n",
            "Epoch 83/250\n",
            "31/31 [==============================] - 5s 165ms/step - loss: 0.1943 - acc: 0.7266 - val_loss: 0.5673 - val_acc: 0.5455\n",
            "Epoch 84/250\n",
            "31/31 [==============================] - 5s 165ms/step - loss: 0.2044 - acc: 0.7100 - val_loss: 0.6504 - val_acc: 0.6116\n",
            "Epoch 85/250\n",
            "31/31 [==============================] - 5s 168ms/step - loss: 0.1892 - acc: 0.7235 - val_loss: 0.6096 - val_acc: 0.6281\n",
            "Epoch 86/250\n",
            "31/31 [==============================] - 5s 166ms/step - loss: 0.1761 - acc: 0.7495 - val_loss: 0.5764 - val_acc: 0.6033\n",
            "Epoch 87/250\n",
            "31/31 [==============================] - 5s 165ms/step - loss: 0.1831 - acc: 0.7318 - val_loss: 0.6490 - val_acc: 0.5289\n",
            "Epoch 88/250\n",
            "31/31 [==============================] - 5s 166ms/step - loss: 0.1785 - acc: 0.7380 - val_loss: 0.5658 - val_acc: 0.5785\n",
            "Epoch 89/250\n",
            "31/31 [==============================] - 5s 165ms/step - loss: 0.1892 - acc: 0.7121 - val_loss: 0.5412 - val_acc: 0.6281\n",
            "Epoch 90/250\n",
            "31/31 [==============================] - 5s 165ms/step - loss: 0.1850 - acc: 0.7380 - val_loss: 1.9428 - val_acc: 0.6281\n",
            "Epoch 91/250\n",
            "31/31 [==============================] - 5s 165ms/step - loss: 0.4080 - acc: 0.5603 - val_loss: 0.4604 - val_acc: 0.2231\n",
            "Epoch 92/250\n",
            "31/31 [==============================] - 5s 162ms/step - loss: 0.4575 - acc: 0.2235 - val_loss: 0.5110 - val_acc: 0.2066\n",
            "Epoch 93/250\n",
            "31/31 [==============================] - 5s 162ms/step - loss: 0.4197 - acc: 0.2297 - val_loss: 0.6203 - val_acc: 0.1488\n",
            "Epoch 94/250\n",
            "31/31 [==============================] - 5s 162ms/step - loss: 0.4149 - acc: 0.2723 - val_loss: 0.5393 - val_acc: 0.2727\n",
            "Epoch 95/250\n",
            "31/31 [==============================] - 5s 162ms/step - loss: 0.4098 - acc: 0.2713 - val_loss: 0.5108 - val_acc: 0.2479\n",
            "Epoch 96/250\n",
            "31/31 [==============================] - 5s 162ms/step - loss: 0.4067 - acc: 0.2703 - val_loss: 0.5450 - val_acc: 0.3223\n",
            "Epoch 97/250\n",
            "31/31 [==============================] - 5s 162ms/step - loss: 0.4068 - acc: 0.2942 - val_loss: 0.5504 - val_acc: 0.2479\n",
            "Epoch 98/250\n",
            "31/31 [==============================] - 5s 161ms/step - loss: 0.4097 - acc: 0.2526 - val_loss: 0.5774 - val_acc: 0.2562\n",
            "Epoch 99/250\n",
            "31/31 [==============================] - 5s 161ms/step - loss: 0.4099 - acc: 0.2661 - val_loss: 0.5567 - val_acc: 0.2645\n",
            "Epoch 100/250\n",
            "31/31 [==============================] - 5s 161ms/step - loss: 0.4069 - acc: 0.2651 - val_loss: 0.5148 - val_acc: 0.2727\n",
            "Epoch 101/250\n",
            "31/31 [==============================] - 5s 160ms/step - loss: 0.4059 - acc: 0.2817 - val_loss: 0.6649 - val_acc: 0.2645\n",
            "Epoch 102/250\n",
            "31/31 [==============================] - 5s 164ms/step - loss: 0.4022 - acc: 0.3004 - val_loss: 0.5753 - val_acc: 0.2810\n",
            "Epoch 103/250\n",
            "31/31 [==============================] - 5s 160ms/step - loss: 0.4021 - acc: 0.2848 - val_loss: 0.5967 - val_acc: 0.2727\n",
            "Epoch 104/250\n",
            "31/31 [==============================] - 5s 160ms/step - loss: 0.4018 - acc: 0.2869 - val_loss: 0.5768 - val_acc: 0.2810\n",
            "Epoch 105/250\n",
            "31/31 [==============================] - 5s 160ms/step - loss: 0.4036 - acc: 0.2827 - val_loss: 0.9350 - val_acc: 0.2645\n",
            "Epoch 106/250\n",
            "31/31 [==============================] - 5s 160ms/step - loss: 0.4029 - acc: 0.2838 - val_loss: 0.7878 - val_acc: 0.2562\n",
            "Epoch 107/250\n",
            "31/31 [==============================] - 5s 160ms/step - loss: 0.3966 - acc: 0.2900 - val_loss: 0.6041 - val_acc: 0.2727\n",
            "Epoch 108/250\n",
            "31/31 [==============================] - 5s 161ms/step - loss: 0.4032 - acc: 0.2879 - val_loss: 0.5729 - val_acc: 0.2562\n",
            "Epoch 109/250\n",
            "31/31 [==============================] - 5s 160ms/step - loss: 0.4023 - acc: 0.2557 - val_loss: 0.6104 - val_acc: 0.2645\n",
            "Epoch 110/250\n",
            "31/31 [==============================] - 5s 162ms/step - loss: 0.4013 - acc: 0.2723 - val_loss: 0.6355 - val_acc: 0.2645\n",
            "Epoch 111/250\n",
            "31/31 [==============================] - 5s 162ms/step - loss: 0.4070 - acc: 0.2890 - val_loss: 0.8094 - val_acc: 0.2645\n",
            "Epoch 112/250\n",
            "31/31 [==============================] - 5s 160ms/step - loss: 0.4015 - acc: 0.2869 - val_loss: 0.8706 - val_acc: 0.2562\n",
            "Epoch 113/250\n",
            "31/31 [==============================] - 5s 160ms/step - loss: 0.4014 - acc: 0.2869 - val_loss: 0.8056 - val_acc: 0.2645\n",
            "Epoch 114/250\n",
            "31/31 [==============================] - 5s 161ms/step - loss: 0.3988 - acc: 0.3004 - val_loss: 0.7674 - val_acc: 0.2562\n",
            "Epoch 115/250\n",
            "31/31 [==============================] - 5s 160ms/step - loss: 0.4008 - acc: 0.2692 - val_loss: 0.7469 - val_acc: 0.2562\n",
            "Epoch 116/250\n",
            "31/31 [==============================] - 5s 161ms/step - loss: 0.3935 - acc: 0.2994 - val_loss: 0.7909 - val_acc: 0.2479\n",
            "Epoch 117/250\n",
            "31/31 [==============================] - 5s 161ms/step - loss: 0.3936 - acc: 0.2921 - val_loss: 0.8208 - val_acc: 0.2562\n",
            "Epoch 118/250\n",
            "31/31 [==============================] - 5s 160ms/step - loss: 0.3955 - acc: 0.2786 - val_loss: 0.8562 - val_acc: 0.2645\n",
            "Epoch 119/250\n",
            "31/31 [==============================] - 5s 161ms/step - loss: 0.3917 - acc: 0.2911 - val_loss: 1.0448 - val_acc: 0.2562\n",
            "Epoch 120/250\n",
            "31/31 [==============================] - 5s 161ms/step - loss: 0.3904 - acc: 0.2890 - val_loss: 1.0717 - val_acc: 0.2562\n",
            "Epoch 121/250\n",
            "31/31 [==============================] - 5s 161ms/step - loss: 0.3917 - acc: 0.3067 - val_loss: 0.8557 - val_acc: 0.2893\n",
            "Epoch 122/250\n",
            "31/31 [==============================] - 5s 160ms/step - loss: 0.3961 - acc: 0.2890 - val_loss: 0.9581 - val_acc: 0.2893\n",
            "Epoch 123/250\n",
            "31/31 [==============================] - 5s 161ms/step - loss: 0.3919 - acc: 0.3160 - val_loss: 0.7745 - val_acc: 0.2810\n",
            "Epoch 124/250\n",
            "31/31 [==============================] - 5s 161ms/step - loss: 0.3934 - acc: 0.3077 - val_loss: 0.7762 - val_acc: 0.2727\n",
            "Epoch 125/250\n",
            "31/31 [==============================] - 5s 161ms/step - loss: 0.3918 - acc: 0.2952 - val_loss: 0.8505 - val_acc: 0.2893\n",
            "Epoch 126/250\n",
            "31/31 [==============================] - 5s 161ms/step - loss: 0.3871 - acc: 0.3056 - val_loss: 0.8515 - val_acc: 0.2975\n",
            "Epoch 127/250\n",
            "31/31 [==============================] - 5s 164ms/step - loss: 0.3805 - acc: 0.3420 - val_loss: 0.8502 - val_acc: 0.2810\n",
            "Epoch 128/250\n",
            "31/31 [==============================] - 5s 162ms/step - loss: 0.3784 - acc: 0.3337 - val_loss: 0.8011 - val_acc: 0.2893\n",
            "Epoch 129/250\n",
            "31/31 [==============================] - 5s 161ms/step - loss: 0.3855 - acc: 0.3160 - val_loss: 0.8985 - val_acc: 0.2727\n",
            "Epoch 130/250\n",
            "31/31 [==============================] - 5s 161ms/step - loss: 0.3752 - acc: 0.3285 - val_loss: 0.7907 - val_acc: 0.2645\n",
            "Epoch 131/250\n",
            "31/31 [==============================] - 5s 161ms/step - loss: 0.3706 - acc: 0.3430 - val_loss: 0.8024 - val_acc: 0.2645\n",
            "Epoch 132/250\n",
            "31/31 [==============================] - 5s 161ms/step - loss: 0.3685 - acc: 0.3274 - val_loss: 0.8307 - val_acc: 0.3140\n",
            "Epoch 133/250\n",
            "31/31 [==============================] - 5s 161ms/step - loss: 0.3502 - acc: 0.3721 - val_loss: 0.7658 - val_acc: 0.3306\n",
            "Epoch 134/250\n",
            "31/31 [==============================] - 5s 161ms/step - loss: 0.3518 - acc: 0.3721 - val_loss: 0.8700 - val_acc: 0.3388\n",
            "Epoch 135/250\n",
            "31/31 [==============================] - 5s 164ms/step - loss: 0.3817 - acc: 0.2911 - val_loss: 0.9375 - val_acc: 0.3140\n",
            "Epoch 136/250\n",
            "31/31 [==============================] - 5s 162ms/step - loss: 0.3631 - acc: 0.3389 - val_loss: 0.7408 - val_acc: 0.3388\n",
            "Epoch 137/250\n",
            "31/31 [==============================] - 5s 162ms/step - loss: 0.3447 - acc: 0.3992 - val_loss: 0.6976 - val_acc: 0.3802\n",
            "Epoch 138/250\n",
            "31/31 [==============================] - 5s 162ms/step - loss: 0.3387 - acc: 0.3950 - val_loss: 0.5659 - val_acc: 0.4298\n",
            "Epoch 139/250\n",
            "31/31 [==============================] - 5s 165ms/step - loss: 0.3197 - acc: 0.4335 - val_loss: 0.5348 - val_acc: 0.4050\n",
            "Epoch 140/250\n",
            "31/31 [==============================] - 5s 162ms/step - loss: 0.3157 - acc: 0.4418 - val_loss: 0.5049 - val_acc: 0.4215\n",
            "Epoch 141/250\n",
            "31/31 [==============================] - 5s 162ms/step - loss: 0.3099 - acc: 0.4595 - val_loss: 0.5584 - val_acc: 0.4463\n",
            "Epoch 142/250\n",
            "31/31 [==============================] - 5s 162ms/step - loss: 0.3079 - acc: 0.4387 - val_loss: 0.4379 - val_acc: 0.4298\n",
            "Epoch 143/250\n",
            "31/31 [==============================] - 5s 162ms/step - loss: 0.3080 - acc: 0.4667 - val_loss: 0.4717 - val_acc: 0.3884\n",
            "Epoch 144/250\n",
            "31/31 [==============================] - 5s 162ms/step - loss: 0.3069 - acc: 0.4719 - val_loss: 0.4751 - val_acc: 0.4215\n",
            "Epoch 145/250\n",
            "31/31 [==============================] - 5s 163ms/step - loss: 0.3014 - acc: 0.4761 - val_loss: 0.4647 - val_acc: 0.4298\n",
            "Epoch 146/250\n",
            "31/31 [==============================] - 5s 163ms/step - loss: 0.2978 - acc: 0.4678 - val_loss: 0.4642 - val_acc: 0.4380\n",
            "Epoch 147/250\n",
            "31/31 [==============================] - 5s 163ms/step - loss: 0.2969 - acc: 0.4699 - val_loss: 0.4563 - val_acc: 0.4545\n",
            "Epoch 148/250\n",
            "31/31 [==============================] - 5s 165ms/step - loss: 0.3151 - acc: 0.4439 - val_loss: 0.4997 - val_acc: 0.4215\n",
            "Epoch 149/250\n",
            "31/31 [==============================] - 5s 163ms/step - loss: 0.3073 - acc: 0.4511 - val_loss: 0.4387 - val_acc: 0.4132\n",
            "Epoch 150/250\n",
            "31/31 [==============================] - 5s 164ms/step - loss: 0.2982 - acc: 0.4615 - val_loss: 0.5480 - val_acc: 0.4463\n",
            "Epoch 151/250\n",
            "31/31 [==============================] - 5s 164ms/step - loss: 0.3046 - acc: 0.4657 - val_loss: 0.5528 - val_acc: 0.4463\n",
            "Epoch 152/250\n",
            "31/31 [==============================] - 5s 163ms/step - loss: 0.3162 - acc: 0.4418 - val_loss: 0.6160 - val_acc: 0.3636\n",
            "Epoch 153/250\n",
            "31/31 [==============================] - 5s 162ms/step - loss: 0.3072 - acc: 0.4511 - val_loss: 0.5602 - val_acc: 0.4463\n",
            "Epoch 154/250\n",
            "31/31 [==============================] - 5s 162ms/step - loss: 0.3013 - acc: 0.4574 - val_loss: 0.4337 - val_acc: 0.4545\n",
            "Epoch 155/250\n",
            "31/31 [==============================] - 5s 162ms/step - loss: 0.3102 - acc: 0.4740 - val_loss: 0.4374 - val_acc: 0.4463\n",
            "Epoch 156/250\n",
            "31/31 [==============================] - 5s 164ms/step - loss: 0.3039 - acc: 0.4584 - val_loss: 0.5655 - val_acc: 0.4463\n",
            "Epoch 157/250\n",
            "31/31 [==============================] - 5s 163ms/step - loss: 0.2931 - acc: 0.4886 - val_loss: 0.5661 - val_acc: 0.4298\n",
            "Epoch 158/250\n",
            "31/31 [==============================] - 5s 162ms/step - loss: 0.2912 - acc: 0.4948 - val_loss: 0.5227 - val_acc: 0.4628\n",
            "Epoch 159/250\n",
            "31/31 [==============================] - 5s 162ms/step - loss: 0.2877 - acc: 0.5052 - val_loss: 0.5100 - val_acc: 0.4545\n",
            "Epoch 160/250\n",
            "31/31 [==============================] - 5s 162ms/step - loss: 0.2876 - acc: 0.4875 - val_loss: 0.4754 - val_acc: 0.4711\n",
            "Epoch 161/250\n",
            "31/31 [==============================] - 5s 162ms/step - loss: 0.2927 - acc: 0.4854 - val_loss: 0.7712 - val_acc: 0.4463\n",
            "Epoch 162/250\n",
            "31/31 [==============================] - 5s 162ms/step - loss: 0.2888 - acc: 0.4875 - val_loss: 0.6301 - val_acc: 0.4463\n",
            "Epoch 163/250\n",
            "31/31 [==============================] - 5s 163ms/step - loss: 0.2939 - acc: 0.4865 - val_loss: 0.5584 - val_acc: 0.4380\n",
            "Epoch 164/250\n",
            "31/31 [==============================] - 5s 165ms/step - loss: 0.2889 - acc: 0.4958 - val_loss: 0.5925 - val_acc: 0.4380\n",
            "Epoch 165/250\n",
            "31/31 [==============================] - 5s 163ms/step - loss: 0.2857 - acc: 0.5083 - val_loss: 0.5839 - val_acc: 0.4215\n",
            "Epoch 166/250\n",
            "31/31 [==============================] - 5s 165ms/step - loss: 0.3129 - acc: 0.4543 - val_loss: 0.5513 - val_acc: 0.4463\n",
            "Epoch 167/250\n",
            "31/31 [==============================] - 5s 163ms/step - loss: 0.2942 - acc: 0.4834 - val_loss: 0.7062 - val_acc: 0.3802\n",
            "Epoch 168/250\n",
            "31/31 [==============================] - 5s 162ms/step - loss: 0.2889 - acc: 0.5042 - val_loss: 0.8189 - val_acc: 0.4793\n",
            "Epoch 169/250\n",
            "31/31 [==============================] - 5s 162ms/step - loss: 0.2894 - acc: 0.4813 - val_loss: 0.6869 - val_acc: 0.4545\n",
            "Epoch 170/250\n",
            "31/31 [==============================] - 5s 161ms/step - loss: 0.2903 - acc: 0.4917 - val_loss: 0.7055 - val_acc: 0.4380\n",
            "Epoch 171/250\n",
            "31/31 [==============================] - 5s 162ms/step - loss: 0.2866 - acc: 0.5114 - val_loss: 0.4763 - val_acc: 0.4711\n",
            "Epoch 172/250\n",
            "31/31 [==============================] - 5s 162ms/step - loss: 0.2859 - acc: 0.4969 - val_loss: 0.4667 - val_acc: 0.4380\n",
            "Epoch 173/250\n",
            "31/31 [==============================] - 5s 161ms/step - loss: 0.2837 - acc: 0.5135 - val_loss: 0.4776 - val_acc: 0.4628\n",
            "Epoch 174/250\n",
            "31/31 [==============================] - 5s 162ms/step - loss: 0.2825 - acc: 0.5010 - val_loss: 0.4622 - val_acc: 0.4628\n",
            "Epoch 175/250\n",
            "31/31 [==============================] - 5s 162ms/step - loss: 0.2842 - acc: 0.5042 - val_loss: 0.4365 - val_acc: 0.5124\n",
            "Epoch 176/250\n",
            "31/31 [==============================] - 5s 162ms/step - loss: 0.2814 - acc: 0.5146 - val_loss: 0.4492 - val_acc: 0.4959\n",
            "Epoch 177/250\n",
            "31/31 [==============================] - 5s 162ms/step - loss: 0.2985 - acc: 0.4906 - val_loss: 0.5022 - val_acc: 0.4463\n",
            "Epoch 178/250\n",
            "31/31 [==============================] - 5s 162ms/step - loss: 0.3015 - acc: 0.4771 - val_loss: 0.5091 - val_acc: 0.4545\n",
            "Epoch 179/250\n",
            "31/31 [==============================] - 5s 162ms/step - loss: 0.2992 - acc: 0.4709 - val_loss: 0.4387 - val_acc: 0.4793\n",
            "Epoch 180/250\n",
            "31/31 [==============================] - 5s 163ms/step - loss: 0.2999 - acc: 0.4823 - val_loss: 0.7519 - val_acc: 0.4545\n",
            "Epoch 181/250\n",
            "31/31 [==============================] - 5s 162ms/step - loss: 0.3068 - acc: 0.4834 - val_loss: 0.3497 - val_acc: 0.4628\n",
            "Epoch 182/250\n",
            "31/31 [==============================] - 5s 162ms/step - loss: 0.2905 - acc: 0.4979 - val_loss: 0.6568 - val_acc: 0.4628\n",
            "Epoch 183/250\n",
            "31/31 [==============================] - 5s 162ms/step - loss: 0.2885 - acc: 0.4948 - val_loss: 0.6373 - val_acc: 0.5041\n",
            "Epoch 184/250\n",
            "31/31 [==============================] - 5s 162ms/step - loss: 0.2868 - acc: 0.4958 - val_loss: 0.5679 - val_acc: 0.4463\n",
            "Epoch 185/250\n",
            "31/31 [==============================] - 5s 162ms/step - loss: 0.2966 - acc: 0.4886 - val_loss: 1.0257 - val_acc: 0.4215\n",
            "Epoch 186/250\n",
            "31/31 [==============================] - 5s 161ms/step - loss: 0.3075 - acc: 0.4699 - val_loss: 1.3105 - val_acc: 0.4711\n",
            "Epoch 187/250\n",
            "31/31 [==============================] - 5s 161ms/step - loss: 0.2922 - acc: 0.4802 - val_loss: 0.9623 - val_acc: 0.4711\n",
            "Epoch 188/250\n",
            "31/31 [==============================] - 5s 161ms/step - loss: 0.3134 - acc: 0.4480 - val_loss: 1.5571 - val_acc: 0.3967\n",
            "Epoch 189/250\n",
            "31/31 [==============================] - 5s 164ms/step - loss: 0.3064 - acc: 0.4730 - val_loss: 1.5396 - val_acc: 0.4711\n",
            "Epoch 190/250\n",
            "31/31 [==============================] - 5s 161ms/step - loss: 0.2918 - acc: 0.4906 - val_loss: 1.1615 - val_acc: 0.4463\n",
            "Epoch 191/250\n",
            "31/31 [==============================] - 5s 161ms/step - loss: 0.2842 - acc: 0.4979 - val_loss: 1.4906 - val_acc: 0.4711\n",
            "Epoch 192/250\n",
            "31/31 [==============================] - 5s 162ms/step - loss: 0.2829 - acc: 0.5010 - val_loss: 1.2913 - val_acc: 0.4545\n",
            "Epoch 193/250\n",
            "31/31 [==============================] - 5s 162ms/step - loss: 0.2853 - acc: 0.4886 - val_loss: 1.4286 - val_acc: 0.4463\n",
            "Epoch 194/250\n",
            "31/31 [==============================] - 5s 162ms/step - loss: 0.2838 - acc: 0.4927 - val_loss: 1.1935 - val_acc: 0.4628\n",
            "Epoch 195/250\n",
            "31/31 [==============================] - 5s 162ms/step - loss: 0.2839 - acc: 0.4938 - val_loss: 1.1783 - val_acc: 0.4545\n",
            "Epoch 196/250\n",
            "31/31 [==============================] - 5s 162ms/step - loss: 0.2825 - acc: 0.5021 - val_loss: 1.1872 - val_acc: 0.5041\n",
            "Epoch 197/250\n",
            "31/31 [==============================] - 5s 162ms/step - loss: 0.2818 - acc: 0.4938 - val_loss: 1.2149 - val_acc: 0.4628\n",
            "Epoch 198/250\n",
            "31/31 [==============================] - 5s 161ms/step - loss: 0.2820 - acc: 0.4969 - val_loss: 1.0902 - val_acc: 0.4545\n",
            "Epoch 199/250\n",
            "31/31 [==============================] - 5s 161ms/step - loss: 0.2792 - acc: 0.5208 - val_loss: 1.1628 - val_acc: 0.4711\n",
            "Epoch 200/250\n",
            "31/31 [==============================] - 5s 161ms/step - loss: 0.2801 - acc: 0.5312 - val_loss: 1.3181 - val_acc: 0.4628\n",
            "Epoch 201/250\n",
            "31/31 [==============================] - 5s 161ms/step - loss: 0.2817 - acc: 0.5104 - val_loss: 0.9567 - val_acc: 0.4711\n",
            "Epoch 202/250\n",
            "31/31 [==============================] - 5s 161ms/step - loss: 0.2821 - acc: 0.5052 - val_loss: 1.0561 - val_acc: 0.4711\n",
            "Epoch 203/250\n",
            "31/31 [==============================] - 5s 161ms/step - loss: 0.2831 - acc: 0.5125 - val_loss: 0.6223 - val_acc: 0.4711\n",
            "Epoch 204/250\n",
            "31/31 [==============================] - 5s 161ms/step - loss: 0.2815 - acc: 0.5156 - val_loss: 0.6642 - val_acc: 0.5041\n",
            "Epoch 205/250\n",
            "31/31 [==============================] - 5s 161ms/step - loss: 0.2781 - acc: 0.5104 - val_loss: 0.7460 - val_acc: 0.4793\n",
            "Epoch 206/250\n",
            "31/31 [==============================] - 5s 162ms/step - loss: 0.2846 - acc: 0.5166 - val_loss: 0.8221 - val_acc: 0.4545\n",
            "Epoch 207/250\n",
            "31/31 [==============================] - 5s 165ms/step - loss: 0.2811 - acc: 0.5218 - val_loss: 0.8608 - val_acc: 0.4463\n",
            "Epoch 208/250\n",
            "31/31 [==============================] - 5s 162ms/step - loss: 0.2800 - acc: 0.5291 - val_loss: 0.7602 - val_acc: 0.4628\n",
            "Epoch 209/250\n",
            "31/31 [==============================] - 5s 162ms/step - loss: 0.2799 - acc: 0.5146 - val_loss: 0.8077 - val_acc: 0.4628\n",
            "Epoch 210/250\n",
            "31/31 [==============================] - 5s 162ms/step - loss: 0.2796 - acc: 0.5249 - val_loss: 0.6797 - val_acc: 0.4793\n",
            "Epoch 211/250\n",
            "31/31 [==============================] - 5s 162ms/step - loss: 0.2757 - acc: 0.5322 - val_loss: 0.6543 - val_acc: 0.4545\n",
            "Epoch 212/250\n",
            "31/31 [==============================] - 5s 162ms/step - loss: 0.2772 - acc: 0.5291 - val_loss: 0.6560 - val_acc: 0.4793\n",
            "Epoch 213/250\n",
            "31/31 [==============================] - 5s 162ms/step - loss: 0.2801 - acc: 0.5177 - val_loss: 0.5584 - val_acc: 0.4959\n",
            "Epoch 214/250\n",
            "31/31 [==============================] - 5s 162ms/step - loss: 0.2866 - acc: 0.5281 - val_loss: 0.5313 - val_acc: 0.4380\n",
            "Epoch 215/250\n",
            "31/31 [==============================] - 5s 161ms/step - loss: 0.2894 - acc: 0.4927 - val_loss: 0.5369 - val_acc: 0.4463\n",
            "Epoch 216/250\n",
            "31/31 [==============================] - 5s 161ms/step - loss: 0.2829 - acc: 0.5010 - val_loss: 0.4809 - val_acc: 0.4628\n",
            "Epoch 217/250\n",
            "31/31 [==============================] - 5s 161ms/step - loss: 0.2825 - acc: 0.4990 - val_loss: 0.4418 - val_acc: 0.4545\n",
            "Epoch 218/250\n",
            "31/31 [==============================] - 5s 161ms/step - loss: 0.2784 - acc: 0.5083 - val_loss: 0.4563 - val_acc: 0.5041\n",
            "Epoch 219/250\n",
            "31/31 [==============================] - 5s 161ms/step - loss: 0.2756 - acc: 0.5229 - val_loss: 0.4914 - val_acc: 0.4793\n",
            "Epoch 220/250\n",
            "31/31 [==============================] - 5s 162ms/step - loss: 0.2734 - acc: 0.5301 - val_loss: 0.5313 - val_acc: 0.4793\n",
            "Epoch 221/250\n",
            "31/31 [==============================] - 5s 162ms/step - loss: 0.2727 - acc: 0.5270 - val_loss: 0.5639 - val_acc: 0.4711\n",
            "Epoch 222/250\n",
            "31/31 [==============================] - 5s 164ms/step - loss: 0.2835 - acc: 0.5125 - val_loss: 0.6072 - val_acc: 0.4793\n",
            "Epoch 223/250\n",
            "31/31 [==============================] - 5s 162ms/step - loss: 0.2765 - acc: 0.5125 - val_loss: 0.6464 - val_acc: 0.4628\n",
            "Epoch 224/250\n",
            "31/31 [==============================] - 5s 165ms/step - loss: 0.2750 - acc: 0.5385 - val_loss: 0.6254 - val_acc: 0.4793\n",
            "Epoch 225/250\n",
            "31/31 [==============================] - 5s 162ms/step - loss: 0.2730 - acc: 0.5437 - val_loss: 0.7330 - val_acc: 0.4876\n",
            "Epoch 226/250\n",
            "31/31 [==============================] - 5s 162ms/step - loss: 0.2821 - acc: 0.5031 - val_loss: 0.6692 - val_acc: 0.4628\n",
            "Epoch 227/250\n",
            "31/31 [==============================] - 5s 162ms/step - loss: 0.2763 - acc: 0.5177 - val_loss: 0.6023 - val_acc: 0.4793\n",
            "Epoch 228/250\n",
            "31/31 [==============================] - 5s 166ms/step - loss: 0.2758 - acc: 0.5249 - val_loss: 0.6421 - val_acc: 0.4959\n",
            "Epoch 229/250\n",
            "31/31 [==============================] - 5s 161ms/step - loss: 0.2781 - acc: 0.5218 - val_loss: 0.5721 - val_acc: 0.4959\n",
            "Epoch 230/250\n",
            "31/31 [==============================] - 5s 161ms/step - loss: 0.2765 - acc: 0.5312 - val_loss: 0.5271 - val_acc: 0.4628\n",
            "Epoch 231/250\n",
            "31/31 [==============================] - 5s 161ms/step - loss: 0.2722 - acc: 0.5312 - val_loss: 0.5801 - val_acc: 0.4711\n",
            "Epoch 232/250\n",
            "31/31 [==============================] - 5s 164ms/step - loss: 0.2804 - acc: 0.5031 - val_loss: 0.5798 - val_acc: 0.4628\n",
            "Epoch 233/250\n",
            "31/31 [==============================] - 5s 162ms/step - loss: 0.2801 - acc: 0.5114 - val_loss: 0.5531 - val_acc: 0.4711\n",
            "Epoch 234/250\n",
            "31/31 [==============================] - 5s 162ms/step - loss: 0.2785 - acc: 0.5208 - val_loss: 0.5373 - val_acc: 0.4545\n",
            "Epoch 235/250\n",
            "31/31 [==============================] - 5s 162ms/step - loss: 0.2765 - acc: 0.5239 - val_loss: 0.5404 - val_acc: 0.4793\n",
            "Epoch 236/250\n",
            "31/31 [==============================] - 5s 162ms/step - loss: 0.2726 - acc: 0.5229 - val_loss: 0.5370 - val_acc: 0.4463\n",
            "Epoch 237/250\n",
            "31/31 [==============================] - 5s 162ms/step - loss: 0.2757 - acc: 0.5312 - val_loss: 0.5868 - val_acc: 0.4463\n",
            "Epoch 238/250\n",
            "31/31 [==============================] - 5s 162ms/step - loss: 0.2749 - acc: 0.5249 - val_loss: 0.5148 - val_acc: 0.4793\n",
            "Epoch 239/250\n",
            "31/31 [==============================] - 5s 162ms/step - loss: 0.2719 - acc: 0.5374 - val_loss: 0.4999 - val_acc: 0.5041\n",
            "Epoch 240/250\n",
            "31/31 [==============================] - 5s 162ms/step - loss: 0.2692 - acc: 0.5385 - val_loss: 0.4706 - val_acc: 0.5289\n",
            "Epoch 241/250\n",
            "31/31 [==============================] - 5s 162ms/step - loss: 0.2732 - acc: 0.5353 - val_loss: 0.6303 - val_acc: 0.4380\n",
            "Epoch 242/250\n",
            "31/31 [==============================] - 5s 162ms/step - loss: 0.2714 - acc: 0.5364 - val_loss: 0.6437 - val_acc: 0.4793\n",
            "Epoch 243/250\n",
            "31/31 [==============================] - 5s 161ms/step - loss: 0.2720 - acc: 0.5395 - val_loss: 0.7326 - val_acc: 0.4215\n",
            "Epoch 244/250\n",
            "31/31 [==============================] - 5s 161ms/step - loss: 0.2809 - acc: 0.5094 - val_loss: 0.6498 - val_acc: 0.4793\n",
            "Epoch 245/250\n",
            "31/31 [==============================] - 5s 161ms/step - loss: 0.2730 - acc: 0.5208 - val_loss: 0.6327 - val_acc: 0.4628\n",
            "Epoch 246/250\n",
            "31/31 [==============================] - 5s 161ms/step - loss: 0.2886 - acc: 0.5146 - val_loss: 0.4505 - val_acc: 0.4711\n",
            "Epoch 247/250\n",
            "31/31 [==============================] - 5s 162ms/step - loss: 0.2801 - acc: 0.5198 - val_loss: 0.4258 - val_acc: 0.4711\n",
            "Epoch 248/250\n",
            "31/31 [==============================] - 5s 162ms/step - loss: 0.2761 - acc: 0.5301 - val_loss: 0.4708 - val_acc: 0.5124\n",
            "Epoch 249/250\n",
            "31/31 [==============================] - 5s 164ms/step - loss: 0.2848 - acc: 0.5301 - val_loss: 0.5044 - val_acc: 0.4876\n",
            "Epoch 250/250\n",
            "31/31 [==============================] - 5s 161ms/step - loss: 0.2752 - acc: 0.5208 - val_loss: 0.5566 - val_acc: 0.4793\n"
          ]
        }
      ],
      "source": [
        "train_datagen = ImageDataGenerator(rescale=1. / 255, \n",
        "                                   rotation_range=15,\n",
        "                                   width_shift_range=0.1,\n",
        "                                   height_shift_range=0.1,\n",
        "                                   shear_range=0.01,\n",
        "                                   zoom_range=[0.9, 1.25],\n",
        "                                   horizontal_flip=True,\n",
        "                                   vertical_flip=False,\n",
        "                                   fill_mode='reflect')\n",
        "valtest_datagen = ImageDataGenerator(rescale=1. / 255)\n",
        "\n",
        "train_generator = train_datagen.flow(np.array(X_train), y_train, batch_size=batch_size)\n",
        "validation_generator = valtest_datagen.flow(np.array(X_val), y_val, batch_size=batch_size)\n",
        "test_generator = valtest_datagen.flow(np.array(X_test), y_test, batch_size=batch_size)\n",
        "\n",
        "history = model.fit(np.array(X_train), np.array(y_train), validation_data=(np.array(X_val), np.array(y_val)), epochs=250)\n"
      ]
    },
    {
      "cell_type": "code",
      "execution_count": null,
      "metadata": {
        "id": "b7zFh3yBq2Rg",
        "colab": {
          "base_uri": "https://localhost:8080/",
          "height": 896
        },
        "outputId": "30095f52-0f39-48bc-c6d5-3efe950336c5"
      },
      "outputs": [
        {
          "output_type": "display_data",
          "data": {
            "text/plain": [
              "<Figure size 432x288 with 1 Axes>"
            ],
            "image/png": "[encoded data removed]"
          },
          "metadata": {
            "needs_background": "light"
          }
        },
        {
          "output_type": "display_data",
          "data": {
            "text/plain": [
              "<Figure size 432x288 with 1 Axes>"
            ],
            "image/png": "[encoded data removed]"
          },
          "metadata": {
            "needs_background": "light"
          }
        },
        {
          "output_type": "display_data",
          "data": {
            "text/plain": [
              "<Figure size 360x360 with 2 Axes>"
            ],
            "image/png": "[encoded data removed]"
          },
          "metadata": {
            "needs_background": "light"
          }
        }
      ],
      "source": [
        "acc = history.history['acc']\n",
        "val_acc = history.history['val_acc']\n",
        "loss = history.history['loss']\n",
        "val_loss = history.history['val_loss']\n",
        "epochs = range(1, len(acc) + 1)\n",
        "plt.plot(epochs, acc, 'blue', label='Training acc')\n",
        "plt.plot(epochs, val_acc, 'red', label='Validation acc')\n",
        "plt.title('Training and validation accuracy')\n",
        "plt.legend()\n",
        "plt.savefig(\"/content/drive/MyDrive/Datasets - Copy/trvlAcc1.png\")\n",
        "plt.show()\n",
        "\n",
        "plt.figure()\n",
        "plt.plot(epochs, loss, 'blue', label='Training loss')\n",
        "plt.plot(epochs, val_loss, 'red', label='Validation loss')\n",
        "plt.title('Training and validation loss')\n",
        "plt.legend()\n",
        "plt.savefig(\"/content/drive/MyDrive/Datasets - Copy/trvlLoss1.png\")\n",
        "plt.show()\n",
        "\n",
        "import sklearn\n",
        "import itertools\n",
        "from sklearn.metrics import confusion_matrix\n",
        "dict_characters = {0: 'Clear', 1: 'Blurry'}\n",
        "def plot_confusion_matrix(cm, classes,\n",
        "                          normalize=False,\n",
        "                          title='Confusion matrix',\n",
        "                          cmap=plt.cm.Blues):\n",
        "    plt.figure(figsize = (5,5))\n",
        "    plt.imshow(cm, interpolation='nearest', cmap=cmap)\n",
        "    plt.title(title)\n",
        "    plt.colorbar()\n",
        "    tick_marks = np.arange(len(classes))\n",
        "    plt.xticks(tick_marks, classes, rotation=90)\n",
        "    plt.yticks(tick_marks, classes)\n",
        "    if normalize:\n",
        "        cm = cm.astype('float') / cm.sum(axis=1)[:, np.newaxis]\n",
        "    thresh = cm.max() / 2.\n",
        "    for i, j in itertools.product(range(cm.shape[0]), range(cm.shape[1])):\n",
        "        plt.text(j, i, cm[i, j],\n",
        "                 horizontalalignment=\"center\",\n",
        "                 color=\"white\" if cm[i, j] > thresh else \"black\")\n",
        "    plt.tight_layout()\n",
        "    plt.ylabel('True label')\n",
        "    plt.xlabel('Predicted label')\n",
        "    plt.savefig(\"/content/drive/MyDrive/Datasets - Copy/cm-\"+title+\".png\")\n",
        "    plt.show()\n",
        "\n",
        "    \n",
        "a=np.array(X_test)\n",
        "b=np.array(y_test)\n",
        "Y_pred = model.predict(a)\n",
        "\n",
        "\n",
        "Y_pred_classes = np.argmax(Y_pred,axis=1)\n",
        "confusion_mtx = confusion_matrix(np.argmax(b,axis=1), Y_pred_classes) \n",
        "plot_confusion_matrix(confusion_mtx, classes = list(image_classes))"
      ]
    },
    {
      "cell_type": "code",
      "execution_count": null,
      "metadata": {
        "id": "zYxKO_NyxXA2",
        "colab": {
          "base_uri": "https://localhost:8080/"
        },
        "outputId": "4483b5fe-3e4b-4ab0-a760-9dcd73fbea71"
      },
      "outputs": [
        {
          "output_type": "execute_result",
          "data": {
            "text/plain": [
              "0.4583333333333333"
            ]
          },
          "metadata": {},
          "execution_count": 23
        }
      ],
      "source": [
        "sklearn.metrics.accuracy_score(Y_pred_classes,np.argmax(b,axis=1))\n"
      ]
    },
    {
      "cell_type": "code",
      "execution_count": null,
      "metadata": {
        "id": "FtSjiZ4pxcAE",
        "colab": {
          "base_uri": "https://localhost:8080/"
        },
        "outputId": "e7c8a815-7442-438e-86b1-d9ab755581ed"
      },
      "outputs": [
        {
          "output_type": "execute_result",
          "data": {
            "text/plain": [
              "array([[ 2,  0,  0,  0,  0,  0],\n",
              "       [ 0,  1,  2,  1, 14,  0],\n",
              "       [ 0,  2,  4,  1, 14,  0],\n",
              "       [ 0,  0,  2,  0, 21,  0],\n",
              "       [ 0,  0,  2,  2, 19,  0],\n",
              "       [ 1,  0,  0,  0,  3, 29]])"
            ]
          },
          "metadata": {},
          "execution_count": 24
        }
      ],
      "source": [
        "confusion_mtx\n"
      ]
    },
    {
      "cell_type": "code",
      "execution_count": null,
      "metadata": {
        "id": "yF5RniLdxjb1",
        "colab": {
          "base_uri": "https://localhost:8080/"
        },
        "outputId": "98463db3-3f4d-412a-b811-2bdf978e3468"
      },
      "outputs": [
        {
          "output_type": "execute_result",
          "data": {
            "text/plain": [
              "[1.0,\n",
              " 0.2222222222222222,\n",
              " 0.42857142857142855,\n",
              " 0.17391304347826086,\n",
              " 0.2608695652173913,\n",
              " 0.8787878787878788]"
            ]
          },
          "metadata": {},
          "execution_count": 25
        }
      ],
      "source": [
        "accuracies = [class_correct_pred[i]/class_totals[i] for i in range(6)]\n",
        "accuracies"
      ]
    },
    {
      "cell_type": "code",
      "execution_count": null,
      "metadata": {
        "id": "Hjhfdjpmxtre",
        "colab": {
          "base_uri": "https://localhost:8080/"
        },
        "outputId": "e5ffdafd-6d00-44c2-e150-dc2df346f9c0"
      },
      "outputs": [
        {
          "output_type": "stream",
          "name": "stdout",
          "text": [
            "120\n"
          ]
        },
        {
          "output_type": "execute_result",
          "data": {
            "text/plain": [
              "[0.9915254237288136,\n",
              " 0.8666666666666667,\n",
              " 0.9734513274336283,\n",
              " 0.8285714285714286,\n",
              " 0.7101449275362319,\n",
              " 1.0]"
            ]
          },
          "metadata": {},
          "execution_count": 26
        }
      ],
      "source": [
        "sumall = sum(map(sum, confusion_mtx))\n",
        "print(sumall)\n",
        "tn = [sumall - [sum(x) for x in zip(*confusion_mtx)][i] for i in range(6)]\n",
        "tn\n",
        "specificity = [tn[i]/(tn[i]+fp[i]) for i in range(6)]\n",
        "specificity"
      ]
    }
  ],
  "metadata": {
    "colab": {
      "collapsed_sections": [],
      "provenance": [],
      "mount_file_id": "1uspwKnu1noDqZysKwLee_6oyC7Ajlr66",
      "authorship_tag": "ABX9TyPMvai98kL01H4XB0eLA7bl",
      "include_colab_link": true
    },
    "kernelspec": {
      "display_name": "Python 3",
      "name": "python3"
    },
    "language_info": {
      "name": "python"
    },
    "accelerator": "GPU"
  },
  "nbformat": 4,
  "nbformat_minor": 0
}