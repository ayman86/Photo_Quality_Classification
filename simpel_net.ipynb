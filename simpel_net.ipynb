{
  "cells": [
    {
      "cell_type": "markdown",
      "metadata": {
        "id": "view-in-github",
        "colab_type": "text"
      },
      "source": [
        "<a href=\"https://colab.research.google.com/github/ayman86/Photo_Quality_Classification/blob/main/simpel_net.ipynb\" target=\"_parent\"><img src=\"https://colab.research.google.com/assets/colab-badge.svg\" alt=\"Open In Colab\"/></a>"
      ]
    },
    {
      "cell_type": "code",
      "execution_count": 1,
      "metadata": {
        "id": "qWKhURmqANPw"
      },
      "outputs": [],
      "source": [
        "import cv2\n",
        "import os\n",
        "import random\n",
        "import matplotlib.pylab as plt\n",
        "from glob import glob\n",
        "import pandas as pd\n",
        "import numpy as np\n",
        "from sklearn.model_selection import train_test_split"
      ]
    },
    {
      "cell_type": "code",
      "execution_count": 2,
      "metadata": {
        "id": "Pwgj2q67AgFD"
      },
      "outputs": [],
      "source": [
        "def proc_image_dir(Images_Path):\n",
        "    \n",
        "    image_classes = sorted([dirname for dirname in os.listdir(Images_Path)\n",
        "                      if os.path.isdir(os.path.join(Images_Path, dirname))])\n",
        "    # and not dirname.startswith(\".\") and not dirname.startswith(\"mblur\")])\n",
        "    #image_classes.append('mblur')\n",
        "    \n",
        "    print(image_classes)\n",
        "    \n",
        "    x = [] # images as arrays\n",
        "    y = [] # labels Infiltration or Not_infiltration\n",
        "    WIDTH = 256\n",
        "    HEIGHT = 256\n",
        "  \n",
        "    print(\"Adding Images: \",end=\"\")\n",
        "    i = 0\n",
        "    for image_class in image_classes:\n",
        "        print(\"Processing \", image_class)\n",
        "        items = glob(os.path.join(Images_Path, image_class,\"*\"))\n",
        "        for item in items:\n",
        "            if item.lower().endswith(\".jpg\") or item.lower().endswith(\".bmp\"):\n",
        "                # Read and resize image\n",
        "                full_size_image = cv2.imread(item)\n",
        "                x.append(cv2.resize(full_size_image, (WIDTH,HEIGHT), interpolation=cv2.INTER_CUBIC))\n",
        "                out = [0] * len(image_classes)\n",
        "                out[i] = 1\n",
        "                y.append(out)\n",
        "        i+=1\n",
        "\n",
        "    print(\"\")\n",
        "    return x,y,image_classes\n",
        "\n",
        "def horizontal_motion_blur(img, blur_factor):\n",
        "    import cv2 \n",
        "    import numpy as np \n",
        "\n",
        "    kernel_size = blur_factor\n",
        "    kernel_h = np.zeros((kernel_size, kernel_size))\n",
        "    kernel_h[int((kernel_size - 1)/2), :] = np.ones(kernel_size) \n",
        "    kernel_h /= kernel_size \n",
        "\n",
        "    # Apply the horizontal kernel. \n",
        "    horizontal_mb = cv2.filter2D(img, -1, kernel_h) \n",
        "    \n",
        "    return horizontal_mb"
      ]
    },
    {
      "cell_type": "code",
      "execution_count": 3,
      "metadata": {
        "id": "qHlujpENAkLd",
        "colab": {
          "base_uri": "https://localhost:8080/"
        },
        "outputId": "3b22bc5d-2a11-46cf-baf0-902ba1beef65"
      },
      "outputs": [
        {
          "output_type": "stream",
          "name": "stdout",
          "text": [
            "['bad_lighting', 'fastfading', 'gblur', 'jp2k', 'jpeg', 'refimgs']\n",
            "Adding Images: Processing  bad_lighting\n",
            "Processing  fastfading\n",
            "Processing  gblur\n",
            "Processing  jp2k\n",
            "Processing  jpeg\n",
            "Processing  refimgs\n",
            "\n"
          ]
        }
      ],
      "source": [
        "# ./input/\n",
        "PATH = os.path.abspath(os.path.join('.', 'databaserelease2'))\n",
        "\n",
        "# ./input/sample/images/\n",
        "SOURCE_IMAGES = '/content/drive/MyDrive/Datasets - Copy/First Dataset'#os.path.join(PATH, \"sample\", \"images\")\n",
        "x2,y2,image_classes = proc_image_dir(SOURCE_IMAGES)\n"
      ]
    },
    {
      "cell_type": "code",
      "execution_count": 4,
      "metadata": {
        "id": "xkz5A8fhAwFm",
        "colab": {
          "base_uri": "https://localhost:8080/"
        },
        "outputId": "a2c82dea-6f5a-4112-b4bd-b3d2ee8a91e9"
      },
      "outputs": [
        {
          "output_type": "stream",
          "name": "stdout",
          "text": [
            "['bad_lighting', 'fastfading', 'gblur', 'jp2k', 'jpeg', 'refimgs']\n"
          ]
        }
      ],
      "source": [
        "for i in range(0,len(x2)):\n",
        "    if(y2[i][2] > 0):\n",
        "        # Specify the kernel size. \n",
        "        # The greater the size, the more the motion. \n",
        "        \n",
        "        random.seed(221234)\n",
        "        kernel_size_h = random.randrange(30, 60, 5)\n",
        "\n",
        "\n",
        "        # Apply the horizontal kernel. \n",
        "        horizonal_mb = horizontal_motion_blur(x2[i],kernel_size_h)\n",
        "        \n",
        "        x2.append(horizonal_mb)\n",
        "        y2.append([0,0,0,0,0,1])\n",
        "\n",
        "print(image_classes)"
      ]
    },
    {
      "cell_type": "code",
      "execution_count": 5,
      "metadata": {
        "id": "Ge9UqC_fAzAn",
        "colab": {
          "base_uri": "https://localhost:8080/"
        },
        "outputId": "fe6acae7-0589-4255-d4bd-fb3aa89e39ad"
      },
      "outputs": [
        {
          "output_type": "stream",
          "name": "stdout",
          "text": [
            "(962, 256, 256, 3)\n",
            "(121, 256, 256, 3)\n",
            "(120, 256, 256, 3)\n"
          ]
        }
      ],
      "source": [
        "# First split the data in two sets, 80% for training, 20% for Val/Test)\n",
        "X_train, X_valtest, y_train, y_valtest = train_test_split(x2,y2, test_size=0.20, random_state=1, stratify=y2)\n",
        "\n",
        "# Second split the 40% into validation and test sets\n",
        "X_test, X_val, y_test, y_val = train_test_split(X_valtest, y_valtest, test_size=0.5, random_state=1, stratify=y_valtest)\n",
        "\n",
        "print(np.array(X_train).shape)\n",
        "print(np.array(X_val).shape)\n",
        "print(np.array(X_test).shape)"
      ]
    },
    {
      "cell_type": "code",
      "execution_count": 6,
      "metadata": {
        "id": "vP9bfmPbA02v"
      },
      "outputs": [],
      "source": [
        "import tensorflow as tf\n",
        "from tensorflow.keras.preprocessing.image import ImageDataGenerator\n",
        "from tensorflow.keras import layers, models, optimizers\n",
        "from tensorflow.keras import backend as K\n",
        "import tensorflow.keras\n",
        "from tensorflow.keras.datasets import cifar10\n",
        "from tensorflow.keras.preprocessing.image import ImageDataGenerator\n",
        "from tensorflow.keras.models import Sequential\n",
        "from tensorflow.keras.layers import Dense, Dropout, Activation, Flatten\n",
        "from tensorflow.keras.layers import Conv2D, MaxPooling2D\n",
        "import os\n",
        "from tensorflow.keras.layers import Input, Dense, Activation,Flatten,Conv2D,MaxPool2D,Dropout\n",
        "from tensorflow.keras.models import Model\n",
        "import keras\n",
        "from keras.preprocessing.image import ImageDataGenerator\n",
        "from keras.models import Sequential\n",
        "from keras.layers import Dense\n",
        "from keras.utils.traceback_utils import include_frame\n",
        "import matplotlib.pyplot as plt\n",
        "import numpy as np\n",
        "\n",
        "num_classes=6\n",
        "\n",
        "K.image_data_format()\n",
        "\n",
        "img_width, img_height = 256, 256\n",
        "nb_train_samples = len(X_train)\n",
        "nb_validation_samples = len(X_val)\n",
        "batch_size = 16"
      ]
    },
    {
      "cell_type": "code",
      "execution_count": 27,
      "metadata": {
        "id": "f9chEpMRA3d_",
        "colab": {
          "base_uri": "https://localhost:8080/"
        },
        "outputId": "e8859a5a-c692-40c6-bfa8-8c52713e9ce6"
      },
      "outputs": [
        {
          "output_type": "stream",
          "name": "stdout",
          "text": [
            "Model: \"Binary_classification\"\n",
            "_________________________________________________________________\n",
            " Layer (type)                Output Shape              Param #   \n",
            "=================================================================\n",
            " img_input (InputLayer)      [(None, 256, 256, 3)]     0         \n",
            "                                                                 \n",
            " l1 (Conv2D)                 (None, 256, 256, 32)      896       \n",
            "                                                                 \n",
            " l2 (Conv2D)                 (None, 256, 256, 64)      18496     \n",
            "                                                                 \n",
            " l3 (MaxPooling2D)           (None, 128, 128, 64)      0         \n",
            "                                                                 \n",
            " l4 (Conv2D)                 (None, 128, 128, 64)      36928     \n",
            "                                                                 \n",
            " l5 (MaxPooling2D)           (None, 64, 64, 64)        0         \n",
            "                                                                 \n",
            " l6 (Conv2D)                 (None, 64, 64, 128)       73856     \n",
            "                                                                 \n",
            " l7 (MaxPooling2D)           (None, 32, 32, 128)       0         \n",
            "                                                                 \n",
            " l8 (Conv2D)                 (None, 32, 32, 128)       147584    \n",
            "                                                                 \n",
            " l9 (MaxPooling2D)           (None, 16, 16, 128)       0         \n",
            "                                                                 \n",
            " l10 (Conv2D)                (None, 16, 16, 256)       295168    \n",
            "                                                                 \n",
            " l11 (MaxPooling2D)          (None, 8, 8, 256)         0         \n",
            "                                                                 \n",
            " l12 (Conv2D)                (None, 8, 8, 256)         590080    \n",
            "                                                                 \n",
            " l13 (MaxPooling2D)          (None, 4, 4, 256)         0         \n",
            "                                                                 \n",
            " fc1 (Flatten)               (None, 4096)              0         \n",
            "                                                                 \n",
            " l14 (Dense)                 (None, 64)                262208    \n",
            "                                                                 \n",
            " dropout_2 (Dropout)         (None, 64)                0         \n",
            "                                                                 \n",
            " predictions (Dense)         (None, 6)                 390       \n",
            "                                                                 \n",
            "=================================================================\n",
            "Total params: 1,425,606\n",
            "Trainable params: 1,425,606\n",
            "Non-trainable params: 0\n",
            "_________________________________________________________________\n"
          ]
        }
      ],
      "source": [
        "input_shape = (256,256,3)\n",
        "\n",
        "#creat the network\n",
        "#input layer\n",
        "img_input = Input(shape=input_shape,name = 'img_input')\n",
        "\n",
        "#conv_layer\n",
        "l1 = Conv2D(32,(3,3),padding='same',activation='relu',name='l1')(img_input)\n",
        "l1 = Conv2D(64,(3,3),padding='same',activation='relu',name='l2')(l1)\n",
        "l1 = MaxPool2D((2,2),strides=(2,2),name='l3')(l1)\n",
        "#l1 = Dropout(0.2)(l1)\n",
        "\n",
        "l1 = Conv2D(64,(3,3),padding='same',activation='relu',name='l4')(l1)\n",
        "l1 = MaxPool2D((2,2),strides=(2,2),name='l5')(l1)\n",
        "#l1 = Dropout(0.2)(l1)\n",
        "\n",
        "l1 = Conv2D(128,(3,3),padding='same',activation='relu',name='l6')(l1)\n",
        "l1 = MaxPool2D((2,2),strides=(2,2),name='l7')(l1)\n",
        "#l1 = Dropout(0.3)(l1)\n",
        "\n",
        "l1 = Conv2D(128,(3,3),padding='same',activation='relu',name='l8')(l1)\n",
        "l1 = MaxPool2D((2,2),strides=(2,2),name='l9')(l1)\n",
        "#l1 = Dropout(0.3)(l1)\n",
        "\n",
        "l1 = Conv2D(256,(3,3),padding='same',activation='relu',name='l10')(l1)\n",
        "l1 = MaxPool2D((2,2),strides=(2,2),name='l11')(l1)\n",
        "#l1 = Dropout(0.4)(l1)\n",
        "\n",
        "l1 = Conv2D(256,(3,3),padding='same',activation='relu',name='l12')(l1)\n",
        "l1 = MaxPool2D((2,2),strides=(2,2),name='l13')(l1)\n",
        "#l1 = Dropout(0.4)(l1)\n",
        "\n",
        "l1 = Flatten(name='fc1')(l1)\n",
        "l1 = Dense(64,name='l14')(l1)\n",
        "l1 = Dropout(0.5)(l1)\n",
        "\n",
        "l1 = Dense(6,activation='sigmoid',name='predictions')(l1)\n",
        "\n",
        "model = Model(inputs=img_input,outputs=l1,name='Binary_classification')\n",
        "model.summary()\n",
        "\n",
        "\n"
      ]
    },
    {
      "cell_type": "code",
      "execution_count": 28,
      "metadata": {
        "id": "3YqNyGGOA5lH",
        "colab": {
          "base_uri": "https://localhost:8080/"
        },
        "outputId": "d56164c2-4db4-4f76-cfc1-95667bae0f0c"
      },
      "outputs": [
        {
          "output_type": "stream",
          "name": "stderr",
          "text": [
            "/usr/local/lib/python3.7/dist-packages/keras/optimizer_v2/adam.py:105: UserWarning: The `lr` argument is deprecated, use `learning_rate` instead.\n",
            "  super(Adam, self).__init__(name, **kwargs)\n"
          ]
        }
      ],
      "source": [
        "model.compile(\n",
        "\tloss='binary_crossentropy',\n",
        "\toptimizer=optimizers.Adam(lr=0.001, beta_1=0.9, beta_2=0.999, epsilon=1e-08, decay=0.0),\n",
        "\tmetrics=['acc'])"
      ]
    },
    {
      "cell_type": "code",
      "execution_count": 9,
      "metadata": {
        "id": "S-YXtkrRA7bP",
        "colab": {
          "base_uri": "https://localhost:8080/"
        },
        "outputId": "57c121c3-04ed-4feb-9816-789af0248c69"
      },
      "outputs": [
        {
          "output_type": "stream",
          "name": "stdout",
          "text": [
            "Epoch 1/50\n",
            "31/31 [==============================] - 11s 173ms/step - loss: 0.7297 - acc: 0.2890 - val_loss: 0.7603 - val_acc: 0.1983\n",
            "Epoch 2/50\n",
            "31/31 [==============================] - 4s 136ms/step - loss: 0.6739 - acc: 0.3857 - val_loss: 0.7078 - val_acc: 0.1983\n",
            "Epoch 3/50\n",
            "31/31 [==============================] - 4s 127ms/step - loss: 0.6350 - acc: 0.4480 - val_loss: 0.7143 - val_acc: 0.1983\n",
            "Epoch 4/50\n",
            "31/31 [==============================] - 4s 125ms/step - loss: 0.6133 - acc: 0.4605 - val_loss: 0.6735 - val_acc: 0.1653\n",
            "Epoch 5/50\n",
            "31/31 [==============================] - 4s 126ms/step - loss: 0.5936 - acc: 0.5052 - val_loss: 0.6527 - val_acc: 0.1653\n",
            "Epoch 6/50\n",
            "31/31 [==============================] - 4s 127ms/step - loss: 0.5735 - acc: 0.5457 - val_loss: 0.6284 - val_acc: 0.1653\n",
            "Epoch 7/50\n",
            "31/31 [==============================] - 4s 128ms/step - loss: 0.5620 - acc: 0.5322 - val_loss: 0.5987 - val_acc: 0.2397\n",
            "Epoch 8/50\n",
            "31/31 [==============================] - 4s 127ms/step - loss: 0.5514 - acc: 0.5468 - val_loss: 0.6173 - val_acc: 0.2810\n",
            "Epoch 9/50\n",
            "31/31 [==============================] - 4s 128ms/step - loss: 0.5361 - acc: 0.5520 - val_loss: 0.5742 - val_acc: 0.2810\n",
            "Epoch 10/50\n",
            "31/31 [==============================] - 4s 128ms/step - loss: 0.5251 - acc: 0.5728 - val_loss: 0.5542 - val_acc: 0.2810\n",
            "Epoch 11/50\n",
            "31/31 [==============================] - 4s 131ms/step - loss: 0.5304 - acc: 0.5426 - val_loss: 0.6187 - val_acc: 0.2810\n",
            "Epoch 12/50\n",
            "31/31 [==============================] - 4s 126ms/step - loss: 0.5058 - acc: 0.5800 - val_loss: 0.5530 - val_acc: 0.2810\n",
            "Epoch 13/50\n",
            "31/31 [==============================] - 4s 126ms/step - loss: 0.5182 - acc: 0.5177 - val_loss: 0.5836 - val_acc: 0.2810\n",
            "Epoch 14/50\n",
            "31/31 [==============================] - 4s 125ms/step - loss: 0.5010 - acc: 0.5468 - val_loss: 0.5937 - val_acc: 0.2810\n",
            "Epoch 15/50\n",
            "31/31 [==============================] - 4s 125ms/step - loss: 0.4826 - acc: 0.5946 - val_loss: 0.5521 - val_acc: 0.3140\n",
            "Epoch 16/50\n",
            "31/31 [==============================] - 4s 126ms/step - loss: 0.4725 - acc: 0.6040 - val_loss: 0.5221 - val_acc: 0.3636\n",
            "Epoch 17/50\n",
            "31/31 [==============================] - 4s 128ms/step - loss: 0.4616 - acc: 0.6060 - val_loss: 0.5436 - val_acc: 0.3802\n",
            "Epoch 18/50\n",
            "31/31 [==============================] - 4s 125ms/step - loss: 0.5254 - acc: 0.4179 - val_loss: 0.5857 - val_acc: 0.2727\n",
            "Epoch 19/50\n",
            "31/31 [==============================] - 4s 125ms/step - loss: 0.4867 - acc: 0.4865 - val_loss: 0.6088 - val_acc: 0.2149\n",
            "Epoch 20/50\n",
            "31/31 [==============================] - 4s 125ms/step - loss: 0.4684 - acc: 0.5405 - val_loss: 0.5532 - val_acc: 0.2893\n",
            "Epoch 21/50\n",
            "31/31 [==============================] - 4s 125ms/step - loss: 0.4578 - acc: 0.5676 - val_loss: 0.5711 - val_acc: 0.3554\n",
            "Epoch 22/50\n",
            "31/31 [==============================] - 4s 125ms/step - loss: 0.4723 - acc: 0.4823 - val_loss: 0.8328 - val_acc: 0.0579\n",
            "Epoch 23/50\n",
            "31/31 [==============================] - 4s 125ms/step - loss: 0.4488 - acc: 0.5530 - val_loss: 0.5892 - val_acc: 0.1653\n",
            "Epoch 24/50\n",
            "31/31 [==============================] - 4s 126ms/step - loss: 0.4411 - acc: 0.5551 - val_loss: 0.6475 - val_acc: 0.0661\n",
            "Epoch 25/50\n",
            "31/31 [==============================] - 4s 126ms/step - loss: 0.4314 - acc: 0.5624 - val_loss: 0.5694 - val_acc: 0.2645\n",
            "Epoch 26/50\n",
            "31/31 [==============================] - 4s 126ms/step - loss: 0.4264 - acc: 0.5728 - val_loss: 0.5302 - val_acc: 0.3306\n",
            "Epoch 27/50\n",
            "31/31 [==============================] - 4s 130ms/step - loss: 0.4220 - acc: 0.5603 - val_loss: 0.6150 - val_acc: 0.0661\n",
            "Epoch 28/50\n",
            "31/31 [==============================] - 4s 127ms/step - loss: 0.4125 - acc: 0.5863 - val_loss: 0.5811 - val_acc: 0.2479\n",
            "Epoch 29/50\n",
            "31/31 [==============================] - 4s 126ms/step - loss: 0.4088 - acc: 0.5852 - val_loss: 0.4858 - val_acc: 0.3388\n",
            "Epoch 30/50\n",
            "31/31 [==============================] - 4s 126ms/step - loss: 0.4008 - acc: 0.5967 - val_loss: 0.4501 - val_acc: 0.3967\n",
            "Epoch 31/50\n",
            "31/31 [==============================] - 4s 126ms/step - loss: 0.3959 - acc: 0.6102 - val_loss: 0.4146 - val_acc: 0.5289\n",
            "Epoch 32/50\n",
            "31/31 [==============================] - 4s 130ms/step - loss: 0.3879 - acc: 0.6081 - val_loss: 0.5357 - val_acc: 0.3802\n",
            "Epoch 33/50\n",
            "31/31 [==============================] - 4s 126ms/step - loss: 0.3864 - acc: 0.6133 - val_loss: 0.4150 - val_acc: 0.4959\n",
            "Epoch 34/50\n",
            "31/31 [==============================] - 4s 130ms/step - loss: 0.3803 - acc: 0.6008 - val_loss: 0.4515 - val_acc: 0.3967\n",
            "Epoch 35/50\n",
            "31/31 [==============================] - 4s 130ms/step - loss: 0.3828 - acc: 0.5936 - val_loss: 0.4661 - val_acc: 0.3802\n",
            "Epoch 36/50\n",
            "31/31 [==============================] - 4s 126ms/step - loss: 0.3818 - acc: 0.6019 - val_loss: 0.4610 - val_acc: 0.3554\n",
            "Epoch 37/50\n",
            "31/31 [==============================] - 4s 125ms/step - loss: 0.3710 - acc: 0.6185 - val_loss: 0.4682 - val_acc: 0.3884\n",
            "Epoch 38/50\n",
            "31/31 [==============================] - 4s 125ms/step - loss: 0.3674 - acc: 0.6289 - val_loss: 0.4319 - val_acc: 0.4298\n",
            "Epoch 39/50\n",
            "31/31 [==============================] - 4s 125ms/step - loss: 0.3646 - acc: 0.6175 - val_loss: 0.4270 - val_acc: 0.4959\n",
            "Epoch 40/50\n",
            "31/31 [==============================] - 4s 125ms/step - loss: 0.3596 - acc: 0.6237 - val_loss: 0.7817 - val_acc: 0.2645\n",
            "Epoch 41/50\n",
            "31/31 [==============================] - 4s 126ms/step - loss: 0.3605 - acc: 0.6237 - val_loss: 0.4443 - val_acc: 0.3802\n",
            "Epoch 42/50\n",
            "31/31 [==============================] - 4s 126ms/step - loss: 0.3736 - acc: 0.5821 - val_loss: 0.4895 - val_acc: 0.3471\n",
            "Epoch 43/50\n",
            "31/31 [==============================] - 4s 126ms/step - loss: 0.3704 - acc: 0.5842 - val_loss: 0.5565 - val_acc: 0.3636\n",
            "Epoch 44/50\n",
            "31/31 [==============================] - 4s 126ms/step - loss: 0.3555 - acc: 0.6102 - val_loss: 0.5927 - val_acc: 0.3636\n",
            "Epoch 45/50\n",
            "31/31 [==============================] - 4s 126ms/step - loss: 0.3523 - acc: 0.6237 - val_loss: 0.6100 - val_acc: 0.3636\n",
            "Epoch 46/50\n",
            "31/31 [==============================] - 4s 126ms/step - loss: 0.3566 - acc: 0.5998 - val_loss: 0.3942 - val_acc: 0.5041\n",
            "Epoch 47/50\n",
            "31/31 [==============================] - 4s 126ms/step - loss: 0.3453 - acc: 0.6206 - val_loss: 0.4064 - val_acc: 0.4959\n",
            "Epoch 48/50\n",
            "31/31 [==============================] - 4s 126ms/step - loss: 0.3420 - acc: 0.6331 - val_loss: 0.5182 - val_acc: 0.3636\n",
            "Epoch 49/50\n",
            "31/31 [==============================] - 4s 126ms/step - loss: 0.3370 - acc: 0.6320 - val_loss: 0.4399 - val_acc: 0.3884\n",
            "Epoch 50/50\n",
            "31/31 [==============================] - 4s 125ms/step - loss: 0.3478 - acc: 0.5988 - val_loss: 0.3949 - val_acc: 0.4959\n"
          ]
        }
      ],
      "source": [
        "train_datagen = ImageDataGenerator(rescale=1. / 255, \n",
        "                                   rotation_range=15,\n",
        "                                   width_shift_range=0.1,\n",
        "                                   height_shift_range=0.1,\n",
        "                                   shear_range=0.01,\n",
        "                                   zoom_range=[0.9, 1.25],\n",
        "                                   horizontal_flip=True,\n",
        "                                   vertical_flip=False,\n",
        "                                   fill_mode='reflect')\n",
        "valtest_datagen = ImageDataGenerator(rescale=1. / 255)\n",
        "\n",
        "train_generator = train_datagen.flow(np.array(X_train), y_train, batch_size=batch_size)\n",
        "validation_generator = valtest_datagen.flow(np.array(X_val), y_val, batch_size=batch_size)\n",
        "test_generator = valtest_datagen.flow(np.array(X_test), y_test, batch_size=batch_size)\n",
        "\n",
        "history = model.fit(np.array(X_train), np.array(y_train), validation_data=(np.array(X_val), np.array(y_val)), epochs=50)\n"
      ]
    },
    {
      "cell_type": "code",
      "execution_count": 10,
      "metadata": {
        "id": "F-niGU5oA-q4"
      },
      "outputs": [],
      "source": [
        "model.save_weights('/content/drive/MyDrive/Datasets - Copy/8020weights.h5')\n"
      ]
    },
    {
      "cell_type": "code",
      "execution_count": 11,
      "metadata": {
        "id": "FNGBtlTeB1jp"
      },
      "outputs": [],
      "source": [
        "model.load_weights('/content/drive/MyDrive/Datasets - Copy/8020weights.h5')\n"
      ]
    },
    {
      "cell_type": "code",
      "execution_count": 12,
      "metadata": {
        "id": "YMJ6snRnB5nh",
        "colab": {
          "base_uri": "https://localhost:8080/",
          "height": 896
        },
        "outputId": "9b3cdd8b-893e-49cf-bb57-531691745ee0"
      },
      "outputs": [
        {
          "output_type": "display_data",
          "data": {
            "text/plain": [
              "<Figure size 432x288 with 1 Axes>"
            ],
            "image/png": "[encoded data removed]"
          },
          "metadata": {
            "needs_background": "light"
          }
        },
        {
          "output_type": "display_data",
          "data": {
            "text/plain": [
              "<Figure size 432x288 with 1 Axes>"
            ],
            "image/png": "[encoded data removed]"
          },
          "metadata": {
            "needs_background": "light"
          }
        },
        {
          "output_type": "display_data",
          "data": {
            "text/plain": [
              "<Figure size 360x360 with 2 Axes>"
            ],
            "image/png": "[encoded data removed]"
          },
          "metadata": {
            "needs_background": "light"
          }
        }
      ],
      "source": [
        "acc = history.history['acc']\n",
        "val_acc = history.history['val_acc']\n",
        "loss = history.history['loss']\n",
        "val_loss = history.history['val_loss']\n",
        "epochs = range(1, len(acc) + 1)\n",
        "plt.plot(epochs, acc, 'blue', label='Training acc')\n",
        "plt.plot(epochs, val_acc, 'red', label='Validation acc')\n",
        "plt.title('Training and validation accuracy')\n",
        "plt.legend()\n",
        "plt.savefig(\"/content/drive/MyDrive/Datasets - Copy/trvlAcc.png\")\n",
        "plt.show()\n",
        "\n",
        "plt.figure()\n",
        "plt.plot(epochs, loss, 'blue', label='Training loss')\n",
        "plt.plot(epochs, val_loss, 'red', label='Validation loss')\n",
        "plt.title('Training and validation loss')\n",
        "plt.legend()\n",
        "plt.savefig(\"/content/drive/MyDrive/Datasets - Copy/trvlLoss.png\")\n",
        "plt.show()\n",
        "\n",
        "import sklearn\n",
        "import itertools\n",
        "from sklearn.metrics import confusion_matrix\n",
        "dict_characters = {0: 'Clear', 1: 'Blurry'}\n",
        "def plot_confusion_matrix(cm, classes,\n",
        "                          normalize=False,\n",
        "                          title='Confusion matrix',\n",
        "                          cmap=plt.cm.Blues):\n",
        "    plt.figure(figsize = (5,5))\n",
        "    plt.imshow(cm, interpolation='nearest', cmap=cmap)\n",
        "    plt.title(title)\n",
        "    plt.colorbar()\n",
        "    tick_marks = np.arange(len(classes))\n",
        "    plt.xticks(tick_marks, classes, rotation=90)\n",
        "    plt.yticks(tick_marks, classes)\n",
        "    if normalize:\n",
        "        cm = cm.astype('float') / cm.sum(axis=1)[:, np.newaxis]\n",
        "    thresh = cm.max() / 2.\n",
        "    for i, j in itertools.product(range(cm.shape[0]), range(cm.shape[1])):\n",
        "        plt.text(j, i, cm[i, j],\n",
        "                 horizontalalignment=\"center\",\n",
        "                 color=\"white\" if cm[i, j] > thresh else \"black\")\n",
        "    plt.tight_layout()\n",
        "    plt.ylabel('True label')\n",
        "    plt.xlabel('Predicted label')\n",
        "    plt.savefig(\"/content/drive/MyDrive/Datasets - Copy/cm-\"+title+\".png\")\n",
        "    plt.show()\n",
        "\n",
        "    \n",
        "a=np.array(X_test)\n",
        "b=np.array(y_test)\n",
        "Y_pred = model.predict(a)\n",
        "\n",
        "\n",
        "Y_pred_classes = np.argmax(Y_pred,axis=1)\n",
        "confusion_mtx = confusion_matrix(np.argmax(b,axis=1), Y_pred_classes) \n",
        "plot_confusion_matrix(confusion_mtx, classes = list(image_classes))"
      ]
    },
    {
      "cell_type": "code",
      "execution_count": 13,
      "metadata": {
        "id": "oL1vpGz6TFJf",
        "colab": {
          "base_uri": "https://localhost:8080/"
        },
        "outputId": "729315b9-0a0a-45ff-b9bc-bcafecd2cd0f"
      },
      "outputs": [
        {
          "output_type": "execute_result",
          "data": {
            "text/plain": [
              "0.49166666666666664"
            ]
          },
          "metadata": {},
          "execution_count": 13
        }
      ],
      "source": [
        "sklearn.metrics.accuracy_score(Y_pred_classes,np.argmax(b,axis=1))\n"
      ]
    },
    {
      "cell_type": "code",
      "execution_count": 14,
      "metadata": {
        "id": "MRVPLK-QTitJ",
        "colab": {
          "base_uri": "https://localhost:8080/"
        },
        "outputId": "2c2699d7-8d72-44bb-b5f9-9c5ec262f5d4"
      },
      "outputs": [
        {
          "output_type": "execute_result",
          "data": {
            "text/plain": [
              "array([[ 2,  0,  0,  0,  0,  0],\n",
              "       [ 0,  2,  6,  6,  4,  0],\n",
              "       [ 0,  1, 14,  4,  2,  0],\n",
              "       [ 0,  8,  5,  5,  5,  0],\n",
              "       [ 0,  6,  1,  6, 10,  0],\n",
              "       [ 0,  0,  4,  2,  1, 26]])"
            ]
          },
          "metadata": {},
          "execution_count": 14
        }
      ],
      "source": [
        "confusion_mtx\n"
      ]
    },
    {
      "cell_type": "code",
      "execution_count": 15,
      "metadata": {
        "id": "hZeFNFxTbhA-",
        "colab": {
          "base_uri": "https://localhost:8080/"
        },
        "outputId": "fac847ee-a4b5-4b0e-97eb-e38336a868ad"
      },
      "outputs": [
        {
          "output_type": "execute_result",
          "data": {
            "text/plain": [
              "[2, 18, 21, 23, 23, 33]"
            ]
          },
          "metadata": {},
          "execution_count": 15
        }
      ],
      "source": [
        "class_totals = [sum(i) for i in confusion_mtx]\n",
        "class_totals"
      ]
    },
    {
      "cell_type": "code",
      "execution_count": 16,
      "metadata": {
        "id": "Ek7KoYxMblDV",
        "colab": {
          "base_uri": "https://localhost:8080/"
        },
        "outputId": "bf4faed3-abd5-4a77-8611-9cde69756290"
      },
      "outputs": [
        {
          "output_type": "execute_result",
          "data": {
            "text/plain": [
              "[2, 2, 14, 5, 10, 26]"
            ]
          },
          "metadata": {},
          "execution_count": 16
        }
      ],
      "source": [
        "class_correct_pred = [confusion_mtx[i][i] for i in range(6)]\n",
        "class_correct_pred"
      ]
    },
    {
      "cell_type": "code",
      "execution_count": 17,
      "metadata": {
        "id": "oRJywwp7bnh9",
        "colab": {
          "base_uri": "https://localhost:8080/"
        },
        "outputId": "db5c1a68-964c-4ca7-ae22-5fff1360eee2"
      },
      "outputs": [
        {
          "output_type": "execute_result",
          "data": {
            "text/plain": [
              "[1.0,\n",
              " 0.1111111111111111,\n",
              " 0.6666666666666666,\n",
              " 0.21739130434782608,\n",
              " 0.43478260869565216,\n",
              " 0.7878787878787878]"
            ]
          },
          "metadata": {},
          "execution_count": 17
        }
      ],
      "source": [
        "accuracies = [class_correct_pred[i]/class_totals[i] for i in range(6)]\n",
        "accuracies"
      ]
    },
    {
      "cell_type": "code",
      "execution_count": 18,
      "metadata": {
        "id": "tiyoKLXRbpge",
        "colab": {
          "base_uri": "https://localhost:8080/"
        },
        "outputId": "1da29de1-c2d4-4a1a-ceb1-a3e9f5bcd613"
      },
      "outputs": [
        {
          "output_type": "execute_result",
          "data": {
            "text/plain": [
              "[1.0,\n",
              " 0.1111111111111111,\n",
              " 0.6666666666666666,\n",
              " 0.21739130434782608,\n",
              " 0.43478260869565216,\n",
              " 0.7878787878787878]"
            ]
          },
          "metadata": {},
          "execution_count": 18
        }
      ],
      "source": [
        "class_totals = [sum(i) for i in confusion_mtx]\n",
        "class_totals\n",
        "\n",
        "tp = [confusion_mtx[i][i] for i in range(6)]\n",
        "tp\n",
        "\n",
        "sensetivity = [tp[i]/class_totals[i] for i in range(6)]\n",
        "sensetivity"
      ]
    },
    {
      "cell_type": "code",
      "execution_count": 19,
      "metadata": {
        "id": "bQhIA-q8btxe",
        "colab": {
          "base_uri": "https://localhost:8080/"
        },
        "outputId": "93bd648e-8c29-411d-9b19-f252165224bc"
      },
      "outputs": [
        {
          "output_type": "execute_result",
          "data": {
            "text/plain": [
              "[0, 15, 16, 18, 12, 0]"
            ]
          },
          "metadata": {},
          "execution_count": 19
        }
      ],
      "source": [
        "fp = [[sum(x) for x in zip(*confusion_mtx)][i] - tp[i] for i in range(6)]\n",
        "fp"
      ]
    },
    {
      "cell_type": "code",
      "execution_count": 20,
      "metadata": {
        "id": "UK_W59LXbvzG",
        "colab": {
          "base_uri": "https://localhost:8080/"
        },
        "outputId": "4c06a4b5-038f-4a6a-f7ce-efe051e836f5"
      },
      "outputs": [
        {
          "output_type": "stream",
          "name": "stdout",
          "text": [
            "120\n"
          ]
        },
        {
          "output_type": "execute_result",
          "data": {
            "text/plain": [
              "[1.0,\n",
              " 0.8728813559322034,\n",
              " 0.8490566037735849,\n",
              " 0.8434782608695652,\n",
              " 0.8909090909090909,\n",
              " 1.0]"
            ]
          },
          "metadata": {},
          "execution_count": 20
        }
      ],
      "source": [
        "sumall = sum(map(sum, confusion_mtx))\n",
        "print(sumall)\n",
        "tn = [sumall - [sum(x) for x in zip(*confusion_mtx)][i] for i in range(6)]\n",
        "tn\n",
        "specificity = [tn[i]/(tn[i]+fp[i]) for i in range(6)]\n",
        "specificity"
      ]
    },
    {
      "cell_type": "code",
      "execution_count": 21,
      "metadata": {
        "id": "buhU86_-qhxy",
        "colab": {
          "base_uri": "https://localhost:8080/"
        },
        "outputId": "86e2c11a-300a-4396-ce9d-1c6063052951"
      },
      "outputs": [
        {
          "output_type": "stream",
          "name": "stdout",
          "text": [
            "Epoch 1/250\n",
            "31/31 [==============================] - 4s 127ms/step - loss: 0.3369 - acc: 0.6351 - val_loss: 0.4405 - val_acc: 0.3884\n",
            "Epoch 2/250\n",
            "31/31 [==============================] - 4s 126ms/step - loss: 0.3314 - acc: 0.6362 - val_loss: 0.3712 - val_acc: 0.5124\n",
            "Epoch 3/250\n",
            "31/31 [==============================] - 4s 126ms/step - loss: 0.3270 - acc: 0.6424 - val_loss: 0.3766 - val_acc: 0.5455\n",
            "Epoch 4/250\n",
            "31/31 [==============================] - 4s 126ms/step - loss: 0.3226 - acc: 0.6455 - val_loss: 0.3612 - val_acc: 0.5207\n",
            "Epoch 5/250\n",
            "31/31 [==============================] - 4s 126ms/step - loss: 0.3214 - acc: 0.6570 - val_loss: 0.3556 - val_acc: 0.5289\n",
            "Epoch 6/250\n",
            "31/31 [==============================] - 4s 125ms/step - loss: 0.3136 - acc: 0.6632 - val_loss: 0.4008 - val_acc: 0.4959\n",
            "Epoch 7/250\n",
            "31/31 [==============================] - 4s 126ms/step - loss: 0.3404 - acc: 0.5956 - val_loss: 0.4138 - val_acc: 0.4711\n",
            "Epoch 8/250\n",
            "31/31 [==============================] - 4s 126ms/step - loss: 0.3251 - acc: 0.6206 - val_loss: 0.3993 - val_acc: 0.4793\n",
            "Epoch 9/250\n",
            "31/31 [==============================] - 4s 128ms/step - loss: 0.3184 - acc: 0.6445 - val_loss: 0.3785 - val_acc: 0.4793\n",
            "Epoch 10/250\n",
            "31/31 [==============================] - 4s 127ms/step - loss: 0.3148 - acc: 0.6435 - val_loss: 0.4757 - val_acc: 0.3884\n",
            "Epoch 11/250\n",
            "31/31 [==============================] - 4s 126ms/step - loss: 0.3166 - acc: 0.6247 - val_loss: 0.5422 - val_acc: 0.3719\n",
            "Epoch 12/250\n",
            "31/31 [==============================] - 4s 126ms/step - loss: 0.3176 - acc: 0.6247 - val_loss: 0.9285 - val_acc: 0.3306\n",
            "Epoch 13/250\n",
            "31/31 [==============================] - 4s 130ms/step - loss: 0.3079 - acc: 0.6590 - val_loss: 0.5213 - val_acc: 0.3554\n",
            "Epoch 14/250\n",
            "31/31 [==============================] - 4s 126ms/step - loss: 0.3036 - acc: 0.6611 - val_loss: 0.4408 - val_acc: 0.4215\n",
            "Epoch 15/250\n",
            "31/31 [==============================] - 4s 126ms/step - loss: 0.3001 - acc: 0.6622 - val_loss: 0.4020 - val_acc: 0.4298\n",
            "Epoch 16/250\n",
            "31/31 [==============================] - 4s 125ms/step - loss: 0.2978 - acc: 0.6601 - val_loss: 0.3371 - val_acc: 0.5455\n",
            "Epoch 17/250\n",
            "31/31 [==============================] - 4s 126ms/step - loss: 0.2954 - acc: 0.6611 - val_loss: 0.3417 - val_acc: 0.5124\n",
            "Epoch 18/250\n",
            "31/31 [==============================] - 4s 125ms/step - loss: 0.2944 - acc: 0.6642 - val_loss: 0.3301 - val_acc: 0.5620\n",
            "Epoch 19/250\n",
            "31/31 [==============================] - 4s 125ms/step - loss: 0.3065 - acc: 0.6455 - val_loss: 0.3654 - val_acc: 0.4876\n",
            "Epoch 20/250\n",
            "31/31 [==============================] - 4s 126ms/step - loss: 0.2943 - acc: 0.6674 - val_loss: 0.3535 - val_acc: 0.5041\n",
            "Epoch 21/250\n",
            "31/31 [==============================] - 4s 127ms/step - loss: 0.2958 - acc: 0.6559 - val_loss: 0.3355 - val_acc: 0.5372\n",
            "Epoch 22/250\n",
            "31/31 [==============================] - 4s 132ms/step - loss: 0.2880 - acc: 0.6663 - val_loss: 0.3453 - val_acc: 0.4876\n",
            "Epoch 23/250\n",
            "31/31 [==============================] - 4s 125ms/step - loss: 0.2813 - acc: 0.6902 - val_loss: 0.3288 - val_acc: 0.5207\n",
            "Epoch 24/250\n",
            "31/31 [==============================] - 4s 126ms/step - loss: 0.2774 - acc: 0.6881 - val_loss: 0.3328 - val_acc: 0.5289\n",
            "Epoch 25/250\n",
            "31/31 [==============================] - 4s 125ms/step - loss: 0.2789 - acc: 0.7027 - val_loss: 0.3468 - val_acc: 0.5289\n",
            "Epoch 26/250\n",
            "31/31 [==============================] - 4s 125ms/step - loss: 0.2733 - acc: 0.6975 - val_loss: 0.3383 - val_acc: 0.5455\n",
            "Epoch 27/250\n",
            "31/31 [==============================] - 4s 126ms/step - loss: 0.2729 - acc: 0.6944 - val_loss: 0.3278 - val_acc: 0.5455\n",
            "Epoch 28/250\n",
            "31/31 [==============================] - 4s 126ms/step - loss: 0.2754 - acc: 0.6881 - val_loss: 0.3283 - val_acc: 0.5537\n",
            "Epoch 29/250\n",
            "31/31 [==============================] - 4s 126ms/step - loss: 0.2717 - acc: 0.6923 - val_loss: 0.3939 - val_acc: 0.5041\n",
            "Epoch 30/250\n",
            "31/31 [==============================] - 4s 126ms/step - loss: 0.2665 - acc: 0.6913 - val_loss: 0.3273 - val_acc: 0.5124\n",
            "Epoch 31/250\n",
            "31/31 [==============================] - 4s 126ms/step - loss: 0.2643 - acc: 0.7037 - val_loss: 0.3444 - val_acc: 0.5455\n",
            "Epoch 32/250\n",
            "31/31 [==============================] - 4s 126ms/step - loss: 0.2622 - acc: 0.7017 - val_loss: 0.3246 - val_acc: 0.5537\n",
            "Epoch 33/250\n",
            "31/31 [==============================] - 4s 125ms/step - loss: 0.2611 - acc: 0.6965 - val_loss: 0.3163 - val_acc: 0.5455\n",
            "Epoch 34/250\n",
            "31/31 [==============================] - 4s 126ms/step - loss: 0.2620 - acc: 0.7017 - val_loss: 0.3212 - val_acc: 0.5620\n",
            "Epoch 35/250\n",
            "31/31 [==============================] - 4s 126ms/step - loss: 0.2564 - acc: 0.7204 - val_loss: 0.3169 - val_acc: 0.5455\n",
            "Epoch 36/250\n",
            "31/31 [==============================] - 4s 125ms/step - loss: 0.2548 - acc: 0.7079 - val_loss: 0.4166 - val_acc: 0.4298\n",
            "Epoch 37/250\n",
            "31/31 [==============================] - 4s 126ms/step - loss: 0.2556 - acc: 0.7110 - val_loss: 0.3621 - val_acc: 0.5289\n",
            "Epoch 38/250\n",
            "31/31 [==============================] - 4s 125ms/step - loss: 0.2521 - acc: 0.7183 - val_loss: 0.3534 - val_acc: 0.4793\n",
            "Epoch 39/250\n",
            "31/31 [==============================] - 4s 126ms/step - loss: 0.2880 - acc: 0.6455 - val_loss: 0.6174 - val_acc: 0.3802\n",
            "Epoch 40/250\n",
            "31/31 [==============================] - 4s 126ms/step - loss: 0.2657 - acc: 0.6746 - val_loss: 0.5913 - val_acc: 0.4050\n",
            "Epoch 41/250\n",
            "31/31 [==============================] - 4s 125ms/step - loss: 0.2576 - acc: 0.6881 - val_loss: 0.5298 - val_acc: 0.4298\n",
            "Epoch 42/250\n",
            "31/31 [==============================] - 4s 125ms/step - loss: 0.2557 - acc: 0.6954 - val_loss: 0.3640 - val_acc: 0.4463\n",
            "Epoch 43/250\n",
            "31/31 [==============================] - 4s 126ms/step - loss: 0.2627 - acc: 0.6871 - val_loss: 0.9949 - val_acc: 0.2727\n",
            "Epoch 44/250\n",
            "31/31 [==============================] - 4s 126ms/step - loss: 0.2514 - acc: 0.7027 - val_loss: 0.5523 - val_acc: 0.2893\n",
            "Epoch 45/250\n",
            "31/31 [==============================] - 4s 126ms/step - loss: 0.2530 - acc: 0.6944 - val_loss: 0.3672 - val_acc: 0.4463\n",
            "Epoch 46/250\n",
            "31/31 [==============================] - 4s 126ms/step - loss: 0.2522 - acc: 0.6954 - val_loss: 0.3494 - val_acc: 0.5041\n",
            "Epoch 47/250\n",
            "31/31 [==============================] - 4s 126ms/step - loss: 0.2849 - acc: 0.6403 - val_loss: 0.3963 - val_acc: 0.4711\n",
            "Epoch 48/250\n",
            "31/31 [==============================] - 4s 126ms/step - loss: 0.3374 - acc: 0.5353 - val_loss: 2.3876 - val_acc: 0.2893\n",
            "Epoch 49/250\n",
            "31/31 [==============================] - 4s 126ms/step - loss: 0.3126 - acc: 0.5572 - val_loss: 1.2204 - val_acc: 0.2893\n",
            "Epoch 50/250\n",
            "31/31 [==============================] - 4s 126ms/step - loss: 0.3090 - acc: 0.5707 - val_loss: 0.7169 - val_acc: 0.3884\n",
            "Epoch 51/250\n",
            "31/31 [==============================] - 4s 126ms/step - loss: 0.2933 - acc: 0.5998 - val_loss: 0.5371 - val_acc: 0.4132\n",
            "Epoch 52/250\n",
            "31/31 [==============================] - 4s 126ms/step - loss: 0.2895 - acc: 0.6185 - val_loss: 0.3960 - val_acc: 0.4876\n",
            "Epoch 53/250\n",
            "31/31 [==============================] - 4s 126ms/step - loss: 0.3113 - acc: 0.5551 - val_loss: 0.4154 - val_acc: 0.3967\n",
            "Epoch 54/250\n",
            "31/31 [==============================] - 4s 126ms/step - loss: 0.2976 - acc: 0.5967 - val_loss: 0.3787 - val_acc: 0.4380\n",
            "Epoch 55/250\n",
            "31/31 [==============================] - 4s 126ms/step - loss: 0.2918 - acc: 0.6050 - val_loss: 0.4137 - val_acc: 0.4050\n",
            "Epoch 56/250\n",
            "31/31 [==============================] - 4s 126ms/step - loss: 0.2844 - acc: 0.6102 - val_loss: 0.3806 - val_acc: 0.4711\n",
            "Epoch 57/250\n",
            "31/31 [==============================] - 4s 126ms/step - loss: 0.2849 - acc: 0.6185 - val_loss: 0.3464 - val_acc: 0.5207\n",
            "Epoch 58/250\n",
            "31/31 [==============================] - 4s 127ms/step - loss: 0.2797 - acc: 0.6133 - val_loss: 0.3478 - val_acc: 0.5702\n",
            "Epoch 59/250\n",
            "31/31 [==============================] - 4s 131ms/step - loss: 0.2754 - acc: 0.6414 - val_loss: 0.3421 - val_acc: 0.5207\n",
            "Epoch 60/250\n",
            "31/31 [==============================] - 4s 126ms/step - loss: 0.2714 - acc: 0.6424 - val_loss: 0.3393 - val_acc: 0.5124\n",
            "Epoch 61/250\n",
            "31/31 [==============================] - 4s 126ms/step - loss: 0.2687 - acc: 0.6393 - val_loss: 0.3193 - val_acc: 0.5620\n",
            "Epoch 62/250\n",
            "31/31 [==============================] - 4s 126ms/step - loss: 0.2680 - acc: 0.6466 - val_loss: 0.3247 - val_acc: 0.5455\n",
            "Epoch 63/250\n",
            "31/31 [==============================] - 4s 126ms/step - loss: 0.2690 - acc: 0.6590 - val_loss: 0.3134 - val_acc: 0.5041\n",
            "Epoch 64/250\n",
            "31/31 [==============================] - 4s 125ms/step - loss: 0.2668 - acc: 0.6466 - val_loss: 0.3529 - val_acc: 0.4876\n",
            "Epoch 65/250\n",
            "31/31 [==============================] - 4s 126ms/step - loss: 0.2616 - acc: 0.6684 - val_loss: 0.3172 - val_acc: 0.5537\n",
            "Epoch 66/250\n",
            "31/31 [==============================] - 4s 126ms/step - loss: 0.2625 - acc: 0.6746 - val_loss: 0.3223 - val_acc: 0.5289\n",
            "Epoch 67/250\n",
            "31/31 [==============================] - 4s 126ms/step - loss: 0.2572 - acc: 0.6850 - val_loss: 0.3300 - val_acc: 0.5041\n",
            "Epoch 68/250\n",
            "31/31 [==============================] - 4s 126ms/step - loss: 0.2547 - acc: 0.6632 - val_loss: 0.3122 - val_acc: 0.5702\n",
            "Epoch 69/250\n",
            "31/31 [==============================] - 4s 126ms/step - loss: 0.2555 - acc: 0.6590 - val_loss: 0.3204 - val_acc: 0.5207\n",
            "Epoch 70/250\n",
            "31/31 [==============================] - 4s 126ms/step - loss: 0.2678 - acc: 0.6538 - val_loss: 2.7108 - val_acc: 0.1653\n",
            "Epoch 71/250\n",
            "31/31 [==============================] - 4s 126ms/step - loss: 0.2689 - acc: 0.6383 - val_loss: 1.2380 - val_acc: 0.1818\n",
            "Epoch 72/250\n",
            "31/31 [==============================] - 4s 126ms/step - loss: 0.2610 - acc: 0.6611 - val_loss: 0.9068 - val_acc: 0.1983\n",
            "Epoch 73/250\n",
            "31/31 [==============================] - 4s 130ms/step - loss: 0.2539 - acc: 0.6830 - val_loss: 0.5573 - val_acc: 0.3140\n",
            "Epoch 74/250\n",
            "31/31 [==============================] - 4s 126ms/step - loss: 0.2544 - acc: 0.6570 - val_loss: 0.3371 - val_acc: 0.5785\n",
            "Epoch 75/250\n",
            "31/31 [==============================] - 4s 126ms/step - loss: 0.2619 - acc: 0.6570 - val_loss: 0.3966 - val_acc: 0.4959\n",
            "Epoch 76/250\n",
            "31/31 [==============================] - 4s 126ms/step - loss: 0.2608 - acc: 0.6497 - val_loss: 0.3136 - val_acc: 0.5372\n",
            "Epoch 77/250\n",
            "31/31 [==============================] - 4s 126ms/step - loss: 0.2520 - acc: 0.6840 - val_loss: 0.3151 - val_acc: 0.5537\n",
            "Epoch 78/250\n",
            "31/31 [==============================] - 4s 126ms/step - loss: 0.2489 - acc: 0.6933 - val_loss: 0.3172 - val_acc: 0.5455\n",
            "Epoch 79/250\n",
            "31/31 [==============================] - 4s 126ms/step - loss: 0.2523 - acc: 0.6809 - val_loss: 0.3217 - val_acc: 0.5868\n",
            "Epoch 80/250\n",
            "31/31 [==============================] - 4s 127ms/step - loss: 0.2525 - acc: 0.6663 - val_loss: 0.3247 - val_acc: 0.5537\n",
            "Epoch 81/250\n",
            "31/31 [==============================] - 4s 126ms/step - loss: 0.2410 - acc: 0.6975 - val_loss: 0.3302 - val_acc: 0.5207\n",
            "Epoch 82/250\n",
            "31/31 [==============================] - 4s 126ms/step - loss: 0.3174 - acc: 0.5541 - val_loss: 2.4002 - val_acc: 0.2727\n",
            "Epoch 83/250\n",
            "31/31 [==============================] - 4s 126ms/step - loss: 0.2940 - acc: 0.5530 - val_loss: 1.4646 - val_acc: 0.3058\n",
            "Epoch 84/250\n",
            "31/31 [==============================] - 4s 126ms/step - loss: 0.2742 - acc: 0.6102 - val_loss: 0.6316 - val_acc: 0.4215\n",
            "Epoch 85/250\n",
            "31/31 [==============================] - 4s 126ms/step - loss: 0.2681 - acc: 0.6164 - val_loss: 0.3596 - val_acc: 0.5207\n",
            "Epoch 86/250\n",
            "31/31 [==============================] - 4s 127ms/step - loss: 0.2663 - acc: 0.6185 - val_loss: 0.3221 - val_acc: 0.5702\n",
            "Epoch 87/250\n",
            "31/31 [==============================] - 4s 127ms/step - loss: 0.2803 - acc: 0.6123 - val_loss: 0.4060 - val_acc: 0.3554\n",
            "Epoch 88/250\n",
            "31/31 [==============================] - 4s 126ms/step - loss: 0.2634 - acc: 0.6424 - val_loss: 0.4048 - val_acc: 0.3884\n",
            "Epoch 89/250\n",
            "31/31 [==============================] - 4s 126ms/step - loss: 0.2677 - acc: 0.6320 - val_loss: 0.5614 - val_acc: 0.2727\n",
            "Epoch 90/250\n",
            "31/31 [==============================] - 4s 126ms/step - loss: 0.2659 - acc: 0.6268 - val_loss: 0.3861 - val_acc: 0.4132\n",
            "Epoch 91/250\n",
            "31/31 [==============================] - 4s 126ms/step - loss: 0.2598 - acc: 0.6559 - val_loss: 0.3893 - val_acc: 0.3884\n",
            "Epoch 92/250\n",
            "31/31 [==============================] - 4s 126ms/step - loss: 0.2630 - acc: 0.6383 - val_loss: 0.4168 - val_acc: 0.3719\n",
            "Epoch 93/250\n",
            "31/31 [==============================] - 4s 126ms/step - loss: 0.2553 - acc: 0.6476 - val_loss: 0.4043 - val_acc: 0.4050\n",
            "Epoch 94/250\n",
            "31/31 [==============================] - 4s 126ms/step - loss: 0.2503 - acc: 0.6694 - val_loss: 0.3770 - val_acc: 0.4050\n",
            "Epoch 95/250\n",
            "31/31 [==============================] - 4s 125ms/step - loss: 0.2527 - acc: 0.6757 - val_loss: 0.3058 - val_acc: 0.5455\n",
            "Epoch 96/250\n",
            "31/31 [==============================] - 4s 126ms/step - loss: 0.3071 - acc: 0.5499 - val_loss: 0.7557 - val_acc: 0.4545\n",
            "Epoch 97/250\n",
            "31/31 [==============================] - 4s 126ms/step - loss: 0.2946 - acc: 0.5696 - val_loss: 0.3988 - val_acc: 0.4711\n",
            "Epoch 98/250\n",
            "31/31 [==============================] - 4s 126ms/step - loss: 0.2766 - acc: 0.6227 - val_loss: 0.3084 - val_acc: 0.5702\n",
            "Epoch 99/250\n",
            "31/31 [==============================] - 4s 126ms/step - loss: 0.2723 - acc: 0.6050 - val_loss: 0.3234 - val_acc: 0.5455\n",
            "Epoch 100/250\n",
            "31/31 [==============================] - 4s 126ms/step - loss: 0.2691 - acc: 0.6247 - val_loss: 0.3630 - val_acc: 0.4380\n",
            "Epoch 101/250\n",
            "31/31 [==============================] - 4s 126ms/step - loss: 0.2628 - acc: 0.6393 - val_loss: 0.3867 - val_acc: 0.3967\n",
            "Epoch 102/250\n",
            "31/31 [==============================] - 4s 126ms/step - loss: 0.2703 - acc: 0.6247 - val_loss: 0.3144 - val_acc: 0.5207\n",
            "Epoch 103/250\n",
            "31/31 [==============================] - 4s 126ms/step - loss: 0.2597 - acc: 0.6455 - val_loss: 0.3091 - val_acc: 0.5620\n",
            "Epoch 104/250\n",
            "31/31 [==============================] - 4s 126ms/step - loss: 0.2573 - acc: 0.6486 - val_loss: 0.3187 - val_acc: 0.5455\n",
            "Epoch 105/250\n",
            "31/31 [==============================] - 4s 126ms/step - loss: 0.2536 - acc: 0.6414 - val_loss: 0.3177 - val_acc: 0.5372\n",
            "Epoch 106/250\n",
            "31/31 [==============================] - 4s 126ms/step - loss: 0.2557 - acc: 0.6435 - val_loss: 0.3293 - val_acc: 0.5207\n",
            "Epoch 107/250\n",
            "31/31 [==============================] - 4s 126ms/step - loss: 0.2474 - acc: 0.6642 - val_loss: 0.3486 - val_acc: 0.4876\n",
            "Epoch 108/250\n",
            "31/31 [==============================] - 4s 129ms/step - loss: 0.2503 - acc: 0.6736 - val_loss: 0.3585 - val_acc: 0.4463\n",
            "Epoch 109/250\n",
            "31/31 [==============================] - 4s 126ms/step - loss: 0.2455 - acc: 0.6736 - val_loss: 0.3527 - val_acc: 0.4298\n",
            "Epoch 110/250\n",
            "31/31 [==============================] - 4s 126ms/step - loss: 0.2412 - acc: 0.6819 - val_loss: 0.3534 - val_acc: 0.4463\n",
            "Epoch 111/250\n",
            "31/31 [==============================] - 4s 125ms/step - loss: 0.2406 - acc: 0.6726 - val_loss: 0.3588 - val_acc: 0.4380\n",
            "Epoch 112/250\n",
            "31/31 [==============================] - 4s 126ms/step - loss: 0.2368 - acc: 0.6830 - val_loss: 0.3443 - val_acc: 0.4545\n",
            "Epoch 113/250\n",
            "31/31 [==============================] - 4s 126ms/step - loss: 0.2353 - acc: 0.6736 - val_loss: 0.3367 - val_acc: 0.4959\n",
            "Epoch 114/250\n",
            "31/31 [==============================] - 4s 126ms/step - loss: 0.2386 - acc: 0.6736 - val_loss: 0.3407 - val_acc: 0.4711\n",
            "Epoch 115/250\n",
            "31/31 [==============================] - 4s 125ms/step - loss: 0.2346 - acc: 0.6892 - val_loss: 0.3152 - val_acc: 0.5041\n",
            "Epoch 116/250\n",
            "31/31 [==============================] - 4s 126ms/step - loss: 0.2323 - acc: 0.6892 - val_loss: 0.3082 - val_acc: 0.5124\n",
            "Epoch 117/250\n",
            "31/31 [==============================] - 4s 126ms/step - loss: 0.2269 - acc: 0.7079 - val_loss: 0.2965 - val_acc: 0.5289\n",
            "Epoch 118/250\n",
            "31/31 [==============================] - 4s 125ms/step - loss: 0.2262 - acc: 0.7141 - val_loss: 0.3037 - val_acc: 0.5372\n",
            "Epoch 119/250\n",
            "31/31 [==============================] - 4s 125ms/step - loss: 0.2244 - acc: 0.7006 - val_loss: 0.3021 - val_acc: 0.5620\n",
            "Epoch 120/250\n",
            "31/31 [==============================] - 4s 125ms/step - loss: 0.2336 - acc: 0.6788 - val_loss: 0.3018 - val_acc: 0.5455\n",
            "Epoch 121/250\n",
            "31/31 [==============================] - 4s 126ms/step - loss: 0.2223 - acc: 0.7089 - val_loss: 0.3009 - val_acc: 0.5950\n",
            "Epoch 122/250\n",
            "31/31 [==============================] - 4s 126ms/step - loss: 0.2226 - acc: 0.7121 - val_loss: 0.3012 - val_acc: 0.5537\n",
            "Epoch 123/250\n",
            "31/31 [==============================] - 4s 126ms/step - loss: 0.2242 - acc: 0.7173 - val_loss: 0.2974 - val_acc: 0.5207\n",
            "Epoch 124/250\n",
            "31/31 [==============================] - 4s 126ms/step - loss: 0.2315 - acc: 0.6944 - val_loss: 0.3028 - val_acc: 0.5785\n",
            "Epoch 125/250\n",
            "31/31 [==============================] - 4s 126ms/step - loss: 0.2299 - acc: 0.6944 - val_loss: 0.3289 - val_acc: 0.5785\n",
            "Epoch 126/250\n",
            "31/31 [==============================] - 4s 126ms/step - loss: 0.2266 - acc: 0.6850 - val_loss: 0.3072 - val_acc: 0.5702\n",
            "Epoch 127/250\n",
            "31/31 [==============================] - 4s 126ms/step - loss: 0.2276 - acc: 0.7100 - val_loss: 0.3158 - val_acc: 0.5289\n",
            "Epoch 128/250\n",
            "31/31 [==============================] - 4s 126ms/step - loss: 0.2251 - acc: 0.7173 - val_loss: 0.2973 - val_acc: 0.5289\n",
            "Epoch 129/250\n",
            "31/31 [==============================] - 4s 126ms/step - loss: 0.2177 - acc: 0.7152 - val_loss: 0.3019 - val_acc: 0.4959\n",
            "Epoch 130/250\n",
            "31/31 [==============================] - 4s 126ms/step - loss: 0.2210 - acc: 0.7162 - val_loss: 0.2906 - val_acc: 0.5455\n",
            "Epoch 131/250\n",
            "31/31 [==============================] - 4s 126ms/step - loss: 0.2210 - acc: 0.7079 - val_loss: 0.3032 - val_acc: 0.5455\n",
            "Epoch 132/250\n",
            "31/31 [==============================] - 4s 126ms/step - loss: 0.2163 - acc: 0.7193 - val_loss: 0.3054 - val_acc: 0.5041\n",
            "Epoch 133/250\n",
            "31/31 [==============================] - 4s 126ms/step - loss: 0.2227 - acc: 0.6965 - val_loss: 0.3074 - val_acc: 0.5124\n",
            "Epoch 134/250\n",
            "31/31 [==============================] - 4s 126ms/step - loss: 0.2174 - acc: 0.7131 - val_loss: 0.2875 - val_acc: 0.5950\n",
            "Epoch 135/250\n",
            "31/31 [==============================] - 4s 126ms/step - loss: 0.2191 - acc: 0.7110 - val_loss: 0.2888 - val_acc: 0.5537\n",
            "Epoch 136/250\n",
            "31/31 [==============================] - 4s 126ms/step - loss: 0.2197 - acc: 0.7069 - val_loss: 0.2862 - val_acc: 0.5620\n",
            "Epoch 137/250\n",
            "31/31 [==============================] - 4s 126ms/step - loss: 0.2137 - acc: 0.7339 - val_loss: 0.2892 - val_acc: 0.5537\n",
            "Epoch 138/250\n",
            "31/31 [==============================] - 4s 126ms/step - loss: 0.2140 - acc: 0.7193 - val_loss: 0.2945 - val_acc: 0.5289\n",
            "Epoch 139/250\n",
            "31/31 [==============================] - 4s 127ms/step - loss: 0.2094 - acc: 0.7380 - val_loss: 0.2939 - val_acc: 0.5537\n",
            "Epoch 140/250\n",
            "31/31 [==============================] - 4s 126ms/step - loss: 0.2130 - acc: 0.7318 - val_loss: 0.2929 - val_acc: 0.5289\n",
            "Epoch 141/250\n",
            "31/31 [==============================] - 4s 126ms/step - loss: 0.2128 - acc: 0.7277 - val_loss: 0.2968 - val_acc: 0.5455\n",
            "Epoch 142/250\n",
            "31/31 [==============================] - 4s 126ms/step - loss: 0.2120 - acc: 0.7225 - val_loss: 0.2927 - val_acc: 0.5372\n",
            "Epoch 143/250\n",
            "31/31 [==============================] - 4s 126ms/step - loss: 0.2096 - acc: 0.7235 - val_loss: 0.2937 - val_acc: 0.5620\n",
            "Epoch 144/250\n",
            "31/31 [==============================] - 4s 126ms/step - loss: 0.2048 - acc: 0.7401 - val_loss: 0.2842 - val_acc: 0.5950\n",
            "Epoch 145/250\n",
            "31/31 [==============================] - 4s 126ms/step - loss: 0.2095 - acc: 0.7245 - val_loss: 0.2811 - val_acc: 0.5785\n",
            "Epoch 146/250\n",
            "31/31 [==============================] - 4s 126ms/step - loss: 0.2053 - acc: 0.7360 - val_loss: 0.2899 - val_acc: 0.5702\n",
            "Epoch 147/250\n",
            "31/31 [==============================] - 4s 130ms/step - loss: 0.2065 - acc: 0.7266 - val_loss: 0.2843 - val_acc: 0.5785\n",
            "Epoch 148/250\n",
            "31/31 [==============================] - 4s 127ms/step - loss: 0.2110 - acc: 0.7256 - val_loss: 0.2989 - val_acc: 0.5702\n",
            "Epoch 149/250\n",
            "31/31 [==============================] - 4s 126ms/step - loss: 0.2043 - acc: 0.7432 - val_loss: 0.2858 - val_acc: 0.6116\n",
            "Epoch 150/250\n",
            "31/31 [==============================] - 4s 130ms/step - loss: 0.2068 - acc: 0.7339 - val_loss: 0.3033 - val_acc: 0.5124\n",
            "Epoch 151/250\n",
            "31/31 [==============================] - 4s 126ms/step - loss: 0.2025 - acc: 0.7422 - val_loss: 0.2888 - val_acc: 0.5785\n",
            "Epoch 152/250\n",
            "31/31 [==============================] - 4s 126ms/step - loss: 0.1986 - acc: 0.7360 - val_loss: 0.2910 - val_acc: 0.5868\n",
            "Epoch 153/250\n",
            "31/31 [==============================] - 4s 126ms/step - loss: 0.2043 - acc: 0.7391 - val_loss: 0.3297 - val_acc: 0.4545\n",
            "Epoch 154/250\n",
            "31/31 [==============================] - 4s 126ms/step - loss: 0.2149 - acc: 0.7193 - val_loss: 0.3488 - val_acc: 0.5207\n",
            "Epoch 155/250\n",
            "31/31 [==============================] - 4s 126ms/step - loss: 0.2004 - acc: 0.7225 - val_loss: 0.3132 - val_acc: 0.5455\n",
            "Epoch 156/250\n",
            "31/31 [==============================] - 4s 126ms/step - loss: 0.2072 - acc: 0.7214 - val_loss: 0.3174 - val_acc: 0.5207\n",
            "Epoch 157/250\n",
            "31/31 [==============================] - 4s 128ms/step - loss: 0.2019 - acc: 0.7380 - val_loss: 0.2930 - val_acc: 0.5372\n",
            "Epoch 158/250\n",
            "31/31 [==============================] - 4s 132ms/step - loss: 0.2004 - acc: 0.7422 - val_loss: 0.2832 - val_acc: 0.5950\n",
            "Epoch 159/250\n",
            "31/31 [==============================] - 4s 127ms/step - loss: 0.1994 - acc: 0.7453 - val_loss: 0.2932 - val_acc: 0.5537\n",
            "Epoch 160/250\n",
            "31/31 [==============================] - 4s 126ms/step - loss: 0.1992 - acc: 0.7412 - val_loss: 0.2916 - val_acc: 0.5455\n",
            "Epoch 161/250\n",
            "31/31 [==============================] - 4s 127ms/step - loss: 0.1920 - acc: 0.7505 - val_loss: 0.2952 - val_acc: 0.5455\n",
            "Epoch 162/250\n",
            "31/31 [==============================] - 4s 131ms/step - loss: 0.1978 - acc: 0.7578 - val_loss: 0.3114 - val_acc: 0.5868\n",
            "Epoch 163/250\n",
            "31/31 [==============================] - 4s 127ms/step - loss: 0.1948 - acc: 0.7443 - val_loss: 0.2956 - val_acc: 0.5537\n",
            "Epoch 164/250\n",
            "31/31 [==============================] - 4s 127ms/step - loss: 0.1968 - acc: 0.7370 - val_loss: 0.3020 - val_acc: 0.5289\n",
            "Epoch 165/250\n",
            "31/31 [==============================] - 4s 127ms/step - loss: 0.2028 - acc: 0.7245 - val_loss: 0.3397 - val_acc: 0.4959\n",
            "Epoch 166/250\n",
            "31/31 [==============================] - 4s 126ms/step - loss: 0.2024 - acc: 0.7256 - val_loss: 0.3292 - val_acc: 0.5041\n",
            "Epoch 167/250\n",
            "31/31 [==============================] - 4s 126ms/step - loss: 0.2107 - acc: 0.7266 - val_loss: 0.4208 - val_acc: 0.4959\n",
            "Epoch 168/250\n",
            "31/31 [==============================] - 4s 126ms/step - loss: 0.2067 - acc: 0.7204 - val_loss: 0.2892 - val_acc: 0.5785\n",
            "Epoch 169/250\n",
            "31/31 [==============================] - 4s 126ms/step - loss: 0.2525 - acc: 0.6486 - val_loss: 0.4234 - val_acc: 0.4793\n",
            "Epoch 170/250\n",
            "31/31 [==============================] - 4s 130ms/step - loss: 0.2281 - acc: 0.6861 - val_loss: 0.3895 - val_acc: 0.4628\n",
            "Epoch 171/250\n",
            "31/31 [==============================] - 4s 126ms/step - loss: 0.2297 - acc: 0.7006 - val_loss: 0.3602 - val_acc: 0.4793\n",
            "Epoch 172/250\n",
            "31/31 [==============================] - 4s 126ms/step - loss: 0.2149 - acc: 0.7204 - val_loss: 0.3354 - val_acc: 0.5372\n",
            "Epoch 173/250\n",
            "31/31 [==============================] - 4s 126ms/step - loss: 0.2123 - acc: 0.7173 - val_loss: 0.3324 - val_acc: 0.5124\n",
            "Epoch 174/250\n",
            "31/31 [==============================] - 4s 126ms/step - loss: 0.2137 - acc: 0.7079 - val_loss: 0.3396 - val_acc: 0.5124\n",
            "Epoch 175/250\n",
            "31/31 [==============================] - 4s 126ms/step - loss: 0.2061 - acc: 0.7225 - val_loss: 0.3116 - val_acc: 0.5124\n",
            "Epoch 176/250\n",
            "31/31 [==============================] - 4s 127ms/step - loss: 0.2023 - acc: 0.7443 - val_loss: 0.3093 - val_acc: 0.5289\n",
            "Epoch 177/250\n",
            "31/31 [==============================] - 4s 126ms/step - loss: 0.2092 - acc: 0.7173 - val_loss: 0.3003 - val_acc: 0.5455\n",
            "Epoch 178/250\n",
            "31/31 [==============================] - 4s 126ms/step - loss: 0.2067 - acc: 0.7245 - val_loss: 0.2943 - val_acc: 0.5620\n",
            "Epoch 179/250\n",
            "31/31 [==============================] - 4s 126ms/step - loss: 0.1987 - acc: 0.7370 - val_loss: 0.2946 - val_acc: 0.5372\n",
            "Epoch 180/250\n",
            "31/31 [==============================] - 4s 126ms/step - loss: 0.2030 - acc: 0.7495 - val_loss: 0.3044 - val_acc: 0.5950\n",
            "Epoch 181/250\n",
            "31/31 [==============================] - 4s 126ms/step - loss: 0.1955 - acc: 0.7370 - val_loss: 0.2983 - val_acc: 0.5537\n",
            "Epoch 182/250\n",
            "31/31 [==============================] - 4s 126ms/step - loss: 0.1950 - acc: 0.7412 - val_loss: 0.2919 - val_acc: 0.6033\n",
            "Epoch 183/250\n",
            "31/31 [==============================] - 4s 127ms/step - loss: 0.1991 - acc: 0.7204 - val_loss: 0.2963 - val_acc: 0.5537\n",
            "Epoch 184/250\n",
            "31/31 [==============================] - 4s 127ms/step - loss: 0.1927 - acc: 0.7578 - val_loss: 0.2987 - val_acc: 0.5785\n",
            "Epoch 185/250\n",
            "31/31 [==============================] - 4s 127ms/step - loss: 0.1884 - acc: 0.7703 - val_loss: 0.2921 - val_acc: 0.5702\n",
            "Epoch 186/250\n",
            "31/31 [==============================] - 4s 126ms/step - loss: 0.1974 - acc: 0.7401 - val_loss: 0.2945 - val_acc: 0.5785\n",
            "Epoch 187/250\n",
            "31/31 [==============================] - 4s 127ms/step - loss: 0.1861 - acc: 0.7651 - val_loss: 0.3024 - val_acc: 0.5785\n",
            "Epoch 188/250\n",
            "31/31 [==============================] - 4s 126ms/step - loss: 0.1904 - acc: 0.7640 - val_loss: 0.3211 - val_acc: 0.5207\n",
            "Epoch 189/250\n",
            "31/31 [==============================] - 4s 126ms/step - loss: 0.1893 - acc: 0.7422 - val_loss: 0.2965 - val_acc: 0.5868\n",
            "Epoch 190/250\n",
            "31/31 [==============================] - 4s 126ms/step - loss: 0.1871 - acc: 0.7578 - val_loss: 0.2950 - val_acc: 0.5868\n",
            "Epoch 191/250\n",
            "31/31 [==============================] - 4s 126ms/step - loss: 0.1870 - acc: 0.7620 - val_loss: 0.2888 - val_acc: 0.6033\n",
            "Epoch 192/250\n",
            "31/31 [==============================] - 4s 125ms/step - loss: 0.1905 - acc: 0.7536 - val_loss: 0.2943 - val_acc: 0.5537\n",
            "Epoch 193/250\n",
            "31/31 [==============================] - 4s 126ms/step - loss: 0.1839 - acc: 0.7661 - val_loss: 0.3016 - val_acc: 0.5455\n",
            "Epoch 194/250\n",
            "31/31 [==============================] - 4s 126ms/step - loss: 0.1854 - acc: 0.7557 - val_loss: 0.3131 - val_acc: 0.5372\n",
            "Epoch 195/250\n",
            "31/31 [==============================] - 4s 126ms/step - loss: 0.1856 - acc: 0.7578 - val_loss: 0.3006 - val_acc: 0.5702\n",
            "Epoch 196/250\n",
            "31/31 [==============================] - 4s 126ms/step - loss: 0.1864 - acc: 0.7640 - val_loss: 0.2946 - val_acc: 0.5289\n",
            "Epoch 197/250\n",
            "31/31 [==============================] - 4s 126ms/step - loss: 0.1864 - acc: 0.7516 - val_loss: 0.2940 - val_acc: 0.5950\n",
            "Epoch 198/250\n",
            "31/31 [==============================] - 4s 126ms/step - loss: 0.1900 - acc: 0.7464 - val_loss: 0.3067 - val_acc: 0.5455\n",
            "Epoch 199/250\n",
            "31/31 [==============================] - 4s 126ms/step - loss: 0.1848 - acc: 0.7723 - val_loss: 0.2908 - val_acc: 0.5702\n",
            "Epoch 200/250\n",
            "31/31 [==============================] - 4s 126ms/step - loss: 0.1863 - acc: 0.7651 - val_loss: 0.2985 - val_acc: 0.5620\n",
            "Epoch 201/250\n",
            "31/31 [==============================] - 4s 126ms/step - loss: 0.1779 - acc: 0.7557 - val_loss: 0.2955 - val_acc: 0.6198\n",
            "Epoch 202/250\n",
            "31/31 [==============================] - 4s 126ms/step - loss: 0.1837 - acc: 0.7516 - val_loss: 0.4596 - val_acc: 0.4215\n",
            "Epoch 203/250\n",
            "31/31 [==============================] - 4s 126ms/step - loss: 0.3010 - acc: 0.5852 - val_loss: 0.5840 - val_acc: 0.2562\n",
            "Epoch 204/250\n",
            "31/31 [==============================] - 4s 127ms/step - loss: 0.2742 - acc: 0.5894 - val_loss: 0.5097 - val_acc: 0.3058\n",
            "Epoch 205/250\n",
            "31/31 [==============================] - 4s 127ms/step - loss: 0.2501 - acc: 0.6538 - val_loss: 0.5347 - val_acc: 0.3058\n",
            "Epoch 206/250\n",
            "31/31 [==============================] - 4s 127ms/step - loss: 0.2426 - acc: 0.6393 - val_loss: 0.3385 - val_acc: 0.4545\n",
            "Epoch 207/250\n",
            "31/31 [==============================] - 4s 133ms/step - loss: 0.2329 - acc: 0.6767 - val_loss: 0.2798 - val_acc: 0.5372\n",
            "Epoch 208/250\n",
            "31/31 [==============================] - 4s 127ms/step - loss: 0.2257 - acc: 0.6975 - val_loss: 0.3035 - val_acc: 0.5372\n",
            "Epoch 209/250\n",
            "31/31 [==============================] - 4s 133ms/step - loss: 0.2198 - acc: 0.7131 - val_loss: 0.3299 - val_acc: 0.5289\n",
            "Epoch 210/250\n",
            "31/31 [==============================] - 4s 135ms/step - loss: 0.2112 - acc: 0.7401 - val_loss: 0.3693 - val_acc: 0.5289\n",
            "Epoch 211/250\n",
            "31/31 [==============================] - 4s 127ms/step - loss: 0.2088 - acc: 0.7162 - val_loss: 0.2780 - val_acc: 0.5537\n",
            "Epoch 212/250\n",
            "31/31 [==============================] - 4s 126ms/step - loss: 0.2125 - acc: 0.7183 - val_loss: 0.3005 - val_acc: 0.5620\n",
            "Epoch 213/250\n",
            "31/31 [==============================] - 4s 126ms/step - loss: 0.2120 - acc: 0.7100 - val_loss: 0.3163 - val_acc: 0.5702\n",
            "Epoch 214/250\n",
            "31/31 [==============================] - 4s 126ms/step - loss: 0.2130 - acc: 0.7069 - val_loss: 0.2878 - val_acc: 0.5620\n",
            "Epoch 215/250\n",
            "31/31 [==============================] - 4s 126ms/step - loss: 0.2018 - acc: 0.7245 - val_loss: 0.2759 - val_acc: 0.5950\n",
            "Epoch 216/250\n",
            "31/31 [==============================] - 4s 127ms/step - loss: 0.2016 - acc: 0.7204 - val_loss: 0.2922 - val_acc: 0.5785\n",
            "Epoch 217/250\n",
            "31/31 [==============================] - 4s 126ms/step - loss: 0.2169 - acc: 0.7141 - val_loss: 0.5978 - val_acc: 0.3058\n",
            "Epoch 218/250\n",
            "31/31 [==============================] - 4s 126ms/step - loss: 0.2082 - acc: 0.7204 - val_loss: 0.4139 - val_acc: 0.4380\n",
            "Epoch 219/250\n",
            "31/31 [==============================] - 4s 126ms/step - loss: 0.2034 - acc: 0.7141 - val_loss: 0.3559 - val_acc: 0.4628\n",
            "Epoch 220/250\n",
            "31/31 [==============================] - 4s 126ms/step - loss: 0.1963 - acc: 0.7443 - val_loss: 0.3014 - val_acc: 0.5455\n",
            "Epoch 221/250\n",
            "31/31 [==============================] - 4s 126ms/step - loss: 0.2043 - acc: 0.7349 - val_loss: 0.2931 - val_acc: 0.5537\n",
            "Epoch 222/250\n",
            "31/31 [==============================] - 4s 127ms/step - loss: 0.1974 - acc: 0.7318 - val_loss: 0.2976 - val_acc: 0.5702\n",
            "Epoch 223/250\n",
            "31/31 [==============================] - 4s 127ms/step - loss: 0.1912 - acc: 0.7484 - val_loss: 0.2922 - val_acc: 0.5455\n",
            "Epoch 224/250\n",
            "31/31 [==============================] - 4s 127ms/step - loss: 0.1961 - acc: 0.7308 - val_loss: 0.2879 - val_acc: 0.5702\n",
            "Epoch 225/250\n",
            "31/31 [==============================] - 4s 131ms/step - loss: 0.1945 - acc: 0.7287 - val_loss: 0.2929 - val_acc: 0.5950\n",
            "Epoch 226/250\n",
            "31/31 [==============================] - 4s 127ms/step - loss: 0.1970 - acc: 0.7339 - val_loss: 0.2896 - val_acc: 0.5620\n",
            "Epoch 227/250\n",
            "31/31 [==============================] - 4s 127ms/step - loss: 0.1837 - acc: 0.7609 - val_loss: 0.2901 - val_acc: 0.6033\n",
            "Epoch 228/250\n",
            "31/31 [==============================] - 4s 127ms/step - loss: 0.1842 - acc: 0.7536 - val_loss: 0.3020 - val_acc: 0.5537\n",
            "Epoch 229/250\n",
            "31/31 [==============================] - 4s 127ms/step - loss: 0.1869 - acc: 0.7516 - val_loss: 0.3031 - val_acc: 0.5785\n",
            "Epoch 230/250\n",
            "31/31 [==============================] - 4s 130ms/step - loss: 0.1884 - acc: 0.7547 - val_loss: 0.2974 - val_acc: 0.5537\n",
            "Epoch 231/250\n",
            "31/31 [==============================] - 4s 127ms/step - loss: 0.1881 - acc: 0.7432 - val_loss: 0.3027 - val_acc: 0.5289\n",
            "Epoch 232/250\n",
            "31/31 [==============================] - 4s 127ms/step - loss: 0.1847 - acc: 0.7568 - val_loss: 0.2848 - val_acc: 0.6033\n",
            "Epoch 233/250\n",
            "31/31 [==============================] - 4s 127ms/step - loss: 0.1868 - acc: 0.7464 - val_loss: 0.2950 - val_acc: 0.5785\n",
            "Epoch 234/250\n",
            "31/31 [==============================] - 4s 127ms/step - loss: 0.1844 - acc: 0.7484 - val_loss: 0.2919 - val_acc: 0.5868\n",
            "Epoch 235/250\n",
            "31/31 [==============================] - 4s 126ms/step - loss: 0.1812 - acc: 0.7547 - val_loss: 0.2863 - val_acc: 0.5785\n",
            "Epoch 236/250\n",
            "31/31 [==============================] - 4s 127ms/step - loss: 0.1847 - acc: 0.7464 - val_loss: 0.2864 - val_acc: 0.6116\n",
            "Epoch 237/250\n",
            "31/31 [==============================] - 4s 130ms/step - loss: 0.1796 - acc: 0.7630 - val_loss: 0.2901 - val_acc: 0.5702\n",
            "Epoch 238/250\n",
            "31/31 [==============================] - 4s 126ms/step - loss: 0.1810 - acc: 0.7620 - val_loss: 0.2965 - val_acc: 0.5785\n",
            "Epoch 239/250\n",
            "31/31 [==============================] - 4s 126ms/step - loss: 0.1873 - acc: 0.7547 - val_loss: 0.2986 - val_acc: 0.6116\n",
            "Epoch 240/250\n",
            "31/31 [==============================] - 4s 127ms/step - loss: 0.1833 - acc: 0.7568 - val_loss: 0.2891 - val_acc: 0.5372\n",
            "Epoch 241/250\n",
            "31/31 [==============================] - 4s 127ms/step - loss: 0.1798 - acc: 0.7568 - val_loss: 0.2974 - val_acc: 0.5785\n",
            "Epoch 242/250\n",
            "31/31 [==============================] - 4s 127ms/step - loss: 0.1823 - acc: 0.7464 - val_loss: 0.2956 - val_acc: 0.6033\n",
            "Epoch 243/250\n",
            "31/31 [==============================] - 4s 127ms/step - loss: 0.1783 - acc: 0.7682 - val_loss: 0.2929 - val_acc: 0.5868\n",
            "Epoch 244/250\n",
            "31/31 [==============================] - 4s 126ms/step - loss: 0.1783 - acc: 0.7609 - val_loss: 0.3064 - val_acc: 0.5455\n",
            "Epoch 245/250\n",
            "31/31 [==============================] - 4s 126ms/step - loss: 0.1808 - acc: 0.7484 - val_loss: 0.2887 - val_acc: 0.6116\n",
            "Epoch 246/250\n",
            "31/31 [==============================] - 4s 127ms/step - loss: 0.1769 - acc: 0.7713 - val_loss: 0.3040 - val_acc: 0.5372\n",
            "Epoch 247/250\n",
            "31/31 [==============================] - 4s 127ms/step - loss: 0.1844 - acc: 0.7453 - val_loss: 0.3262 - val_acc: 0.5455\n",
            "Epoch 248/250\n",
            "31/31 [==============================] - 4s 127ms/step - loss: 0.1799 - acc: 0.7557 - val_loss: 0.3054 - val_acc: 0.5537\n",
            "Epoch 249/250\n",
            "31/31 [==============================] - 4s 127ms/step - loss: 0.1773 - acc: 0.7703 - val_loss: 0.3027 - val_acc: 0.5868\n",
            "Epoch 250/250\n",
            "31/31 [==============================] - 4s 127ms/step - loss: 0.1755 - acc: 0.7609 - val_loss: 0.2963 - val_acc: 0.5620\n"
          ]
        }
      ],
      "source": [
        "train_datagen = ImageDataGenerator(rescale=1. / 255, \n",
        "                                   rotation_range=15,\n",
        "                                   width_shift_range=0.1,\n",
        "                                   height_shift_range=0.1,\n",
        "                                   shear_range=0.01,\n",
        "                                   zoom_range=[0.9, 1.25],\n",
        "                                   horizontal_flip=True,\n",
        "                                   vertical_flip=False,\n",
        "                                   fill_mode='reflect')\n",
        "valtest_datagen = ImageDataGenerator(rescale=1. / 255)\n",
        "\n",
        "train_generator = train_datagen.flow(np.array(X_train), y_train, batch_size=batch_size)\n",
        "validation_generator = valtest_datagen.flow(np.array(X_val), y_val, batch_size=batch_size)\n",
        "test_generator = valtest_datagen.flow(np.array(X_test), y_test, batch_size=batch_size)\n",
        "\n",
        "history = model.fit(np.array(X_train), np.array(y_train), validation_data=(np.array(X_val), np.array(y_val)), epochs=250)\n"
      ]
    },
    {
      "cell_type": "code",
      "execution_count": 22,
      "metadata": {
        "id": "b7zFh3yBq2Rg",
        "colab": {
          "base_uri": "https://localhost:8080/",
          "height": 896
        },
        "outputId": "09a074cf-e68d-4877-b6fd-a1d5ebefce76"
      },
      "outputs": [
        {
          "output_type": "display_data",
          "data": {
            "text/plain": [
              "<Figure size 432x288 with 1 Axes>"
            ],
            "image/png": "[encoded data removed]"
          },
          "metadata": {
            "needs_background": "light"
          }
        },
        {
          "output_type": "display_data",
          "data": {
            "text/plain": [
              "<Figure size 432x288 with 1 Axes>"
            ],
            "image/png": "[encoded data removed]"
          },
          "metadata": {
            "needs_background": "light"
          }
        },
        {
          "output_type": "display_data",
          "data": {
            "text/plain": [
              "<Figure size 360x360 with 2 Axes>"
            ],
            "image/png": "[encoded data removed]"
          },
          "metadata": {
            "needs_background": "light"
          }
        }
      ],
      "source": [
        "acc = history.history['acc']\n",
        "val_acc = history.history['val_acc']\n",
        "loss = history.history['loss']\n",
        "val_loss = history.history['val_loss']\n",
        "epochs = range(1, len(acc) + 1)\n",
        "plt.plot(epochs, acc, 'blue', label='Training acc')\n",
        "plt.plot(epochs, val_acc, 'red', label='Validation acc')\n",
        "plt.title('Training and validation accuracy')\n",
        "plt.legend()\n",
        "plt.savefig(\"/content/drive/MyDrive/Datasets - Copy/trvlAcc1.png\")\n",
        "plt.show()\n",
        "\n",
        "plt.figure()\n",
        "plt.plot(epochs, loss, 'blue', label='Training loss')\n",
        "plt.plot(epochs, val_loss, 'red', label='Validation loss')\n",
        "plt.title('Training and validation loss')\n",
        "plt.legend()\n",
        "plt.savefig(\"/content/drive/MyDrive/Datasets - Copy/trvlLoss1.png\")\n",
        "plt.show()\n",
        "\n",
        "import sklearn\n",
        "import itertools\n",
        "from sklearn.metrics import confusion_matrix\n",
        "dict_characters = {0: 'Clear', 1: 'Blurry'}\n",
        "def plot_confusion_matrix(cm, classes,\n",
        "                          normalize=False,\n",
        "                          title='Confusion matrix',\n",
        "                          cmap=plt.cm.Blues):\n",
        "    plt.figure(figsize = (5,5))\n",
        "    plt.imshow(cm, interpolation='nearest', cmap=cmap)\n",
        "    plt.title(title)\n",
        "    plt.colorbar()\n",
        "    tick_marks = np.arange(len(classes))\n",
        "    plt.xticks(tick_marks, classes, rotation=90)\n",
        "    plt.yticks(tick_marks, classes)\n",
        "    if normalize:\n",
        "        cm = cm.astype('float') / cm.sum(axis=1)[:, np.newaxis]\n",
        "    thresh = cm.max() / 2.\n",
        "    for i, j in itertools.product(range(cm.shape[0]), range(cm.shape[1])):\n",
        "        plt.text(j, i, cm[i, j],\n",
        "                 horizontalalignment=\"center\",\n",
        "                 color=\"white\" if cm[i, j] > thresh else \"black\")\n",
        "    plt.tight_layout()\n",
        "    plt.ylabel('True label')\n",
        "    plt.xlabel('Predicted label')\n",
        "    plt.savefig(\"/content/drive/MyDrive/Datasets - Copy/cm-\"+title+\".png\")\n",
        "    plt.show()\n",
        "\n",
        "    \n",
        "a=np.array(X_test)\n",
        "b=np.array(y_test)\n",
        "Y_pred = model.predict(a)\n",
        "\n",
        "\n",
        "Y_pred_classes = np.argmax(Y_pred,axis=1)\n",
        "confusion_mtx = confusion_matrix(np.argmax(b,axis=1), Y_pred_classes) \n",
        "plot_confusion_matrix(confusion_mtx, classes = list(image_classes))"
      ]
    },
    {
      "cell_type": "code",
      "execution_count": 23,
      "metadata": {
        "id": "zYxKO_NyxXA2",
        "colab": {
          "base_uri": "https://localhost:8080/"
        },
        "outputId": "d4643cbe-ca2d-400f-a476-7a8ec7721b23"
      },
      "outputs": [
        {
          "output_type": "execute_result",
          "data": {
            "text/plain": [
              "0.55"
            ]
          },
          "metadata": {},
          "execution_count": 23
        }
      ],
      "source": [
        "sklearn.metrics.accuracy_score(Y_pred_classes,np.argmax(b,axis=1))\n"
      ]
    },
    {
      "cell_type": "code",
      "execution_count": 24,
      "metadata": {
        "id": "FtSjiZ4pxcAE",
        "colab": {
          "base_uri": "https://localhost:8080/"
        },
        "outputId": "65f4e993-f211-42ea-a436-dfe45723260f"
      },
      "outputs": [
        {
          "output_type": "execute_result",
          "data": {
            "text/plain": [
              "array([[ 1,  1,  0,  0,  0,  0],\n",
              "       [ 0,  2,  6,  6,  4,  0],\n",
              "       [ 0,  5, 13,  3,  0,  0],\n",
              "       [ 0,  3,  6, 11,  3,  0],\n",
              "       [ 0,  3,  1,  9, 10,  0],\n",
              "       [ 0,  1,  0,  1,  2, 29]])"
            ]
          },
          "metadata": {},
          "execution_count": 24
        }
      ],
      "source": [
        "confusion_mtx\n"
      ]
    },
    {
      "cell_type": "code",
      "execution_count": 25,
      "metadata": {
        "id": "yF5RniLdxjb1",
        "colab": {
          "base_uri": "https://localhost:8080/"
        },
        "outputId": "503645c0-9625-4f74-c581-94340f4d569a"
      },
      "outputs": [
        {
          "output_type": "execute_result",
          "data": {
            "text/plain": [
              "[1.0,\n",
              " 0.1111111111111111,\n",
              " 0.6666666666666666,\n",
              " 0.21739130434782608,\n",
              " 0.43478260869565216,\n",
              " 0.7878787878787878]"
            ]
          },
          "metadata": {},
          "execution_count": 25
        }
      ],
      "source": [
        "accuracies = [class_correct_pred[i]/class_totals[i] for i in range(6)]\n",
        "accuracies"
      ]
    },
    {
      "cell_type": "code",
      "execution_count": 26,
      "metadata": {
        "id": "Hjhfdjpmxtre",
        "colab": {
          "base_uri": "https://localhost:8080/"
        },
        "outputId": "9bff82bd-0e8a-47e6-d1bb-891e5dea8ce8"
      },
      "outputs": [
        {
          "output_type": "stream",
          "name": "stdout",
          "text": [
            "120\n"
          ]
        },
        {
          "output_type": "execute_result",
          "data": {
            "text/plain": [
              "[1.0, 0.875, 0.8545454545454545, 0.8333333333333334, 0.8938053097345132, 1.0]"
            ]
          },
          "metadata": {},
          "execution_count": 26
        }
      ],
      "source": [
        "sumall = sum(map(sum, confusion_mtx))\n",
        "print(sumall)\n",
        "tn = [sumall - [sum(x) for x in zip(*confusion_mtx)][i] for i in range(6)]\n",
        "tn\n",
        "specificity = [tn[i]/(tn[i]+fp[i]) for i in range(6)]\n",
        "specificity"
      ]
    }
  ],
  "metadata": {
    "colab": {
      "collapsed_sections": [],
      "provenance": [],
      "mount_file_id": "1o0DJ_DSgRB-g7LO2gJK0jPSy6KnDXEcp",
      "authorship_tag": "ABX9TyMfyf3fIJCbunR6B03LAgps",
      "include_colab_link": true
    },
    "kernelspec": {
      "display_name": "Python 3",
      "name": "python3"
    },
    "language_info": {
      "name": "python"
    },
    "accelerator": "GPU"
  },
  "nbformat": 4,
  "nbformat_minor": 0
}