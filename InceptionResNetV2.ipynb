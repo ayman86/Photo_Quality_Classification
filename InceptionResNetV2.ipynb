{
  "cells": [
    {
      "cell_type": "markdown",
      "metadata": {
        "id": "view-in-github",
        "colab_type": "text"
      },
      "source": [
        "<a href=\"https://colab.research.google.com/github/ayman86/Photo_Quality_Classification/blob/main/InceptionResNetV2.ipynb\" target=\"_parent\"><img src=\"https://colab.research.google.com/assets/colab-badge.svg\" alt=\"Open In Colab\"/></a>"
      ]
    },
    {
      "cell_type": "code",
      "execution_count": null,
      "metadata": {
        "id": "qWKhURmqANPw"
      },
      "outputs": [],
      "source": [
        "import os\n",
        "import random\n",
        "import numpy as np\n",
        "import matplotlib.pylab as plt\n",
        "from tensorflow.keras import backend as K\n",
        "from tensorflow.keras.models import Sequential\n",
        "from sklearn.model_selection import train_test_split\n",
        "from tensorflow.keras.preprocessing.image import ImageDataGenerator"
      ]
    },
    {
      "cell_type": "code",
      "execution_count": null,
      "metadata": {
        "id": "qHlujpENAkLd",
        "colab": {
          "base_uri": "https://localhost:8080/"
        },
        "outputId": "d755b2ca-6852-435f-fdd1-761d7cfe8fc6"
      },
      "outputs": [
        {
          "output_type": "stream",
          "name": "stdout",
          "text": [
            "['bad_lighting', 'fastfading', 'gblur', 'jp2k', 'jpeg', 'refimgs']\n",
            "Adding Images: Processing  bad_lighting\n",
            "Processing  fastfading\n",
            "Processing  gblur\n",
            "Processing  jp2k\n",
            "Processing  jpeg\n",
            "Processing  refimgs\n",
            "\n"
          ]
        }
      ],
      "source": [
        "# ./input/\n",
        "PATH = os.path.abspath(os.path.join('.', 'databaserelease2'))\n",
        "\n",
        "# ./input/sample/images/\n",
        "SOURCE_IMAGES = '/content/drive/MyDrive/Datasets - Copy/First Dataset'#os.path.join(PATH, \"sample\", \"images\")\n",
        "x2,y2,image_classes = (SOURCE_IMAGES)\n"
      ]
    },
    {
      "cell_type": "code",
      "execution_count": null,
      "metadata": {
        "id": "Ge9UqC_fAzAn",
        "colab": {
          "base_uri": "https://localhost:8080/"
        },
        "outputId": "6cf8e6d1-1f86-4bea-f524-dfed7018e5df"
      },
      "outputs": [
        {
          "output_type": "stream",
          "name": "stdout",
          "text": [
            "(962, 256, 256, 3)\n",
            "(121, 256, 256, 3)\n",
            "(120, 256, 256, 3)\n"
          ]
        }
      ],
      "source": [
        "# First split the data in two sets, 80% for training, 20% for Val/Test)\n",
        "X_train, X_valtest, y_train, y_valtest = train_test_split(x2,y2, test_size=0.20, random_state=1, stratify=y2)\n",
        "\n",
        "# Second split the 40% into validation and test sets\n",
        "X_test, X_val, y_test, y_val = train_test_split(X_valtest, y_valtest, test_size=0.5, random_state=1, stratify=y_valtest)\n",
        "\n",
        "print(np.array(X_train).shape)\n",
        "print(np.array(X_val).shape)\n",
        "print(np.array(X_test).shape)"
      ]
    },
    {
      "cell_type": "code",
      "execution_count": null,
      "metadata": {
        "id": "vP9bfmPbA02v"
      },
      "outputs": [],
      "source": [
        "num_classes=6\n",
        "\n",
        "K.image_data_format()\n",
        "\n",
        "img_width, img_height = 256, 256\n",
        "nb_train_samples = len(X_train)\n",
        "nb_validation_samples = len(X_val)\n",
        "epochs = 100\n",
        "batch_size = 16"
      ]
    },
    {
      "cell_type": "code",
      "execution_count": null,
      "metadata": {
        "id": "f9chEpMRA3d_",
        "colab": {
          "base_uri": "https://localhost:8080/"
        },
        "outputId": "cfd531ee-c372-492c-a3c5-336f768c1aea"
      },
      "outputs": [
        {
          "output_type": "stream",
          "name": "stdout",
          "text": [
            "Downloading data from https://storage.googleapis.com/tensorflow/keras-applications/inception_resnet_v2/inception_resnet_v2_weights_tf_dim_ordering_tf_kernels_notop.h5\n",
            "219062272/219055592 [==============================] - 1s 0us/step\n",
            "219070464/219055592 [==============================] - 1s 0us/step\n",
            "Model: \"sequential\"\n",
            "_________________________________________________________________\n",
            " Layer (type)                Output Shape              Param #   \n",
            "=================================================================\n",
            " inception_resnet_v2 (Functi  (None, 1536)             54336736  \n",
            " onal)                                                           \n",
            "                                                                 \n",
            " dense (Dense)               (None, 6)                 9222      \n",
            "                                                                 \n",
            "=================================================================\n",
            "Total params: 54,345,958\n",
            "Trainable params: 54,285,414\n",
            "Non-trainable params: 60,544\n",
            "_________________________________________________________________\n"
          ]
        }
      ],
      "source": [
        "input_shape = (256,256,3)\n",
        "\n",
        "model=Sequential()\n",
        "model.add(InceptionResNetV2(include_top=False,pooling='avg',weights='imagenet'))\n",
        "model.add(Dense(num_classes,activation='softmax'))\n",
        "\n",
        "model.summary()\n",
        "\n"
      ]
    },
    {
      "cell_type": "code",
      "execution_count": null,
      "metadata": {
        "id": "3YqNyGGOA5lH",
        "colab": {
          "base_uri": "https://localhost:8080/"
        },
        "outputId": "071bf4ec-a57b-4aab-cd75-f7c17fcb0fae"
      },
      "outputs": [
        {
          "output_type": "stream",
          "name": "stderr",
          "text": [
            "/usr/local/lib/python3.7/dist-packages/keras/optimizer_v2/adam.py:105: UserWarning: The `lr` argument is deprecated, use `learning_rate` instead.\n",
            "  super(Adam, self).__init__(name, **kwargs)\n"
          ]
        }
      ],
      "source": [
        "model.compile(\n",
        "\tloss='binary_crossentropy',\n",
        "\toptimizer=optimizers.Adam(lr=0.001, beta_1=0.9, beta_2=0.999, epsilon=1e-08, decay=0.0),\n",
        "\tmetrics=['acc'])"
      ]
    },
    {
      "cell_type": "code",
      "execution_count": null,
      "metadata": {
        "id": "S-YXtkrRA7bP",
        "colab": {
          "base_uri": "https://localhost:8080/"
        },
        "outputId": "7f01a374-65b2-4a27-db4d-cdc165fedbd1"
      },
      "outputs": [
        {
          "output_type": "stream",
          "name": "stdout",
          "text": [
            "Epoch 1/50\n",
            "31/31 [==============================] - 60s 877ms/step - loss: 0.3747 - acc: 0.4407 - val_loss: 9.5652 - val_acc: 0.0165\n",
            "Epoch 2/50\n",
            "31/31 [==============================] - 22s 700ms/step - loss: 0.2700 - acc: 0.5800 - val_loss: 54.4409 - val_acc: 0.0165\n",
            "Epoch 3/50\n",
            "31/31 [==============================] - 22s 717ms/step - loss: 0.2391 - acc: 0.6164 - val_loss: 0.7302 - val_acc: 0.3140\n",
            "Epoch 4/50\n",
            "31/31 [==============================] - 23s 735ms/step - loss: 0.2282 - acc: 0.6518 - val_loss: 1.6382 - val_acc: 0.4132\n",
            "Epoch 5/50\n",
            "31/31 [==============================] - 23s 754ms/step - loss: 0.2118 - acc: 0.6788 - val_loss: 0.8168 - val_acc: 0.3306\n",
            "Epoch 6/50\n",
            "31/31 [==============================] - 23s 745ms/step - loss: 0.2154 - acc: 0.6757 - val_loss: 1.7426 - val_acc: 0.2893\n",
            "Epoch 7/50\n",
            "31/31 [==============================] - 23s 753ms/step - loss: 0.2052 - acc: 0.7017 - val_loss: 4.2622 - val_acc: 0.3719\n",
            "Epoch 8/50\n",
            "31/31 [==============================] - 24s 760ms/step - loss: 0.2071 - acc: 0.6788 - val_loss: 0.4197 - val_acc: 0.5785\n",
            "Epoch 9/50\n",
            "31/31 [==============================] - 23s 748ms/step - loss: 0.1883 - acc: 0.7141 - val_loss: 0.9655 - val_acc: 0.4959\n",
            "Epoch 10/50\n",
            "31/31 [==============================] - 23s 745ms/step - loss: 0.1931 - acc: 0.7037 - val_loss: 0.2784 - val_acc: 0.5620\n",
            "Epoch 11/50\n",
            "31/31 [==============================] - 23s 743ms/step - loss: 0.1956 - acc: 0.7058 - val_loss: 0.3169 - val_acc: 0.6116\n",
            "Epoch 12/50\n",
            "31/31 [==============================] - 23s 744ms/step - loss: 0.1944 - acc: 0.7069 - val_loss: 0.2179 - val_acc: 0.6281\n",
            "Epoch 13/50\n",
            "31/31 [==============================] - 23s 745ms/step - loss: 0.1823 - acc: 0.7277 - val_loss: 0.2058 - val_acc: 0.6612\n",
            "Epoch 14/50\n",
            "31/31 [==============================] - 24s 760ms/step - loss: 0.2168 - acc: 0.6944 - val_loss: 0.7543 - val_acc: 0.1983\n",
            "Epoch 15/50\n",
            "31/31 [==============================] - 24s 761ms/step - loss: 0.2051 - acc: 0.7048 - val_loss: 8.7009 - val_acc: 0.5289\n",
            "Epoch 16/50\n",
            "31/31 [==============================] - 24s 760ms/step - loss: 0.1801 - acc: 0.7277 - val_loss: 0.2805 - val_acc: 0.6033\n",
            "Epoch 17/50\n",
            "31/31 [==============================] - 23s 746ms/step - loss: 0.1978 - acc: 0.7100 - val_loss: 0.4391 - val_acc: 0.5289\n",
            "Epoch 18/50\n",
            "31/31 [==============================] - 23s 745ms/step - loss: 0.1776 - acc: 0.7058 - val_loss: 0.2716 - val_acc: 0.6860\n",
            "Epoch 19/50\n",
            "31/31 [==============================] - 23s 744ms/step - loss: 0.1746 - acc: 0.7370 - val_loss: 1.2348 - val_acc: 0.6446\n",
            "Epoch 20/50\n",
            "31/31 [==============================] - 23s 744ms/step - loss: 0.1665 - acc: 0.7557 - val_loss: 0.2813 - val_acc: 0.6364\n",
            "Epoch 21/50\n",
            "31/31 [==============================] - 23s 746ms/step - loss: 0.1687 - acc: 0.7380 - val_loss: 0.9150 - val_acc: 0.4628\n",
            "Epoch 22/50\n",
            "31/31 [==============================] - 23s 745ms/step - loss: 0.1779 - acc: 0.7245 - val_loss: 0.5429 - val_acc: 0.5124\n",
            "Epoch 23/50\n",
            "31/31 [==============================] - 23s 743ms/step - loss: 0.1907 - acc: 0.7193 - val_loss: 1.2042 - val_acc: 0.4545\n",
            "Epoch 24/50\n",
            "31/31 [==============================] - 23s 742ms/step - loss: 0.1871 - acc: 0.7245 - val_loss: 0.5708 - val_acc: 0.4215\n",
            "Epoch 25/50\n",
            "31/31 [==============================] - 23s 743ms/step - loss: 0.1684 - acc: 0.7349 - val_loss: 0.3097 - val_acc: 0.5785\n",
            "Epoch 26/50\n",
            "31/31 [==============================] - 23s 759ms/step - loss: 0.1629 - acc: 0.7557 - val_loss: 0.1825 - val_acc: 0.7025\n",
            "Epoch 27/50\n",
            "31/31 [==============================] - 23s 744ms/step - loss: 0.1661 - acc: 0.7370 - val_loss: 0.1897 - val_acc: 0.6860\n",
            "Epoch 28/50\n",
            "31/31 [==============================] - 23s 745ms/step - loss: 0.1652 - acc: 0.7443 - val_loss: 0.2041 - val_acc: 0.6694\n",
            "Epoch 29/50\n",
            "31/31 [==============================] - 23s 746ms/step - loss: 0.1511 - acc: 0.7682 - val_loss: 0.2911 - val_acc: 0.6529\n",
            "Epoch 30/50\n",
            "31/31 [==============================] - 23s 743ms/step - loss: 0.1652 - acc: 0.7630 - val_loss: 0.4544 - val_acc: 0.6116\n",
            "Epoch 31/50\n",
            "31/31 [==============================] - 23s 743ms/step - loss: 0.1603 - acc: 0.7599 - val_loss: 0.2135 - val_acc: 0.7190\n",
            "Epoch 32/50\n",
            "31/31 [==============================] - 23s 742ms/step - loss: 0.1596 - acc: 0.7526 - val_loss: 0.4176 - val_acc: 0.5785\n",
            "Epoch 33/50\n",
            "31/31 [==============================] - 23s 757ms/step - loss: 0.1623 - acc: 0.7380 - val_loss: 0.2280 - val_acc: 0.6942\n",
            "Epoch 34/50\n",
            "31/31 [==============================] - 23s 742ms/step - loss: 0.1506 - acc: 0.7620 - val_loss: 0.2958 - val_acc: 0.6446\n",
            "Epoch 35/50\n",
            "31/31 [==============================] - 23s 742ms/step - loss: 0.1503 - acc: 0.7640 - val_loss: 0.1990 - val_acc: 0.7190\n",
            "Epoch 36/50\n",
            "31/31 [==============================] - 23s 758ms/step - loss: 0.1625 - acc: 0.7703 - val_loss: 0.2511 - val_acc: 0.6446\n",
            "Epoch 37/50\n",
            "31/31 [==============================] - 23s 759ms/step - loss: 0.1754 - acc: 0.7328 - val_loss: 2.7261 - val_acc: 0.4215\n",
            "Epoch 38/50\n",
            "31/31 [==============================] - 23s 741ms/step - loss: 0.1611 - acc: 0.7495 - val_loss: 1.8803 - val_acc: 0.6281\n",
            "Epoch 39/50\n",
            "31/31 [==============================] - 23s 756ms/step - loss: 0.1582 - acc: 0.7620 - val_loss: 0.4237 - val_acc: 0.5702\n",
            "Epoch 40/50\n",
            "31/31 [==============================] - 23s 757ms/step - loss: 0.1447 - acc: 0.7672 - val_loss: 0.2134 - val_acc: 0.7190\n",
            "Epoch 41/50\n",
            "31/31 [==============================] - 23s 758ms/step - loss: 0.1562 - acc: 0.7682 - val_loss: 0.2390 - val_acc: 0.6694\n",
            "Epoch 42/50\n",
            "31/31 [==============================] - 23s 741ms/step - loss: 0.1708 - acc: 0.7443 - val_loss: 0.2785 - val_acc: 0.6777\n",
            "Epoch 43/50\n",
            "31/31 [==============================] - 23s 757ms/step - loss: 0.1542 - acc: 0.7682 - val_loss: 0.1868 - val_acc: 0.7107\n",
            "Epoch 44/50\n",
            "31/31 [==============================] - 23s 742ms/step - loss: 0.1571 - acc: 0.7609 - val_loss: 0.1772 - val_acc: 0.7107\n",
            "Epoch 45/50\n",
            "31/31 [==============================] - 23s 741ms/step - loss: 0.1490 - acc: 0.7620 - val_loss: 0.2731 - val_acc: 0.6942\n",
            "Epoch 46/50\n",
            "31/31 [==============================] - 23s 741ms/step - loss: 0.1845 - acc: 0.7380 - val_loss: 11.6895 - val_acc: 0.3306\n",
            "Epoch 47/50\n",
            "31/31 [==============================] - 23s 739ms/step - loss: 0.1760 - acc: 0.7370 - val_loss: 14.1852 - val_acc: 0.4959\n",
            "Epoch 48/50\n",
            "31/31 [==============================] - 23s 753ms/step - loss: 0.1599 - acc: 0.7516 - val_loss: 1.1305 - val_acc: 0.6198\n",
            "Epoch 49/50\n",
            "31/31 [==============================] - 23s 739ms/step - loss: 0.1844 - acc: 0.7380 - val_loss: 61.7634 - val_acc: 0.1570\n",
            "Epoch 50/50\n",
            "31/31 [==============================] - 23s 738ms/step - loss: 0.1810 - acc: 0.7225 - val_loss: 0.4357 - val_acc: 0.6198\n"
          ]
        }
      ],
      "source": [
        "train_datagen = ImageDataGenerator(rescale=1. / 255, \n",
        "                                   rotation_range=15,\n",
        "                                   width_shift_range=0.1,\n",
        "                                   height_shift_range=0.1,\n",
        "                                   shear_range=0.01,\n",
        "                                   zoom_range=[0.9, 1.25],\n",
        "                                   horizontal_flip=True,\n",
        "                                   vertical_flip=False,\n",
        "                                   fill_mode='reflect')\n",
        "valtest_datagen = ImageDataGenerator(rescale=1. / 255)\n",
        "\n",
        "train_generator = train_datagen.flow(np.array(X_train), y_train, batch_size=batch_size)\n",
        "validation_generator = valtest_datagen.flow(np.array(X_val), y_val, batch_size=batch_size)\n",
        "test_generator = valtest_datagen.flow(np.array(X_test), y_test, batch_size=batch_size)\n",
        "\n",
        "history = model.fit(np.array(X_train), np.array(y_train), validation_data=(np.array(X_val), np.array(y_val)), epochs=50)\n"
      ]
    },
    {
      "cell_type": "code",
      "execution_count": null,
      "metadata": {
        "id": "F-niGU5oA-q4"
      },
      "outputs": [],
      "source": [
        "model.save_weights('/content/drive/MyDrive/Datasets - Copy/8020weights.h5')\n"
      ]
    },
    {
      "cell_type": "code",
      "execution_count": null,
      "metadata": {
        "id": "FNGBtlTeB1jp"
      },
      "outputs": [],
      "source": [
        "model.load_weights('/content/drive/MyDrive/Datasets - Copy/8020weights.h5')\n"
      ]
    },
    {
      "cell_type": "code",
      "execution_count": null,
      "metadata": {
        "id": "YMJ6snRnB5nh",
        "colab": {
          "base_uri": "https://localhost:8080/",
          "height": 896
        },
        "outputId": "89076f0f-6b9f-45c0-a9d9-8e8b2cb66462"
      },
      "outputs": [
        {
          "output_type": "display_data",
          "data": {
            "text/plain": [
              "<Figure size 432x288 with 1 Axes>"
            ],
            "image/png": "[encoded data removed]"
          },
          "metadata": {
            "needs_background": "light"
          }
        },
        {
          "output_type": "display_data",
          "data": {
            "text/plain": [
              "<Figure size 432x288 with 1 Axes>"
            ],
            "image/png": "[encoded data removed]"
          },
          "metadata": {
            "needs_background": "light"
          }
        },
        {
          "output_type": "display_data",
          "data": {
            "text/plain": [
              "<Figure size 360x360 with 2 Axes>"
            ],
            "image/png": "[encoded data removed]"
          },
          "metadata": {
            "needs_background": "light"
          }
        }
      ],
      "source": [
        "acc = history.history['acc']\n",
        "val_acc = history.history['val_acc']\n",
        "loss = history.history['loss']\n",
        "val_loss = history.history['val_loss']\n",
        "epochs = range(1, len(acc) + 1)\n",
        "plt.plot(epochs, acc, 'blue', label='Training acc')\n",
        "plt.plot(epochs, val_acc, 'red', label='Validation acc')\n",
        "plt.title('Training and validation accuracy')\n",
        "plt.legend()\n",
        "plt.savefig(\"/content/drive/MyDrive/Datasets - Copy/trvlAcc.png\")\n",
        "plt.show()\n",
        "\n",
        "plt.figure()\n",
        "plt.plot(epochs, loss, 'blue', label='Training loss')\n",
        "plt.plot(epochs, val_loss, 'red', label='Validation loss')\n",
        "plt.title('Training and validation loss')\n",
        "plt.legend()\n",
        "plt.savefig(\"/content/drive/MyDrive/Datasets - Copy/trvlLoss.png\")\n",
        "plt.show()\n",
        "\n",
        "import sklearn\n",
        "import itertools\n",
        "from sklearn.metrics import confusion_matrix\n",
        "dict_characters = {0: 'Clear', 1: 'Blurry'}\n",
        "def plot_confusion_matrix(cm, classes,\n",
        "                          normalize=False,\n",
        "                          title='Confusion matrix',\n",
        "                          cmap=plt.cm.Blues):\n",
        "    plt.figure(figsize = (5,5))\n",
        "    plt.imshow(cm, interpolation='nearest', cmap=cmap)\n",
        "    plt.title(title)\n",
        "    plt.colorbar()\n",
        "    tick_marks = np.arange(len(classes))\n",
        "    plt.xticks(tick_marks, classes, rotation=90)\n",
        "    plt.yticks(tick_marks, classes)\n",
        "    if normalize:\n",
        "        cm = cm.astype('float') / cm.sum(axis=1)[:, np.newaxis]\n",
        "    thresh = cm.max() / 2.\n",
        "    for i, j in itertools.product(range(cm.shape[0]), range(cm.shape[1])):\n",
        "        plt.text(j, i, cm[i, j],\n",
        "                 horizontalalignment=\"center\",\n",
        "                 color=\"white\" if cm[i, j] > thresh else \"black\")\n",
        "    plt.tight_layout()\n",
        "    plt.ylabel('True label')\n",
        "    plt.xlabel('Predicted label')\n",
        "    plt.savefig(\"/content/drive/MyDrive/Datasets - Copy/cm-\"+title+\".png\")\n",
        "    plt.show()\n",
        "\n",
        "    \n",
        "a=np.array(X_test)\n",
        "b=np.array(y_test)\n",
        "Y_pred = model.predict(a)\n",
        "\n",
        "\n",
        "Y_pred_classes = np.argmax(Y_pred,axis=1)\n",
        "confusion_mtx = confusion_matrix(np.argmax(b,axis=1), Y_pred_classes) \n",
        "plot_confusion_matrix(confusion_mtx, classes = list(image_classes))"
      ]
    },
    {
      "cell_type": "code",
      "execution_count": null,
      "metadata": {
        "id": "oL1vpGz6TFJf",
        "colab": {
          "base_uri": "https://localhost:8080/"
        },
        "outputId": "06174e3e-8a20-4242-a8d1-d0f841dbeabe"
      },
      "outputs": [
        {
          "output_type": "execute_result",
          "data": {
            "text/plain": [
              "0.55"
            ]
          },
          "metadata": {},
          "execution_count": 13
        }
      ],
      "source": [
        "sklearn.metrics.accuracy_score(Y_pred_classes,np.argmax(b,axis=1))\n"
      ]
    },
    {
      "cell_type": "code",
      "execution_count": null,
      "metadata": {
        "id": "MRVPLK-QTitJ",
        "colab": {
          "base_uri": "https://localhost:8080/"
        },
        "outputId": "fd556ca9-3c9a-4991-a48e-8d26429e43a0"
      },
      "outputs": [
        {
          "output_type": "execute_result",
          "data": {
            "text/plain": [
              "array([[ 2,  0,  0,  0,  0,  0],\n",
              "       [ 0, 12,  3,  3,  0,  0],\n",
              "       [ 0, 11,  8,  2,  0,  0],\n",
              "       [ 0,  6,  1, 15,  1,  0],\n",
              "       [ 0,  6,  0,  6, 10,  1],\n",
              "       [ 0, 10,  0,  4,  0, 19]])"
            ]
          },
          "metadata": {},
          "execution_count": 14
        }
      ],
      "source": [
        "confusion_mtx\n"
      ]
    },
    {
      "cell_type": "code",
      "execution_count": null,
      "metadata": {
        "id": "hZeFNFxTbhA-",
        "colab": {
          "base_uri": "https://localhost:8080/"
        },
        "outputId": "4892936b-5717-4730-b750-75504c4d7f62"
      },
      "outputs": [
        {
          "output_type": "execute_result",
          "data": {
            "text/plain": [
              "[2, 18, 21, 23, 23, 33]"
            ]
          },
          "metadata": {},
          "execution_count": 15
        }
      ],
      "source": [
        "class_totals = [sum(i) for i in confusion_mtx]\n",
        "class_totals"
      ]
    },
    {
      "cell_type": "code",
      "execution_count": null,
      "metadata": {
        "id": "Ek7KoYxMblDV",
        "colab": {
          "base_uri": "https://localhost:8080/"
        },
        "outputId": "f1afb29f-f32f-40ef-ab15-96c2c1737e6b"
      },
      "outputs": [
        {
          "output_type": "execute_result",
          "data": {
            "text/plain": [
              "[2, 12, 8, 15, 10, 19]"
            ]
          },
          "metadata": {},
          "execution_count": 16
        }
      ],
      "source": [
        "class_correct_pred = [confusion_mtx[i][i] for i in range(6)]\n",
        "class_correct_pred"
      ]
    },
    {
      "cell_type": "code",
      "execution_count": null,
      "metadata": {
        "id": "oRJywwp7bnh9",
        "colab": {
          "base_uri": "https://localhost:8080/"
        },
        "outputId": "ffcddbfb-b3cc-40fd-b0a1-2ccb06e097cc"
      },
      "outputs": [
        {
          "output_type": "execute_result",
          "data": {
            "text/plain": [
              "[1.0,\n",
              " 0.6666666666666666,\n",
              " 0.38095238095238093,\n",
              " 0.6521739130434783,\n",
              " 0.43478260869565216,\n",
              " 0.5757575757575758]"
            ]
          },
          "metadata": {},
          "execution_count": 17
        }
      ],
      "source": [
        "accuracies = [class_correct_pred[i]/class_totals[i] for i in range(6)]\n",
        "accuracies"
      ]
    },
    {
      "cell_type": "code",
      "execution_count": null,
      "metadata": {
        "id": "tiyoKLXRbpge",
        "colab": {
          "base_uri": "https://localhost:8080/"
        },
        "outputId": "fa572646-ae24-421b-c389-1de19e266dea"
      },
      "outputs": [
        {
          "output_type": "execute_result",
          "data": {
            "text/plain": [
              "[1.0,\n",
              " 0.6666666666666666,\n",
              " 0.38095238095238093,\n",
              " 0.6521739130434783,\n",
              " 0.43478260869565216,\n",
              " 0.5757575757575758]"
            ]
          },
          "metadata": {},
          "execution_count": 18
        }
      ],
      "source": [
        "class_totals = [sum(i) for i in confusion_mtx]\n",
        "class_totals\n",
        "\n",
        "tp = [confusion_mtx[i][i] for i in range(6)]\n",
        "tp\n",
        "\n",
        "sensetivity = [tp[i]/class_totals[i] for i in range(6)]\n",
        "sensetivity"
      ]
    },
    {
      "cell_type": "code",
      "execution_count": null,
      "metadata": {
        "id": "bQhIA-q8btxe",
        "colab": {
          "base_uri": "https://localhost:8080/"
        },
        "outputId": "a8ccb5a8-c8cd-4fd8-eeee-754805747e54"
      },
      "outputs": [
        {
          "output_type": "execute_result",
          "data": {
            "text/plain": [
              "[0, 33, 4, 15, 1, 1]"
            ]
          },
          "metadata": {},
          "execution_count": 19
        }
      ],
      "source": [
        "fp = [[sum(x) for x in zip(*confusion_mtx)][i] - tp[i] for i in range(6)]\n",
        "fp"
      ]
    },
    {
      "cell_type": "code",
      "execution_count": null,
      "metadata": {
        "id": "UK_W59LXbvzG",
        "colab": {
          "base_uri": "https://localhost:8080/"
        },
        "outputId": "918608ef-fdd2-46fa-d47b-719acb9f7056"
      },
      "outputs": [
        {
          "output_type": "stream",
          "name": "stdout",
          "text": [
            "120\n"
          ]
        },
        {
          "output_type": "execute_result",
          "data": {
            "text/plain": [
              "[1.0,\n",
              " 0.6944444444444444,\n",
              " 0.9642857142857143,\n",
              " 0.8571428571428571,\n",
              " 0.990909090909091,\n",
              " 0.9900990099009901]"
            ]
          },
          "metadata": {},
          "execution_count": 20
        }
      ],
      "source": [
        "sumall = sum(map(sum, confusion_mtx))\n",
        "print(sumall)\n",
        "tn = [sumall - [sum(x) for x in zip(*confusion_mtx)][i] for i in range(6)]\n",
        "tn\n",
        "specificity = [tn[i]/(tn[i]+fp[i]) for i in range(6)]\n",
        "specificity"
      ]
    },
    {
      "cell_type": "code",
      "execution_count": null,
      "metadata": {
        "id": "buhU86_-qhxy",
        "colab": {
          "base_uri": "https://localhost:8080/"
        },
        "outputId": "cf792fde-a8fe-4a8f-ee0d-a6df72c7af90"
      },
      "outputs": [
        {
          "output_type": "stream",
          "name": "stdout",
          "text": [
            "Epoch 1/250\n",
            "31/31 [==============================] - 23s 753ms/step - loss: 0.1630 - acc: 0.7516 - val_loss: 0.2480 - val_acc: 0.6198\n",
            "Epoch 2/250\n",
            "31/31 [==============================] - 24s 770ms/step - loss: 0.1556 - acc: 0.7723 - val_loss: 0.2405 - val_acc: 0.6198\n",
            "Epoch 3/250\n",
            "31/31 [==============================] - 23s 738ms/step - loss: 0.1563 - acc: 0.7536 - val_loss: 0.2098 - val_acc: 0.6860\n",
            "Epoch 4/250\n",
            "31/31 [==============================] - 23s 735ms/step - loss: 0.1543 - acc: 0.7578 - val_loss: 0.2360 - val_acc: 0.7025\n",
            "Epoch 5/250\n",
            "31/31 [==============================] - 23s 743ms/step - loss: 0.1692 - acc: 0.7474 - val_loss: 0.3028 - val_acc: 0.5620\n",
            "Epoch 6/250\n",
            "31/31 [==============================] - 23s 757ms/step - loss: 0.1541 - acc: 0.7599 - val_loss: 0.2372 - val_acc: 0.6364\n",
            "Epoch 7/250\n",
            "31/31 [==============================] - 23s 739ms/step - loss: 0.1879 - acc: 0.7089 - val_loss: 1.5320 - val_acc: 0.2893\n",
            "Epoch 8/250\n",
            "31/31 [==============================] - 23s 738ms/step - loss: 0.1945 - acc: 0.7277 - val_loss: 2.5108 - val_acc: 0.2810\n",
            "Epoch 9/250\n",
            "31/31 [==============================] - 23s 738ms/step - loss: 0.1688 - acc: 0.7318 - val_loss: 0.9341 - val_acc: 0.3967\n",
            "Epoch 10/250\n",
            "31/31 [==============================] - 23s 738ms/step - loss: 0.1564 - acc: 0.7526 - val_loss: 0.3264 - val_acc: 0.5207\n",
            "Epoch 11/250\n",
            "31/31 [==============================] - 23s 740ms/step - loss: 0.1499 - acc: 0.7672 - val_loss: 0.2352 - val_acc: 0.6198\n",
            "Epoch 12/250\n",
            "31/31 [==============================] - 23s 739ms/step - loss: 0.1822 - acc: 0.7173 - val_loss: 0.3116 - val_acc: 0.5868\n",
            "Epoch 13/250\n",
            "31/31 [==============================] - 23s 740ms/step - loss: 0.1598 - acc: 0.7536 - val_loss: 0.2255 - val_acc: 0.7107\n",
            "Epoch 14/250\n",
            "31/31 [==============================] - 23s 740ms/step - loss: 0.1488 - acc: 0.7672 - val_loss: 0.2526 - val_acc: 0.6777\n",
            "Epoch 15/250\n",
            "31/31 [==============================] - 23s 747ms/step - loss: 0.1540 - acc: 0.7588 - val_loss: 0.1885 - val_acc: 0.6777\n",
            "Epoch 16/250\n",
            "31/31 [==============================] - 23s 753ms/step - loss: 0.1550 - acc: 0.7536 - val_loss: 0.1796 - val_acc: 0.7107\n",
            "Epoch 17/250\n",
            "31/31 [==============================] - 23s 738ms/step - loss: 0.1465 - acc: 0.7723 - val_loss: 0.1768 - val_acc: 0.7438\n",
            "Epoch 18/250\n",
            "31/31 [==============================] - 23s 746ms/step - loss: 0.1515 - acc: 0.7640 - val_loss: 0.2271 - val_acc: 0.6694\n",
            "Epoch 19/250\n",
            "31/31 [==============================] - 23s 755ms/step - loss: 0.1641 - acc: 0.7588 - val_loss: 0.2059 - val_acc: 0.6694\n",
            "Epoch 20/250\n",
            "31/31 [==============================] - 23s 739ms/step - loss: 0.1460 - acc: 0.7734 - val_loss: 0.1935 - val_acc: 0.6694\n",
            "Epoch 21/250\n",
            "31/31 [==============================] - 23s 743ms/step - loss: 0.1386 - acc: 0.7682 - val_loss: 0.1914 - val_acc: 0.7025\n",
            "Epoch 22/250\n",
            "31/31 [==============================] - 23s 740ms/step - loss: 0.1340 - acc: 0.7879 - val_loss: 0.2073 - val_acc: 0.6529\n",
            "Epoch 23/250\n",
            "31/31 [==============================] - 23s 738ms/step - loss: 0.1517 - acc: 0.7692 - val_loss: 0.2865 - val_acc: 0.6198\n",
            "Epoch 24/250\n",
            "31/31 [==============================] - 23s 739ms/step - loss: 0.1486 - acc: 0.7599 - val_loss: 0.2334 - val_acc: 0.6281\n",
            "Epoch 25/250\n",
            "31/31 [==============================] - 23s 739ms/step - loss: 0.1502 - acc: 0.7786 - val_loss: 0.2433 - val_acc: 0.6116\n",
            "Epoch 26/250\n",
            "31/31 [==============================] - 23s 738ms/step - loss: 0.1482 - acc: 0.7755 - val_loss: 0.3840 - val_acc: 0.6694\n",
            "Epoch 27/250\n",
            "31/31 [==============================] - 23s 738ms/step - loss: 0.1507 - acc: 0.7775 - val_loss: 0.1921 - val_acc: 0.7438\n",
            "Epoch 28/250\n",
            " 6/31 [====>.........................] - ETA: 18s - loss: 0.1318 - acc: 0.8073"
          ]
        }
      ],
      "source": [
        "train_datagen = ImageDataGenerator(rescale=1. / 255, \n",
        "                                   rotation_range=15,\n",
        "                                   width_shift_range=0.1,\n",
        "                                   height_shift_range=0.1,\n",
        "                                   shear_range=0.01,\n",
        "                                   zoom_range=[0.9, 1.25],\n",
        "                                   horizontal_flip=True,\n",
        "                                   vertical_flip=False,\n",
        "                                   fill_mode='reflect')\n",
        "valtest_datagen = ImageDataGenerator(rescale=1. / 255)\n",
        "\n",
        "train_generator = train_datagen.flow(np.array(X_train), y_train, batch_size=batch_size)\n",
        "validation_generator = valtest_datagen.flow(np.array(X_val), y_val, batch_size=batch_size)\n",
        "test_generator = valtest_datagen.flow(np.array(X_test), y_test, batch_size=batch_size)\n",
        "\n",
        "history = model.fit(np.array(X_train), np.array(y_train), validation_data=(np.array(X_val), np.array(y_val)), epochs=250)\n"
      ]
    },
    {
      "cell_type": "code",
      "execution_count": null,
      "metadata": {
        "id": "b7zFh3yBq2Rg"
      },
      "outputs": [],
      "source": [
        "acc = history.history['acc']\n",
        "val_acc = history.history['val_acc']\n",
        "loss = history.history['loss']\n",
        "val_loss = history.history['val_loss']\n",
        "epochs = range(1, len(acc) + 1)\n",
        "plt.plot(epochs, acc, 'blue', label='Training acc')\n",
        "plt.plot(epochs, val_acc, 'red', label='Validation acc')\n",
        "plt.title('Training and validation accuracy')\n",
        "plt.legend()\n",
        "plt.savefig(\"/content/drive/MyDrive/Datasets - Copy/trvlAcc1.png\")\n",
        "plt.show()\n",
        "\n",
        "plt.figure()\n",
        "plt.plot(epochs, loss, 'blue', label='Training loss')\n",
        "plt.plot(epochs, val_loss, 'red', label='Validation loss')\n",
        "plt.title('Training and validation loss')\n",
        "plt.legend()\n",
        "plt.savefig(\"/content/drive/MyDrive/Datasets - Copy/trvlLoss1.png\")\n",
        "plt.show()\n",
        "\n",
        "import sklearn\n",
        "import itertools\n",
        "from sklearn.metrics import confusion_matrix\n",
        "dict_characters = {0: 'Clear', 1: 'Blurry'}\n",
        "def plot_confusion_matrix(cm, classes,\n",
        "                          normalize=False,\n",
        "                          title='Confusion matrix',\n",
        "                          cmap=plt.cm.Blues):\n",
        "    plt.figure(figsize = (5,5))\n",
        "    plt.imshow(cm, interpolation='nearest', cmap=cmap)\n",
        "    plt.title(title)\n",
        "    plt.colorbar()\n",
        "    tick_marks = np.arange(len(classes))\n",
        "    plt.xticks(tick_marks, classes, rotation=90)\n",
        "    plt.yticks(tick_marks, classes)\n",
        "    if normalize:\n",
        "        cm = cm.astype('float') / cm.sum(axis=1)[:, np.newaxis]\n",
        "    thresh = cm.max() / 2.\n",
        "    for i, j in itertools.product(range(cm.shape[0]), range(cm.shape[1])):\n",
        "        plt.text(j, i, cm[i, j],\n",
        "                 horizontalalignment=\"center\",\n",
        "                 color=\"white\" if cm[i, j] > thresh else \"black\")\n",
        "    plt.tight_layout()\n",
        "    plt.ylabel('True label')\n",
        "    plt.xlabel('Predicted label')\n",
        "    plt.savefig(\"/content/drive/MyDrive/Datasets - Copy/cm-\"+title+\".png\")\n",
        "    plt.show()\n",
        "\n",
        "    \n",
        "a=np.array(X_test)\n",
        "b=np.array(y_test)\n",
        "Y_pred = model.predict(a)\n",
        "\n",
        "\n",
        "Y_pred_classes = np.argmax(Y_pred,axis=1)\n",
        "confusion_mtx = confusion_matrix(np.argmax(b,axis=1), Y_pred_classes) \n",
        "plot_confusion_matrix(confusion_mtx, classes = list(image_classes))"
      ]
    },
    {
      "cell_type": "code",
      "execution_count": null,
      "metadata": {
        "id": "zYxKO_NyxXA2"
      },
      "outputs": [],
      "source": [
        "sklearn.metrics.accuracy_score(Y_pred_classes,np.argmax(b,axis=1))\n"
      ]
    },
    {
      "cell_type": "code",
      "execution_count": null,
      "metadata": {
        "id": "FtSjiZ4pxcAE"
      },
      "outputs": [],
      "source": [
        "confusion_mtx\n"
      ]
    },
    {
      "cell_type": "code",
      "execution_count": null,
      "metadata": {
        "id": "yF5RniLdxjb1"
      },
      "outputs": [],
      "source": [
        "accuracies = [class_correct_pred[i]/class_totals[i] for i in range(6)]\n",
        "accuracies"
      ]
    },
    {
      "cell_type": "code",
      "execution_count": null,
      "metadata": {
        "id": "Hjhfdjpmxtre"
      },
      "outputs": [],
      "source": [
        "sumall = sum(map(sum, confusion_mtx))\n",
        "print(sumall)\n",
        "tn = [sumall - [sum(x) for x in zip(*confusion_mtx)][i] for i in range(6)]\n",
        "tn\n",
        "specificity = [tn[i]/(tn[i]+fp[i]) for i in range(6)]\n",
        "specificity"
      ]
    }
  ],
  "metadata": {
    "colab": {
      "collapsed_sections": [],
      "provenance": [],
      "mount_file_id": "1o0DJ_DSgRB-g7LO2gJK0jPSy6KnDXEcp",
      "authorship_tag": "ABX9TyOKj03RXTKZC6Rhau0wtDOu",
      "include_colab_link": true
    },
    "kernelspec": {
      "display_name": "Python 3",
      "name": "python3"
    },
    "language_info": {
      "name": "python"
    },
    "accelerator": "GPU"
  },
  "nbformat": 4,
  "nbformat_minor": 0
}