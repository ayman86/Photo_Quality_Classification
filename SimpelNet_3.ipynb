{
  "cells": [
    {
      "cell_type": "markdown",
      "metadata": {
        "id": "view-in-github",
        "colab_type": "text"
      },
      "source": [
        "<a href=\"https://colab.research.google.com/github/ayman86/Photo_Quality_Classification/blob/main/SimpelNet_3.ipynb\" target=\"_parent\"><img src=\"https://colab.research.google.com/assets/colab-badge.svg\" alt=\"Open In Colab\"/></a>"
      ]
    },
    {
      "cell_type": "code",
      "execution_count": 1,
      "metadata": {
        "id": "qWKhURmqANPw"
      },
      "outputs": [],
      "source": [
        "import cv2\n",
        "import os\n",
        "import random\n",
        "import matplotlib.pylab as plt\n",
        "from glob import glob\n",
        "import numpy as np\n",
        "from sklearn.model_selection import train_test_split\n",
        "import tensorflow\n",
        "import tensorflow.keras\n",
        "from tensorflow.keras import layers, models, optimizers\n",
        "from tensorflow.keras.preprocessing.image import ImageDataGenerator\n",
        "from tensorflow.keras import backend as K\n",
        "from tensorflow.keras.models import Sequential\n",
        "from tensorflow.keras.layers import Dense, Dropout, Activation, Flatten\n",
        "from keras.applications.efficientnet_v2 import EfficientNetV2S\n",
        "from keras.applications.efficientnet import preprocess_input"
      ]
    },
    {
      "cell_type": "code",
      "source": [
        "def proc_image_dir(Images_Path):\n",
        "    \n",
        "    image_classes = sorted([dirname for dirname in os.listdir(Images_Path)\n",
        "                      if os.path.isdir(os.path.join(Images_Path, dirname))])\n",
        "    # and not dirname.startswith(\".\") and not dirname.startswith(\"mblur\")])\n",
        "    #image_classes.append('mblur')\n",
        "    \n",
        "    print(image_classes)\n",
        "    \n",
        "    x = [] # images as arrays\n",
        "    y = [] # labels Infiltration or Not_infiltration\n",
        "    WIDTH = 256\n",
        "    HEIGHT = 256\n",
        "  \n",
        "    print(\"Adding Images: \",end=\"\")\n",
        "    i = 0\n",
        "    for image_class in image_classes:\n",
        "        print(\"Processing \", image_class)\n",
        "        items = glob(os.path.join(Images_Path, image_class,\"*\"))\n",
        "        for item in items:\n",
        "            if item.lower().endswith(\".jpg\") or item.lower().endswith(\".bmp\"):\n",
        "                # Read and resize image\n",
        "                full_size_image = cv2.imread(item)\n",
        "                x.append(cv2.resize(full_size_image, (WIDTH,HEIGHT), interpolation=cv2.INTER_CUBIC))\n",
        "                out = [0] * len(image_classes)\n",
        "                out[i] = 1\n",
        "                y.append(out)\n",
        "        i+=1\n",
        "\n",
        "    print(\"\")\n",
        "    return x,y,image_classes\n",
        "\n",
        "def horizontal_motion_blur(img, blur_factor):\n",
        "    \n",
        "\n",
        "    kernel_size = blur_factor\n",
        "    kernel_h = np.zeros((kernel_size, kernel_size))\n",
        "    kernel_h[int((kernel_size - 1)/2), :] = np.ones(kernel_size) \n",
        "    kernel_h /= kernel_size \n",
        "\n",
        "    # Apply the horizontal kernel. \n",
        "    horizontal_mb = cv2.filter2D(img, -1, kernel_h) \n",
        "    \n",
        "    return horizontal_mb"
      ],
      "metadata": {
        "id": "Qqmwojkg_Siz"
      },
      "execution_count": 2,
      "outputs": []
    },
    {
      "cell_type": "code",
      "execution_count": 4,
      "metadata": {
        "id": "qHlujpENAkLd",
        "colab": {
          "base_uri": "https://localhost:8080/"
        },
        "outputId": "a69193d3-d4fa-4611-888e-7fb47da23d2f"
      },
      "outputs": [
        {
          "output_type": "stream",
          "name": "stdout",
          "text": [
            "['bad_lighting', 'fastfading', 'gblur', 'jp2k', 'jpeg', 'refimgs']\n",
            "Adding Images: Processing  bad_lighting\n",
            "Processing  fastfading\n",
            "Processing  gblur\n",
            "Processing  jp2k\n",
            "Processing  jpeg\n",
            "Processing  refimgs\n",
            "\n"
          ]
        }
      ],
      "source": [
        "# ./input/\n",
        "PATH = os.path.abspath(os.path.join('.', 'databaserelease2'))\n",
        "\n",
        "# ./input/sample/images/\n",
        "SOURCE_IMAGES = '/content/drive/MyDrive/Datasets - Copy/First Dataset'#os.path.join(PATH, \"sample\", \"images\")\n",
        "x2,y2,image_classes = proc_image_dir(SOURCE_IMAGES)\n"
      ]
    },
    {
      "cell_type": "code",
      "execution_count": 6,
      "metadata": {
        "id": "Ge9UqC_fAzAn",
        "colab": {
          "base_uri": "https://localhost:8080/"
        },
        "outputId": "103dd528-8837-4635-d888-b510ac0f238f"
      },
      "outputs": [
        {
          "output_type": "stream",
          "name": "stdout",
          "text": [
            "(796, 256, 256, 3)\n",
            "(100, 256, 256, 3)\n",
            "(100, 256, 256, 3)\n"
          ]
        }
      ],
      "source": [
        "# First split the data in two sets, 80% for training, 20% for Val/Test)\n",
        "X_train, X_valtest, y_train, y_valtest = train_test_split(x2,y2, test_size=0.20, random_state=1, stratify=y2)\n",
        "\n",
        "# Second split the 40% into validation and test sets\n",
        "X_test, X_val, y_test, y_val = train_test_split(X_valtest, y_valtest, test_size=0.5, random_state=1, stratify=y_valtest)\n",
        "\n",
        "print(np.array(X_train).shape)\n",
        "print(np.array(X_val).shape)\n",
        "print(np.array(X_test).shape)"
      ]
    },
    {
      "cell_type": "code",
      "execution_count": 7,
      "metadata": {
        "id": "vP9bfmPbA02v"
      },
      "outputs": [],
      "source": [
        "num_classes=6\n",
        "\n",
        "K.image_data_format()\n",
        "\n",
        "img_width, img_height = 256, 256\n",
        "nb_train_samples = len(X_train)\n",
        "nb_validation_samples = len(X_val)\n",
        "epochs = 100\n",
        "batch_size = 16"
      ]
    },
    {
      "cell_type": "code",
      "execution_count": 9,
      "metadata": {
        "id": "f9chEpMRA3d_",
        "colab": {
          "base_uri": "https://localhost:8080/"
        },
        "outputId": "7a627472-07f8-4eb8-cf66-2ebe5da50d13"
      },
      "outputs": [
        {
          "output_type": "stream",
          "name": "stdout",
          "text": [
            "Model: \"Binary_classification\"\n",
            "_________________________________________________________________\n",
            " Layer (type)                Output Shape              Param #   \n",
            "=================================================================\n",
            " img_input (InputLayer)      [(None, 256, 256, 3)]     0         \n",
            "                                                                 \n",
            " l1 (Conv2D)                 (None, 256, 256, 32)      896       \n",
            "                                                                 \n",
            " l2 (Conv2D)                 (None, 256, 256, 64)      18496     \n",
            "                                                                 \n",
            " l3 (MaxPooling2D)           (None, 128, 128, 64)      0         \n",
            "                                                                 \n",
            " dropout_7 (Dropout)         (None, 128, 128, 64)      0         \n",
            "                                                                 \n",
            " l4 (Conv2D)                 (None, 128, 128, 64)      36928     \n",
            "                                                                 \n",
            " l5 (MaxPooling2D)           (None, 64, 64, 64)        0         \n",
            "                                                                 \n",
            " dropout_8 (Dropout)         (None, 64, 64, 64)        0         \n",
            "                                                                 \n",
            " l6 (Conv2D)                 (None, 64, 64, 128)       73856     \n",
            "                                                                 \n",
            " l7 (MaxPooling2D)           (None, 32, 32, 128)       0         \n",
            "                                                                 \n",
            " dropout_9 (Dropout)         (None, 32, 32, 128)       0         \n",
            "                                                                 \n",
            " l8 (Conv2D)                 (None, 32, 32, 128)       147584    \n",
            "                                                                 \n",
            " l9 (MaxPooling2D)           (None, 16, 16, 128)       0         \n",
            "                                                                 \n",
            " dropout_10 (Dropout)        (None, 16, 16, 128)       0         \n",
            "                                                                 \n",
            " l10 (Conv2D)                (None, 16, 16, 256)       295168    \n",
            "                                                                 \n",
            " l11 (MaxPooling2D)          (None, 8, 8, 256)         0         \n",
            "                                                                 \n",
            " dropout_11 (Dropout)        (None, 8, 8, 256)         0         \n",
            "                                                                 \n",
            " l12 (Conv2D)                (None, 8, 8, 256)         590080    \n",
            "                                                                 \n",
            " l13 (MaxPooling2D)          (None, 4, 4, 256)         0         \n",
            "                                                                 \n",
            " dropout_12 (Dropout)        (None, 4, 4, 256)         0         \n",
            "                                                                 \n",
            " fc1 (Flatten)               (None, 4096)              0         \n",
            "                                                                 \n",
            " l14 (Dense)                 (None, 64)                262208    \n",
            "                                                                 \n",
            " dropout_13 (Dropout)        (None, 64)                0         \n",
            "                                                                 \n",
            " predictions (Dense)         (None, 6)                 390       \n",
            "                                                                 \n",
            "=================================================================\n",
            "Total params: 1,425,606\n",
            "Trainable params: 1,425,606\n",
            "Non-trainable params: 0\n",
            "_________________________________________________________________\n"
          ]
        }
      ],
      "source": [
        "from tensorflow.keras.layers import Input, Dense, Activation,Flatten,Conv2D,MaxPool2D,Dropout\n",
        "from tensorflow.keras.models import Model\n",
        "\n",
        "input_shape = (256,256,3)\n",
        "\n",
        "#creat the network\n",
        "#input layer\n",
        "img_input = Input(shape=input_shape,name = 'img_input')\n",
        "\n",
        "#conv_layer\n",
        "l1 = Conv2D(32,(3,3),padding='same',activation='relu',name='l1')(img_input)\n",
        "l1 = Conv2D(64,(3,3),padding='same',activation='relu',name='l2')(l1)\n",
        "l1 = MaxPool2D((2,2),strides=(2,2),name='l3')(l1)\n",
        "l1 = Dropout(0.2)(l1)\n",
        "\n",
        "l1 = Conv2D(64,(3,3),padding='same',activation='relu',name='l4')(l1)\n",
        "l1 = MaxPool2D((2,2),strides=(2,2),name='l5')(l1)\n",
        "l1 = Dropout(0.2)(l1)\n",
        "\n",
        "l1 = Conv2D(128,(3,3),padding='same',activation='relu',name='l6')(l1)\n",
        "l1 = MaxPool2D((2,2),strides=(2,2),name='l7')(l1)\n",
        "l1 = Dropout(0.3)(l1)\n",
        "\n",
        "l1 = Conv2D(128,(3,3),padding='same',activation='relu',name='l8')(l1)\n",
        "l1 = MaxPool2D((2,2),strides=(2,2),name='l9')(l1)\n",
        "l1 = Dropout(0.3)(l1)\n",
        "\n",
        "l1 = Conv2D(256,(3,3),padding='same',activation='relu',name='l10')(l1)\n",
        "l1 = MaxPool2D((2,2),strides=(2,2),name='l11')(l1)\n",
        "l1 = Dropout(0.4)(l1)\n",
        "\n",
        "l1 = Conv2D(256,(3,3),padding='same',activation='relu',name='l12')(l1)\n",
        "l1 = MaxPool2D((2,2),strides=(2,2),name='l13')(l1)\n",
        "l1 = Dropout(0.4)(l1)\n",
        "\n",
        "l1 = Flatten(name='fc1')(l1)\n",
        "l1 = Dense(64,name='l14')(l1)\n",
        "l1 = Dropout(0.5)(l1)\n",
        "\n",
        "l1 = Dense(6,activation='sigmoid',name='predictions')(l1)\n",
        "\n",
        "model = Model(inputs=img_input,outputs=l1,name='Binary_classification')\n",
        "model.summary()\n",
        "\n",
        "\n"
      ]
    },
    {
      "cell_type": "code",
      "execution_count": null,
      "metadata": {
        "id": "3YqNyGGOA5lH",
        "colab": {
          "base_uri": "https://localhost:8080/"
        },
        "outputId": "f56bcdfa-9d3c-4778-fef6-23e9e472dc51"
      },
      "outputs": [
        {
          "output_type": "stream",
          "name": "stderr",
          "text": [
            "/usr/local/lib/python3.7/dist-packages/keras/optimizer_v2/adam.py:105: UserWarning: The `lr` argument is deprecated, use `learning_rate` instead.\n",
            "  super(Adam, self).__init__(name, **kwargs)\n"
          ]
        }
      ],
      "source": [
        "model.compile(\n",
        "\tloss='binary_crossentropy',\n",
        "\toptimizer=optimizers.Adam(lr=0.001, beta_1=0.9, beta_2=0.999, epsilon=1e-08, decay=0.0),\n",
        "\tmetrics=['acc'])"
      ]
    },
    {
      "cell_type": "code",
      "execution_count": null,
      "metadata": {
        "id": "S-YXtkrRA7bP",
        "colab": {
          "base_uri": "https://localhost:8080/"
        },
        "outputId": "d19fdcb3-24ed-4622-ebb2-aba2ff4e0021"
      },
      "outputs": [
        {
          "output_type": "stream",
          "name": "stdout",
          "text": [
            "Epoch 1/50\n",
            "25/25 [==============================] - 58s 780ms/step - loss: 0.4524 - acc: 0.3857 - val_loss: 0.3252 - val_acc: 0.5200\n",
            "Epoch 2/50\n",
            "25/25 [==============================] - 14s 562ms/step - loss: 0.3102 - acc: 0.5251 - val_loss: 0.2569 - val_acc: 0.5900\n",
            "Epoch 3/50\n",
            "25/25 [==============================] - 14s 568ms/step - loss: 0.2710 - acc: 0.5804 - val_loss: 0.2409 - val_acc: 0.6400\n",
            "Epoch 4/50\n",
            "25/25 [==============================] - 15s 584ms/step - loss: 0.2741 - acc: 0.5942 - val_loss: 0.2597 - val_acc: 0.6100\n",
            "Epoch 5/50\n",
            "25/25 [==============================] - 15s 584ms/step - loss: 0.2445 - acc: 0.6219 - val_loss: 0.2303 - val_acc: 0.6600\n",
            "Epoch 6/50\n",
            "25/25 [==============================] - 15s 590ms/step - loss: 0.2289 - acc: 0.6394 - val_loss: 0.2206 - val_acc: 0.6700\n",
            "Epoch 7/50\n",
            "25/25 [==============================] - 15s 584ms/step - loss: 0.2160 - acc: 0.6508 - val_loss: 0.2000 - val_acc: 0.6900\n",
            "Epoch 8/50\n",
            "25/25 [==============================] - 15s 582ms/step - loss: 0.2078 - acc: 0.6683 - val_loss: 0.2109 - val_acc: 0.6700\n",
            "Epoch 9/50\n",
            "25/25 [==============================] - 14s 580ms/step - loss: 0.2096 - acc: 0.6796 - val_loss: 0.1873 - val_acc: 0.6800\n",
            "Epoch 10/50\n",
            "25/25 [==============================] - 15s 582ms/step - loss: 0.2077 - acc: 0.6847 - val_loss: 0.2000 - val_acc: 0.6600\n",
            "Epoch 11/50\n",
            "25/25 [==============================] - 15s 583ms/step - loss: 0.1915 - acc: 0.7010 - val_loss: 0.1708 - val_acc: 0.7200\n",
            "Epoch 12/50\n",
            "25/25 [==============================] - 15s 585ms/step - loss: 0.1951 - acc: 0.6897 - val_loss: 0.2297 - val_acc: 0.6100\n",
            "Epoch 13/50\n",
            "25/25 [==============================] - 15s 586ms/step - loss: 0.2030 - acc: 0.6784 - val_loss: 0.1772 - val_acc: 0.7300\n",
            "Epoch 14/50\n",
            "25/25 [==============================] - 15s 583ms/step - loss: 0.1793 - acc: 0.7085 - val_loss: 0.1885 - val_acc: 0.6700\n",
            "Epoch 15/50\n",
            "25/25 [==============================] - 15s 589ms/step - loss: 0.1816 - acc: 0.7136 - val_loss: 0.1979 - val_acc: 0.7000\n",
            "Epoch 16/50\n",
            "25/25 [==============================] - 15s 589ms/step - loss: 0.1888 - acc: 0.7085 - val_loss: 0.2028 - val_acc: 0.6400\n",
            "Epoch 17/50\n",
            "25/25 [==============================] - 15s 585ms/step - loss: 0.1732 - acc: 0.7261 - val_loss: 0.2320 - val_acc: 0.6600\n",
            "Epoch 18/50\n",
            "25/25 [==============================] - 15s 583ms/step - loss: 0.1740 - acc: 0.7173 - val_loss: 0.3751 - val_acc: 0.6000\n",
            "Epoch 19/50\n",
            "25/25 [==============================] - 15s 583ms/step - loss: 0.1685 - acc: 0.7312 - val_loss: 0.1787 - val_acc: 0.7600\n",
            "Epoch 20/50\n",
            "25/25 [==============================] - 15s 583ms/step - loss: 0.1631 - acc: 0.7387 - val_loss: 0.1806 - val_acc: 0.7200\n",
            "Epoch 21/50\n",
            "25/25 [==============================] - 15s 583ms/step - loss: 0.1628 - acc: 0.7437 - val_loss: 0.3150 - val_acc: 0.6800\n",
            "Epoch 22/50\n",
            "25/25 [==============================] - 15s 582ms/step - loss: 0.1626 - acc: 0.7399 - val_loss: 0.2106 - val_acc: 0.7000\n",
            "Epoch 23/50\n",
            "25/25 [==============================] - 15s 588ms/step - loss: 0.1672 - acc: 0.7337 - val_loss: 0.2124 - val_acc: 0.7200\n",
            "Epoch 24/50\n",
            "25/25 [==============================] - 15s 583ms/step - loss: 0.1587 - acc: 0.7487 - val_loss: 0.1963 - val_acc: 0.7100\n",
            "Epoch 25/50\n",
            "25/25 [==============================] - 15s 583ms/step - loss: 0.1688 - acc: 0.7374 - val_loss: 0.2703 - val_acc: 0.6400\n",
            "Epoch 26/50\n",
            "25/25 [==============================] - 15s 585ms/step - loss: 0.1801 - acc: 0.7161 - val_loss: 0.2441 - val_acc: 0.6800\n",
            "Epoch 27/50\n",
            "25/25 [==============================] - 15s 588ms/step - loss: 0.1682 - acc: 0.7412 - val_loss: 0.3370 - val_acc: 0.6700\n",
            "Epoch 28/50\n",
            "25/25 [==============================] - 15s 588ms/step - loss: 0.1696 - acc: 0.7425 - val_loss: 0.1896 - val_acc: 0.7100\n",
            "Epoch 29/50\n",
            "25/25 [==============================] - 15s 589ms/step - loss: 0.1696 - acc: 0.7249 - val_loss: 0.1994 - val_acc: 0.7200\n",
            "Epoch 30/50\n",
            "25/25 [==============================] - 15s 583ms/step - loss: 0.1521 - acc: 0.7412 - val_loss: 0.1793 - val_acc: 0.7200\n",
            "Epoch 31/50\n",
            "25/25 [==============================] - 15s 589ms/step - loss: 0.1544 - acc: 0.7525 - val_loss: 0.2591 - val_acc: 0.6900\n",
            "Epoch 32/50\n",
            "25/25 [==============================] - 15s 584ms/step - loss: 0.1608 - acc: 0.7450 - val_loss: 0.1877 - val_acc: 0.7200\n",
            "Epoch 33/50\n",
            "25/25 [==============================] - 15s 584ms/step - loss: 0.1492 - acc: 0.7550 - val_loss: 0.1882 - val_acc: 0.7200\n",
            "Epoch 34/50\n",
            "25/25 [==============================] - 15s 583ms/step - loss: 0.1431 - acc: 0.7563 - val_loss: 0.2006 - val_acc: 0.7000\n",
            "Epoch 35/50\n",
            "25/25 [==============================] - 15s 582ms/step - loss: 0.1376 - acc: 0.7751 - val_loss: 0.1922 - val_acc: 0.7100\n",
            "Epoch 36/50\n",
            "25/25 [==============================] - 15s 583ms/step - loss: 0.1405 - acc: 0.7802 - val_loss: 0.2147 - val_acc: 0.7100\n",
            "Epoch 37/50\n",
            "25/25 [==============================] - 15s 582ms/step - loss: 0.1508 - acc: 0.7626 - val_loss: 0.2204 - val_acc: 0.7100\n",
            "Epoch 38/50\n",
            "25/25 [==============================] - 15s 583ms/step - loss: 0.1528 - acc: 0.7475 - val_loss: 0.2096 - val_acc: 0.7200\n",
            "Epoch 39/50\n",
            "25/25 [==============================] - 15s 585ms/step - loss: 0.1578 - acc: 0.7500 - val_loss: 0.2232 - val_acc: 0.6500\n",
            "Epoch 40/50\n",
            "25/25 [==============================] - 15s 583ms/step - loss: 0.1535 - acc: 0.7563 - val_loss: 0.2012 - val_acc: 0.6700\n",
            "Epoch 41/50\n",
            "25/25 [==============================] - 15s 582ms/step - loss: 0.1426 - acc: 0.7739 - val_loss: 0.2343 - val_acc: 0.7200\n",
            "Epoch 42/50\n",
            "25/25 [==============================] - 15s 582ms/step - loss: 0.1409 - acc: 0.7688 - val_loss: 0.2163 - val_acc: 0.6800\n",
            "Epoch 43/50\n",
            "25/25 [==============================] - 15s 582ms/step - loss: 0.1461 - acc: 0.7500 - val_loss: 0.1893 - val_acc: 0.7200\n",
            "Epoch 44/50\n",
            "25/25 [==============================] - 15s 582ms/step - loss: 0.1317 - acc: 0.7864 - val_loss: 0.2296 - val_acc: 0.7100\n",
            "Epoch 45/50\n",
            "25/25 [==============================] - 15s 583ms/step - loss: 0.1289 - acc: 0.7852 - val_loss: 0.4536 - val_acc: 0.6500\n",
            "Epoch 46/50\n",
            "25/25 [==============================] - 15s 588ms/step - loss: 0.1406 - acc: 0.7726 - val_loss: 0.2075 - val_acc: 0.7100\n",
            "Epoch 47/50\n",
            "25/25 [==============================] - 15s 582ms/step - loss: 0.1604 - acc: 0.7575 - val_loss: 0.1978 - val_acc: 0.6700\n",
            "Epoch 48/50\n",
            "25/25 [==============================] - 15s 582ms/step - loss: 0.1370 - acc: 0.7789 - val_loss: 0.2213 - val_acc: 0.7200\n",
            "Epoch 49/50\n",
            "25/25 [==============================] - 15s 589ms/step - loss: 0.1318 - acc: 0.7776 - val_loss: 0.2896 - val_acc: 0.7300\n",
            "Epoch 50/50\n",
            "25/25 [==============================] - 15s 584ms/step - loss: 0.1486 - acc: 0.7663 - val_loss: 0.2106 - val_acc: 0.6900\n"
          ]
        }
      ],
      "source": [
        "train_datagen = ImageDataGenerator(rescale=1. / 255, \n",
        "                                   rotation_range=15,\n",
        "                                   width_shift_range=0.1,\n",
        "                                   height_shift_range=0.1,\n",
        "                                   shear_range=0.01,\n",
        "                                   zoom_range=[0.9, 1.25],\n",
        "                                   horizontal_flip=True,\n",
        "                                   vertical_flip=False,\n",
        "                                   fill_mode='reflect')\n",
        "valtest_datagen = ImageDataGenerator(rescale=1. / 255)\n",
        "\n",
        "train_generator = train_datagen.flow(np.array(X_train), y_train, batch_size=batch_size)\n",
        "validation_generator = valtest_datagen.flow(np.array(X_val), y_val, batch_size=batch_size)\n",
        "test_generator = valtest_datagen.flow(np.array(X_test), y_test, batch_size=batch_size)\n",
        "\n",
        "history = model.fit(np.array(X_train), np.array(y_train), validation_data=(np.array(X_val), np.array(y_val)), epochs=50)\n"
      ]
    },
    {
      "cell_type": "code",
      "execution_count": null,
      "metadata": {
        "id": "F-niGU5oA-q4"
      },
      "outputs": [],
      "source": [
        "model.save_weights('/content/drive/MyDrive/Datasets - Copy/8020weights.h5')\n"
      ]
    },
    {
      "cell_type": "code",
      "execution_count": null,
      "metadata": {
        "id": "FNGBtlTeB1jp"
      },
      "outputs": [],
      "source": [
        "model.load_weights('/content/drive/MyDrive/Datasets - Copy/8020weights.h5')\n"
      ]
    },
    {
      "cell_type": "code",
      "execution_count": null,
      "metadata": {
        "id": "YMJ6snRnB5nh",
        "colab": {
          "base_uri": "https://localhost:8080/",
          "height": 896
        },
        "outputId": "3bfce3fd-ae95-44e5-8d19-a9aebe92987c"
      },
      "outputs": [
        {
          "output_type": "display_data",
          "data": {
            "text/plain": [
              "<Figure size 432x288 with 1 Axes>"
            ],
            "image/png": "[encoded data removed]"
          },
          "metadata": {
            "needs_background": "light"
          }
        },
        {
          "output_type": "display_data",
          "data": {
            "text/plain": [
              "<Figure size 432x288 with 1 Axes>"
            ],
            "image/png": "[encoded data removed]"
          },
          "metadata": {
            "needs_background": "light"
          }
        },
        {
          "output_type": "display_data",
          "data": {
            "text/plain": [
              "<Figure size 360x360 with 2 Axes>"
            ],
            "image/png": "[encoded data removed]"
          },
          "metadata": {
            "needs_background": "light"
          }
        }
      ],
      "source": [
        "acc = history.history['acc']\n",
        "val_acc = history.history['val_acc']\n",
        "loss = history.history['loss']\n",
        "val_loss = history.history['val_loss']\n",
        "epochs = range(1, len(acc) + 1)\n",
        "plt.plot(epochs, acc, 'blue', label='Training acc')\n",
        "plt.plot(epochs, val_acc, 'red', label='Validation acc')\n",
        "plt.title('Training and validation accuracy')\n",
        "plt.legend()\n",
        "plt.savefig(\"/content/drive/MyDrive/Datasets - Copy/trvlAcc.png\")\n",
        "plt.show()\n",
        "\n",
        "plt.figure()\n",
        "plt.plot(epochs, loss, 'blue', label='Training loss')\n",
        "plt.plot(epochs, val_loss, 'red', label='Validation loss')\n",
        "plt.title('Training and validation loss')\n",
        "plt.legend()\n",
        "plt.savefig(\"/content/drive/MyDrive/Datasets - Copy/trvlLoss.png\")\n",
        "plt.show()\n",
        "\n",
        "import sklearn\n",
        "import itertools\n",
        "from sklearn.metrics import confusion_matrix\n",
        "dict_characters = {0: 'Clear', 1: 'Blurry'}\n",
        "def plot_confusion_matrix(cm, classes,\n",
        "                          normalize=False,\n",
        "                          title='Confusion matrix',\n",
        "                          cmap=plt.cm.Blues):\n",
        "    plt.figure(figsize = (5,5))\n",
        "    plt.imshow(cm, interpolation='nearest', cmap=cmap)\n",
        "    plt.title(title)\n",
        "    plt.colorbar()\n",
        "    tick_marks = np.arange(len(classes))\n",
        "    plt.xticks(tick_marks, classes, rotation=90)\n",
        "    plt.yticks(tick_marks, classes)\n",
        "    if normalize:\n",
        "        cm = cm.astype('float') / cm.sum(axis=1)[:, np.newaxis]\n",
        "    thresh = cm.max() / 2.\n",
        "    for i, j in itertools.product(range(cm.shape[0]), range(cm.shape[1])):\n",
        "        plt.text(j, i, cm[i, j],\n",
        "                 horizontalalignment=\"center\",\n",
        "                 color=\"white\" if cm[i, j] > thresh else \"black\")\n",
        "    plt.tight_layout()\n",
        "    plt.ylabel('True label')\n",
        "    plt.xlabel('Predicted label')\n",
        "    plt.savefig(\"/content/drive/MyDrive/Datasets - Copy/cm-\"+title+\".png\")\n",
        "    plt.show()\n",
        "\n",
        "    \n",
        "a=np.array(X_test)\n",
        "b=np.array(y_test)\n",
        "Y_pred = model.predict(a)\n",
        "\n",
        "\n",
        "Y_pred_classes = np.argmax(Y_pred,axis=1)\n",
        "confusion_mtx = confusion_matrix(np.argmax(b,axis=1), Y_pred_classes) \n",
        "plot_confusion_matrix(confusion_mtx, classes = list(image_classes))"
      ]
    },
    {
      "cell_type": "code",
      "execution_count": null,
      "metadata": {
        "id": "oL1vpGz6TFJf",
        "colab": {
          "base_uri": "https://localhost:8080/"
        },
        "outputId": "b36a7248-ac58-4c50-8188-388bb5fa4299"
      },
      "outputs": [
        {
          "output_type": "execute_result",
          "data": {
            "text/plain": [
              "0.69"
            ]
          },
          "metadata": {},
          "execution_count": 12
        }
      ],
      "source": [
        "sklearn.metrics.accuracy_score(Y_pred_classes,np.argmax(b,axis=1))\n"
      ]
    },
    {
      "cell_type": "code",
      "execution_count": null,
      "metadata": {
        "id": "MRVPLK-QTitJ",
        "colab": {
          "base_uri": "https://localhost:8080/"
        },
        "outputId": "d415992a-1a20-425d-9137-0a967d9f84e2"
      },
      "outputs": [
        {
          "output_type": "execute_result",
          "data": {
            "text/plain": [
              "array([[ 2,  0,  0,  0,  0,  0],\n",
              "       [ 0,  7,  6,  5,  0,  0],\n",
              "       [ 0,  4, 14,  2,  0,  0],\n",
              "       [ 0,  2,  0, 21,  0,  0],\n",
              "       [ 0,  3,  0,  6, 15,  0],\n",
              "       [ 0,  0,  0,  3,  0, 10]])"
            ]
          },
          "metadata": {},
          "execution_count": 13
        }
      ],
      "source": [
        "confusion_mtx\n"
      ]
    },
    {
      "cell_type": "code",
      "execution_count": null,
      "metadata": {
        "id": "hZeFNFxTbhA-",
        "colab": {
          "base_uri": "https://localhost:8080/"
        },
        "outputId": "46b6c436-ba0d-4369-b57d-3bb4067ebff2"
      },
      "outputs": [
        {
          "output_type": "execute_result",
          "data": {
            "text/plain": [
              "[2, 18, 20, 23, 24, 13]"
            ]
          },
          "metadata": {},
          "execution_count": 14
        }
      ],
      "source": [
        "class_totals = [sum(i) for i in confusion_mtx]\n",
        "class_totals"
      ]
    },
    {
      "cell_type": "code",
      "execution_count": null,
      "metadata": {
        "id": "Ek7KoYxMblDV",
        "colab": {
          "base_uri": "https://localhost:8080/"
        },
        "outputId": "b3c9f8fc-e1ae-4e5f-f64a-83f09879d31e"
      },
      "outputs": [
        {
          "output_type": "execute_result",
          "data": {
            "text/plain": [
              "[2, 7, 14, 21, 15, 10]"
            ]
          },
          "metadata": {},
          "execution_count": 15
        }
      ],
      "source": [
        "class_correct_pred = [confusion_mtx[i][i] for i in range(6)]\n",
        "class_correct_pred"
      ]
    },
    {
      "cell_type": "code",
      "execution_count": null,
      "metadata": {
        "id": "oRJywwp7bnh9",
        "colab": {
          "base_uri": "https://localhost:8080/"
        },
        "outputId": "025f46f6-ec7d-492c-8ca6-3c953a282948"
      },
      "outputs": [
        {
          "output_type": "execute_result",
          "data": {
            "text/plain": [
              "[1.0, 0.3888888888888889, 0.7, 0.9130434782608695, 0.625, 0.7692307692307693]"
            ]
          },
          "metadata": {},
          "execution_count": 16
        }
      ],
      "source": [
        "accuracies = [class_correct_pred[i]/class_totals[i] for i in range(6)]\n",
        "accuracies"
      ]
    },
    {
      "cell_type": "code",
      "execution_count": null,
      "metadata": {
        "id": "tiyoKLXRbpge",
        "colab": {
          "base_uri": "https://localhost:8080/"
        },
        "outputId": "15e67d53-0771-4485-b57d-b98c1eb680df"
      },
      "outputs": [
        {
          "output_type": "execute_result",
          "data": {
            "text/plain": [
              "[1.0, 0.3888888888888889, 0.7, 0.9130434782608695, 0.625, 0.7692307692307693]"
            ]
          },
          "metadata": {},
          "execution_count": 17
        }
      ],
      "source": [
        "class_totals = [sum(i) for i in confusion_mtx]\n",
        "class_totals\n",
        "\n",
        "tp = [confusion_mtx[i][i] for i in range(6)]\n",
        "tp\n",
        "\n",
        "sensetivity = [tp[i]/class_totals[i] for i in range(6)]\n",
        "sensetivity"
      ]
    },
    {
      "cell_type": "code",
      "execution_count": null,
      "metadata": {
        "id": "bQhIA-q8btxe",
        "colab": {
          "base_uri": "https://localhost:8080/"
        },
        "outputId": "b82a4ecc-07fe-43b7-88a9-0e7d0d5d762d"
      },
      "outputs": [
        {
          "output_type": "execute_result",
          "data": {
            "text/plain": [
              "[0, 9, 6, 16, 0, 0]"
            ]
          },
          "metadata": {},
          "execution_count": 18
        }
      ],
      "source": [
        "fp = [[sum(x) for x in zip(*confusion_mtx)][i] - tp[i] for i in range(6)]\n",
        "fp"
      ]
    },
    {
      "cell_type": "code",
      "execution_count": null,
      "metadata": {
        "id": "UK_W59LXbvzG",
        "colab": {
          "base_uri": "https://localhost:8080/"
        },
        "outputId": "63239bb8-e4a1-4724-8b75-5a8110909382"
      },
      "outputs": [
        {
          "output_type": "stream",
          "name": "stdout",
          "text": [
            "100\n"
          ]
        },
        {
          "output_type": "execute_result",
          "data": {
            "text/plain": [
              "[1.0, 0.9032258064516129, 0.9302325581395349, 0.7974683544303798, 1.0, 1.0]"
            ]
          },
          "metadata": {},
          "execution_count": 19
        }
      ],
      "source": [
        "sumall = sum(map(sum, confusion_mtx))\n",
        "print(sumall)\n",
        "tn = [sumall - [sum(x) for x in zip(*confusion_mtx)][i] for i in range(6)]\n",
        "tn\n",
        "specificity = [tn[i]/(tn[i]+fp[i]) for i in range(6)]\n",
        "specificity"
      ]
    },
    {
      "cell_type": "code",
      "execution_count": null,
      "metadata": {
        "id": "buhU86_-qhxy",
        "colab": {
          "base_uri": "https://localhost:8080/"
        },
        "outputId": "d438cbf1-7880-431a-f6ff-155df705fd4c"
      },
      "outputs": [
        {
          "output_type": "stream",
          "name": "stdout",
          "text": [
            "Epoch 1/250\n",
            "25/25 [==============================] - 15s 582ms/step - loss: 0.1466 - acc: 0.7789 - val_loss: 0.2727 - val_acc: 0.6600\n",
            "Epoch 2/250\n",
            "25/25 [==============================] - 15s 592ms/step - loss: 0.1370 - acc: 0.7739 - val_loss: 0.2305 - val_acc: 0.7100\n",
            "Epoch 3/250\n",
            "25/25 [==============================] - 15s 586ms/step - loss: 0.1407 - acc: 0.7852 - val_loss: 0.1824 - val_acc: 0.7200\n",
            "Epoch 4/250\n",
            "25/25 [==============================] - 15s 589ms/step - loss: 0.1289 - acc: 0.7814 - val_loss: 0.2583 - val_acc: 0.7000\n",
            "Epoch 5/250\n",
            "25/25 [==============================] - 15s 583ms/step - loss: 0.1551 - acc: 0.7739 - val_loss: 0.2176 - val_acc: 0.7300\n",
            "Epoch 6/250\n",
            "25/25 [==============================] - 15s 582ms/step - loss: 0.1417 - acc: 0.7726 - val_loss: 0.2375 - val_acc: 0.7100\n",
            "Epoch 7/250\n",
            "25/25 [==============================] - 15s 589ms/step - loss: 0.1377 - acc: 0.7852 - val_loss: 0.1941 - val_acc: 0.6800\n",
            "Epoch 8/250\n",
            "25/25 [==============================] - 15s 584ms/step - loss: 0.1450 - acc: 0.7676 - val_loss: 0.2341 - val_acc: 0.6900\n",
            "Epoch 9/250\n",
            "25/25 [==============================] - 15s 584ms/step - loss: 0.1378 - acc: 0.7688 - val_loss: 0.2187 - val_acc: 0.7100\n",
            "Epoch 10/250\n",
            "25/25 [==============================] - 15s 590ms/step - loss: 0.1246 - acc: 0.7965 - val_loss: 0.2162 - val_acc: 0.7500\n",
            "Epoch 11/250\n",
            "25/25 [==============================] - 15s 584ms/step - loss: 0.1512 - acc: 0.7764 - val_loss: 0.2182 - val_acc: 0.7000\n",
            "Epoch 12/250\n",
            "25/25 [==============================] - 15s 589ms/step - loss: 0.1347 - acc: 0.7915 - val_loss: 0.2578 - val_acc: 0.6900\n",
            "Epoch 13/250\n",
            "25/25 [==============================] - 15s 588ms/step - loss: 0.1219 - acc: 0.8015 - val_loss: 0.2430 - val_acc: 0.7200\n",
            "Epoch 14/250\n",
            "25/25 [==============================] - 15s 583ms/step - loss: 0.1128 - acc: 0.8040 - val_loss: 0.2601 - val_acc: 0.7100\n",
            "Epoch 15/250\n",
            "25/25 [==============================] - 15s 583ms/step - loss: 0.1146 - acc: 0.8128 - val_loss: 0.5650 - val_acc: 0.6300\n",
            "Epoch 16/250\n",
            "25/25 [==============================] - 15s 582ms/step - loss: 0.1224 - acc: 0.7902 - val_loss: 0.2409 - val_acc: 0.6900\n",
            "Epoch 17/250\n",
            "25/25 [==============================] - 15s 589ms/step - loss: 0.1160 - acc: 0.7952 - val_loss: 0.2296 - val_acc: 0.7200\n",
            "Epoch 18/250\n",
            "25/25 [==============================] - 15s 583ms/step - loss: 0.1142 - acc: 0.8053 - val_loss: 0.2453 - val_acc: 0.7600\n",
            "Epoch 19/250\n",
            "25/25 [==============================] - 15s 583ms/step - loss: 0.1125 - acc: 0.8053 - val_loss: 0.2793 - val_acc: 0.6500\n",
            "Epoch 20/250\n",
            "25/25 [==============================] - 15s 588ms/step - loss: 0.1170 - acc: 0.7965 - val_loss: 0.2540 - val_acc: 0.6900\n",
            "Epoch 21/250\n",
            "25/25 [==============================] - 15s 582ms/step - loss: 0.1285 - acc: 0.7977 - val_loss: 0.2335 - val_acc: 0.6800\n",
            "Epoch 22/250\n",
            "25/25 [==============================] - 15s 583ms/step - loss: 0.1171 - acc: 0.8003 - val_loss: 0.2285 - val_acc: 0.7100\n",
            "Epoch 23/250\n",
            "25/25 [==============================] - 15s 589ms/step - loss: 0.1086 - acc: 0.8116 - val_loss: 0.2692 - val_acc: 0.7100\n",
            "Epoch 24/250\n",
            "25/25 [==============================] - 15s 584ms/step - loss: 0.1198 - acc: 0.8078 - val_loss: 0.2560 - val_acc: 0.6700\n",
            "Epoch 25/250\n",
            "25/25 [==============================] - 15s 584ms/step - loss: 0.1217 - acc: 0.7927 - val_loss: 0.2715 - val_acc: 0.6900\n",
            "Epoch 26/250\n",
            "25/25 [==============================] - 15s 584ms/step - loss: 0.1252 - acc: 0.8028 - val_loss: 0.2199 - val_acc: 0.7100\n",
            "Epoch 27/250\n",
            "25/25 [==============================] - 15s 584ms/step - loss: 0.1169 - acc: 0.8065 - val_loss: 0.3691 - val_acc: 0.7300\n",
            "Epoch 28/250\n",
            "25/25 [==============================] - 15s 583ms/step - loss: 0.1178 - acc: 0.8028 - val_loss: 0.2234 - val_acc: 0.6900\n",
            "Epoch 29/250\n",
            "25/25 [==============================] - 15s 584ms/step - loss: 0.1247 - acc: 0.7827 - val_loss: 0.2806 - val_acc: 0.7000\n",
            "Epoch 30/250\n",
            "25/25 [==============================] - 15s 590ms/step - loss: 0.1263 - acc: 0.7952 - val_loss: 0.2220 - val_acc: 0.6500\n",
            "Epoch 31/250\n",
            "25/25 [==============================] - 15s 589ms/step - loss: 0.1575 - acc: 0.7613 - val_loss: 0.1931 - val_acc: 0.6700\n",
            "Epoch 32/250\n",
            "25/25 [==============================] - 15s 584ms/step - loss: 0.1319 - acc: 0.7877 - val_loss: 0.2302 - val_acc: 0.7400\n",
            "Epoch 33/250\n",
            "25/25 [==============================] - 15s 583ms/step - loss: 0.1164 - acc: 0.8015 - val_loss: 0.2323 - val_acc: 0.7200\n",
            "Epoch 34/250\n",
            "25/25 [==============================] - 15s 588ms/step - loss: 0.1165 - acc: 0.7940 - val_loss: 0.2785 - val_acc: 0.7300\n",
            "Epoch 35/250\n",
            "25/25 [==============================] - 15s 588ms/step - loss: 0.1127 - acc: 0.8078 - val_loss: 0.2531 - val_acc: 0.7300\n",
            "Epoch 36/250\n",
            "25/25 [==============================] - 15s 588ms/step - loss: 0.1203 - acc: 0.7827 - val_loss: 0.2650 - val_acc: 0.7200\n",
            "Epoch 37/250\n",
            "25/25 [==============================] - 15s 583ms/step - loss: 0.1175 - acc: 0.8128 - val_loss: 0.2696 - val_acc: 0.7300\n",
            "Epoch 38/250\n",
            "25/25 [==============================] - 15s 584ms/step - loss: 0.1135 - acc: 0.8053 - val_loss: 0.2160 - val_acc: 0.7300\n",
            "Epoch 39/250\n",
            "25/25 [==============================] - 15s 584ms/step - loss: 0.1145 - acc: 0.8040 - val_loss: 0.2466 - val_acc: 0.7500\n",
            "Epoch 40/250\n",
            "25/25 [==============================] - 15s 585ms/step - loss: 0.1149 - acc: 0.7990 - val_loss: 0.2922 - val_acc: 0.7300\n",
            "Epoch 41/250\n",
            "25/25 [==============================] - 15s 583ms/step - loss: 0.1161 - acc: 0.8090 - val_loss: 0.3739 - val_acc: 0.7200\n",
            "Epoch 42/250\n",
            "25/25 [==============================] - 15s 588ms/step - loss: 0.1192 - acc: 0.7889 - val_loss: 0.3074 - val_acc: 0.7000\n",
            "Epoch 43/250\n",
            "25/25 [==============================] - 15s 583ms/step - loss: 0.1173 - acc: 0.7990 - val_loss: 0.2618 - val_acc: 0.7300\n",
            "Epoch 44/250\n",
            "25/25 [==============================] - 15s 584ms/step - loss: 0.1144 - acc: 0.8103 - val_loss: 0.2241 - val_acc: 0.7600\n",
            "Epoch 45/250\n",
            "25/25 [==============================] - 15s 584ms/step - loss: 0.1153 - acc: 0.7990 - val_loss: 0.3970 - val_acc: 0.7100\n",
            "Epoch 46/250\n",
            "25/25 [==============================] - 15s 585ms/step - loss: 0.1206 - acc: 0.7965 - val_loss: 0.1999 - val_acc: 0.7500\n",
            "Epoch 47/250\n",
            "25/25 [==============================] - 15s 584ms/step - loss: 0.1199 - acc: 0.7940 - val_loss: 0.2799 - val_acc: 0.7200\n",
            "Epoch 48/250\n",
            "25/25 [==============================] - 15s 585ms/step - loss: 0.1103 - acc: 0.8166 - val_loss: 0.2758 - val_acc: 0.7800\n",
            "Epoch 49/250\n",
            "25/25 [==============================] - 15s 584ms/step - loss: 0.1194 - acc: 0.7952 - val_loss: 0.2671 - val_acc: 0.7100\n",
            "Epoch 50/250\n",
            "25/25 [==============================] - 15s 585ms/step - loss: 0.1242 - acc: 0.8003 - val_loss: 0.3295 - val_acc: 0.7300\n",
            "Epoch 51/250\n",
            "25/25 [==============================] - 15s 584ms/step - loss: 0.1171 - acc: 0.8078 - val_loss: 0.1816 - val_acc: 0.7600\n",
            "Epoch 52/250\n",
            "25/25 [==============================] - 15s 590ms/step - loss: 0.1125 - acc: 0.8103 - val_loss: 0.1885 - val_acc: 0.7400\n",
            "Epoch 53/250\n",
            "25/25 [==============================] - 15s 584ms/step - loss: 0.1087 - acc: 0.8141 - val_loss: 0.2373 - val_acc: 0.7400\n",
            "Epoch 54/250\n",
            "25/25 [==============================] - 15s 584ms/step - loss: 0.1090 - acc: 0.8003 - val_loss: 0.2559 - val_acc: 0.7100\n",
            "Epoch 55/250\n",
            "25/25 [==============================] - 15s 589ms/step - loss: 0.1068 - acc: 0.8141 - val_loss: 0.2729 - val_acc: 0.7400\n",
            "Epoch 56/250\n",
            "25/25 [==============================] - 15s 590ms/step - loss: 0.1083 - acc: 0.8103 - val_loss: 0.2905 - val_acc: 0.7000\n",
            "Epoch 57/250\n",
            "25/25 [==============================] - 15s 584ms/step - loss: 0.1140 - acc: 0.8028 - val_loss: 0.1947 - val_acc: 0.7300\n",
            "Epoch 58/250\n",
            "25/25 [==============================] - 15s 590ms/step - loss: 0.1117 - acc: 0.8028 - val_loss: 0.2509 - val_acc: 0.7300\n",
            "Epoch 59/250\n",
            "25/25 [==============================] - 15s 590ms/step - loss: 0.1075 - acc: 0.8103 - val_loss: 0.2416 - val_acc: 0.7500\n",
            "Epoch 60/250\n",
            "25/25 [==============================] - 15s 590ms/step - loss: 0.1048 - acc: 0.8153 - val_loss: 0.2418 - val_acc: 0.7500\n",
            "Epoch 61/250\n",
            "25/25 [==============================] - 15s 589ms/step - loss: 0.1138 - acc: 0.8040 - val_loss: 0.2560 - val_acc: 0.7100\n",
            "Epoch 62/250\n",
            "25/25 [==============================] - 15s 590ms/step - loss: 0.1139 - acc: 0.8003 - val_loss: 0.3066 - val_acc: 0.7000\n",
            "Epoch 63/250\n",
            "25/25 [==============================] - 15s 589ms/step - loss: 0.1313 - acc: 0.7990 - val_loss: 0.2731 - val_acc: 0.7000\n",
            "Epoch 64/250\n",
            "25/25 [==============================] - 15s 584ms/step - loss: 0.1247 - acc: 0.7977 - val_loss: 0.2179 - val_acc: 0.7600\n",
            "Epoch 65/250\n",
            "25/25 [==============================] - 15s 584ms/step - loss: 0.1113 - acc: 0.8053 - val_loss: 0.2875 - val_acc: 0.7000\n",
            "Epoch 66/250\n",
            "25/25 [==============================] - 15s 584ms/step - loss: 0.1127 - acc: 0.8015 - val_loss: 0.2828 - val_acc: 0.7200\n",
            "Epoch 67/250\n",
            "25/25 [==============================] - 15s 584ms/step - loss: 0.1081 - acc: 0.8153 - val_loss: 0.2783 - val_acc: 0.7100\n",
            "Epoch 68/250\n",
            "25/25 [==============================] - 15s 585ms/step - loss: 0.1055 - acc: 0.8178 - val_loss: 0.3002 - val_acc: 0.7000\n",
            "Epoch 69/250\n",
            "25/25 [==============================] - 15s 589ms/step - loss: 0.1411 - acc: 0.7714 - val_loss: 0.2505 - val_acc: 0.6500\n",
            "Epoch 70/250\n",
            "25/25 [==============================] - 15s 589ms/step - loss: 0.1440 - acc: 0.7726 - val_loss: 0.3457 - val_acc: 0.6600\n",
            "Epoch 71/250\n",
            "25/25 [==============================] - 15s 583ms/step - loss: 0.1355 - acc: 0.7714 - val_loss: 0.2691 - val_acc: 0.6800\n",
            "Epoch 72/250\n",
            "25/25 [==============================] - 15s 583ms/step - loss: 0.1296 - acc: 0.7839 - val_loss: 0.2675 - val_acc: 0.7100\n",
            "Epoch 73/250\n",
            "25/25 [==============================] - 15s 589ms/step - loss: 0.1318 - acc: 0.7814 - val_loss: 0.2860 - val_acc: 0.6800\n",
            "Epoch 74/250\n",
            "25/25 [==============================] - 15s 589ms/step - loss: 0.1215 - acc: 0.7902 - val_loss: 0.2432 - val_acc: 0.7300\n",
            "Epoch 75/250\n",
            "25/25 [==============================] - 15s 589ms/step - loss: 0.1162 - acc: 0.8040 - val_loss: 0.2228 - val_acc: 0.7100\n",
            "Epoch 76/250\n",
            "25/25 [==============================] - 15s 589ms/step - loss: 0.1113 - acc: 0.8116 - val_loss: 0.2386 - val_acc: 0.7300\n",
            "Epoch 77/250\n",
            "25/25 [==============================] - 15s 584ms/step - loss: 0.1123 - acc: 0.8065 - val_loss: 0.2724 - val_acc: 0.6800\n",
            "Epoch 78/250\n",
            "25/25 [==============================] - 15s 585ms/step - loss: 0.1160 - acc: 0.7977 - val_loss: 0.2530 - val_acc: 0.7000\n",
            "Epoch 79/250\n",
            "25/25 [==============================] - 15s 584ms/step - loss: 0.1134 - acc: 0.8078 - val_loss: 0.2607 - val_acc: 0.7200\n",
            "Epoch 80/250\n",
            "25/25 [==============================] - 15s 584ms/step - loss: 0.1149 - acc: 0.8116 - val_loss: 0.2329 - val_acc: 0.7300\n",
            "Epoch 81/250\n",
            "25/25 [==============================] - 15s 585ms/step - loss: 0.1211 - acc: 0.8090 - val_loss: 0.2978 - val_acc: 0.7400\n",
            "Epoch 82/250\n",
            "25/25 [==============================] - 15s 584ms/step - loss: 0.1267 - acc: 0.7902 - val_loss: 0.2994 - val_acc: 0.6500\n",
            "Epoch 83/250\n",
            "25/25 [==============================] - 15s 590ms/step - loss: 0.1203 - acc: 0.8028 - val_loss: 0.2622 - val_acc: 0.7300\n",
            "Epoch 84/250\n",
            "25/25 [==============================] - 15s 590ms/step - loss: 0.1166 - acc: 0.7927 - val_loss: 0.2599 - val_acc: 0.7200\n",
            "Epoch 85/250\n",
            "25/25 [==============================] - 15s 584ms/step - loss: 0.1223 - acc: 0.7977 - val_loss: 0.2779 - val_acc: 0.6900\n",
            "Epoch 86/250\n",
            "25/25 [==============================] - 15s 590ms/step - loss: 0.1187 - acc: 0.8003 - val_loss: 0.2465 - val_acc: 0.7200\n",
            "Epoch 87/250\n",
            "25/25 [==============================] - 15s 589ms/step - loss: 0.1161 - acc: 0.8141 - val_loss: 0.2953 - val_acc: 0.7300\n",
            "Epoch 88/250\n",
            "25/25 [==============================] - 15s 584ms/step - loss: 0.1126 - acc: 0.8141 - val_loss: 0.2843 - val_acc: 0.7400\n",
            "Epoch 89/250\n",
            "25/25 [==============================] - 15s 583ms/step - loss: 0.1104 - acc: 0.8128 - val_loss: 0.3199 - val_acc: 0.7500\n",
            "Epoch 90/250\n",
            "25/25 [==============================] - 15s 584ms/step - loss: 0.1134 - acc: 0.8128 - val_loss: 0.2204 - val_acc: 0.7200\n",
            "Epoch 91/250\n",
            "25/25 [==============================] - 15s 583ms/step - loss: 0.1095 - acc: 0.8078 - val_loss: 0.2700 - val_acc: 0.6900\n",
            "Epoch 92/250\n",
            "25/25 [==============================] - 15s 585ms/step - loss: 0.1150 - acc: 0.8090 - val_loss: 0.2250 - val_acc: 0.7100\n",
            "Epoch 93/250\n",
            "25/25 [==============================] - 15s 584ms/step - loss: 0.1150 - acc: 0.8003 - val_loss: 0.2272 - val_acc: 0.7400\n",
            "Epoch 94/250\n",
            "25/25 [==============================] - 15s 584ms/step - loss: 0.1159 - acc: 0.8028 - val_loss: 0.2626 - val_acc: 0.7100\n",
            "Epoch 95/250\n",
            "25/25 [==============================] - 15s 584ms/step - loss: 0.1101 - acc: 0.8015 - val_loss: 0.3006 - val_acc: 0.7200\n",
            "Epoch 96/250\n",
            "25/25 [==============================] - 15s 584ms/step - loss: 0.1061 - acc: 0.8053 - val_loss: 0.2864 - val_acc: 0.7100\n",
            "Epoch 97/250\n",
            "25/25 [==============================] - 15s 584ms/step - loss: 0.1074 - acc: 0.8141 - val_loss: 0.3026 - val_acc: 0.7300\n",
            "Epoch 98/250\n",
            "25/25 [==============================] - 15s 589ms/step - loss: 0.1091 - acc: 0.8015 - val_loss: 0.2588 - val_acc: 0.7100\n",
            "Epoch 99/250\n",
            "25/25 [==============================] - 15s 589ms/step - loss: 0.1216 - acc: 0.8065 - val_loss: 0.2223 - val_acc: 0.7400\n",
            "Epoch 100/250\n",
            "25/25 [==============================] - 15s 589ms/step - loss: 0.1043 - acc: 0.8178 - val_loss: 0.2675 - val_acc: 0.7500\n",
            "Epoch 101/250\n",
            "25/25 [==============================] - 15s 585ms/step - loss: 0.1056 - acc: 0.8116 - val_loss: 0.2718 - val_acc: 0.7300\n",
            "Epoch 102/250\n",
            "25/25 [==============================] - 15s 583ms/step - loss: 0.1049 - acc: 0.8153 - val_loss: 0.3060 - val_acc: 0.6700\n",
            "Epoch 103/250\n",
            "25/25 [==============================] - 15s 584ms/step - loss: 0.1065 - acc: 0.8090 - val_loss: 0.3211 - val_acc: 0.7100\n",
            "Epoch 104/250\n",
            "25/25 [==============================] - 15s 589ms/step - loss: 0.1140 - acc: 0.8128 - val_loss: 0.2982 - val_acc: 0.7000\n",
            "Epoch 105/250\n",
            "25/25 [==============================] - 15s 585ms/step - loss: 0.1170 - acc: 0.7864 - val_loss: 0.2835 - val_acc: 0.7300\n",
            "Epoch 106/250\n",
            "25/25 [==============================] - 15s 585ms/step - loss: 0.1155 - acc: 0.8078 - val_loss: 0.3339 - val_acc: 0.6700\n",
            "Epoch 107/250\n",
            "25/25 [==============================] - 15s 584ms/step - loss: 0.1096 - acc: 0.7977 - val_loss: 0.3019 - val_acc: 0.7500\n",
            "Epoch 108/250\n",
            "25/25 [==============================] - 15s 584ms/step - loss: 0.1054 - acc: 0.8216 - val_loss: 0.3449 - val_acc: 0.7200\n",
            "Epoch 109/250\n",
            "25/25 [==============================] - 15s 590ms/step - loss: 0.1050 - acc: 0.8116 - val_loss: 0.2974 - val_acc: 0.7200\n",
            "Epoch 110/250\n",
            "25/25 [==============================] - 15s 590ms/step - loss: 0.1160 - acc: 0.8229 - val_loss: 0.2922 - val_acc: 0.7200\n",
            "Epoch 111/250\n",
            "25/25 [==============================] - 15s 584ms/step - loss: 0.1042 - acc: 0.8178 - val_loss: 0.2996 - val_acc: 0.7400\n",
            "Epoch 112/250\n",
            "25/25 [==============================] - 15s 590ms/step - loss: 0.1037 - acc: 0.8254 - val_loss: 0.3151 - val_acc: 0.7400\n",
            "Epoch 113/250\n",
            "25/25 [==============================] - 15s 590ms/step - loss: 0.1029 - acc: 0.8204 - val_loss: 0.2945 - val_acc: 0.7400\n",
            "Epoch 114/250\n",
            "25/25 [==============================] - 15s 591ms/step - loss: 0.1058 - acc: 0.8178 - val_loss: 0.3086 - val_acc: 0.7300\n",
            "Epoch 115/250\n",
            "25/25 [==============================] - 15s 590ms/step - loss: 0.1040 - acc: 0.8229 - val_loss: 0.3423 - val_acc: 0.7300\n",
            "Epoch 116/250\n",
            "25/25 [==============================] - 15s 584ms/step - loss: 0.1066 - acc: 0.8065 - val_loss: 0.3120 - val_acc: 0.7000\n",
            "Epoch 117/250\n",
            "25/25 [==============================] - 15s 597ms/step - loss: 0.1063 - acc: 0.8128 - val_loss: 0.2949 - val_acc: 0.7000\n",
            "Epoch 118/250\n",
            "25/25 [==============================] - 15s 589ms/step - loss: 0.1049 - acc: 0.8116 - val_loss: 0.3221 - val_acc: 0.7200\n",
            "Epoch 119/250\n",
            "25/25 [==============================] - 15s 583ms/step - loss: 0.1040 - acc: 0.8116 - val_loss: 0.3206 - val_acc: 0.7300\n",
            "Epoch 120/250\n",
            "25/25 [==============================] - 15s 583ms/step - loss: 0.1013 - acc: 0.8241 - val_loss: 0.3046 - val_acc: 0.7300\n",
            "Epoch 121/250\n",
            "25/25 [==============================] - 15s 583ms/step - loss: 0.1034 - acc: 0.8090 - val_loss: 0.3049 - val_acc: 0.7200\n",
            "Epoch 122/250\n",
            "25/25 [==============================] - 15s 586ms/step - loss: 0.1042 - acc: 0.8166 - val_loss: 0.3082 - val_acc: 0.6900\n",
            "Epoch 123/250\n",
            "25/25 [==============================] - 15s 583ms/step - loss: 0.1025 - acc: 0.8191 - val_loss: 0.2767 - val_acc: 0.7400\n",
            "Epoch 124/250\n",
            "25/25 [==============================] - 15s 588ms/step - loss: 0.1021 - acc: 0.8166 - val_loss: 0.2826 - val_acc: 0.7300\n",
            "Epoch 125/250\n",
            "25/25 [==============================] - 15s 589ms/step - loss: 0.1015 - acc: 0.8166 - val_loss: 0.2965 - val_acc: 0.7200\n",
            "Epoch 126/250\n",
            "25/25 [==============================] - 15s 589ms/step - loss: 0.1061 - acc: 0.8103 - val_loss: 0.2981 - val_acc: 0.7500\n",
            "Epoch 127/250\n",
            "25/25 [==============================] - 15s 584ms/step - loss: 0.1059 - acc: 0.8304 - val_loss: 0.3143 - val_acc: 0.7300\n",
            "Epoch 128/250\n",
            "25/25 [==============================] - 15s 584ms/step - loss: 0.1032 - acc: 0.8178 - val_loss: 0.3337 - val_acc: 0.7300\n",
            "Epoch 129/250\n",
            "25/25 [==============================] - 15s 585ms/step - loss: 0.1017 - acc: 0.8216 - val_loss: 0.3433 - val_acc: 0.7400\n",
            "Epoch 130/250\n",
            "25/25 [==============================] - 15s 584ms/step - loss: 0.1034 - acc: 0.8178 - val_loss: 0.3333 - val_acc: 0.7200\n",
            "Epoch 131/250\n",
            "25/25 [==============================] - 15s 584ms/step - loss: 0.1052 - acc: 0.8153 - val_loss: 0.3035 - val_acc: 0.7200\n",
            "Epoch 132/250\n",
            "25/25 [==============================] - 15s 584ms/step - loss: 0.1033 - acc: 0.8103 - val_loss: 0.3403 - val_acc: 0.7100\n",
            "Epoch 133/250\n",
            "25/25 [==============================] - 15s 584ms/step - loss: 0.1027 - acc: 0.8166 - val_loss: 0.3576 - val_acc: 0.6900\n",
            "Epoch 134/250\n",
            "25/25 [==============================] - 15s 585ms/step - loss: 0.1019 - acc: 0.8216 - val_loss: 0.3458 - val_acc: 0.6900\n",
            "Epoch 135/250\n",
            "25/25 [==============================] - 15s 583ms/step - loss: 0.1034 - acc: 0.8116 - val_loss: 0.3590 - val_acc: 0.6900\n",
            "Epoch 136/250\n",
            "25/25 [==============================] - 15s 585ms/step - loss: 0.1057 - acc: 0.8241 - val_loss: 0.3517 - val_acc: 0.7300\n",
            "Epoch 137/250\n",
            "25/25 [==============================] - 15s 590ms/step - loss: 0.1048 - acc: 0.8153 - val_loss: 0.3607 - val_acc: 0.7400\n",
            "Epoch 138/250\n",
            "25/25 [==============================] - 15s 585ms/step - loss: 0.1117 - acc: 0.8103 - val_loss: 0.3824 - val_acc: 0.6700\n",
            "Epoch 139/250\n",
            "25/25 [==============================] - 15s 585ms/step - loss: 0.1210 - acc: 0.7990 - val_loss: 0.3481 - val_acc: 0.7500\n",
            "Epoch 140/250\n",
            "25/25 [==============================] - 15s 584ms/step - loss: 0.1156 - acc: 0.7977 - val_loss: 0.2916 - val_acc: 0.7400\n",
            "Epoch 141/250\n",
            "25/25 [==============================] - 15s 589ms/step - loss: 0.1157 - acc: 0.8028 - val_loss: 0.3475 - val_acc: 0.7000\n",
            "Epoch 142/250\n",
            "25/25 [==============================] - 15s 589ms/step - loss: 0.1184 - acc: 0.8090 - val_loss: 0.2771 - val_acc: 0.7100\n",
            "Epoch 143/250\n",
            "25/25 [==============================] - 15s 583ms/step - loss: 0.1137 - acc: 0.8090 - val_loss: 0.2420 - val_acc: 0.7100\n",
            "Epoch 144/250\n",
            "25/25 [==============================] - 15s 590ms/step - loss: 0.1144 - acc: 0.7965 - val_loss: 0.2709 - val_acc: 0.6800\n",
            "Epoch 145/250\n",
            "25/25 [==============================] - 15s 584ms/step - loss: 0.1166 - acc: 0.8153 - val_loss: 0.2383 - val_acc: 0.7000\n",
            "Epoch 146/250\n",
            "25/25 [==============================] - 15s 584ms/step - loss: 0.1124 - acc: 0.8065 - val_loss: 0.2887 - val_acc: 0.6900\n",
            "Epoch 147/250\n",
            "25/25 [==============================] - 15s 584ms/step - loss: 0.1125 - acc: 0.8090 - val_loss: 0.2713 - val_acc: 0.6800\n",
            "Epoch 148/250\n",
            "25/25 [==============================] - 15s 583ms/step - loss: 0.1142 - acc: 0.7940 - val_loss: 0.3192 - val_acc: 0.7100\n",
            "Epoch 149/250\n",
            "25/25 [==============================] - 15s 584ms/step - loss: 0.1154 - acc: 0.7864 - val_loss: 0.2800 - val_acc: 0.7200\n",
            "Epoch 150/250\n",
            "25/25 [==============================] - 15s 584ms/step - loss: 0.1167 - acc: 0.8003 - val_loss: 0.2516 - val_acc: 0.7400\n",
            "Epoch 151/250\n",
            "25/25 [==============================] - 15s 585ms/step - loss: 0.1146 - acc: 0.8141 - val_loss: 0.2897 - val_acc: 0.7300\n",
            "Epoch 152/250\n",
            "25/25 [==============================] - 15s 584ms/step - loss: 0.1156 - acc: 0.8065 - val_loss: 0.2519 - val_acc: 0.7300\n",
            "Epoch 153/250\n",
            "25/25 [==============================] - 15s 585ms/step - loss: 0.1160 - acc: 0.8128 - val_loss: 0.2810 - val_acc: 0.7300\n",
            "Epoch 154/250\n",
            "25/25 [==============================] - 15s 585ms/step - loss: 0.1202 - acc: 0.8003 - val_loss: 0.2673 - val_acc: 0.6400\n",
            "Epoch 155/250\n",
            "25/25 [==============================] - 15s 585ms/step - loss: 0.1180 - acc: 0.8078 - val_loss: 0.3025 - val_acc: 0.7300\n",
            "Epoch 156/250\n",
            "25/25 [==============================] - 15s 584ms/step - loss: 0.1083 - acc: 0.8166 - val_loss: 0.3302 - val_acc: 0.7100\n",
            "Epoch 157/250\n",
            "25/25 [==============================] - 15s 584ms/step - loss: 0.1062 - acc: 0.8166 - val_loss: 0.3233 - val_acc: 0.6900\n",
            "Epoch 158/250\n",
            "25/25 [==============================] - 15s 584ms/step - loss: 0.1086 - acc: 0.8116 - val_loss: 0.3972 - val_acc: 0.7400\n",
            "Epoch 159/250\n",
            "25/25 [==============================] - 15s 584ms/step - loss: 0.1152 - acc: 0.8015 - val_loss: 0.3330 - val_acc: 0.7000\n",
            "Epoch 160/250\n",
            "25/25 [==============================] - 15s 590ms/step - loss: 0.1114 - acc: 0.8128 - val_loss: 0.3204 - val_acc: 0.7200\n",
            "Epoch 161/250\n",
            "25/25 [==============================] - 15s 584ms/step - loss: 0.1082 - acc: 0.8141 - val_loss: 0.2935 - val_acc: 0.7300\n",
            "Epoch 162/250\n",
            "25/25 [==============================] - 15s 590ms/step - loss: 0.1067 - acc: 0.8153 - val_loss: 0.3396 - val_acc: 0.6700\n",
            "Epoch 163/250\n",
            "25/25 [==============================] - 15s 590ms/step - loss: 0.1118 - acc: 0.8015 - val_loss: 0.2531 - val_acc: 0.7200\n",
            "Epoch 164/250\n",
            "25/25 [==============================] - 15s 583ms/step - loss: 0.1219 - acc: 0.7915 - val_loss: 0.2462 - val_acc: 0.7200\n",
            "Epoch 165/250\n",
            "25/25 [==============================] - 15s 590ms/step - loss: 0.1137 - acc: 0.8103 - val_loss: 0.2405 - val_acc: 0.7400\n",
            "Epoch 166/250\n",
            "25/25 [==============================] - 15s 584ms/step - loss: 0.1106 - acc: 0.8065 - val_loss: 0.2405 - val_acc: 0.6800\n",
            "Epoch 167/250\n",
            "25/25 [==============================] - 15s 585ms/step - loss: 0.1097 - acc: 0.8078 - val_loss: 0.2790 - val_acc: 0.7400\n",
            "Epoch 168/250\n",
            "25/25 [==============================] - 15s 585ms/step - loss: 0.1111 - acc: 0.8191 - val_loss: 0.2937 - val_acc: 0.7200\n",
            "Epoch 169/250\n",
            "25/25 [==============================] - 15s 591ms/step - loss: 0.1066 - acc: 0.8128 - val_loss: 0.2920 - val_acc: 0.7000\n",
            "Epoch 170/250\n",
            "25/25 [==============================] - 15s 584ms/step - loss: 0.1052 - acc: 0.8178 - val_loss: 0.2875 - val_acc: 0.7100\n",
            "Epoch 171/250\n",
            "25/25 [==============================] - 15s 590ms/step - loss: 0.1046 - acc: 0.8141 - val_loss: 0.3329 - val_acc: 0.6700\n",
            "Epoch 172/250\n",
            "25/25 [==============================] - 15s 584ms/step - loss: 0.1026 - acc: 0.8153 - val_loss: 0.3364 - val_acc: 0.7000\n",
            "Epoch 173/250\n",
            "25/25 [==============================] - 15s 590ms/step - loss: 0.1039 - acc: 0.8078 - val_loss: 0.3204 - val_acc: 0.7400\n",
            "Epoch 174/250\n",
            "25/25 [==============================] - 15s 585ms/step - loss: 0.1028 - acc: 0.8166 - val_loss: 0.3208 - val_acc: 0.7300\n",
            "Epoch 175/250\n",
            "25/25 [==============================] - 15s 585ms/step - loss: 0.1064 - acc: 0.8178 - val_loss: 0.2961 - val_acc: 0.7100\n",
            "Epoch 176/250\n",
            "25/25 [==============================] - 15s 586ms/step - loss: 0.1049 - acc: 0.8065 - val_loss: 0.3151 - val_acc: 0.7400\n",
            "Epoch 177/250\n",
            "25/25 [==============================] - 15s 585ms/step - loss: 0.1031 - acc: 0.8204 - val_loss: 0.3577 - val_acc: 0.7300\n",
            "Epoch 178/250\n",
            "25/25 [==============================] - 15s 585ms/step - loss: 0.1036 - acc: 0.8229 - val_loss: 0.3396 - val_acc: 0.7300\n",
            "Epoch 179/250\n",
            "25/25 [==============================] - 15s 585ms/step - loss: 0.1096 - acc: 0.8078 - val_loss: 0.3514 - val_acc: 0.6900\n",
            "Epoch 180/250\n",
            "25/25 [==============================] - 15s 585ms/step - loss: 0.1031 - acc: 0.8216 - val_loss: 0.3325 - val_acc: 0.7200\n",
            "Epoch 181/250\n",
            "25/25 [==============================] - 15s 591ms/step - loss: 0.1039 - acc: 0.8166 - val_loss: 0.3262 - val_acc: 0.7400\n",
            "Epoch 182/250\n",
            "25/25 [==============================] - 15s 585ms/step - loss: 0.1044 - acc: 0.8166 - val_loss: 0.3343 - val_acc: 0.7300\n",
            "Epoch 183/250\n",
            "25/25 [==============================] - 15s 585ms/step - loss: 0.1048 - acc: 0.8141 - val_loss: 0.2916 - val_acc: 0.7200\n",
            "Epoch 184/250\n",
            "25/25 [==============================] - 15s 585ms/step - loss: 0.1031 - acc: 0.8191 - val_loss: 0.3406 - val_acc: 0.7100\n",
            "Epoch 185/250\n",
            "25/25 [==============================] - 15s 585ms/step - loss: 0.1048 - acc: 0.8204 - val_loss: 0.3312 - val_acc: 0.7100\n",
            "Epoch 186/250\n",
            "25/25 [==============================] - 15s 584ms/step - loss: 0.1029 - acc: 0.8216 - val_loss: 0.3334 - val_acc: 0.7100\n",
            "Epoch 187/250\n",
            "25/25 [==============================] - 15s 585ms/step - loss: 0.1034 - acc: 0.8166 - val_loss: 0.3133 - val_acc: 0.7200\n",
            "Epoch 188/250\n",
            "25/25 [==============================] - 15s 586ms/step - loss: 0.1116 - acc: 0.8153 - val_loss: 0.3081 - val_acc: 0.6600\n",
            "Epoch 189/250\n",
            "25/25 [==============================] - 15s 590ms/step - loss: 0.1141 - acc: 0.8040 - val_loss: 0.2798 - val_acc: 0.7000\n",
            "Epoch 190/250\n",
            "25/25 [==============================] - 15s 591ms/step - loss: 0.1210 - acc: 0.7965 - val_loss: 0.3304 - val_acc: 0.7000\n",
            "Epoch 191/250\n",
            "25/25 [==============================] - 15s 586ms/step - loss: 0.1221 - acc: 0.8015 - val_loss: 0.3889 - val_acc: 0.6900\n",
            "Epoch 192/250\n",
            "25/25 [==============================] - 15s 585ms/step - loss: 0.1173 - acc: 0.8153 - val_loss: 0.3383 - val_acc: 0.7100\n",
            "Epoch 193/250\n",
            "25/25 [==============================] - 15s 585ms/step - loss: 0.1125 - acc: 0.8116 - val_loss: 0.3397 - val_acc: 0.7300\n",
            "Epoch 194/250\n",
            "25/25 [==============================] - 15s 586ms/step - loss: 0.1052 - acc: 0.8191 - val_loss: 0.3436 - val_acc: 0.7300\n",
            "Epoch 195/250\n",
            "25/25 [==============================] - 15s 597ms/step - loss: 0.1030 - acc: 0.8153 - val_loss: 0.3364 - val_acc: 0.7400\n",
            "Epoch 196/250\n",
            "25/25 [==============================] - 15s 589ms/step - loss: 0.1023 - acc: 0.8166 - val_loss: 0.3604 - val_acc: 0.7300\n",
            "Epoch 197/250\n",
            "25/25 [==============================] - 15s 589ms/step - loss: 0.1063 - acc: 0.8279 - val_loss: 0.4075 - val_acc: 0.6900\n",
            "Epoch 198/250\n",
            "25/25 [==============================] - 15s 600ms/step - loss: 0.1080 - acc: 0.8116 - val_loss: 0.3471 - val_acc: 0.6900\n",
            "Epoch 199/250\n",
            "25/25 [==============================] - 15s 585ms/step - loss: 0.1062 - acc: 0.8279 - val_loss: 0.3735 - val_acc: 0.6900\n",
            "Epoch 200/250\n",
            "25/25 [==============================] - 15s 595ms/step - loss: 0.1030 - acc: 0.8204 - val_loss: 0.3551 - val_acc: 0.7000\n",
            "Epoch 201/250\n",
            "25/25 [==============================] - 15s 593ms/step - loss: 0.1032 - acc: 0.8191 - val_loss: 0.3491 - val_acc: 0.7100\n",
            "Epoch 202/250\n",
            "25/25 [==============================] - 15s 590ms/step - loss: 0.1037 - acc: 0.8141 - val_loss: 0.3457 - val_acc: 0.7200\n",
            "Epoch 203/250\n",
            "25/25 [==============================] - 15s 588ms/step - loss: 0.1017 - acc: 0.8191 - val_loss: 0.3430 - val_acc: 0.7400\n",
            "Epoch 204/250\n",
            "25/25 [==============================] - 15s 589ms/step - loss: 0.1020 - acc: 0.8128 - val_loss: 0.3534 - val_acc: 0.7100\n",
            "Epoch 205/250\n",
            "25/25 [==============================] - 15s 591ms/step - loss: 0.1024 - acc: 0.8128 - val_loss: 0.3607 - val_acc: 0.7200\n",
            "Epoch 206/250\n",
            "25/25 [==============================] - 15s 587ms/step - loss: 0.1032 - acc: 0.8178 - val_loss: 0.3593 - val_acc: 0.7300\n",
            "Epoch 207/250\n",
            "25/25 [==============================] - 15s 596ms/step - loss: 0.1035 - acc: 0.8166 - val_loss: 0.4541 - val_acc: 0.6800\n",
            "Epoch 208/250\n",
            "25/25 [==============================] - 15s 585ms/step - loss: 0.1021 - acc: 0.8241 - val_loss: 0.3423 - val_acc: 0.7200\n",
            "Epoch 209/250\n",
            "25/25 [==============================] - 15s 591ms/step - loss: 0.1036 - acc: 0.8166 - val_loss: 0.3374 - val_acc: 0.7200\n",
            "Epoch 210/250\n",
            "25/25 [==============================] - 15s 584ms/step - loss: 0.1027 - acc: 0.8241 - val_loss: 0.3358 - val_acc: 0.7300\n",
            "Epoch 211/250\n",
            "25/25 [==============================] - 15s 590ms/step - loss: 0.1139 - acc: 0.8103 - val_loss: 0.3418 - val_acc: 0.7200\n",
            "Epoch 212/250\n",
            "25/25 [==============================] - 15s 590ms/step - loss: 0.1169 - acc: 0.8116 - val_loss: 0.2975 - val_acc: 0.7100\n",
            "Epoch 213/250\n",
            "25/25 [==============================] - 15s 587ms/step - loss: 0.1125 - acc: 0.8053 - val_loss: 0.3361 - val_acc: 0.7100\n",
            "Epoch 214/250\n",
            "25/25 [==============================] - 15s 585ms/step - loss: 0.1084 - acc: 0.8103 - val_loss: 0.3568 - val_acc: 0.7000\n",
            "Epoch 215/250\n",
            "25/25 [==============================] - 15s 591ms/step - loss: 0.1056 - acc: 0.8216 - val_loss: 0.3621 - val_acc: 0.7100\n",
            "Epoch 216/250\n",
            "25/25 [==============================] - 15s 585ms/step - loss: 0.1047 - acc: 0.8153 - val_loss: 0.3455 - val_acc: 0.7200\n",
            "Epoch 217/250\n",
            "25/25 [==============================] - 15s 588ms/step - loss: 0.1032 - acc: 0.8204 - val_loss: 0.3409 - val_acc: 0.7200\n",
            "Epoch 218/250\n",
            "25/25 [==============================] - 15s 584ms/step - loss: 0.1019 - acc: 0.8204 - val_loss: 0.3462 - val_acc: 0.7500\n",
            "Epoch 219/250\n",
            "25/25 [==============================] - 15s 591ms/step - loss: 0.1020 - acc: 0.8191 - val_loss: 0.3473 - val_acc: 0.7300\n",
            "Epoch 220/250\n",
            "25/25 [==============================] - 15s 586ms/step - loss: 0.1010 - acc: 0.8266 - val_loss: 0.3557 - val_acc: 0.7200\n",
            "Epoch 221/250\n",
            "25/25 [==============================] - 15s 586ms/step - loss: 0.1035 - acc: 0.8141 - val_loss: 0.3570 - val_acc: 0.7400\n",
            "Epoch 222/250\n",
            "25/25 [==============================] - 15s 585ms/step - loss: 0.1048 - acc: 0.8141 - val_loss: 0.3452 - val_acc: 0.7000\n",
            "Epoch 223/250\n",
            "25/25 [==============================] - 15s 585ms/step - loss: 0.1057 - acc: 0.8229 - val_loss: 0.3543 - val_acc: 0.7200\n",
            "Epoch 224/250\n",
            "25/25 [==============================] - 15s 585ms/step - loss: 0.1057 - acc: 0.8116 - val_loss: 0.3411 - val_acc: 0.7200\n",
            "Epoch 225/250\n",
            "25/25 [==============================] - 15s 585ms/step - loss: 0.1048 - acc: 0.8141 - val_loss: 0.3400 - val_acc: 0.7300\n",
            "Epoch 226/250\n",
            "25/25 [==============================] - 15s 585ms/step - loss: 0.1061 - acc: 0.8065 - val_loss: 0.4312 - val_acc: 0.6900\n",
            "Epoch 227/250\n",
            "25/25 [==============================] - 15s 585ms/step - loss: 0.1098 - acc: 0.8166 - val_loss: 0.3294 - val_acc: 0.7500\n",
            "Epoch 228/250\n",
            "25/25 [==============================] - 15s 590ms/step - loss: 0.1038 - acc: 0.8128 - val_loss: 0.3580 - val_acc: 0.7500\n",
            "Epoch 229/250\n",
            "25/25 [==============================] - 15s 585ms/step - loss: 0.1100 - acc: 0.8216 - val_loss: 0.2903 - val_acc: 0.7100\n",
            "Epoch 230/250\n",
            "25/25 [==============================] - 15s 585ms/step - loss: 0.1135 - acc: 0.8053 - val_loss: 0.3929 - val_acc: 0.7200\n",
            "Epoch 231/250\n",
            "25/25 [==============================] - 15s 584ms/step - loss: 0.1069 - acc: 0.8204 - val_loss: 0.4260 - val_acc: 0.7400\n",
            "Epoch 232/250\n",
            "25/25 [==============================] - 15s 589ms/step - loss: 0.1177 - acc: 0.8128 - val_loss: 0.2250 - val_acc: 0.7300\n",
            "Epoch 233/250\n",
            "25/25 [==============================] - 15s 589ms/step - loss: 0.1337 - acc: 0.7889 - val_loss: 0.2146 - val_acc: 0.7300\n",
            "Epoch 234/250\n",
            "25/25 [==============================] - 15s 584ms/step - loss: 0.1201 - acc: 0.7927 - val_loss: 0.2650 - val_acc: 0.7300\n",
            "Epoch 235/250\n",
            "25/25 [==============================] - 15s 585ms/step - loss: 0.1137 - acc: 0.8116 - val_loss: 0.3154 - val_acc: 0.7200\n",
            "Epoch 236/250\n",
            "25/25 [==============================] - 15s 585ms/step - loss: 0.1110 - acc: 0.8128 - val_loss: 0.2917 - val_acc: 0.6900\n",
            "Epoch 237/250\n",
            "25/25 [==============================] - 15s 591ms/step - loss: 0.1077 - acc: 0.8078 - val_loss: 0.2772 - val_acc: 0.7200\n",
            "Epoch 238/250\n",
            "25/25 [==============================] - 15s 591ms/step - loss: 0.1063 - acc: 0.8166 - val_loss: 0.3132 - val_acc: 0.7100\n",
            "Epoch 239/250\n",
            "25/25 [==============================] - 15s 585ms/step - loss: 0.1068 - acc: 0.8116 - val_loss: 0.3267 - val_acc: 0.7200\n",
            "Epoch 240/250\n",
            "25/25 [==============================] - 15s 589ms/step - loss: 0.1033 - acc: 0.8178 - val_loss: 0.3149 - val_acc: 0.7300\n",
            "Epoch 241/250\n",
            "25/25 [==============================] - 15s 590ms/step - loss: 0.1030 - acc: 0.8090 - val_loss: 0.3049 - val_acc: 0.7300\n",
            "Epoch 242/250\n",
            "25/25 [==============================] - 15s 591ms/step - loss: 0.1027 - acc: 0.8204 - val_loss: 0.3189 - val_acc: 0.7200\n",
            "Epoch 243/250\n",
            "25/25 [==============================] - 15s 586ms/step - loss: 0.1021 - acc: 0.8204 - val_loss: 0.3044 - val_acc: 0.7600\n",
            "Epoch 244/250\n",
            "25/25 [==============================] - 15s 591ms/step - loss: 0.1045 - acc: 0.8178 - val_loss: 0.2980 - val_acc: 0.7400\n",
            "Epoch 245/250\n",
            "25/25 [==============================] - 15s 585ms/step - loss: 0.1021 - acc: 0.8166 - val_loss: 0.2903 - val_acc: 0.7300\n",
            "Epoch 246/250\n",
            "25/25 [==============================] - 15s 585ms/step - loss: 0.1018 - acc: 0.8216 - val_loss: 0.2992 - val_acc: 0.7400\n",
            "Epoch 247/250\n",
            "25/25 [==============================] - 15s 591ms/step - loss: 0.1023 - acc: 0.8153 - val_loss: 0.3207 - val_acc: 0.7200\n",
            "Epoch 248/250\n",
            "25/25 [==============================] - 15s 585ms/step - loss: 0.1024 - acc: 0.8178 - val_loss: 0.3229 - val_acc: 0.7300\n",
            "Epoch 249/250\n",
            "25/25 [==============================] - 15s 590ms/step - loss: 0.1008 - acc: 0.8254 - val_loss: 0.3282 - val_acc: 0.7500\n",
            "Epoch 250/250\n",
            "25/25 [==============================] - 15s 585ms/step - loss: 0.1036 - acc: 0.8128 - val_loss: 0.3508 - val_acc: 0.7500\n"
          ]
        }
      ],
      "source": [
        "train_datagen = ImageDataGenerator(rescale=1. / 255, \n",
        "                                   rotation_range=15,\n",
        "                                   width_shift_range=0.1,\n",
        "                                   height_shift_range=0.1,\n",
        "                                   shear_range=0.01,\n",
        "                                   zoom_range=[0.9, 1.25],\n",
        "                                   horizontal_flip=True,\n",
        "                                   vertical_flip=False,\n",
        "                                   fill_mode='reflect')\n",
        "valtest_datagen = ImageDataGenerator(rescale=1. / 255)\n",
        "\n",
        "train_generator = train_datagen.flow(np.array(X_train), y_train, batch_size=batch_size)\n",
        "validation_generator = valtest_datagen.flow(np.array(X_val), y_val, batch_size=batch_size)\n",
        "test_generator = valtest_datagen.flow(np.array(X_test), y_test, batch_size=batch_size)\n",
        "\n",
        "history = model.fit(np.array(X_train), np.array(y_train), validation_data=(np.array(X_val), np.array(y_val)), epochs=250)\n"
      ]
    },
    {
      "cell_type": "code",
      "execution_count": null,
      "metadata": {
        "id": "b7zFh3yBq2Rg",
        "colab": {
          "base_uri": "https://localhost:8080/",
          "height": 896
        },
        "outputId": "32b81f47-7684-440d-da47-5720154afff1"
      },
      "outputs": [
        {
          "output_type": "display_data",
          "data": {
            "text/plain": [
              "<Figure size 432x288 with 1 Axes>"
            ],
            "image/png": "[encoded data removed]"
          },
          "metadata": {
            "needs_background": "light"
          }
        },
        {
          "output_type": "display_data",
          "data": {
            "text/plain": [
              "<Figure size 432x288 with 1 Axes>"
            ],
            "image/png": "[encoded data removed]"
          },
          "metadata": {
            "needs_background": "light"
          }
        },
        {
          "output_type": "display_data",
          "data": {
            "text/plain": [
              "<Figure size 360x360 with 2 Axes>"
            ],
            "image/png": "[encoded data removed]"
          },
          "metadata": {
            "needs_background": "light"
          }
        }
      ],
      "source": [
        "acc = history.history['acc']\n",
        "val_acc = history.history['val_acc']\n",
        "loss = history.history['loss']\n",
        "val_loss = history.history['val_loss']\n",
        "epochs = range(1, len(acc) + 1)\n",
        "plt.plot(epochs, acc, 'blue', label='Training acc')\n",
        "plt.plot(epochs, val_acc, 'red', label='Validation acc')\n",
        "plt.title('Training and validation accuracy')\n",
        "plt.legend()\n",
        "plt.savefig(\"/content/drive/MyDrive/Datasets - Copy/trvlAcc1.png\")\n",
        "plt.show()\n",
        "\n",
        "plt.figure()\n",
        "plt.plot(epochs, loss, 'blue', label='Training loss')\n",
        "plt.plot(epochs, val_loss, 'red', label='Validation loss')\n",
        "plt.title('Training and validation loss')\n",
        "plt.legend()\n",
        "plt.savefig(\"/content/drive/MyDrive/Datasets - Copy/trvlLoss1.png\")\n",
        "plt.show()\n",
        "\n",
        "import sklearn\n",
        "import itertools\n",
        "from sklearn.metrics import confusion_matrix\n",
        "dict_characters = {0: 'Clear', 1: 'Blurry'}\n",
        "def plot_confusion_matrix(cm, classes,\n",
        "                          normalize=False,\n",
        "                          title='Confusion matrix',\n",
        "                          cmap=plt.cm.Blues):\n",
        "    plt.figure(figsize = (5,5))\n",
        "    plt.imshow(cm, interpolation='nearest', cmap=cmap)\n",
        "    plt.title(title)\n",
        "    plt.colorbar()\n",
        "    tick_marks = np.arange(len(classes))\n",
        "    plt.xticks(tick_marks, classes, rotation=90)\n",
        "    plt.yticks(tick_marks, classes)\n",
        "    if normalize:\n",
        "        cm = cm.astype('float') / cm.sum(axis=1)[:, np.newaxis]\n",
        "    thresh = cm.max() / 2.\n",
        "    for i, j in itertools.product(range(cm.shape[0]), range(cm.shape[1])):\n",
        "        plt.text(j, i, cm[i, j],\n",
        "                 horizontalalignment=\"center\",\n",
        "                 color=\"white\" if cm[i, j] > thresh else \"black\")\n",
        "    plt.tight_layout()\n",
        "    plt.ylabel('True label')\n",
        "    plt.xlabel('Predicted label')\n",
        "    plt.savefig(\"/content/drive/MyDrive/Datasets - Copy/cm-\"+title+\".png\")\n",
        "    plt.show()\n",
        "\n",
        "    \n",
        "a=np.array(X_test)\n",
        "b=np.array(y_test)\n",
        "Y_pred = model.predict(a)\n",
        "\n",
        "\n",
        "Y_pred_classes = np.argmax(Y_pred,axis=1)\n",
        "confusion_mtx = confusion_matrix(np.argmax(b,axis=1), Y_pred_classes) \n",
        "plot_confusion_matrix(confusion_mtx, classes = list(image_classes))"
      ]
    },
    {
      "cell_type": "code",
      "execution_count": null,
      "metadata": {
        "id": "zYxKO_NyxXA2",
        "colab": {
          "base_uri": "https://localhost:8080/"
        },
        "outputId": "8f8b1022-3def-4a72-d0d5-ee1db55c3d16"
      },
      "outputs": [
        {
          "output_type": "execute_result",
          "data": {
            "text/plain": [
              "0.75"
            ]
          },
          "metadata": {},
          "execution_count": 22
        }
      ],
      "source": [
        "sklearn.metrics.accuracy_score(Y_pred_classes,np.argmax(b,axis=1))\n"
      ]
    },
    {
      "cell_type": "code",
      "execution_count": null,
      "metadata": {
        "id": "FtSjiZ4pxcAE",
        "colab": {
          "base_uri": "https://localhost:8080/"
        },
        "outputId": "3040de1b-a8b4-4f15-e1f1-414936c8abe0"
      },
      "outputs": [
        {
          "output_type": "execute_result",
          "data": {
            "text/plain": [
              "array([[ 2,  0,  0,  0,  0,  0],\n",
              "       [ 0, 12,  3,  0,  3,  0],\n",
              "       [ 0,  3, 15,  1,  1,  0],\n",
              "       [ 0,  1,  0, 19,  3,  0],\n",
              "       [ 0,  1,  0,  6, 17,  0],\n",
              "       [ 1,  0,  0,  0,  2, 10]])"
            ]
          },
          "metadata": {},
          "execution_count": 23
        }
      ],
      "source": [
        "confusion_mtx\n"
      ]
    },
    {
      "cell_type": "code",
      "execution_count": null,
      "metadata": {
        "id": "yF5RniLdxjb1",
        "colab": {
          "base_uri": "https://localhost:8080/"
        },
        "outputId": "d1981a10-d9f9-4b66-e269-06b85653cd9f"
      },
      "outputs": [
        {
          "output_type": "execute_result",
          "data": {
            "text/plain": [
              "[1.0, 0.3888888888888889, 0.7, 0.9130434782608695, 0.625, 0.7692307692307693]"
            ]
          },
          "metadata": {},
          "execution_count": 24
        }
      ],
      "source": [
        "accuracies = [class_correct_pred[i]/class_totals[i] for i in range(6)]\n",
        "accuracies"
      ]
    },
    {
      "cell_type": "code",
      "execution_count": null,
      "metadata": {
        "id": "Hjhfdjpmxtre",
        "colab": {
          "base_uri": "https://localhost:8080/"
        },
        "outputId": "66834727-cce6-4435-ffbb-89a8b678c164"
      },
      "outputs": [
        {
          "output_type": "stream",
          "name": "stdout",
          "text": [
            "100\n"
          ]
        },
        {
          "output_type": "execute_result",
          "data": {
            "text/plain": [
              "[1.0, 0.9021739130434783, 0.9318181818181818, 0.8222222222222222, 1.0, 1.0]"
            ]
          },
          "metadata": {},
          "execution_count": 25
        }
      ],
      "source": [
        "sumall = sum(map(sum, confusion_mtx))\n",
        "print(sumall)\n",
        "tn = [sumall - [sum(x) for x in zip(*confusion_mtx)][i] for i in range(6)]\n",
        "tn\n",
        "specificity = [tn[i]/(tn[i]+fp[i]) for i in range(6)]\n",
        "specificity"
      ]
    }
  ],
  "metadata": {
    "colab": {
      "collapsed_sections": [],
      "provenance": [],
      "mount_file_id": "1132HDZiykUBbDsxLFsSykor8eEoHTMh2",
      "authorship_tag": "ABX9TyOlkeV/n6oHDZ24NIwbISdE",
      "include_colab_link": true
    },
    "kernelspec": {
      "display_name": "Python 3",
      "name": "python3"
    },
    "language_info": {
      "name": "python"
    },
    "accelerator": "GPU"
  },
  "nbformat": 4,
  "nbformat_minor": 0
}