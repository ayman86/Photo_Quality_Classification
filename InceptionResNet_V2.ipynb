{
  "cells": [
    {
      "cell_type": "markdown",
      "metadata": {
        "id": "view-in-github",
        "colab_type": "text"
      },
      "source": [
        "<a href=\"https://colab.research.google.com/github/ayman86/Photo_Quality_Classification/blob/main/InceptionResNet_V2.ipynb\" target=\"_parent\"><img src=\"https://colab.research.google.com/assets/colab-badge.svg\" alt=\"Open In Colab\"/></a>"
      ]
    },
    {
      "cell_type": "code",
      "execution_count": 2,
      "metadata": {
        "id": "qWKhURmqANPw"
      },
      "outputs": [],
      "source": [
        "import cv2\n",
        "import os\n",
        "import random\n",
        "import matplotlib.pylab as plt\n",
        "from glob import glob\n",
        "import numpy as np\n",
        "from sklearn.model_selection import train_test_split\n",
        "import tensorflow\n",
        "from tensorflow.keras.preprocessing.image import ImageDataGenerator\n",
        "from tensorflow.keras import backend as K\n",
        "import tensorflow.keras\n",
        "from tensorflow.keras.models import Sequential\n",
        "from tensorflow.keras.layers import Dense, Dropout, Activation, Flatten\n",
        "from keras.applications.inception_resnet_v2 import InceptionResNetV2\n",
        "from keras.applications.inception_resnet_v2 import preprocess_input"
      ]
    },
    {
      "cell_type": "code",
      "source": [
        "def proc_image_dir(Images_Path):\n",
        "    \n",
        "    image_classes = sorted([dirname for dirname in os.listdir(Images_Path)\n",
        "                      if os.path.isdir(os.path.join(Images_Path, dirname))])\n",
        "    # and not dirname.startswith(\".\") and not dirname.startswith(\"mblur\")])\n",
        "    #image_classes.append('mblur')\n",
        "    \n",
        "    print(image_classes)\n",
        "    \n",
        "    x = [] # images as arrays\n",
        "    y = [] # labels Infiltration or Not_infiltration\n",
        "    WIDTH = 256\n",
        "    HEIGHT = 256\n",
        "  \n",
        "    print(\"Adding Images: \",end=\"\")\n",
        "    i = 0\n",
        "    for image_class in image_classes:\n",
        "        print(\"Processing \", image_class)\n",
        "        items = glob(os.path.join(Images_Path, image_class,\"*\"))\n",
        "        for item in items:\n",
        "            if item.lower().endswith(\".jpg\") or item.lower().endswith(\".bmp\"):\n",
        "                # Read and resize image\n",
        "                full_size_image = cv2.imread(item)\n",
        "                x.append(cv2.resize(full_size_image, (WIDTH,HEIGHT), interpolation=cv2.INTER_CUBIC))\n",
        "                out = [0] * len(image_classes)\n",
        "                out[i] = 1\n",
        "                y.append(out)\n",
        "        i+=1\n",
        "\n",
        "    print(\"\")\n",
        "    return x,y,image_classes\n",
        "\n",
        "def horizontal_motion_blur(img, blur_factor):\n",
        "    import cv2 \n",
        "    import numpy as np \n",
        "\n",
        "    kernel_size = blur_factor\n",
        "    kernel_h = np.zeros((kernel_size, kernel_size))\n",
        "    kernel_h[int((kernel_size - 1)/2), :] = np.ones(kernel_size) \n",
        "    kernel_h /= kernel_size \n",
        "\n",
        "    # Apply the horizontal kernel. \n",
        "    horizontal_mb = cv2.filter2D(img, -1, kernel_h) \n",
        "    \n",
        "    return horizontal_mb"
      ],
      "metadata": {
        "id": "bLtbpATmEW0-"
      },
      "execution_count": 3,
      "outputs": []
    },
    {
      "cell_type": "code",
      "execution_count": 4,
      "metadata": {
        "id": "qHlujpENAkLd",
        "colab": {
          "base_uri": "https://localhost:8080/"
        },
        "outputId": "b5aa31e0-dc17-473c-e52b-b6e8fdecc3df"
      },
      "outputs": [
        {
          "output_type": "stream",
          "name": "stdout",
          "text": [
            "['bad_lighting', 'fastfading', 'gblur', 'jp2k', 'jpeg', 'refimgs']\n",
            "Adding Images: Processing  bad_lighting\n",
            "Processing  fastfading\n",
            "Processing  gblur\n",
            "Processing  jp2k\n",
            "Processing  jpeg\n",
            "Processing  refimgs\n",
            "\n"
          ]
        }
      ],
      "source": [
        "PATH = os.path.abspath(os.path.join('.', 'databaserelease2'))\n",
        "\n",
        "# ./input/sample/images/\n",
        "SOURCE_IMAGES = '/content/drive/MyDrive/Datasets - Copy/First Dataset'#os.path.join(PATH, \"sample\", \"images\")\n",
        "x2,y2,image_classes = proc_image_dir(SOURCE_IMAGES)\n"
      ]
    },
    {
      "cell_type": "code",
      "execution_count": 5,
      "metadata": {
        "id": "Ge9UqC_fAzAn",
        "colab": {
          "base_uri": "https://localhost:8080/"
        },
        "outputId": "0290b3e4-08b3-4a12-83f6-6bbe36559db2"
      },
      "outputs": [
        {
          "output_type": "stream",
          "name": "stdout",
          "text": [
            "(796, 256, 256, 3)\n",
            "(100, 256, 256, 3)\n",
            "(100, 256, 256, 3)\n"
          ]
        }
      ],
      "source": [
        "# First split the data in two sets, 80% for training, 20% for Val/Test)\n",
        "X_train, X_valtest, y_train, y_valtest = train_test_split(x2,y2, test_size=0.20, random_state=1, stratify=y2)\n",
        "\n",
        "# Second split the 40% into validation and test sets\n",
        "X_test, X_val, y_test, y_val = train_test_split(X_valtest, y_valtest, test_size=0.5, random_state=1, stratify=y_valtest)\n",
        "\n",
        "print(np.array(X_train).shape)\n",
        "print(np.array(X_val).shape)\n",
        "print(np.array(X_test).shape)"
      ]
    },
    {
      "cell_type": "code",
      "execution_count": 6,
      "metadata": {
        "id": "vP9bfmPbA02v"
      },
      "outputs": [],
      "source": [
        "num_classes=6\n",
        "\n",
        "K.image_data_format()\n",
        "\n",
        "img_width, img_height = 256, 256\n",
        "nb_train_samples = len(X_train)\n",
        "nb_validation_samples = len(X_val)\n",
        "epochs = 100\n",
        "batch_size = 16"
      ]
    },
    {
      "cell_type": "code",
      "execution_count": 7,
      "metadata": {
        "id": "f9chEpMRA3d_",
        "colab": {
          "base_uri": "https://localhost:8080/"
        },
        "outputId": "e06a5397-9fc3-4c29-b2d9-5e5546980ef2"
      },
      "outputs": [
        {
          "output_type": "stream",
          "name": "stdout",
          "text": [
            "Downloading data from https://storage.googleapis.com/tensorflow/keras-applications/inception_resnet_v2/inception_resnet_v2_weights_tf_dim_ordering_tf_kernels_notop.h5\n",
            "219062272/219055592 [==============================] - 1s 0us/step\n",
            "219070464/219055592 [==============================] - 1s 0us/step\n",
            "Model: \"sequential\"\n",
            "_________________________________________________________________\n",
            " Layer (type)                Output Shape              Param #   \n",
            "=================================================================\n",
            " inception_resnet_v2 (Functi  (None, 1536)             54336736  \n",
            " onal)                                                           \n",
            "                                                                 \n",
            " dense (Dense)               (None, 6)                 9222      \n",
            "                                                                 \n",
            "=================================================================\n",
            "Total params: 54,345,958\n",
            "Trainable params: 54,285,414\n",
            "Non-trainable params: 60,544\n",
            "_________________________________________________________________\n"
          ]
        }
      ],
      "source": [
        "input_shape = (256,256,3)\n",
        "\n",
        "model=Sequential()\n",
        "model.add(InceptionResNetV2(include_top=False,pooling='avg',weights='imagenet'))\n",
        "model.add(Dense(num_classes,activation='softmax'))\n",
        "\n",
        "model.summary()\n",
        "\n"
      ]
    },
    {
      "cell_type": "code",
      "execution_count": 8,
      "metadata": {
        "id": "3YqNyGGOA5lH",
        "colab": {
          "base_uri": "https://localhost:8080/"
        },
        "outputId": "99f991ce-daf2-4496-9354-8f792f589b52"
      },
      "outputs": [
        {
          "output_type": "stream",
          "name": "stderr",
          "text": [
            "/usr/local/lib/python3.7/dist-packages/keras/optimizer_v2/adam.py:105: UserWarning: The `lr` argument is deprecated, use `learning_rate` instead.\n",
            "  super(Adam, self).__init__(name, **kwargs)\n"
          ]
        }
      ],
      "source": [
        "from tensorflow.keras import layers, models, optimizers\n",
        "model.compile(\n",
        "\tloss='binary_crossentropy',\n",
        "\toptimizer=optimizers.Adam(lr=0.001, beta_1=0.9, beta_2=0.999, epsilon=1e-08, decay=0.0),\n",
        "\tmetrics=['acc'])"
      ]
    },
    {
      "cell_type": "code",
      "execution_count": 9,
      "metadata": {
        "id": "S-YXtkrRA7bP",
        "colab": {
          "base_uri": "https://localhost:8080/"
        },
        "outputId": "04ec7555-d283-4388-e444-5518b1fa6a72"
      },
      "outputs": [
        {
          "output_type": "stream",
          "name": "stdout",
          "text": [
            "Epoch 1/50\n",
            "25/25 [==============================] - 55s 992ms/step - loss: 0.4315 - acc: 0.3731 - val_loss: 1077339.5000 - val_acc: 0.2300\n",
            "Epoch 2/50\n",
            "25/25 [==============================] - 18s 704ms/step - loss: 0.2977 - acc: 0.5364 - val_loss: 1681.6904 - val_acc: 0.2100\n",
            "Epoch 3/50\n",
            "25/25 [==============================] - 18s 713ms/step - loss: 0.2690 - acc: 0.5905 - val_loss: 13.8604 - val_acc: 0.2600\n",
            "Epoch 4/50\n",
            "25/25 [==============================] - 19s 746ms/step - loss: 0.2500 - acc: 0.6168 - val_loss: 1.9344 - val_acc: 0.3000\n",
            "Epoch 5/50\n",
            "25/25 [==============================] - 18s 727ms/step - loss: 0.2326 - acc: 0.6533 - val_loss: 0.6305 - val_acc: 0.4400\n",
            "Epoch 6/50\n",
            "25/25 [==============================] - 19s 759ms/step - loss: 0.2136 - acc: 0.6759 - val_loss: 1.0125 - val_acc: 0.2300\n",
            "Epoch 7/50\n",
            "25/25 [==============================] - 18s 735ms/step - loss: 0.2226 - acc: 0.6482 - val_loss: 0.2915 - val_acc: 0.5800\n",
            "Epoch 8/50\n",
            "25/25 [==============================] - 19s 766ms/step - loss: 0.2125 - acc: 0.6658 - val_loss: 0.2430 - val_acc: 0.6200\n",
            "Epoch 9/50\n",
            "25/25 [==============================] - 19s 747ms/step - loss: 0.2013 - acc: 0.6809 - val_loss: 0.3395 - val_acc: 0.5400\n",
            "Epoch 10/50\n",
            "25/25 [==============================] - 19s 750ms/step - loss: 0.2015 - acc: 0.6683 - val_loss: 0.4096 - val_acc: 0.4700\n",
            "Epoch 11/50\n",
            "25/25 [==============================] - 19s 753ms/step - loss: 0.1895 - acc: 0.7085 - val_loss: 0.2504 - val_acc: 0.6200\n",
            "Epoch 12/50\n",
            "25/25 [==============================] - 19s 781ms/step - loss: 0.2016 - acc: 0.6935 - val_loss: 0.3151 - val_acc: 0.6200\n",
            "Epoch 13/50\n",
            "25/25 [==============================] - 19s 782ms/step - loss: 0.1982 - acc: 0.6872 - val_loss: 0.2476 - val_acc: 0.6600\n",
            "Epoch 14/50\n",
            "25/25 [==============================] - 19s 760ms/step - loss: 0.1939 - acc: 0.7123 - val_loss: 0.3397 - val_acc: 0.5300\n",
            "Epoch 15/50\n",
            "25/25 [==============================] - 20s 786ms/step - loss: 0.1937 - acc: 0.7186 - val_loss: 0.2811 - val_acc: 0.6600\n",
            "Epoch 16/50\n",
            "25/25 [==============================] - 19s 763ms/step - loss: 0.1799 - acc: 0.7211 - val_loss: 0.3111 - val_acc: 0.7000\n",
            "Epoch 17/50\n",
            "25/25 [==============================] - 19s 763ms/step - loss: 0.1754 - acc: 0.7173 - val_loss: 0.2432 - val_acc: 0.6100\n",
            "Epoch 18/50\n",
            "25/25 [==============================] - 19s 763ms/step - loss: 0.1693 - acc: 0.7261 - val_loss: 0.2685 - val_acc: 0.6700\n",
            "Epoch 19/50\n",
            "25/25 [==============================] - 19s 762ms/step - loss: 0.1657 - acc: 0.7349 - val_loss: 0.2404 - val_acc: 0.6200\n",
            "Epoch 20/50\n",
            "25/25 [==============================] - 19s 763ms/step - loss: 0.1650 - acc: 0.7299 - val_loss: 0.2273 - val_acc: 0.6300\n",
            "Epoch 21/50\n",
            "25/25 [==============================] - 19s 762ms/step - loss: 0.1676 - acc: 0.7387 - val_loss: 0.5611 - val_acc: 0.6000\n",
            "Epoch 22/50\n",
            "25/25 [==============================] - 19s 764ms/step - loss: 0.1696 - acc: 0.7475 - val_loss: 0.4557 - val_acc: 0.5700\n",
            "Epoch 23/50\n",
            "25/25 [==============================] - 19s 764ms/step - loss: 0.1687 - acc: 0.7450 - val_loss: 0.3549 - val_acc: 0.5300\n",
            "Epoch 24/50\n",
            "25/25 [==============================] - 19s 762ms/step - loss: 0.1685 - acc: 0.7362 - val_loss: 0.3713 - val_acc: 0.5300\n",
            "Epoch 25/50\n",
            "25/25 [==============================] - 19s 764ms/step - loss: 0.1696 - acc: 0.7224 - val_loss: 0.2985 - val_acc: 0.6000\n",
            "Epoch 26/50\n",
            "25/25 [==============================] - 19s 763ms/step - loss: 0.1662 - acc: 0.7337 - val_loss: 0.3452 - val_acc: 0.5700\n",
            "Epoch 27/50\n",
            "25/25 [==============================] - 19s 758ms/step - loss: 0.1721 - acc: 0.7236 - val_loss: 0.2801 - val_acc: 0.6100\n",
            "Epoch 28/50\n",
            "25/25 [==============================] - 19s 758ms/step - loss: 0.1611 - acc: 0.7437 - val_loss: 0.2394 - val_acc: 0.6400\n",
            "Epoch 29/50\n",
            "25/25 [==============================] - 19s 760ms/step - loss: 0.1562 - acc: 0.7487 - val_loss: 0.2497 - val_acc: 0.6300\n",
            "Epoch 30/50\n",
            "25/25 [==============================] - 19s 761ms/step - loss: 0.1570 - acc: 0.7513 - val_loss: 0.3424 - val_acc: 0.5600\n",
            "Epoch 31/50\n",
            "25/25 [==============================] - 19s 762ms/step - loss: 0.1594 - acc: 0.7437 - val_loss: 0.7355 - val_acc: 0.5600\n",
            "Epoch 32/50\n",
            "25/25 [==============================] - 20s 786ms/step - loss: 0.1647 - acc: 0.7412 - val_loss: 0.7033 - val_acc: 0.5600\n",
            "Epoch 33/50\n",
            "25/25 [==============================] - 19s 763ms/step - loss: 0.1603 - acc: 0.7425 - val_loss: 0.3685 - val_acc: 0.6100\n",
            "Epoch 34/50\n",
            "25/25 [==============================] - 19s 759ms/step - loss: 0.1589 - acc: 0.7462 - val_loss: 0.3180 - val_acc: 0.6400\n",
            "Epoch 35/50\n",
            "25/25 [==============================] - 19s 760ms/step - loss: 0.1553 - acc: 0.7550 - val_loss: 0.3912 - val_acc: 0.5800\n",
            "Epoch 36/50\n",
            "25/25 [==============================] - 19s 765ms/step - loss: 0.1473 - acc: 0.7701 - val_loss: 0.3971 - val_acc: 0.6000\n",
            "Epoch 37/50\n",
            "25/25 [==============================] - 20s 788ms/step - loss: 0.1539 - acc: 0.7575 - val_loss: 0.3213 - val_acc: 0.5900\n",
            "Epoch 38/50\n",
            "25/25 [==============================] - 20s 785ms/step - loss: 0.1463 - acc: 0.7500 - val_loss: 0.3347 - val_acc: 0.5500\n",
            "Epoch 39/50\n",
            "25/25 [==============================] - 19s 762ms/step - loss: 0.1483 - acc: 0.7538 - val_loss: 0.2636 - val_acc: 0.6600\n",
            "Epoch 40/50\n",
            "25/25 [==============================] - 19s 765ms/step - loss: 0.1480 - acc: 0.7588 - val_loss: 0.2311 - val_acc: 0.6600\n",
            "Epoch 41/50\n",
            "25/25 [==============================] - 19s 760ms/step - loss: 0.1410 - acc: 0.7613 - val_loss: 0.3064 - val_acc: 0.6200\n",
            "Epoch 42/50\n",
            "25/25 [==============================] - 19s 762ms/step - loss: 0.1392 - acc: 0.7802 - val_loss: 0.2272 - val_acc: 0.6700\n",
            "Epoch 43/50\n",
            "25/25 [==============================] - 19s 763ms/step - loss: 0.1413 - acc: 0.7751 - val_loss: 0.2837 - val_acc: 0.6100\n",
            "Epoch 44/50\n",
            "25/25 [==============================] - 19s 759ms/step - loss: 0.1482 - acc: 0.7688 - val_loss: 0.3771 - val_acc: 0.6600\n",
            "Epoch 45/50\n",
            "25/25 [==============================] - 20s 784ms/step - loss: 0.1377 - acc: 0.7814 - val_loss: 0.2912 - val_acc: 0.6400\n",
            "Epoch 46/50\n",
            "25/25 [==============================] - 19s 759ms/step - loss: 0.1433 - acc: 0.7688 - val_loss: 0.7943 - val_acc: 0.5900\n",
            "Epoch 47/50\n",
            "25/25 [==============================] - 20s 783ms/step - loss: 0.1376 - acc: 0.7776 - val_loss: 0.3089 - val_acc: 0.6300\n",
            "Epoch 48/50\n",
            "25/25 [==============================] - 19s 782ms/step - loss: 0.1339 - acc: 0.7714 - val_loss: 0.2449 - val_acc: 0.6500\n",
            "Epoch 49/50\n",
            "25/25 [==============================] - 19s 759ms/step - loss: 0.1331 - acc: 0.7814 - val_loss: 0.4885 - val_acc: 0.5300\n",
            "Epoch 50/50\n",
            "25/25 [==============================] - 19s 762ms/step - loss: 0.1405 - acc: 0.7776 - val_loss: 0.2882 - val_acc: 0.6200\n"
          ]
        }
      ],
      "source": [
        "train_datagen = ImageDataGenerator(rescale=1. / 255, \n",
        "                                   rotation_range=15,\n",
        "                                   width_shift_range=0.1,\n",
        "                                   height_shift_range=0.1,\n",
        "                                   shear_range=0.01,\n",
        "                                   zoom_range=[0.9, 1.25],\n",
        "                                   horizontal_flip=True,\n",
        "                                   vertical_flip=False,\n",
        "                                   fill_mode='reflect')\n",
        "valtest_datagen = ImageDataGenerator(rescale=1. / 255)\n",
        "\n",
        "train_generator = train_datagen.flow(np.array(X_train), y_train, batch_size=batch_size)\n",
        "validation_generator = valtest_datagen.flow(np.array(X_val), y_val, batch_size=batch_size)\n",
        "test_generator = valtest_datagen.flow(np.array(X_test), y_test, batch_size=batch_size)\n",
        "\n",
        "history = model.fit(np.array(X_train), np.array(y_train), validation_data=(np.array(X_val), np.array(y_val)), epochs=50)\n"
      ]
    },
    {
      "cell_type": "code",
      "execution_count": 10,
      "metadata": {
        "id": "F-niGU5oA-q4"
      },
      "outputs": [],
      "source": [
        "model.save_weights('/content/drive/MyDrive/Datasets - Copy/8020weights.h5')\n"
      ]
    },
    {
      "cell_type": "code",
      "execution_count": 11,
      "metadata": {
        "id": "FNGBtlTeB1jp"
      },
      "outputs": [],
      "source": [
        "model.load_weights('/content/drive/MyDrive/Datasets - Copy/8020weights.h5')\n"
      ]
    },
    {
      "cell_type": "code",
      "execution_count": 12,
      "metadata": {
        "id": "YMJ6snRnB5nh",
        "colab": {
          "base_uri": "https://localhost:8080/",
          "height": 898
        },
        "outputId": "ba857096-1ccf-49ec-fa23-6b85b71e058c"
      },
      "outputs": [
        {
          "output_type": "display_data",
          "data": {
            "text/plain": [
              "<Figure size 432x288 with 1 Axes>"
            ],
            "image/png": "[encoded data removed]"
          },
          "metadata": {
            "needs_background": "light"
          }
        },
        {
          "output_type": "display_data",
          "data": {
            "text/plain": [
              "<Figure size 432x288 with 1 Axes>"
            ],
            "image/png": "[encoded data removed]"
          },
          "metadata": {
            "needs_background": "light"
          }
        },
        {
          "output_type": "display_data",
          "data": {
            "text/plain": [
              "<Figure size 360x360 with 2 Axes>"
            ],
            "image/png": "[encoded data removed]"
          },
          "metadata": {
            "needs_background": "light"
          }
        }
      ],
      "source": [
        "acc = history.history['acc']\n",
        "val_acc = history.history['val_acc']\n",
        "loss = history.history['loss']\n",
        "val_loss = history.history['val_loss']\n",
        "epochs = range(1, len(acc) + 1)\n",
        "plt.plot(epochs, acc, 'blue', label='Training acc')\n",
        "plt.plot(epochs, val_acc, 'red', label='Validation acc')\n",
        "plt.title('Training and validation accuracy')\n",
        "plt.legend()\n",
        "plt.savefig(\"/content/drive/MyDrive/Datasets - Copy/trvlAcc.png\")\n",
        "plt.show()\n",
        "\n",
        "plt.figure()\n",
        "plt.plot(epochs, loss, 'blue', label='Training loss')\n",
        "plt.plot(epochs, val_loss, 'red', label='Validation loss')\n",
        "plt.title('Training and validation loss')\n",
        "plt.legend()\n",
        "plt.savefig(\"/content/drive/MyDrive/Datasets - Copy/trvlLoss.png\")\n",
        "plt.show()\n",
        "\n",
        "import sklearn\n",
        "import itertools\n",
        "from sklearn.metrics import confusion_matrix\n",
        "dict_characters = {0: 'Clear', 1: 'Blurry'}\n",
        "def plot_confusion_matrix(cm, classes,\n",
        "                          normalize=False,\n",
        "                          title='Confusion matrix',\n",
        "                          cmap=plt.cm.Blues):\n",
        "    plt.figure(figsize = (5,5))\n",
        "    plt.imshow(cm, interpolation='nearest', cmap=cmap)\n",
        "    plt.title(title)\n",
        "    plt.colorbar()\n",
        "    tick_marks = np.arange(len(classes))\n",
        "    plt.xticks(tick_marks, classes, rotation=90)\n",
        "    plt.yticks(tick_marks, classes)\n",
        "    if normalize:\n",
        "        cm = cm.astype('float') / cm.sum(axis=1)[:, np.newaxis]\n",
        "    thresh = cm.max() / 2.\n",
        "    for i, j in itertools.product(range(cm.shape[0]), range(cm.shape[1])):\n",
        "        plt.text(j, i, cm[i, j],\n",
        "                 horizontalalignment=\"center\",\n",
        "                 color=\"white\" if cm[i, j] > thresh else \"black\")\n",
        "    plt.tight_layout()\n",
        "    plt.ylabel('True label')\n",
        "    plt.xlabel('Predicted label')\n",
        "    plt.savefig(\"/content/drive/MyDrive/Datasets - Copy/cm-\"+title+\".png\")\n",
        "    plt.show()\n",
        "\n",
        "    \n",
        "a=np.array(X_test)\n",
        "b=np.array(y_test)\n",
        "Y_pred = model.predict(a)\n",
        "\n",
        "\n",
        "Y_pred_classes = np.argmax(Y_pred,axis=1)\n",
        "confusion_mtx = confusion_matrix(np.argmax(b,axis=1), Y_pred_classes) \n",
        "plot_confusion_matrix(confusion_mtx, classes = list(image_classes))"
      ]
    },
    {
      "cell_type": "code",
      "execution_count": 13,
      "metadata": {
        "id": "oL1vpGz6TFJf",
        "colab": {
          "base_uri": "https://localhost:8080/"
        },
        "outputId": "b66df21e-bffd-4731-aff5-240adc45afe0"
      },
      "outputs": [
        {
          "output_type": "execute_result",
          "data": {
            "text/plain": [
              "0.71"
            ]
          },
          "metadata": {},
          "execution_count": 13
        }
      ],
      "source": [
        "sklearn.metrics.accuracy_score(Y_pred_classes,np.argmax(b,axis=1))\n"
      ]
    },
    {
      "cell_type": "code",
      "execution_count": 14,
      "metadata": {
        "id": "MRVPLK-QTitJ",
        "colab": {
          "base_uri": "https://localhost:8080/"
        },
        "outputId": "ce536817-42c8-4f9d-c0c4-814b5998284b"
      },
      "outputs": [
        {
          "output_type": "execute_result",
          "data": {
            "text/plain": [
              "array([[ 2,  0,  0,  0,  0,  0],\n",
              "       [ 0,  6,  5,  3,  4,  0],\n",
              "       [ 0,  3, 14,  2,  1,  0],\n",
              "       [ 0,  2,  0, 20,  1,  0],\n",
              "       [ 0,  4,  0,  2, 18,  0],\n",
              "       [ 0,  1,  0,  1,  0, 11]])"
            ]
          },
          "metadata": {},
          "execution_count": 14
        }
      ],
      "source": [
        "confusion_mtx\n"
      ]
    },
    {
      "cell_type": "code",
      "execution_count": 15,
      "metadata": {
        "id": "hZeFNFxTbhA-",
        "colab": {
          "base_uri": "https://localhost:8080/"
        },
        "outputId": "553fe22c-5071-4962-9689-ebf3e0b696e6"
      },
      "outputs": [
        {
          "output_type": "execute_result",
          "data": {
            "text/plain": [
              "[2, 18, 20, 23, 24, 13]"
            ]
          },
          "metadata": {},
          "execution_count": 15
        }
      ],
      "source": [
        "class_totals = [sum(i) for i in confusion_mtx]\n",
        "class_totals"
      ]
    },
    {
      "cell_type": "code",
      "execution_count": 16,
      "metadata": {
        "id": "Ek7KoYxMblDV",
        "colab": {
          "base_uri": "https://localhost:8080/"
        },
        "outputId": "dae9bb62-2770-4dfb-fe57-1230dc53d519"
      },
      "outputs": [
        {
          "output_type": "execute_result",
          "data": {
            "text/plain": [
              "[2, 6, 14, 20, 18, 11]"
            ]
          },
          "metadata": {},
          "execution_count": 16
        }
      ],
      "source": [
        "class_correct_pred = [confusion_mtx[i][i] for i in range(6)]\n",
        "class_correct_pred"
      ]
    },
    {
      "cell_type": "code",
      "execution_count": 17,
      "metadata": {
        "id": "oRJywwp7bnh9",
        "colab": {
          "base_uri": "https://localhost:8080/"
        },
        "outputId": "a4932c2d-ed2b-40d9-b08c-c4e0d91aaa96"
      },
      "outputs": [
        {
          "output_type": "execute_result",
          "data": {
            "text/plain": [
              "[1.0, 0.3333333333333333, 0.7, 0.8695652173913043, 0.75, 0.8461538461538461]"
            ]
          },
          "metadata": {},
          "execution_count": 17
        }
      ],
      "source": [
        "accuracies = [class_correct_pred[i]/class_totals[i] for i in range(6)]\n",
        "accuracies"
      ]
    },
    {
      "cell_type": "code",
      "execution_count": 18,
      "metadata": {
        "id": "tiyoKLXRbpge",
        "colab": {
          "base_uri": "https://localhost:8080/"
        },
        "outputId": "35c874ec-b203-410e-b079-b52f2a357d5d"
      },
      "outputs": [
        {
          "output_type": "execute_result",
          "data": {
            "text/plain": [
              "[1.0, 0.3333333333333333, 0.7, 0.8695652173913043, 0.75, 0.8461538461538461]"
            ]
          },
          "metadata": {},
          "execution_count": 18
        }
      ],
      "source": [
        "class_totals = [sum(i) for i in confusion_mtx]\n",
        "class_totals\n",
        "\n",
        "tp = [confusion_mtx[i][i] for i in range(6)]\n",
        "tp\n",
        "\n",
        "sensetivity = [tp[i]/class_totals[i] for i in range(6)]\n",
        "sensetivity"
      ]
    },
    {
      "cell_type": "code",
      "execution_count": 19,
      "metadata": {
        "id": "bQhIA-q8btxe",
        "colab": {
          "base_uri": "https://localhost:8080/"
        },
        "outputId": "04da5d7e-07a8-4fb7-a591-d78bea6567c3"
      },
      "outputs": [
        {
          "output_type": "execute_result",
          "data": {
            "text/plain": [
              "[0, 10, 5, 8, 6, 0]"
            ]
          },
          "metadata": {},
          "execution_count": 19
        }
      ],
      "source": [
        "fp = [[sum(x) for x in zip(*confusion_mtx)][i] - tp[i] for i in range(6)]\n",
        "fp"
      ]
    },
    {
      "cell_type": "code",
      "execution_count": 20,
      "metadata": {
        "id": "UK_W59LXbvzG",
        "colab": {
          "base_uri": "https://localhost:8080/"
        },
        "outputId": "3f9e4e2b-51d2-4909-a401-f8f10fbd5ea0"
      },
      "outputs": [
        {
          "output_type": "stream",
          "name": "stdout",
          "text": [
            "100\n"
          ]
        },
        {
          "output_type": "execute_result",
          "data": {
            "text/plain": [
              "[1.0, 0.8936170212765957, 0.9418604651162791, 0.9, 0.926829268292683, 1.0]"
            ]
          },
          "metadata": {},
          "execution_count": 20
        }
      ],
      "source": [
        "sumall = sum(map(sum, confusion_mtx))\n",
        "print(sumall)\n",
        "tn = [sumall - [sum(x) for x in zip(*confusion_mtx)][i] for i in range(6)]\n",
        "tn\n",
        "specificity = [tn[i]/(tn[i]+fp[i]) for i in range(6)]\n",
        "specificity"
      ]
    },
    {
      "cell_type": "code",
      "execution_count": 21,
      "metadata": {
        "id": "buhU86_-qhxy",
        "colab": {
          "base_uri": "https://localhost:8080/"
        },
        "outputId": "14c7df8b-cbd5-452a-da99-c659a0f86ec0"
      },
      "outputs": [
        {
          "output_type": "stream",
          "name": "stdout",
          "text": [
            "Epoch 1/250\n",
            "25/25 [==============================] - 19s 750ms/step - loss: 0.1392 - acc: 0.7864 - val_loss: 0.6710 - val_acc: 0.6000\n",
            "Epoch 2/250\n",
            "25/25 [==============================] - 19s 777ms/step - loss: 0.1376 - acc: 0.7789 - val_loss: 0.3431 - val_acc: 0.6300\n",
            "Epoch 3/250\n",
            "25/25 [==============================] - 19s 776ms/step - loss: 0.1420 - acc: 0.7688 - val_loss: 0.2982 - val_acc: 0.6200\n",
            "Epoch 4/250\n",
            "25/25 [==============================] - 19s 754ms/step - loss: 0.1304 - acc: 0.7864 - val_loss: 0.3750 - val_acc: 0.5900\n",
            "Epoch 5/250\n",
            "25/25 [==============================] - 19s 780ms/step - loss: 0.1293 - acc: 0.7802 - val_loss: 0.3499 - val_acc: 0.6100\n",
            "Epoch 6/250\n",
            "25/25 [==============================] - 19s 781ms/step - loss: 0.1317 - acc: 0.7877 - val_loss: 0.4932 - val_acc: 0.6600\n",
            "Epoch 7/250\n",
            "25/25 [==============================] - 20s 784ms/step - loss: 0.1324 - acc: 0.7852 - val_loss: 0.4324 - val_acc: 0.5700\n",
            "Epoch 8/250\n",
            "25/25 [==============================] - 19s 757ms/step - loss: 0.1310 - acc: 0.7852 - val_loss: 0.2463 - val_acc: 0.6600\n",
            "Epoch 9/250\n",
            "25/25 [==============================] - 19s 757ms/step - loss: 0.1355 - acc: 0.7751 - val_loss: 0.3446 - val_acc: 0.6200\n",
            "Epoch 10/250\n",
            "25/25 [==============================] - 19s 758ms/step - loss: 0.1397 - acc: 0.7776 - val_loss: 0.5511 - val_acc: 0.5200\n",
            "Epoch 11/250\n",
            "25/25 [==============================] - 19s 758ms/step - loss: 0.1403 - acc: 0.7626 - val_loss: 0.4479 - val_acc: 0.5900\n",
            "Epoch 12/250\n",
            "25/25 [==============================] - 19s 759ms/step - loss: 0.1410 - acc: 0.7676 - val_loss: 0.4164 - val_acc: 0.4900\n",
            "Epoch 13/250\n",
            "25/25 [==============================] - 20s 783ms/step - loss: 0.1346 - acc: 0.7776 - val_loss: 0.3217 - val_acc: 0.6500\n",
            "Epoch 14/250\n",
            "25/25 [==============================] - 20s 783ms/step - loss: 0.1305 - acc: 0.7802 - val_loss: 0.3311 - val_acc: 0.6300\n",
            "Epoch 15/250\n",
            "25/25 [==============================] - 19s 781ms/step - loss: 0.1422 - acc: 0.7701 - val_loss: 0.2882 - val_acc: 0.6000\n",
            "Epoch 16/250\n",
            "25/25 [==============================] - 19s 758ms/step - loss: 0.1497 - acc: 0.7827 - val_loss: 0.4494 - val_acc: 0.6000\n",
            "Epoch 17/250\n",
            "25/25 [==============================] - 20s 782ms/step - loss: 0.1349 - acc: 0.7701 - val_loss: 0.3142 - val_acc: 0.6700\n",
            "Epoch 18/250\n",
            "25/25 [==============================] - 19s 758ms/step - loss: 0.1249 - acc: 0.7877 - val_loss: 0.2616 - val_acc: 0.6900\n",
            "Epoch 19/250\n",
            "25/25 [==============================] - 19s 782ms/step - loss: 0.1311 - acc: 0.7814 - val_loss: 0.3835 - val_acc: 0.6600\n",
            "Epoch 20/250\n",
            "25/25 [==============================] - 19s 759ms/step - loss: 0.1304 - acc: 0.7789 - val_loss: 0.3054 - val_acc: 0.6400\n",
            "Epoch 21/250\n",
            "25/25 [==============================] - 19s 758ms/step - loss: 0.1374 - acc: 0.7726 - val_loss: 0.4573 - val_acc: 0.5900\n",
            "Epoch 22/250\n",
            "25/25 [==============================] - 19s 758ms/step - loss: 0.1406 - acc: 0.7827 - val_loss: 0.3297 - val_acc: 0.6600\n",
            "Epoch 23/250\n",
            "25/25 [==============================] - 19s 760ms/step - loss: 0.1361 - acc: 0.7839 - val_loss: 0.2833 - val_acc: 0.6100\n",
            "Epoch 24/250\n",
            "25/25 [==============================] - 19s 781ms/step - loss: 0.1282 - acc: 0.7827 - val_loss: 0.2624 - val_acc: 0.6300\n",
            "Epoch 25/250\n",
            "25/25 [==============================] - 19s 758ms/step - loss: 0.1355 - acc: 0.7889 - val_loss: 0.3181 - val_acc: 0.6500\n",
            "Epoch 26/250\n",
            "25/25 [==============================] - 19s 757ms/step - loss: 0.1397 - acc: 0.7764 - val_loss: 0.2684 - val_acc: 0.6300\n",
            "Epoch 27/250\n",
            "25/25 [==============================] - 19s 757ms/step - loss: 0.1336 - acc: 0.7814 - val_loss: 0.3153 - val_acc: 0.6500\n",
            "Epoch 28/250\n",
            "25/25 [==============================] - 19s 757ms/step - loss: 0.1367 - acc: 0.7802 - val_loss: 0.3705 - val_acc: 0.6100\n",
            "Epoch 29/250\n",
            "25/25 [==============================] - 19s 757ms/step - loss: 0.1376 - acc: 0.7839 - val_loss: 0.3289 - val_acc: 0.5400\n",
            "Epoch 30/250\n",
            "25/25 [==============================] - 19s 757ms/step - loss: 0.1332 - acc: 0.7839 - val_loss: 0.2964 - val_acc: 0.6100\n",
            "Epoch 31/250\n",
            "25/25 [==============================] - 19s 756ms/step - loss: 0.1362 - acc: 0.7764 - val_loss: 0.2844 - val_acc: 0.6100\n",
            "Epoch 32/250\n",
            "25/25 [==============================] - 19s 756ms/step - loss: 0.1277 - acc: 0.7839 - val_loss: 0.2683 - val_acc: 0.6400\n",
            "Epoch 33/250\n",
            "25/25 [==============================] - 19s 757ms/step - loss: 0.1237 - acc: 0.7952 - val_loss: 0.2588 - val_acc: 0.6400\n",
            "Epoch 34/250\n",
            "25/25 [==============================] - 19s 757ms/step - loss: 0.1223 - acc: 0.8028 - val_loss: 0.2712 - val_acc: 0.6700\n",
            "Epoch 35/250\n",
            "25/25 [==============================] - 19s 756ms/step - loss: 0.1255 - acc: 0.7965 - val_loss: 0.2611 - val_acc: 0.6600\n",
            "Epoch 36/250\n",
            "25/25 [==============================] - 19s 757ms/step - loss: 0.1329 - acc: 0.7902 - val_loss: 0.2587 - val_acc: 0.6000\n",
            "Epoch 37/250\n",
            "25/25 [==============================] - 19s 757ms/step - loss: 0.1273 - acc: 0.7776 - val_loss: 0.2773 - val_acc: 0.6300\n",
            "Epoch 38/250\n",
            "25/25 [==============================] - 19s 781ms/step - loss: 0.1198 - acc: 0.7977 - val_loss: 0.3718 - val_acc: 0.5800\n",
            "Epoch 39/250\n",
            "25/25 [==============================] - 19s 756ms/step - loss: 0.1231 - acc: 0.7940 - val_loss: 0.2812 - val_acc: 0.6600\n",
            "Epoch 40/250\n",
            "25/25 [==============================] - 19s 781ms/step - loss: 0.1207 - acc: 0.7940 - val_loss: 0.3530 - val_acc: 0.6700\n",
            "Epoch 41/250\n",
            "25/25 [==============================] - 19s 757ms/step - loss: 0.1226 - acc: 0.8065 - val_loss: 0.3389 - val_acc: 0.6200\n",
            "Epoch 42/250\n",
            "25/25 [==============================] - 20s 782ms/step - loss: 0.1198 - acc: 0.8028 - val_loss: 0.3261 - val_acc: 0.5700\n",
            "Epoch 43/250\n",
            "25/25 [==============================] - 19s 757ms/step - loss: 0.1366 - acc: 0.7864 - val_loss: 0.3471 - val_acc: 0.6100\n",
            "Epoch 44/250\n",
            "25/25 [==============================] - 19s 758ms/step - loss: 0.1195 - acc: 0.7977 - val_loss: 0.3561 - val_acc: 0.6100\n",
            "Epoch 45/250\n",
            "25/25 [==============================] - 19s 757ms/step - loss: 0.1216 - acc: 0.8053 - val_loss: 0.5902 - val_acc: 0.5700\n",
            "Epoch 46/250\n",
            "25/25 [==============================] - 19s 757ms/step - loss: 0.1250 - acc: 0.7864 - val_loss: 0.2996 - val_acc: 0.6300\n",
            "Epoch 47/250\n",
            "25/25 [==============================] - 19s 781ms/step - loss: 0.1221 - acc: 0.7915 - val_loss: 0.3539 - val_acc: 0.6000\n",
            "Epoch 48/250\n",
            "25/25 [==============================] - 19s 782ms/step - loss: 0.1225 - acc: 0.7990 - val_loss: 0.3059 - val_acc: 0.5600\n",
            "Epoch 49/250\n",
            "25/25 [==============================] - 19s 758ms/step - loss: 0.1192 - acc: 0.8065 - val_loss: 0.3717 - val_acc: 0.5600\n",
            "Epoch 50/250\n",
            "25/25 [==============================] - 19s 757ms/step - loss: 0.1203 - acc: 0.8015 - val_loss: 0.4273 - val_acc: 0.6200\n",
            "Epoch 51/250\n",
            "25/25 [==============================] - 19s 756ms/step - loss: 0.1186 - acc: 0.7965 - val_loss: 0.3110 - val_acc: 0.6400\n",
            "Epoch 52/250\n",
            "25/25 [==============================] - 19s 758ms/step - loss: 0.1170 - acc: 0.8003 - val_loss: 0.3195 - val_acc: 0.6200\n",
            "Epoch 53/250\n",
            "25/25 [==============================] - 19s 758ms/step - loss: 0.1141 - acc: 0.8003 - val_loss: 0.2965 - val_acc: 0.6300\n",
            "Epoch 54/250\n",
            "25/25 [==============================] - 19s 759ms/step - loss: 0.1133 - acc: 0.8003 - val_loss: 0.3399 - val_acc: 0.6600\n",
            "Epoch 55/250\n",
            "25/25 [==============================] - 19s 781ms/step - loss: 0.1148 - acc: 0.8003 - val_loss: 0.4934 - val_acc: 0.4500\n",
            "Epoch 56/250\n",
            "25/25 [==============================] - 19s 756ms/step - loss: 0.1206 - acc: 0.7965 - val_loss: 0.3890 - val_acc: 0.6200\n",
            "Epoch 57/250\n",
            "25/25 [==============================] - 19s 757ms/step - loss: 0.1197 - acc: 0.7927 - val_loss: 0.3614 - val_acc: 0.6400\n",
            "Epoch 58/250\n",
            "25/25 [==============================] - 19s 757ms/step - loss: 0.1252 - acc: 0.7789 - val_loss: 0.4063 - val_acc: 0.6000\n",
            "Epoch 59/250\n",
            "25/25 [==============================] - 19s 757ms/step - loss: 0.1253 - acc: 0.7839 - val_loss: 1.0826 - val_acc: 0.4800\n",
            "Epoch 60/250\n",
            "25/25 [==============================] - 19s 781ms/step - loss: 0.1184 - acc: 0.7927 - val_loss: 0.3053 - val_acc: 0.6500\n",
            "Epoch 61/250\n",
            "25/25 [==============================] - 19s 756ms/step - loss: 0.1227 - acc: 0.7965 - val_loss: 0.4689 - val_acc: 0.6300\n",
            "Epoch 62/250\n",
            "25/25 [==============================] - 19s 780ms/step - loss: 0.1496 - acc: 0.7814 - val_loss: 0.3839 - val_acc: 0.5500\n",
            "Epoch 63/250\n",
            "25/25 [==============================] - 19s 756ms/step - loss: 0.1852 - acc: 0.7224 - val_loss: 2.5538 - val_acc: 0.2200\n",
            "Epoch 64/250\n",
            "25/25 [==============================] - 19s 780ms/step - loss: 0.1707 - acc: 0.7525 - val_loss: 45.5829 - val_acc: 0.1700\n",
            "Epoch 65/250\n",
            "25/25 [==============================] - 19s 782ms/step - loss: 0.1625 - acc: 0.7563 - val_loss: 4474.9985 - val_acc: 0.2300\n",
            "Epoch 66/250\n",
            "25/25 [==============================] - 19s 756ms/step - loss: 0.1621 - acc: 0.7676 - val_loss: 15.7513 - val_acc: 0.2300\n",
            "Epoch 67/250\n",
            "25/25 [==============================] - 19s 758ms/step - loss: 0.1324 - acc: 0.7889 - val_loss: 0.2959 - val_acc: 0.6600\n",
            "Epoch 68/250\n",
            "25/25 [==============================] - 19s 781ms/step - loss: 0.1363 - acc: 0.7751 - val_loss: 0.4644 - val_acc: 0.5500\n",
            "Epoch 69/250\n",
            "25/25 [==============================] - 19s 756ms/step - loss: 0.1267 - acc: 0.7877 - val_loss: 1.1314 - val_acc: 0.5800\n",
            "Epoch 70/250\n",
            "25/25 [==============================] - 19s 779ms/step - loss: 0.1192 - acc: 0.7965 - val_loss: 0.3305 - val_acc: 0.6200\n",
            "Epoch 71/250\n",
            "25/25 [==============================] - 19s 754ms/step - loss: 0.1181 - acc: 0.8040 - val_loss: 0.2692 - val_acc: 0.6700\n",
            "Epoch 72/250\n",
            "25/25 [==============================] - 19s 779ms/step - loss: 0.1130 - acc: 0.8028 - val_loss: 0.3001 - val_acc: 0.6300\n",
            "Epoch 73/250\n",
            "25/25 [==============================] - 19s 754ms/step - loss: 0.1117 - acc: 0.8090 - val_loss: 0.3189 - val_acc: 0.6400\n",
            "Epoch 74/250\n",
            "25/25 [==============================] - 19s 755ms/step - loss: 0.1131 - acc: 0.8065 - val_loss: 0.3385 - val_acc: 0.6600\n",
            "Epoch 75/250\n",
            "25/25 [==============================] - 19s 758ms/step - loss: 0.1169 - acc: 0.7977 - val_loss: 0.3254 - val_acc: 0.6600\n",
            "Epoch 76/250\n",
            "25/25 [==============================] - 19s 780ms/step - loss: 0.1231 - acc: 0.7952 - val_loss: 0.3249 - val_acc: 0.6200\n",
            "Epoch 77/250\n",
            "25/25 [==============================] - 19s 757ms/step - loss: 0.1193 - acc: 0.7915 - val_loss: 0.3311 - val_acc: 0.6600\n",
            "Epoch 78/250\n",
            "25/25 [==============================] - 19s 756ms/step - loss: 0.1254 - acc: 0.7877 - val_loss: 0.5801 - val_acc: 0.5100\n",
            "Epoch 79/250\n",
            "25/25 [==============================] - 19s 781ms/step - loss: 0.1256 - acc: 0.7789 - val_loss: 0.3358 - val_acc: 0.6200\n",
            "Epoch 80/250\n",
            "25/25 [==============================] - 19s 755ms/step - loss: 0.1222 - acc: 0.8028 - val_loss: 0.2926 - val_acc: 0.6000\n",
            "Epoch 81/250\n",
            "25/25 [==============================] - 19s 756ms/step - loss: 0.1192 - acc: 0.8015 - val_loss: 0.3022 - val_acc: 0.6300\n",
            "Epoch 82/250\n",
            "25/25 [==============================] - 19s 757ms/step - loss: 0.1130 - acc: 0.8053 - val_loss: 0.3165 - val_acc: 0.6300\n",
            "Epoch 83/250\n",
            "25/25 [==============================] - 19s 757ms/step - loss: 0.1136 - acc: 0.8003 - val_loss: 0.2999 - val_acc: 0.6500\n",
            "Epoch 84/250\n",
            "25/25 [==============================] - 19s 756ms/step - loss: 0.1191 - acc: 0.8015 - val_loss: 0.2982 - val_acc: 0.6500\n",
            "Epoch 85/250\n",
            "25/25 [==============================] - 19s 757ms/step - loss: 0.1199 - acc: 0.8028 - val_loss: 0.4044 - val_acc: 0.5900\n",
            "Epoch 86/250\n",
            "25/25 [==============================] - 19s 754ms/step - loss: 0.1139 - acc: 0.8015 - val_loss: 0.3548 - val_acc: 0.6600\n",
            "Epoch 87/250\n",
            "25/25 [==============================] - 19s 779ms/step - loss: 0.1216 - acc: 0.8003 - val_loss: 0.2576 - val_acc: 0.6400\n",
            "Epoch 88/250\n",
            "25/25 [==============================] - 19s 753ms/step - loss: 0.1224 - acc: 0.7952 - val_loss: 0.2730 - val_acc: 0.6400\n",
            "Epoch 89/250\n",
            "25/25 [==============================] - 19s 753ms/step - loss: 0.1168 - acc: 0.7965 - val_loss: 0.2607 - val_acc: 0.6800\n",
            "Epoch 90/250\n",
            "25/25 [==============================] - 19s 776ms/step - loss: 0.1094 - acc: 0.8078 - val_loss: 0.3306 - val_acc: 0.6800\n",
            "Epoch 91/250\n",
            "25/25 [==============================] - 19s 778ms/step - loss: 0.1126 - acc: 0.8103 - val_loss: 0.3381 - val_acc: 0.6800\n",
            "Epoch 92/250\n",
            "25/25 [==============================] - 19s 753ms/step - loss: 0.1124 - acc: 0.8103 - val_loss: 0.3260 - val_acc: 0.6500\n",
            "Epoch 93/250\n",
            "25/25 [==============================] - 19s 754ms/step - loss: 0.1110 - acc: 0.8078 - val_loss: 0.3172 - val_acc: 0.6200\n",
            "Epoch 94/250\n",
            "25/25 [==============================] - 19s 754ms/step - loss: 0.1104 - acc: 0.8053 - val_loss: 0.3121 - val_acc: 0.6600\n",
            "Epoch 95/250\n",
            "25/25 [==============================] - 19s 755ms/step - loss: 0.1083 - acc: 0.8090 - val_loss: 0.3618 - val_acc: 0.6500\n",
            "Epoch 96/250\n",
            "25/25 [==============================] - 19s 756ms/step - loss: 0.1088 - acc: 0.8078 - val_loss: 0.3724 - val_acc: 0.5900\n",
            "Epoch 97/250\n",
            "25/25 [==============================] - 19s 755ms/step - loss: 0.1198 - acc: 0.8028 - val_loss: 0.3435 - val_acc: 0.5700\n",
            "Epoch 98/250\n",
            "25/25 [==============================] - 19s 754ms/step - loss: 0.1251 - acc: 0.7952 - val_loss: 0.3691 - val_acc: 0.6700\n",
            "Epoch 99/250\n",
            "25/25 [==============================] - 19s 776ms/step - loss: 0.1173 - acc: 0.8028 - val_loss: 0.7511 - val_acc: 0.4900\n",
            "Epoch 100/250\n",
            "25/25 [==============================] - 19s 776ms/step - loss: 0.1188 - acc: 0.8028 - val_loss: 1.2077 - val_acc: 0.5500\n",
            "Epoch 101/250\n",
            "25/25 [==============================] - 19s 752ms/step - loss: 0.1152 - acc: 0.8003 - val_loss: 1.0297 - val_acc: 0.5600\n",
            "Epoch 102/250\n",
            "25/25 [==============================] - 19s 751ms/step - loss: 0.1142 - acc: 0.8040 - val_loss: 0.4888 - val_acc: 0.6400\n",
            "Epoch 103/250\n",
            "25/25 [==============================] - 19s 776ms/step - loss: 0.1163 - acc: 0.7977 - val_loss: 1.4761 - val_acc: 0.5000\n",
            "Epoch 104/250\n",
            "25/25 [==============================] - 19s 753ms/step - loss: 0.1240 - acc: 0.8040 - val_loss: 0.4667 - val_acc: 0.6200\n",
            "Epoch 105/250\n",
            "25/25 [==============================] - 19s 753ms/step - loss: 0.1360 - acc: 0.7739 - val_loss: 0.7710 - val_acc: 0.6300\n",
            "Epoch 106/250\n",
            "25/25 [==============================] - 19s 755ms/step - loss: 0.1312 - acc: 0.7965 - val_loss: 0.3582 - val_acc: 0.6200\n",
            "Epoch 107/250\n",
            "25/25 [==============================] - 19s 755ms/step - loss: 0.1188 - acc: 0.7940 - val_loss: 0.3142 - val_acc: 0.6000\n",
            "Epoch 108/250\n",
            "25/25 [==============================] - 19s 753ms/step - loss: 0.1158 - acc: 0.8053 - val_loss: 0.3788 - val_acc: 0.6300\n",
            "Epoch 109/250\n",
            "25/25 [==============================] - 19s 780ms/step - loss: 0.1229 - acc: 0.7990 - val_loss: 0.4372 - val_acc: 0.6200\n",
            "Epoch 110/250\n",
            "25/25 [==============================] - 19s 755ms/step - loss: 0.1193 - acc: 0.8015 - val_loss: 0.3291 - val_acc: 0.6300\n",
            "Epoch 111/250\n",
            "25/25 [==============================] - 19s 754ms/step - loss: 0.1165 - acc: 0.8040 - val_loss: 0.2689 - val_acc: 0.6300\n",
            "Epoch 112/250\n",
            "25/25 [==============================] - 19s 755ms/step - loss: 0.1192 - acc: 0.8028 - val_loss: 0.3272 - val_acc: 0.6300\n",
            "Epoch 113/250\n",
            "25/25 [==============================] - 19s 754ms/step - loss: 0.1194 - acc: 0.7965 - val_loss: 0.3556 - val_acc: 0.6800\n",
            "Epoch 114/250\n",
            "25/25 [==============================] - 19s 755ms/step - loss: 0.1148 - acc: 0.7990 - val_loss: 0.4840 - val_acc: 0.6500\n",
            "Epoch 115/250\n",
            "25/25 [==============================] - 19s 756ms/step - loss: 0.1104 - acc: 0.8141 - val_loss: 0.7584 - val_acc: 0.5700\n",
            "Epoch 116/250\n",
            "25/25 [==============================] - 19s 781ms/step - loss: 0.1091 - acc: 0.8141 - val_loss: 0.4790 - val_acc: 0.6200\n",
            "Epoch 117/250\n",
            "25/25 [==============================] - 19s 757ms/step - loss: 0.1111 - acc: 0.8128 - val_loss: 0.4324 - val_acc: 0.6400\n",
            "Epoch 118/250\n",
            "25/25 [==============================] - 19s 756ms/step - loss: 0.1114 - acc: 0.8053 - val_loss: 0.4115 - val_acc: 0.6600\n",
            "Epoch 119/250\n",
            "25/25 [==============================] - 19s 780ms/step - loss: 0.1076 - acc: 0.8053 - val_loss: 0.3669 - val_acc: 0.6500\n",
            "Epoch 120/250\n",
            "25/25 [==============================] - 19s 780ms/step - loss: 0.1085 - acc: 0.8078 - val_loss: 0.3930 - val_acc: 0.6400\n",
            "Epoch 121/250\n",
            "25/25 [==============================] - 19s 756ms/step - loss: 0.1066 - acc: 0.8065 - val_loss: 0.3993 - val_acc: 0.6300\n",
            "Epoch 122/250\n",
            "25/25 [==============================] - 19s 756ms/step - loss: 0.1095 - acc: 0.8166 - val_loss: 0.4247 - val_acc: 0.6200\n",
            "Epoch 123/250\n",
            "25/25 [==============================] - 19s 755ms/step - loss: 0.1191 - acc: 0.8116 - val_loss: 0.3688 - val_acc: 0.6300\n",
            "Epoch 124/250\n",
            "25/25 [==============================] - 19s 755ms/step - loss: 0.1124 - acc: 0.8090 - val_loss: 0.4084 - val_acc: 0.6600\n",
            "Epoch 125/250\n",
            "25/25 [==============================] - 19s 778ms/step - loss: 0.1101 - acc: 0.8065 - val_loss: 0.4023 - val_acc: 0.6700\n",
            "Epoch 126/250\n",
            "25/25 [==============================] - 19s 752ms/step - loss: 0.1115 - acc: 0.8078 - val_loss: 0.3605 - val_acc: 0.6500\n",
            "Epoch 127/250\n",
            "25/25 [==============================] - 19s 754ms/step - loss: 0.1091 - acc: 0.8116 - val_loss: 0.4342 - val_acc: 0.6600\n",
            "Epoch 128/250\n",
            "25/25 [==============================] - 19s 776ms/step - loss: 0.1109 - acc: 0.8078 - val_loss: 0.3829 - val_acc: 0.6600\n",
            "Epoch 129/250\n",
            "25/25 [==============================] - 19s 752ms/step - loss: 0.1084 - acc: 0.8116 - val_loss: 0.3835 - val_acc: 0.6500\n",
            "Epoch 130/250\n",
            "25/25 [==============================] - 19s 754ms/step - loss: 0.1078 - acc: 0.7977 - val_loss: 0.3907 - val_acc: 0.6700\n",
            "Epoch 131/250\n",
            "25/25 [==============================] - 19s 754ms/step - loss: 0.1066 - acc: 0.8090 - val_loss: 0.3993 - val_acc: 0.6300\n",
            "Epoch 132/250\n",
            "25/25 [==============================] - 19s 779ms/step - loss: 0.1076 - acc: 0.8078 - val_loss: 0.4028 - val_acc: 0.6700\n",
            "Epoch 133/250\n",
            "25/25 [==============================] - 19s 754ms/step - loss: 0.1069 - acc: 0.8153 - val_loss: 0.6462 - val_acc: 0.6200\n",
            "Epoch 134/250\n",
            "25/25 [==============================] - 19s 755ms/step - loss: 0.1100 - acc: 0.8191 - val_loss: 0.4230 - val_acc: 0.6700\n",
            "Epoch 135/250\n",
            "25/25 [==============================] - 19s 754ms/step - loss: 0.1071 - acc: 0.7977 - val_loss: 0.3752 - val_acc: 0.6600\n",
            "Epoch 136/250\n",
            "25/25 [==============================] - 19s 756ms/step - loss: 0.1073 - acc: 0.8090 - val_loss: 0.4033 - val_acc: 0.6600\n",
            "Epoch 137/250\n",
            "25/25 [==============================] - 19s 754ms/step - loss: 0.1069 - acc: 0.8053 - val_loss: 0.4208 - val_acc: 0.6600\n",
            "Epoch 138/250\n",
            "25/25 [==============================] - 19s 781ms/step - loss: 0.1054 - acc: 0.8178 - val_loss: 0.4030 - val_acc: 0.6700\n",
            "Epoch 139/250\n",
            "25/25 [==============================] - 19s 754ms/step - loss: 0.1071 - acc: 0.8116 - val_loss: 0.3634 - val_acc: 0.6600\n",
            "Epoch 140/250\n",
            "25/25 [==============================] - 19s 756ms/step - loss: 0.1131 - acc: 0.8178 - val_loss: 0.5492 - val_acc: 0.6300\n",
            "Epoch 141/250\n",
            "25/25 [==============================] - 19s 755ms/step - loss: 0.1109 - acc: 0.8003 - val_loss: 0.4469 - val_acc: 0.6400\n",
            "Epoch 142/250\n",
            "25/25 [==============================] - 19s 756ms/step - loss: 0.1113 - acc: 0.8103 - val_loss: 0.4595 - val_acc: 0.6500\n",
            "Epoch 143/250\n",
            "25/25 [==============================] - 19s 755ms/step - loss: 0.1119 - acc: 0.8040 - val_loss: 0.3766 - val_acc: 0.6500\n",
            "Epoch 144/250\n",
            "25/25 [==============================] - 19s 754ms/step - loss: 0.1150 - acc: 0.8003 - val_loss: 0.4130 - val_acc: 0.6200\n",
            "Epoch 145/250\n",
            "25/25 [==============================] - 19s 755ms/step - loss: 0.1129 - acc: 0.8090 - val_loss: 0.4013 - val_acc: 0.6400\n",
            "Epoch 146/250\n",
            "25/25 [==============================] - 19s 777ms/step - loss: 0.1231 - acc: 0.8053 - val_loss: 0.9797 - val_acc: 0.5700\n",
            "Epoch 147/250\n",
            "25/25 [==============================] - 19s 755ms/step - loss: 0.1261 - acc: 0.7990 - val_loss: 1.0386 - val_acc: 0.4800\n",
            "Epoch 148/250\n",
            "25/25 [==============================] - 19s 755ms/step - loss: 0.1250 - acc: 0.7827 - val_loss: 0.3665 - val_acc: 0.6500\n",
            "Epoch 149/250\n",
            "25/25 [==============================] - 19s 754ms/step - loss: 0.1158 - acc: 0.7990 - val_loss: 0.3017 - val_acc: 0.6600\n",
            "Epoch 150/250\n",
            "25/25 [==============================] - 19s 755ms/step - loss: 0.1283 - acc: 0.8040 - val_loss: 0.3177 - val_acc: 0.6200\n",
            "Epoch 151/250\n",
            "25/25 [==============================] - 19s 779ms/step - loss: 0.1221 - acc: 0.7940 - val_loss: 0.4138 - val_acc: 0.6200\n",
            "Epoch 152/250\n",
            "25/25 [==============================] - 19s 779ms/step - loss: 0.1180 - acc: 0.7889 - val_loss: 0.3768 - val_acc: 0.6100\n",
            "Epoch 153/250\n",
            "25/25 [==============================] - 19s 778ms/step - loss: 0.1141 - acc: 0.8053 - val_loss: 0.3570 - val_acc: 0.6300\n",
            "Epoch 154/250\n",
            "25/25 [==============================] - 19s 754ms/step - loss: 0.1147 - acc: 0.8103 - val_loss: 0.4381 - val_acc: 0.5900\n",
            "Epoch 155/250\n",
            "25/25 [==============================] - 19s 755ms/step - loss: 0.1239 - acc: 0.7977 - val_loss: 0.4202 - val_acc: 0.6300\n",
            "Epoch 156/250\n",
            "25/25 [==============================] - 19s 753ms/step - loss: 0.1527 - acc: 0.7814 - val_loss: 0.3540 - val_acc: 0.5600\n",
            "Epoch 157/250\n",
            "25/25 [==============================] - 19s 754ms/step - loss: 0.1301 - acc: 0.7927 - val_loss: 0.3094 - val_acc: 0.5500\n",
            "Epoch 158/250\n",
            "25/25 [==============================] - 19s 755ms/step - loss: 0.1225 - acc: 0.7940 - val_loss: 0.3393 - val_acc: 0.6000\n",
            "Epoch 159/250\n",
            "25/25 [==============================] - 19s 756ms/step - loss: 0.1177 - acc: 0.7940 - val_loss: 0.4413 - val_acc: 0.6500\n",
            "Epoch 160/250\n",
            "25/25 [==============================] - 19s 779ms/step - loss: 0.1137 - acc: 0.7965 - val_loss: 0.3230 - val_acc: 0.6100\n",
            "Epoch 161/250\n",
            "25/25 [==============================] - 19s 756ms/step - loss: 0.1117 - acc: 0.8078 - val_loss: 0.3074 - val_acc: 0.6400\n",
            "Epoch 162/250\n",
            "25/25 [==============================] - 19s 756ms/step - loss: 0.1132 - acc: 0.8065 - val_loss: 0.3891 - val_acc: 0.5700\n",
            "Epoch 163/250\n",
            "25/25 [==============================] - 19s 755ms/step - loss: 0.1127 - acc: 0.7877 - val_loss: 0.3959 - val_acc: 0.6500\n",
            "Epoch 164/250\n",
            "25/25 [==============================] - 19s 754ms/step - loss: 0.1196 - acc: 0.7940 - val_loss: 0.2872 - val_acc: 0.6200\n",
            "Epoch 165/250\n",
            "25/25 [==============================] - 19s 755ms/step - loss: 0.1154 - acc: 0.7990 - val_loss: 0.8145 - val_acc: 0.6000\n",
            "Epoch 166/250\n",
            "25/25 [==============================] - 19s 778ms/step - loss: 0.1173 - acc: 0.8003 - val_loss: 0.4048 - val_acc: 0.5900\n",
            "Epoch 167/250\n",
            "25/25 [==============================] - 19s 754ms/step - loss: 0.1138 - acc: 0.8078 - val_loss: 0.3589 - val_acc: 0.5900\n",
            "Epoch 168/250\n",
            "25/25 [==============================] - 19s 778ms/step - loss: 0.1106 - acc: 0.7990 - val_loss: 0.3199 - val_acc: 0.6500\n",
            "Epoch 169/250\n",
            "25/25 [==============================] - 19s 780ms/step - loss: 0.1115 - acc: 0.8078 - val_loss: 0.3154 - val_acc: 0.6300\n",
            "Epoch 170/250\n",
            "25/25 [==============================] - 19s 753ms/step - loss: 0.1147 - acc: 0.8103 - val_loss: 0.3564 - val_acc: 0.6300\n",
            "Epoch 171/250\n",
            "25/25 [==============================] - 19s 754ms/step - loss: 0.1130 - acc: 0.8040 - val_loss: 0.3581 - val_acc: 0.5600\n",
            "Epoch 172/250\n",
            "25/25 [==============================] - 19s 753ms/step - loss: 0.1343 - acc: 0.7802 - val_loss: 0.6512 - val_acc: 0.5100\n",
            "Epoch 173/250\n",
            "25/25 [==============================] - 19s 777ms/step - loss: 0.1408 - acc: 0.8003 - val_loss: 0.6093 - val_acc: 0.5500\n",
            "Epoch 174/250\n",
            "25/25 [==============================] - 19s 751ms/step - loss: 0.1313 - acc: 0.7902 - val_loss: 0.6057 - val_acc: 0.5500\n",
            "Epoch 175/250\n",
            "25/25 [==============================] - 19s 751ms/step - loss: 0.1195 - acc: 0.8078 - val_loss: 0.3109 - val_acc: 0.6400\n",
            "Epoch 176/250\n",
            "25/25 [==============================] - 19s 752ms/step - loss: 0.1219 - acc: 0.7990 - val_loss: 1.4077 - val_acc: 0.5500\n",
            "Epoch 177/250\n",
            "25/25 [==============================] - 19s 752ms/step - loss: 0.1178 - acc: 0.8065 - val_loss: 0.6042 - val_acc: 0.6200\n",
            "Epoch 178/250\n",
            "25/25 [==============================] - 19s 755ms/step - loss: 0.1166 - acc: 0.8078 - val_loss: 0.4021 - val_acc: 0.6700\n",
            "Epoch 179/250\n",
            "25/25 [==============================] - 19s 780ms/step - loss: 0.1133 - acc: 0.8178 - val_loss: 0.3376 - val_acc: 0.5800\n",
            "Epoch 180/250\n",
            "25/25 [==============================] - 19s 754ms/step - loss: 0.1133 - acc: 0.7977 - val_loss: 0.4190 - val_acc: 0.6000\n",
            "Epoch 181/250\n",
            "25/25 [==============================] - 19s 778ms/step - loss: 0.1299 - acc: 0.7940 - val_loss: 1.0720 - val_acc: 0.5800\n",
            "Epoch 182/250\n",
            "25/25 [==============================] - 19s 775ms/step - loss: 0.1279 - acc: 0.7927 - val_loss: 0.6414 - val_acc: 0.5000\n",
            "Epoch 183/250\n",
            "25/25 [==============================] - 19s 776ms/step - loss: 0.1135 - acc: 0.8128 - val_loss: 0.4019 - val_acc: 0.6100\n",
            "Epoch 184/250\n",
            "25/25 [==============================] - 19s 776ms/step - loss: 0.1105 - acc: 0.8166 - val_loss: 0.3677 - val_acc: 0.6300\n",
            "Epoch 185/250\n",
            "25/25 [==============================] - 19s 776ms/step - loss: 0.1057 - acc: 0.8128 - val_loss: 0.3854 - val_acc: 0.6500\n",
            "Epoch 186/250\n",
            "25/25 [==============================] - 19s 754ms/step - loss: 0.1068 - acc: 0.8103 - val_loss: 0.3600 - val_acc: 0.6300\n",
            "Epoch 187/250\n",
            "25/25 [==============================] - 19s 752ms/step - loss: 0.1071 - acc: 0.8153 - val_loss: 0.3315 - val_acc: 0.6500\n",
            "Epoch 188/250\n",
            "25/25 [==============================] - 19s 752ms/step - loss: 0.1053 - acc: 0.8191 - val_loss: 0.4322 - val_acc: 0.6300\n",
            "Epoch 189/250\n",
            "25/25 [==============================] - 19s 749ms/step - loss: 0.1038 - acc: 0.8178 - val_loss: 0.3706 - val_acc: 0.6600\n",
            "Epoch 190/250\n",
            "25/25 [==============================] - 19s 753ms/step - loss: 0.1056 - acc: 0.8229 - val_loss: 0.3861 - val_acc: 0.6700\n",
            "Epoch 191/250\n",
            "25/25 [==============================] - 19s 754ms/step - loss: 0.1067 - acc: 0.8141 - val_loss: 0.3960 - val_acc: 0.6500\n",
            "Epoch 192/250\n",
            "25/25 [==============================] - 19s 779ms/step - loss: 0.1067 - acc: 0.8053 - val_loss: 0.4979 - val_acc: 0.6400\n",
            "Epoch 193/250\n",
            "25/25 [==============================] - 19s 776ms/step - loss: 0.1056 - acc: 0.8090 - val_loss: 0.4757 - val_acc: 0.6500\n",
            "Epoch 194/250\n",
            "25/25 [==============================] - 19s 774ms/step - loss: 0.1104 - acc: 0.8141 - val_loss: 0.4103 - val_acc: 0.6600\n",
            "Epoch 195/250\n",
            "25/25 [==============================] - 19s 777ms/step - loss: 0.1106 - acc: 0.8128 - val_loss: 0.3733 - val_acc: 0.6500\n",
            "Epoch 196/250\n",
            "25/25 [==============================] - 19s 756ms/step - loss: 0.1105 - acc: 0.8141 - val_loss: 0.3787 - val_acc: 0.6600\n",
            "Epoch 197/250\n",
            "25/25 [==============================] - 19s 755ms/step - loss: 0.1166 - acc: 0.8040 - val_loss: 0.3635 - val_acc: 0.5700\n",
            "Epoch 198/250\n",
            "25/25 [==============================] - 19s 752ms/step - loss: 0.1116 - acc: 0.8103 - val_loss: 0.3610 - val_acc: 0.6600\n",
            "Epoch 199/250\n",
            "25/25 [==============================] - 19s 750ms/step - loss: 0.1074 - acc: 0.8141 - val_loss: 0.3818 - val_acc: 0.6500\n",
            "Epoch 200/250\n",
            "25/25 [==============================] - 19s 776ms/step - loss: 0.1073 - acc: 0.8128 - val_loss: 0.4160 - val_acc: 0.6300\n",
            "Epoch 201/250\n",
            "25/25 [==============================] - 19s 750ms/step - loss: 0.1054 - acc: 0.8216 - val_loss: 0.3824 - val_acc: 0.6300\n",
            "Epoch 202/250\n",
            "25/25 [==============================] - 19s 753ms/step - loss: 0.1052 - acc: 0.8191 - val_loss: 0.4620 - val_acc: 0.6700\n",
            "Epoch 203/250\n",
            "25/25 [==============================] - 19s 778ms/step - loss: 0.1035 - acc: 0.8191 - val_loss: 0.4893 - val_acc: 0.6800\n",
            "Epoch 204/250\n",
            "25/25 [==============================] - 19s 778ms/step - loss: 0.1064 - acc: 0.8065 - val_loss: 0.4235 - val_acc: 0.6300\n",
            "Epoch 205/250\n",
            "25/25 [==============================] - 19s 754ms/step - loss: 0.1057 - acc: 0.8141 - val_loss: 0.4115 - val_acc: 0.6500\n",
            "Epoch 206/250\n",
            "25/25 [==============================] - 19s 756ms/step - loss: 0.1056 - acc: 0.8040 - val_loss: 0.4346 - val_acc: 0.6500\n",
            "Epoch 207/250\n",
            "25/25 [==============================] - 19s 756ms/step - loss: 0.1033 - acc: 0.8178 - val_loss: 0.4229 - val_acc: 0.6600\n",
            "Epoch 208/250\n",
            "25/25 [==============================] - 19s 753ms/step - loss: 0.1048 - acc: 0.8153 - val_loss: 0.4126 - val_acc: 0.6500\n",
            "Epoch 209/250\n",
            "25/25 [==============================] - 19s 777ms/step - loss: 0.1069 - acc: 0.8040 - val_loss: 0.3981 - val_acc: 0.6200\n",
            "Epoch 210/250\n",
            "25/25 [==============================] - 19s 776ms/step - loss: 0.1064 - acc: 0.8103 - val_loss: 0.4187 - val_acc: 0.6500\n",
            "Epoch 211/250\n",
            "25/25 [==============================] - 19s 752ms/step - loss: 0.1060 - acc: 0.8166 - val_loss: 0.4193 - val_acc: 0.6300\n",
            "Epoch 212/250\n",
            "25/25 [==============================] - 19s 752ms/step - loss: 0.1062 - acc: 0.8116 - val_loss: 0.4737 - val_acc: 0.6100\n",
            "Epoch 213/250\n",
            "25/25 [==============================] - 19s 752ms/step - loss: 0.1081 - acc: 0.8116 - val_loss: 0.4341 - val_acc: 0.6500\n",
            "Epoch 214/250\n",
            "25/25 [==============================] - 19s 777ms/step - loss: 0.1068 - acc: 0.8141 - val_loss: 0.4045 - val_acc: 0.6400\n",
            "Epoch 215/250\n",
            "25/25 [==============================] - 19s 753ms/step - loss: 0.1062 - acc: 0.8090 - val_loss: 0.3954 - val_acc: 0.6600\n",
            "Epoch 216/250\n",
            "25/25 [==============================] - 19s 753ms/step - loss: 0.1054 - acc: 0.8178 - val_loss: 0.4273 - val_acc: 0.6600\n",
            "Epoch 217/250\n",
            "25/25 [==============================] - 19s 754ms/step - loss: 0.1043 - acc: 0.8153 - val_loss: 0.4371 - val_acc: 0.6600\n",
            "Epoch 218/250\n",
            "25/25 [==============================] - 19s 754ms/step - loss: 0.1054 - acc: 0.8141 - val_loss: 0.4367 - val_acc: 0.6900\n",
            "Epoch 219/250\n",
            "25/25 [==============================] - 19s 776ms/step - loss: 0.1057 - acc: 0.8153 - val_loss: 1.5446 - val_acc: 0.5200\n",
            "Epoch 220/250\n",
            "25/25 [==============================] - 19s 752ms/step - loss: 0.1059 - acc: 0.8116 - val_loss: 0.5214 - val_acc: 0.6100\n",
            "Epoch 221/250\n",
            "25/25 [==============================] - 19s 753ms/step - loss: 0.1032 - acc: 0.8216 - val_loss: 0.4328 - val_acc: 0.6700\n",
            "Epoch 222/250\n",
            "25/25 [==============================] - 19s 752ms/step - loss: 0.1029 - acc: 0.8153 - val_loss: 0.4490 - val_acc: 0.6700\n",
            "Epoch 223/250\n",
            "25/25 [==============================] - 19s 775ms/step - loss: 0.1049 - acc: 0.8204 - val_loss: 0.4531 - val_acc: 0.6900\n",
            "Epoch 224/250\n",
            "25/25 [==============================] - 19s 752ms/step - loss: 0.1030 - acc: 0.8128 - val_loss: 0.4057 - val_acc: 0.6200\n",
            "Epoch 225/250\n",
            "25/25 [==============================] - 19s 776ms/step - loss: 0.1099 - acc: 0.8166 - val_loss: 0.3496 - val_acc: 0.6700\n",
            "Epoch 226/250\n",
            "25/25 [==============================] - 19s 751ms/step - loss: 0.1059 - acc: 0.8116 - val_loss: 0.4657 - val_acc: 0.5900\n",
            "Epoch 227/250\n",
            "25/25 [==============================] - 19s 751ms/step - loss: 0.1051 - acc: 0.8153 - val_loss: 0.4522 - val_acc: 0.6100\n",
            "Epoch 228/250\n",
            "25/25 [==============================] - 19s 752ms/step - loss: 0.1048 - acc: 0.8153 - val_loss: 0.4195 - val_acc: 0.6900\n",
            "Epoch 229/250\n",
            "25/25 [==============================] - 19s 753ms/step - loss: 0.1073 - acc: 0.8128 - val_loss: 0.3681 - val_acc: 0.5700\n",
            "Epoch 230/250\n",
            "25/25 [==============================] - 19s 777ms/step - loss: 0.1095 - acc: 0.8141 - val_loss: 0.2794 - val_acc: 0.6000\n",
            "Epoch 231/250\n",
            "25/25 [==============================] - 19s 777ms/step - loss: 0.1139 - acc: 0.8128 - val_loss: 0.6882 - val_acc: 0.6000\n",
            "Epoch 232/250\n",
            "25/25 [==============================] - 19s 753ms/step - loss: 0.1073 - acc: 0.8128 - val_loss: 0.4641 - val_acc: 0.6000\n",
            "Epoch 233/250\n",
            "25/25 [==============================] - 19s 776ms/step - loss: 0.1126 - acc: 0.8116 - val_loss: 1.2870 - val_acc: 0.5600\n",
            "Epoch 234/250\n",
            "25/25 [==============================] - 19s 751ms/step - loss: 0.1153 - acc: 0.8103 - val_loss: 0.5912 - val_acc: 0.6100\n",
            "Epoch 235/250\n",
            "25/25 [==============================] - 19s 776ms/step - loss: 0.1138 - acc: 0.8053 - val_loss: 0.4566 - val_acc: 0.6100\n",
            "Epoch 236/250\n",
            "25/25 [==============================] - 19s 777ms/step - loss: 0.1126 - acc: 0.8078 - val_loss: 0.6564 - val_acc: 0.6100\n",
            "Epoch 237/250\n",
            "25/25 [==============================] - 19s 755ms/step - loss: 0.1085 - acc: 0.8128 - val_loss: 0.4259 - val_acc: 0.6700\n",
            "Epoch 238/250\n",
            "25/25 [==============================] - 19s 752ms/step - loss: 0.1068 - acc: 0.8040 - val_loss: 0.5399 - val_acc: 0.6600\n",
            "Epoch 239/250\n",
            "25/25 [==============================] - 19s 777ms/step - loss: 0.1056 - acc: 0.8204 - val_loss: 0.5969 - val_acc: 0.6500\n",
            "Epoch 240/250\n",
            "25/25 [==============================] - 19s 753ms/step - loss: 0.1077 - acc: 0.8141 - val_loss: 0.5098 - val_acc: 0.6400\n",
            "Epoch 241/250\n",
            "25/25 [==============================] - 19s 779ms/step - loss: 0.1049 - acc: 0.8204 - val_loss: 0.4398 - val_acc: 0.6300\n",
            "Epoch 242/250\n",
            "25/25 [==============================] - 19s 776ms/step - loss: 0.1064 - acc: 0.8166 - val_loss: 0.4000 - val_acc: 0.6700\n",
            "Epoch 243/250\n",
            "25/25 [==============================] - 19s 777ms/step - loss: 0.1031 - acc: 0.8204 - val_loss: 0.3936 - val_acc: 0.6300\n",
            "Epoch 244/250\n",
            "25/25 [==============================] - 19s 776ms/step - loss: 0.1042 - acc: 0.8141 - val_loss: 0.3449 - val_acc: 0.6800\n",
            "Epoch 245/250\n",
            "25/25 [==============================] - 19s 753ms/step - loss: 0.1104 - acc: 0.8103 - val_loss: 0.3932 - val_acc: 0.5700\n",
            "Epoch 246/250\n",
            "25/25 [==============================] - 19s 753ms/step - loss: 0.1158 - acc: 0.8053 - val_loss: 0.3258 - val_acc: 0.6800\n",
            "Epoch 247/250\n",
            "25/25 [==============================] - 19s 753ms/step - loss: 0.1092 - acc: 0.8116 - val_loss: 0.4066 - val_acc: 0.5900\n",
            "Epoch 248/250\n",
            "25/25 [==============================] - 19s 752ms/step - loss: 0.1104 - acc: 0.8103 - val_loss: 0.3292 - val_acc: 0.6100\n",
            "Epoch 249/250\n",
            "25/25 [==============================] - 19s 751ms/step - loss: 0.1122 - acc: 0.8141 - val_loss: 0.3483 - val_acc: 0.6300\n",
            "Epoch 250/250\n",
            "25/25 [==============================] - 19s 752ms/step - loss: 0.1114 - acc: 0.8090 - val_loss: 0.4009 - val_acc: 0.5800\n"
          ]
        }
      ],
      "source": [
        "train_datagen = ImageDataGenerator(rescale=1. / 255, \n",
        "                                   rotation_range=15,\n",
        "                                   width_shift_range=0.1,\n",
        "                                   height_shift_range=0.1,\n",
        "                                   shear_range=0.01,\n",
        "                                   zoom_range=[0.9, 1.25],\n",
        "                                   horizontal_flip=True,\n",
        "                                   vertical_flip=False,\n",
        "                                   fill_mode='reflect')\n",
        "valtest_datagen = ImageDataGenerator(rescale=1. / 255)\n",
        "\n",
        "train_generator = train_datagen.flow(np.array(X_train), y_train, batch_size=batch_size)\n",
        "validation_generator = valtest_datagen.flow(np.array(X_val), y_val, batch_size=batch_size)\n",
        "test_generator = valtest_datagen.flow(np.array(X_test), y_test, batch_size=batch_size)\n",
        "\n",
        "history = model.fit(np.array(X_train), np.array(y_train), validation_data=(np.array(X_val), np.array(y_val)), epochs=250)\n"
      ]
    },
    {
      "cell_type": "code",
      "execution_count": 22,
      "metadata": {
        "id": "b7zFh3yBq2Rg",
        "colab": {
          "base_uri": "https://localhost:8080/",
          "height": 898
        },
        "outputId": "cd75d55d-8832-4710-d69a-f0ca1ecfc14e"
      },
      "outputs": [
        {
          "output_type": "display_data",
          "data": {
            "text/plain": [
              "<Figure size 432x288 with 1 Axes>"
            ],
            "image/png": "[encoded data removed]"
          },
          "metadata": {
            "needs_background": "light"
          }
        },
        {
          "output_type": "display_data",
          "data": {
            "text/plain": [
              "<Figure size 432x288 with 1 Axes>"
            ],
            "image/png": "[encoded data removed]"
          },
          "metadata": {
            "needs_background": "light"
          }
        },
        {
          "output_type": "display_data",
          "data": {
            "text/plain": [
              "<Figure size 360x360 with 2 Axes>"
            ],
            "image/png": "[encoded data removed]"
          },
          "metadata": {
            "needs_background": "light"
          }
        }
      ],
      "source": [
        "acc = history.history['acc']\n",
        "val_acc = history.history['val_acc']\n",
        "loss = history.history['loss']\n",
        "val_loss = history.history['val_loss']\n",
        "epochs = range(1, len(acc) + 1)\n",
        "plt.plot(epochs, acc, 'blue', label='Training acc')\n",
        "plt.plot(epochs, val_acc, 'red', label='Validation acc')\n",
        "plt.title('Training and validation accuracy')\n",
        "plt.legend()\n",
        "plt.savefig(\"/content/drive/MyDrive/Datasets - Copy/trvlAcc1.png\")\n",
        "plt.show()\n",
        "\n",
        "plt.figure()\n",
        "plt.plot(epochs, loss, 'blue', label='Training loss')\n",
        "plt.plot(epochs, val_loss, 'red', label='Validation loss')\n",
        "plt.title('Training and validation loss')\n",
        "plt.legend()\n",
        "plt.savefig(\"/content/drive/MyDrive/Datasets - Copy/trvlLoss1.png\")\n",
        "plt.show()\n",
        "\n",
        "import sklearn\n",
        "import itertools\n",
        "from sklearn.metrics import confusion_matrix\n",
        "dict_characters = {0: 'Clear', 1: 'Blurry'}\n",
        "def plot_confusion_matrix(cm, classes,\n",
        "                          normalize=False,\n",
        "                          title='Confusion matrix',\n",
        "                          cmap=plt.cm.Blues):\n",
        "    plt.figure(figsize = (5,5))\n",
        "    plt.imshow(cm, interpolation='nearest', cmap=cmap)\n",
        "    plt.title(title)\n",
        "    plt.colorbar()\n",
        "    tick_marks = np.arange(len(classes))\n",
        "    plt.xticks(tick_marks, classes, rotation=90)\n",
        "    plt.yticks(tick_marks, classes)\n",
        "    if normalize:\n",
        "        cm = cm.astype('float') / cm.sum(axis=1)[:, np.newaxis]\n",
        "    thresh = cm.max() / 2.\n",
        "    for i, j in itertools.product(range(cm.shape[0]), range(cm.shape[1])):\n",
        "        plt.text(j, i, cm[i, j],\n",
        "                 horizontalalignment=\"center\",\n",
        "                 color=\"white\" if cm[i, j] > thresh else \"black\")\n",
        "    plt.tight_layout()\n",
        "    plt.ylabel('True label')\n",
        "    plt.xlabel('Predicted label')\n",
        "    plt.savefig(\"/content/drive/MyDrive/Datasets - Copy/cm-\"+title+\".png\")\n",
        "    plt.show()\n",
        "\n",
        "    \n",
        "a=np.array(X_test)\n",
        "b=np.array(y_test)\n",
        "Y_pred = model.predict(a)\n",
        "\n",
        "\n",
        "Y_pred_classes = np.argmax(Y_pred,axis=1)\n",
        "confusion_mtx = confusion_matrix(np.argmax(b,axis=1), Y_pred_classes) \n",
        "plot_confusion_matrix(confusion_mtx, classes = list(image_classes))"
      ]
    },
    {
      "cell_type": "code",
      "execution_count": 23,
      "metadata": {
        "id": "zYxKO_NyxXA2",
        "colab": {
          "base_uri": "https://localhost:8080/"
        },
        "outputId": "aa4358f3-2cdc-4256-dba5-f1bd5cb6af01"
      },
      "outputs": [
        {
          "output_type": "execute_result",
          "data": {
            "text/plain": [
              "0.66"
            ]
          },
          "metadata": {},
          "execution_count": 23
        }
      ],
      "source": [
        "sklearn.metrics.accuracy_score(Y_pred_classes,np.argmax(b,axis=1))\n"
      ]
    },
    {
      "cell_type": "code",
      "execution_count": 24,
      "metadata": {
        "id": "FtSjiZ4pxcAE",
        "colab": {
          "base_uri": "https://localhost:8080/"
        },
        "outputId": "acc4d8ec-f2a9-463f-ea1c-a70d14a3fa32"
      },
      "outputs": [
        {
          "output_type": "execute_result",
          "data": {
            "text/plain": [
              "array([[ 2,  0,  0,  0,  0,  0],\n",
              "       [ 0,  2,  7,  4,  5,  0],\n",
              "       [ 0,  2, 15,  0,  3,  0],\n",
              "       [ 0,  0,  0, 18,  5,  0],\n",
              "       [ 0,  0,  0,  6, 18,  0],\n",
              "       [ 0,  0,  0,  0,  2, 11]])"
            ]
          },
          "metadata": {},
          "execution_count": 24
        }
      ],
      "source": [
        "confusion_mtx\n"
      ]
    },
    {
      "cell_type": "code",
      "execution_count": 25,
      "metadata": {
        "id": "yF5RniLdxjb1",
        "colab": {
          "base_uri": "https://localhost:8080/"
        },
        "outputId": "1afb8cdf-65e0-4d3f-9f45-689c637c0e7e"
      },
      "outputs": [
        {
          "output_type": "execute_result",
          "data": {
            "text/plain": [
              "[1.0, 0.3333333333333333, 0.7, 0.8695652173913043, 0.75, 0.8461538461538461]"
            ]
          },
          "metadata": {},
          "execution_count": 25
        }
      ],
      "source": [
        "accuracies = [class_correct_pred[i]/class_totals[i] for i in range(6)]\n",
        "accuracies"
      ]
    },
    {
      "cell_type": "code",
      "execution_count": 26,
      "metadata": {
        "id": "Hjhfdjpmxtre",
        "colab": {
          "base_uri": "https://localhost:8080/"
        },
        "outputId": "10a4dbee-0fbb-45a2-d665-0d505e1ec29f"
      },
      "outputs": [
        {
          "output_type": "stream",
          "name": "stdout",
          "text": [
            "100\n"
          ]
        },
        {
          "output_type": "execute_result",
          "data": {
            "text/plain": [
              "[1.0, 0.9056603773584906, 0.9397590361445783, 0.9, 0.9178082191780822, 1.0]"
            ]
          },
          "metadata": {},
          "execution_count": 26
        }
      ],
      "source": [
        "sumall = sum(map(sum, confusion_mtx))\n",
        "print(sumall)\n",
        "tn = [sumall - [sum(x) for x in zip(*confusion_mtx)][i] for i in range(6)]\n",
        "tn\n",
        "specificity = [tn[i]/(tn[i]+fp[i]) for i in range(6)]\n",
        "specificity"
      ]
    }
  ],
  "metadata": {
    "colab": {
      "collapsed_sections": [],
      "provenance": [],
      "mount_file_id": "1MYQW__7RaCmE7b-_r12sgBkHvOg58KKd",
      "authorship_tag": "ABX9TyNlfRFYk4QfElhXrbMZgHlL",
      "include_colab_link": true
    },
    "kernelspec": {
      "display_name": "Python 3",
      "name": "python3"
    },
    "language_info": {
      "name": "python"
    },
    "accelerator": "GPU"
  },
  "nbformat": 4,
  "nbformat_minor": 0
}