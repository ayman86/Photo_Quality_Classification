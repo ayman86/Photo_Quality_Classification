{
  "cells": [
    {
      "cell_type": "markdown",
      "metadata": {
        "id": "view-in-github",
        "colab_type": "text"
      },
      "source": [
        "<a href=\"https://colab.research.google.com/github/ayman86/Photo_Quality_Classification/blob/main/test80.ipynb\" target=\"_parent\"><img src=\"https://colab.research.google.com/assets/colab-badge.svg\" alt=\"Open In Colab\"/></a>"
      ]
    },
    {
      "cell_type": "code",
      "execution_count": 1,
      "metadata": {
        "id": "qWKhURmqANPw"
      },
      "outputs": [],
      "source": [
        "import cv2\n",
        "import os\n",
        "import random\n",
        "import matplotlib.pylab as plt\n",
        "from glob import glob\n",
        "import pandas as pd\n",
        "import numpy as np\n",
        "from sklearn.model_selection import train_test_split"
      ]
    },
    {
      "cell_type": "code",
      "execution_count": 2,
      "metadata": {
        "id": "Pwgj2q67AgFD"
      },
      "outputs": [],
      "source": [
        "def proc_image_dir(Images_Path):\n",
        "    \n",
        "    image_classes = sorted([dirname for dirname in os.listdir(Images_Path)\n",
        "                      if os.path.isdir(os.path.join(Images_Path, dirname))])\n",
        "    # and not dirname.startswith(\".\") and not dirname.startswith(\"mblur\")])\n",
        "    #image_classes.append('mblur')\n",
        "    \n",
        "    print(image_classes)\n",
        "    \n",
        "    x = [] # images as arrays\n",
        "    y = [] # labels Infiltration or Not_infiltration\n",
        "    WIDTH = 256\n",
        "    HEIGHT = 256\n",
        "  \n",
        "    print(\"Adding Images: \",end=\"\")\n",
        "    i = 0\n",
        "    for image_class in image_classes:\n",
        "        print(\"Processing \", image_class)\n",
        "        items = glob(os.path.join(Images_Path, image_class,\"*\"))\n",
        "        for item in items:\n",
        "            if item.lower().endswith(\".jpg\") or item.lower().endswith(\".bmp\"):\n",
        "                # Read and resize image\n",
        "                full_size_image = cv2.imread(item)\n",
        "                x.append(cv2.resize(full_size_image, (WIDTH,HEIGHT), interpolation=cv2.INTER_CUBIC))\n",
        "                out = [0] * len(image_classes)\n",
        "                out[i] = 1\n",
        "                y.append(out)\n",
        "        i+=1\n",
        "\n",
        "    print(\"\")\n",
        "    return x,y,image_classes\n",
        "\n",
        "def horizontal_motion_blur(img, blur_factor):\n",
        "    import cv2 \n",
        "    import numpy as np \n",
        "\n",
        "    kernel_size = blur_factor\n",
        "    kernel_h = np.zeros((kernel_size, kernel_size))\n",
        "    kernel_h[int((kernel_size - 1)/2), :] = np.ones(kernel_size) \n",
        "    kernel_h /= kernel_size \n",
        "\n",
        "    # Apply the horizontal kernel. \n",
        "    horizontal_mb = cv2.filter2D(img, -1, kernel_h) \n",
        "    \n",
        "    return horizontal_mb"
      ]
    },
    {
      "cell_type": "code",
      "execution_count": 3,
      "metadata": {
        "colab": {
          "base_uri": "https://localhost:8080/"
        },
        "id": "qHlujpENAkLd",
        "outputId": "aba4020c-d882-4259-a58e-65da28e8e681"
      },
      "outputs": [
        {
          "output_type": "stream",
          "name": "stdout",
          "text": [
            "['bad_lighting', 'fastfading', 'gblur', 'jp2k', 'jpeg', 'refimgs']\n",
            "Adding Images: Processing  bad_lighting\n",
            "Processing  fastfading\n",
            "Processing  gblur\n",
            "Processing  jp2k\n",
            "Processing  jpeg\n",
            "Processing  refimgs\n",
            "\n"
          ]
        }
      ],
      "source": [
        "# ./input/\n",
        "PATH = os.path.abspath(os.path.join('.', 'databaserelease2'))\n",
        "\n",
        "# ./input/sample/images/\n",
        "SOURCE_IMAGES = '/content/drive/MyDrive/Datasets - Copy/First Dataset'#os.path.join(PATH, \"sample\", \"images\")\n",
        "x2,y2,image_classes = proc_image_dir(SOURCE_IMAGES)\n"
      ]
    },
    {
      "cell_type": "code",
      "execution_count": 4,
      "metadata": {
        "colab": {
          "base_uri": "https://localhost:8080/"
        },
        "id": "xkz5A8fhAwFm",
        "outputId": "28c30ed1-17e7-49b8-cd90-d6d0a58e3d54"
      },
      "outputs": [
        {
          "output_type": "stream",
          "name": "stdout",
          "text": [
            "['bad_lighting', 'fastfading', 'gblur', 'jp2k', 'jpeg', 'refimgs']\n"
          ]
        }
      ],
      "source": [
        "for i in range(0,len(x2)):\n",
        "    if(y2[i][2] > 0):\n",
        "        # Specify the kernel size. \n",
        "        # The greater the size, the more the motion. \n",
        "        \n",
        "        random.seed(221234)\n",
        "        kernel_size_h = random.randrange(30, 60, 5)\n",
        "\n",
        "\n",
        "        # Apply the horizontal kernel. \n",
        "        horizonal_mb = horizontal_motion_blur(x2[i],kernel_size_h)\n",
        "        \n",
        "        x2.append(horizonal_mb)\n",
        "        y2.append([0,0,0,0,0,1])\n",
        "\n",
        "print(image_classes)"
      ]
    },
    {
      "cell_type": "code",
      "execution_count": 5,
      "metadata": {
        "colab": {
          "base_uri": "https://localhost:8080/"
        },
        "id": "Ge9UqC_fAzAn",
        "outputId": "906fbbba-996e-4c83-de4f-b782f98c4f2a"
      },
      "outputs": [
        {
          "output_type": "stream",
          "name": "stdout",
          "text": [
            "(1082, 256, 256, 3)\n",
            "(61, 256, 256, 3)\n",
            "(60, 256, 256, 3)\n"
          ]
        }
      ],
      "source": [
        "# First split the data in two sets, 80% for training, 20% for Val/Test)\n",
        "X_train, X_valtest, y_train, y_valtest = train_test_split(x2,y2, test_size=0.10, random_state=1, stratify=y2)\n",
        "\n",
        "# Second split the 40% into validation and test sets\n",
        "X_test, X_val, y_test, y_val = train_test_split(X_valtest, y_valtest, test_size=0.5, random_state=1, stratify=y_valtest)\n",
        "\n",
        "print(np.array(X_train).shape)\n",
        "print(np.array(X_val).shape)\n",
        "print(np.array(X_test).shape)"
      ]
    },
    {
      "cell_type": "code",
      "execution_count": 6,
      "metadata": {
        "id": "vP9bfmPbA02v"
      },
      "outputs": [],
      "source": [
        "import tensorflow as tf\n",
        "from tensorflow.keras.preprocessing.image import ImageDataGenerator\n",
        "from tensorflow.keras import layers, models, optimizers\n",
        "from tensorflow.keras import backend as K\n",
        "import tensorflow.keras\n",
        "from tensorflow.keras.datasets import cifar10\n",
        "from tensorflow.keras.preprocessing.image import ImageDataGenerator\n",
        "from tensorflow.keras.models import Sequential\n",
        "from tensorflow.keras.layers import Dense, Dropout, Activation, Flatten\n",
        "from tensorflow.keras.layers import Conv2D, MaxPooling2D\n",
        "import os\n",
        "from tensorflow.keras.layers import Input, Dense, Activation,Flatten,Conv2D,MaxPool2D,Dropout\n",
        "from tensorflow.keras.models import Model\n",
        "\n",
        "\n",
        "K.image_data_format()\n",
        "\n",
        "img_width, img_height = 256, 256\n",
        "nb_train_samples = len(X_train)\n",
        "nb_validation_samples = len(X_val)\n",
        "epochs = 100\n",
        "batch_size = 16"
      ]
    },
    {
      "cell_type": "code",
      "execution_count": 7,
      "metadata": {
        "colab": {
          "base_uri": "https://localhost:8080/"
        },
        "id": "f9chEpMRA3d_",
        "outputId": "43d1bcad-29bd-4f84-b25d-3be517fc04f6"
      },
      "outputs": [
        {
          "output_type": "stream",
          "name": "stdout",
          "text": [
            "Model: \"Binary_classification\"\n",
            "_________________________________________________________________\n",
            " Layer (type)                Output Shape              Param #   \n",
            "=================================================================\n",
            " img_input (InputLayer)      [(None, 256, 256, 3)]     0         \n",
            "                                                                 \n",
            " l1 (Conv2D)                 (None, 256, 256, 32)      896       \n",
            "                                                                 \n",
            " l2 (Conv2D)                 (None, 256, 256, 64)      18496     \n",
            "                                                                 \n",
            " l3 (MaxPooling2D)           (None, 128, 128, 64)      0         \n",
            "                                                                 \n",
            " l4 (Conv2D)                 (None, 128, 128, 64)      36928     \n",
            "                                                                 \n",
            " l5 (MaxPooling2D)           (None, 64, 64, 64)        0         \n",
            "                                                                 \n",
            " l6 (Conv2D)                 (None, 64, 64, 128)       73856     \n",
            "                                                                 \n",
            " l7 (MaxPooling2D)           (None, 32, 32, 128)       0         \n",
            "                                                                 \n",
            " l8 (Conv2D)                 (None, 32, 32, 128)       147584    \n",
            "                                                                 \n",
            " l9 (MaxPooling2D)           (None, 16, 16, 128)       0         \n",
            "                                                                 \n",
            " l10 (Conv2D)                (None, 16, 16, 256)       295168    \n",
            "                                                                 \n",
            " l11 (MaxPooling2D)          (None, 8, 8, 256)         0         \n",
            "                                                                 \n",
            " l12 (Conv2D)                (None, 8, 8, 256)         590080    \n",
            "                                                                 \n",
            " l13 (MaxPooling2D)          (None, 4, 4, 256)         0         \n",
            "                                                                 \n",
            " fc1 (Flatten)               (None, 4096)              0         \n",
            "                                                                 \n",
            " l14 (Dense)                 (None, 64)                262208    \n",
            "                                                                 \n",
            " dropout (Dropout)           (None, 64)                0         \n",
            "                                                                 \n",
            " predictions (Dense)         (None, 6)                 390       \n",
            "                                                                 \n",
            "=================================================================\n",
            "Total params: 1,425,606\n",
            "Trainable params: 1,425,606\n",
            "Non-trainable params: 0\n",
            "_________________________________________________________________\n"
          ]
        }
      ],
      "source": [
        "input_shape = (256,256,3)\n",
        "\n",
        "#creat the network\n",
        "#input layer\n",
        "img_input = Input(shape=input_shape,name = 'img_input')\n",
        "\n",
        "#conv_layer\n",
        "l1 = Conv2D(32,(3,3),padding='same',activation='relu',name='l1')(img_input)\n",
        "l1 = Conv2D(64,(3,3),padding='same',activation='relu',name='l2')(l1)\n",
        "l1 = MaxPool2D((2,2),strides=(2,2),name='l3')(l1)\n",
        "#l1 = Dropout(0.2)(l1)\n",
        "\n",
        "l1 = Conv2D(64,(3,3),padding='same',activation='relu',name='l4')(l1)\n",
        "l1 = MaxPool2D((2,2),strides=(2,2),name='l5')(l1)\n",
        "#l1 = Dropout(0.2)(l1)\n",
        "\n",
        "l1 = Conv2D(128,(3,3),padding='same',activation='relu',name='l6')(l1)\n",
        "l1 = MaxPool2D((2,2),strides=(2,2),name='l7')(l1)\n",
        "#l1 = Dropout(0.3)(l1)\n",
        "\n",
        "l1 = Conv2D(128,(3,3),padding='same',activation='relu',name='l8')(l1)\n",
        "l1 = MaxPool2D((2,2),strides=(2,2),name='l9')(l1)\n",
        "#l1 = Dropout(0.3)(l1)\n",
        "\n",
        "l1 = Conv2D(256,(3,3),padding='same',activation='relu',name='l10')(l1)\n",
        "l1 = MaxPool2D((2,2),strides=(2,2),name='l11')(l1)\n",
        "#l1 = Dropout(0.4)(l1)\n",
        "\n",
        "l1 = Conv2D(256,(3,3),padding='same',activation='relu',name='l12')(l1)\n",
        "l1 = MaxPool2D((2,2),strides=(2,2),name='l13')(l1)\n",
        "#l1 = Dropout(0.4)(l1)\n",
        "\n",
        "l1 = Flatten(name='fc1')(l1)\n",
        "l1 = Dense(64,name='l14')(l1)\n",
        "l1 = Dropout(0.5)(l1)\n",
        "\n",
        "l1 = Dense(6,activation='sigmoid',name='predictions')(l1)\n",
        "\n",
        "#Generate model\n",
        "model = Model(inputs=img_input,outputs=l1,name='Binary_classification')\n",
        "model.summary()\n",
        "\n"
      ]
    },
    {
      "cell_type": "code",
      "execution_count": 8,
      "metadata": {
        "colab": {
          "base_uri": "https://localhost:8080/"
        },
        "id": "3YqNyGGOA5lH",
        "outputId": "9d24881a-9242-469b-9f47-6f5a1e2dd79f"
      },
      "outputs": [
        {
          "output_type": "stream",
          "name": "stderr",
          "text": [
            "/usr/local/lib/python3.7/dist-packages/keras/optimizer_v2/adam.py:105: UserWarning: The `lr` argument is deprecated, use `learning_rate` instead.\n",
            "  super(Adam, self).__init__(name, **kwargs)\n"
          ]
        }
      ],
      "source": [
        "model.compile(\n",
        "\tloss='binary_crossentropy',\n",
        "\toptimizer=optimizers.Adam(lr=0.001, beta_1=0.9, beta_2=0.999, epsilon=1e-08, decay=0.0),\n",
        "\tmetrics=['acc'])"
      ]
    },
    {
      "cell_type": "code",
      "execution_count": 9,
      "metadata": {
        "colab": {
          "base_uri": "https://localhost:8080/"
        },
        "id": "S-YXtkrRA7bP",
        "outputId": "2e62b1e3-ad60-48d1-f03f-ec409d665b26"
      },
      "outputs": [
        {
          "output_type": "stream",
          "name": "stdout",
          "text": [
            "Epoch 1/100\n",
            "34/34 [==============================] - 23s 254ms/step - loss: 0.9148 - acc: 0.2209 - val_loss: 0.4307 - val_acc: 0.2787\n",
            "Epoch 2/100\n",
            "34/34 [==============================] - 5s 156ms/step - loss: 0.4594 - acc: 0.2348 - val_loss: 0.4265 - val_acc: 0.2787\n",
            "Epoch 3/100\n",
            "34/34 [==============================] - 5s 156ms/step - loss: 0.4479 - acc: 0.2606 - val_loss: 0.4017 - val_acc: 0.3770\n",
            "Epoch 4/100\n",
            "34/34 [==============================] - 5s 158ms/step - loss: 0.4348 - acc: 0.2819 - val_loss: 0.3975 - val_acc: 0.3443\n",
            "Epoch 5/100\n",
            "34/34 [==============================] - 5s 159ms/step - loss: 0.4098 - acc: 0.3392 - val_loss: 0.3710 - val_acc: 0.3607\n",
            "Epoch 6/100\n",
            "34/34 [==============================] - 5s 159ms/step - loss: 0.3861 - acc: 0.3549 - val_loss: 0.3680 - val_acc: 0.3279\n",
            "Epoch 7/100\n",
            "34/34 [==============================] - 5s 159ms/step - loss: 0.4054 - acc: 0.3161 - val_loss: 0.4271 - val_acc: 0.3443\n",
            "Epoch 8/100\n",
            "34/34 [==============================] - 5s 161ms/step - loss: 0.4416 - acc: 0.2662 - val_loss: 0.4250 - val_acc: 0.3934\n",
            "Epoch 9/100\n",
            "34/34 [==============================] - 5s 162ms/step - loss: 0.4071 - acc: 0.3549 - val_loss: 0.3819 - val_acc: 0.3279\n",
            "Epoch 10/100\n",
            "34/34 [==============================] - 5s 162ms/step - loss: 0.4069 - acc: 0.3521 - val_loss: 0.4390 - val_acc: 0.3279\n",
            "Epoch 11/100\n",
            "34/34 [==============================] - 6s 163ms/step - loss: 0.3722 - acc: 0.4159 - val_loss: 0.3897 - val_acc: 0.4262\n",
            "Epoch 12/100\n",
            "34/34 [==============================] - 6s 163ms/step - loss: 0.3577 - acc: 0.4020 - val_loss: 0.3788 - val_acc: 0.4590\n",
            "Epoch 13/100\n",
            "34/34 [==============================] - 6s 164ms/step - loss: 0.3386 - acc: 0.4307 - val_loss: 0.3541 - val_acc: 0.4590\n",
            "Epoch 14/100\n",
            "34/34 [==============================] - 6s 165ms/step - loss: 0.3366 - acc: 0.4362 - val_loss: 0.3601 - val_acc: 0.4262\n",
            "Epoch 15/100\n",
            "34/34 [==============================] - 6s 165ms/step - loss: 0.3316 - acc: 0.4261 - val_loss: 0.3444 - val_acc: 0.4754\n",
            "Epoch 16/100\n",
            "34/34 [==============================] - 6s 164ms/step - loss: 0.3191 - acc: 0.4695 - val_loss: 0.3572 - val_acc: 0.3934\n",
            "Epoch 17/100\n",
            "34/34 [==============================] - 6s 163ms/step - loss: 0.3171 - acc: 0.4695 - val_loss: 0.3220 - val_acc: 0.4426\n",
            "Epoch 18/100\n",
            "34/34 [==============================] - 6s 164ms/step - loss: 0.3127 - acc: 0.4945 - val_loss: 0.3346 - val_acc: 0.5246\n",
            "Epoch 19/100\n",
            "34/34 [==============================] - 6s 162ms/step - loss: 0.3198 - acc: 0.4677 - val_loss: 0.3733 - val_acc: 0.3770\n",
            "Epoch 20/100\n",
            "34/34 [==============================] - 6s 162ms/step - loss: 0.3097 - acc: 0.4871 - val_loss: 0.3280 - val_acc: 0.5246\n",
            "Epoch 21/100\n",
            "34/34 [==============================] - 6s 162ms/step - loss: 0.2995 - acc: 0.4982 - val_loss: 0.3723 - val_acc: 0.5082\n",
            "Epoch 22/100\n",
            "34/34 [==============================] - 5s 162ms/step - loss: 0.3019 - acc: 0.5037 - val_loss: 0.3524 - val_acc: 0.4262\n",
            "Epoch 23/100\n",
            "34/34 [==============================] - 6s 162ms/step - loss: 0.2936 - acc: 0.5213 - val_loss: 0.3048 - val_acc: 0.3934\n",
            "Epoch 24/100\n",
            "34/34 [==============================] - 6s 162ms/step - loss: 0.2930 - acc: 0.5296 - val_loss: 0.3500 - val_acc: 0.4262\n",
            "Epoch 25/100\n",
            "34/34 [==============================] - 6s 162ms/step - loss: 0.2992 - acc: 0.5065 - val_loss: 0.3638 - val_acc: 0.5082\n",
            "Epoch 26/100\n",
            "34/34 [==============================] - 6s 162ms/step - loss: 0.3042 - acc: 0.5018 - val_loss: 0.3270 - val_acc: 0.5246\n",
            "Epoch 27/100\n",
            "34/34 [==============================] - 6s 163ms/step - loss: 0.2987 - acc: 0.5018 - val_loss: 0.3229 - val_acc: 0.4754\n",
            "Epoch 28/100\n",
            "34/34 [==============================] - 6s 165ms/step - loss: 0.2896 - acc: 0.5268 - val_loss: 0.3302 - val_acc: 0.5082\n",
            "Epoch 29/100\n",
            "34/34 [==============================] - 6s 163ms/step - loss: 0.2792 - acc: 0.5462 - val_loss: 0.3324 - val_acc: 0.4918\n",
            "Epoch 30/100\n",
            "34/34 [==============================] - 6s 164ms/step - loss: 0.2843 - acc: 0.5397 - val_loss: 0.3414 - val_acc: 0.4590\n",
            "Epoch 31/100\n",
            "34/34 [==============================] - 6s 164ms/step - loss: 0.2835 - acc: 0.5333 - val_loss: 0.4182 - val_acc: 0.4918\n",
            "Epoch 32/100\n",
            "34/34 [==============================] - 6s 163ms/step - loss: 0.3007 - acc: 0.5268 - val_loss: 0.2928 - val_acc: 0.5410\n",
            "Epoch 33/100\n",
            "34/34 [==============================] - 6s 163ms/step - loss: 0.2937 - acc: 0.5213 - val_loss: 0.2965 - val_acc: 0.4754\n",
            "Epoch 34/100\n",
            "34/34 [==============================] - 6s 163ms/step - loss: 0.2828 - acc: 0.5388 - val_loss: 0.2961 - val_acc: 0.4918\n",
            "Epoch 35/100\n",
            "34/34 [==============================] - 6s 163ms/step - loss: 0.2736 - acc: 0.5527 - val_loss: 0.2643 - val_acc: 0.5082\n",
            "Epoch 36/100\n",
            "34/34 [==============================] - 6s 163ms/step - loss: 0.2725 - acc: 0.5721 - val_loss: 0.2762 - val_acc: 0.4918\n",
            "Epoch 37/100\n",
            "34/34 [==============================] - 6s 163ms/step - loss: 0.2687 - acc: 0.5555 - val_loss: 0.2796 - val_acc: 0.5082\n",
            "Epoch 38/100\n",
            "34/34 [==============================] - 6s 163ms/step - loss: 0.2665 - acc: 0.5739 - val_loss: 0.2687 - val_acc: 0.5082\n",
            "Epoch 39/100\n",
            "34/34 [==============================] - 6s 163ms/step - loss: 0.2847 - acc: 0.5490 - val_loss: 0.3068 - val_acc: 0.4754\n",
            "Epoch 40/100\n",
            "34/34 [==============================] - 6s 163ms/step - loss: 0.2722 - acc: 0.5508 - val_loss: 0.3136 - val_acc: 0.4754\n",
            "Epoch 41/100\n",
            "34/34 [==============================] - 6s 164ms/step - loss: 0.2750 - acc: 0.5536 - val_loss: 0.3195 - val_acc: 0.5246\n",
            "Epoch 42/100\n",
            "34/34 [==============================] - 6s 163ms/step - loss: 0.2686 - acc: 0.5786 - val_loss: 0.2800 - val_acc: 0.5410\n",
            "Epoch 43/100\n",
            "34/34 [==============================] - 6s 163ms/step - loss: 0.2649 - acc: 0.5758 - val_loss: 0.2885 - val_acc: 0.5410\n",
            "Epoch 44/100\n",
            "34/34 [==============================] - 6s 163ms/step - loss: 0.2621 - acc: 0.5795 - val_loss: 0.2695 - val_acc: 0.5410\n",
            "Epoch 45/100\n",
            "34/34 [==============================] - 6s 163ms/step - loss: 0.2678 - acc: 0.5823 - val_loss: 0.2872 - val_acc: 0.5082\n",
            "Epoch 46/100\n",
            "34/34 [==============================] - 6s 163ms/step - loss: 0.2625 - acc: 0.5998 - val_loss: 0.2631 - val_acc: 0.4918\n",
            "Epoch 47/100\n",
            "34/34 [==============================] - 6s 163ms/step - loss: 0.2523 - acc: 0.5980 - val_loss: 0.2811 - val_acc: 0.5246\n",
            "Epoch 48/100\n",
            "34/34 [==============================] - 6s 162ms/step - loss: 0.2621 - acc: 0.5823 - val_loss: 0.2774 - val_acc: 0.5082\n",
            "Epoch 49/100\n",
            "34/34 [==============================] - 6s 163ms/step - loss: 0.2616 - acc: 0.5933 - val_loss: 0.2942 - val_acc: 0.4754\n",
            "Epoch 50/100\n",
            "34/34 [==============================] - 6s 165ms/step - loss: 0.2509 - acc: 0.6137 - val_loss: 0.2752 - val_acc: 0.5410\n",
            "Epoch 51/100\n",
            "34/34 [==============================] - 6s 163ms/step - loss: 0.2496 - acc: 0.6063 - val_loss: 0.2920 - val_acc: 0.4918\n",
            "Epoch 52/100\n",
            "34/34 [==============================] - 6s 163ms/step - loss: 0.2475 - acc: 0.6220 - val_loss: 0.3145 - val_acc: 0.5082\n",
            "Epoch 53/100\n",
            "34/34 [==============================] - 6s 164ms/step - loss: 0.2443 - acc: 0.6285 - val_loss: 0.2626 - val_acc: 0.5246\n",
            "Epoch 54/100\n",
            "34/34 [==============================] - 6s 163ms/step - loss: 0.2476 - acc: 0.6137 - val_loss: 0.2710 - val_acc: 0.5574\n",
            "Epoch 55/100\n",
            "34/34 [==============================] - 6s 163ms/step - loss: 0.2397 - acc: 0.6442 - val_loss: 0.2588 - val_acc: 0.5738\n",
            "Epoch 56/100\n",
            "34/34 [==============================] - 6s 163ms/step - loss: 0.2457 - acc: 0.6312 - val_loss: 0.2632 - val_acc: 0.5410\n",
            "Epoch 57/100\n",
            "34/34 [==============================] - 6s 163ms/step - loss: 0.2366 - acc: 0.6396 - val_loss: 0.3011 - val_acc: 0.5738\n",
            "Epoch 58/100\n",
            "34/34 [==============================] - 6s 163ms/step - loss: 0.2363 - acc: 0.6340 - val_loss: 0.2860 - val_acc: 0.5410\n",
            "Epoch 59/100\n",
            "34/34 [==============================] - 6s 163ms/step - loss: 0.2338 - acc: 0.6423 - val_loss: 0.2579 - val_acc: 0.6066\n",
            "Epoch 60/100\n",
            "34/34 [==============================] - 6s 163ms/step - loss: 0.2317 - acc: 0.6571 - val_loss: 0.2453 - val_acc: 0.5902\n",
            "Epoch 61/100\n",
            "34/34 [==============================] - 6s 162ms/step - loss: 0.2305 - acc: 0.6451 - val_loss: 0.2813 - val_acc: 0.5410\n",
            "Epoch 62/100\n",
            "34/34 [==============================] - 6s 163ms/step - loss: 0.2320 - acc: 0.6516 - val_loss: 0.2709 - val_acc: 0.5410\n",
            "Epoch 63/100\n",
            "34/34 [==============================] - 6s 163ms/step - loss: 0.2387 - acc: 0.6433 - val_loss: 0.2570 - val_acc: 0.6066\n",
            "Epoch 64/100\n",
            "34/34 [==============================] - 6s 163ms/step - loss: 0.2317 - acc: 0.6636 - val_loss: 0.2552 - val_acc: 0.5902\n",
            "Epoch 65/100\n",
            "34/34 [==============================] - 6s 162ms/step - loss: 0.2251 - acc: 0.6608 - val_loss: 0.2617 - val_acc: 0.6066\n",
            "Epoch 66/100\n",
            "34/34 [==============================] - 6s 163ms/step - loss: 0.2148 - acc: 0.6858 - val_loss: 0.2589 - val_acc: 0.5902\n",
            "Epoch 67/100\n",
            "34/34 [==============================] - 6s 162ms/step - loss: 0.2185 - acc: 0.6830 - val_loss: 0.2947 - val_acc: 0.5410\n",
            "Epoch 68/100\n",
            "34/34 [==============================] - 6s 162ms/step - loss: 0.2115 - acc: 0.6858 - val_loss: 0.2505 - val_acc: 0.5738\n",
            "Epoch 69/100\n",
            "34/34 [==============================] - 6s 162ms/step - loss: 0.2159 - acc: 0.6848 - val_loss: 0.3341 - val_acc: 0.5082\n",
            "Epoch 70/100\n",
            "34/34 [==============================] - 6s 163ms/step - loss: 0.2141 - acc: 0.6756 - val_loss: 0.2870 - val_acc: 0.5738\n",
            "Epoch 71/100\n",
            "34/34 [==============================] - 6s 163ms/step - loss: 0.2137 - acc: 0.6802 - val_loss: 0.2814 - val_acc: 0.6066\n",
            "Epoch 72/100\n",
            "34/34 [==============================] - 6s 162ms/step - loss: 0.2272 - acc: 0.6691 - val_loss: 0.3296 - val_acc: 0.5738\n",
            "Epoch 73/100\n",
            "34/34 [==============================] - 6s 165ms/step - loss: 0.2164 - acc: 0.6747 - val_loss: 0.3137 - val_acc: 0.5902\n",
            "Epoch 74/100\n",
            "34/34 [==============================] - 6s 162ms/step - loss: 0.2078 - acc: 0.6941 - val_loss: 0.3143 - val_acc: 0.5246\n",
            "Epoch 75/100\n",
            "34/34 [==============================] - 6s 163ms/step - loss: 0.2045 - acc: 0.6941 - val_loss: 0.3601 - val_acc: 0.5902\n",
            "Epoch 76/100\n",
            "34/34 [==============================] - 6s 162ms/step - loss: 0.2381 - acc: 0.6590 - val_loss: 0.3054 - val_acc: 0.5902\n",
            "Epoch 77/100\n",
            "34/34 [==============================] - 6s 162ms/step - loss: 0.2152 - acc: 0.6969 - val_loss: 0.3061 - val_acc: 0.5574\n",
            "Epoch 78/100\n",
            "34/34 [==============================] - 6s 162ms/step - loss: 0.2025 - acc: 0.7024 - val_loss: 0.2866 - val_acc: 0.5082\n",
            "Epoch 79/100\n",
            "34/34 [==============================] - 5s 162ms/step - loss: 0.2036 - acc: 0.7043 - val_loss: 0.2943 - val_acc: 0.6066\n",
            "Epoch 80/100\n",
            "34/34 [==============================] - 6s 164ms/step - loss: 0.1988 - acc: 0.7079 - val_loss: 0.2951 - val_acc: 0.6066\n",
            "Epoch 81/100\n",
            "34/34 [==============================] - 5s 162ms/step - loss: 0.1999 - acc: 0.7070 - val_loss: 0.2750 - val_acc: 0.5738\n",
            "Epoch 82/100\n",
            "34/34 [==============================] - 6s 162ms/step - loss: 0.1940 - acc: 0.7144 - val_loss: 0.2977 - val_acc: 0.5574\n",
            "Epoch 83/100\n",
            "34/34 [==============================] - 6s 164ms/step - loss: 0.1959 - acc: 0.6969 - val_loss: 0.2632 - val_acc: 0.5574\n",
            "Epoch 84/100\n",
            "34/34 [==============================] - 6s 163ms/step - loss: 0.1959 - acc: 0.7218 - val_loss: 0.2944 - val_acc: 0.6066\n",
            "Epoch 85/100\n",
            "34/34 [==============================] - 6s 163ms/step - loss: 0.1993 - acc: 0.7006 - val_loss: 0.2606 - val_acc: 0.6066\n",
            "Epoch 86/100\n",
            "34/34 [==============================] - 6s 163ms/step - loss: 0.1905 - acc: 0.7190 - val_loss: 0.3539 - val_acc: 0.5738\n",
            "Epoch 87/100\n",
            "34/34 [==============================] - 6s 163ms/step - loss: 0.1945 - acc: 0.7033 - val_loss: 0.2740 - val_acc: 0.5738\n",
            "Epoch 88/100\n",
            "34/34 [==============================] - 6s 164ms/step - loss: 0.1983 - acc: 0.7061 - val_loss: 0.2838 - val_acc: 0.6230\n",
            "Epoch 89/100\n",
            "34/34 [==============================] - 6s 163ms/step - loss: 0.1844 - acc: 0.7274 - val_loss: 0.2959 - val_acc: 0.6066\n",
            "Epoch 90/100\n",
            "34/34 [==============================] - 6s 163ms/step - loss: 0.1814 - acc: 0.7311 - val_loss: 0.3222 - val_acc: 0.5246\n",
            "Epoch 91/100\n",
            "34/34 [==============================] - 5s 162ms/step - loss: 0.1828 - acc: 0.7218 - val_loss: 0.2737 - val_acc: 0.6230\n",
            "Epoch 92/100\n",
            "34/34 [==============================] - 6s 162ms/step - loss: 0.1905 - acc: 0.7237 - val_loss: 0.2888 - val_acc: 0.5902\n",
            "Epoch 93/100\n",
            "34/34 [==============================] - 6s 162ms/step - loss: 0.1866 - acc: 0.7292 - val_loss: 0.2443 - val_acc: 0.5902\n",
            "Epoch 94/100\n",
            "34/34 [==============================] - 6s 163ms/step - loss: 0.1831 - acc: 0.7357 - val_loss: 0.2540 - val_acc: 0.6066\n",
            "Epoch 95/100\n",
            "34/34 [==============================] - 5s 162ms/step - loss: 0.1739 - acc: 0.7375 - val_loss: 0.2703 - val_acc: 0.5738\n",
            "Epoch 96/100\n",
            "34/34 [==============================] - 6s 164ms/step - loss: 0.1794 - acc: 0.7283 - val_loss: 0.3412 - val_acc: 0.5410\n",
            "Epoch 97/100\n",
            "34/34 [==============================] - 6s 162ms/step - loss: 0.1727 - acc: 0.7486 - val_loss: 0.2816 - val_acc: 0.6066\n",
            "Epoch 98/100\n",
            "34/34 [==============================] - 6s 162ms/step - loss: 0.1751 - acc: 0.7384 - val_loss: 0.2849 - val_acc: 0.5246\n",
            "Epoch 99/100\n",
            "34/34 [==============================] - 6s 162ms/step - loss: 0.1692 - acc: 0.7532 - val_loss: 0.2849 - val_acc: 0.5902\n",
            "Epoch 100/100\n",
            "34/34 [==============================] - 6s 162ms/step - loss: 0.1711 - acc: 0.7375 - val_loss: 0.2915 - val_acc: 0.6066\n"
          ]
        }
      ],
      "source": [
        "train_datagen = ImageDataGenerator(rescale=1. / 255, \n",
        "                                   rotation_range=15,\n",
        "                                   width_shift_range=0.1,\n",
        "                                   height_shift_range=0.1,\n",
        "                                   shear_range=0.01,\n",
        "                                   zoom_range=[0.9, 1.25],\n",
        "                                   horizontal_flip=True,\n",
        "                                   vertical_flip=False,\n",
        "                                   fill_mode='reflect')\n",
        "valtest_datagen = ImageDataGenerator(rescale=1. / 255)\n",
        "\n",
        "train_generator = train_datagen.flow(np.array(X_train), y_train, batch_size=batch_size)\n",
        "validation_generator = valtest_datagen.flow(np.array(X_val), y_val, batch_size=batch_size)\n",
        "test_generator = valtest_datagen.flow(np.array(X_test), y_test, batch_size=batch_size)\n",
        "\n",
        "history = model.fit(np.array(X_train), np.array(y_train), validation_data=(np.array(X_val), np.array(y_val)), epochs=50)\n"
      ]
    },
    {
      "cell_type": "code",
      "execution_count": 10,
      "metadata": {
        "id": "F-niGU5oA-q4"
      },
      "outputs": [],
      "source": [
        "model.save_weights('/content/drive/MyDrive/Datasets - Copy/8020weights.h5')\n"
      ]
    },
    {
      "cell_type": "code",
      "execution_count": 11,
      "metadata": {
        "id": "FNGBtlTeB1jp"
      },
      "outputs": [],
      "source": [
        "model.load_weights('/content/drive/MyDrive/Datasets - Copy/8020weights.h5')\n"
      ]
    },
    {
      "cell_type": "code",
      "execution_count": 12,
      "metadata": {
        "id": "YMJ6snRnB5nh",
        "colab": {
          "base_uri": "https://localhost:8080/",
          "height": 898
        },
        "outputId": "e1720826-bbe1-4baf-9db1-af8a08dee865"
      },
      "outputs": [
        {
          "output_type": "display_data",
          "data": {
            "text/plain": [
              "<Figure size 432x288 with 1 Axes>"
            ],
            "image/png": "[encoded data removed]"
          },
          "metadata": {
            "needs_background": "light"
          }
        },
        {
          "output_type": "display_data",
          "data": {
            "text/plain": [
              "<Figure size 432x288 with 1 Axes>"
            ],
            "image/png": "[encoded data removed]"
          },
          "metadata": {
            "needs_background": "light"
          }
        },
        {
          "output_type": "display_data",
          "data": {
            "text/plain": [
              "<Figure size 360x360 with 2 Axes>"
            ],
            "image/png": "[encoded data removed]"
          },
          "metadata": {
            "needs_background": "light"
          }
        }
      ],
      "source": [
        "acc = history.history['acc']\n",
        "val_acc = history.history['val_acc']\n",
        "loss = history.history['loss']\n",
        "val_loss = history.history['val_loss']\n",
        "epochs = range(1, len(acc) + 1)\n",
        "plt.plot(epochs, acc, 'blue', label='Training acc')\n",
        "plt.plot(epochs, val_acc, 'red', label='Validation acc')\n",
        "plt.title('Training and validation accuracy')\n",
        "plt.legend()\n",
        "plt.savefig(\"/content/drive/MyDrive/Datasets - Copy/trvlAcc.png\")\n",
        "plt.show()\n",
        "\n",
        "plt.figure()\n",
        "plt.plot(epochs, loss, 'blue', label='Training loss')\n",
        "plt.plot(epochs, val_loss, 'red', label='Validation loss')\n",
        "plt.title('Training and validation loss')\n",
        "plt.legend()\n",
        "plt.savefig(\"/content/drive/MyDrive/Datasets - Copy/trvlLoss.png\")\n",
        "plt.show()\n",
        "\n",
        "import sklearn\n",
        "import itertools\n",
        "from sklearn.metrics import confusion_matrix\n",
        "dict_characters = {0: 'Clear', 1: 'Blurry'}\n",
        "def plot_confusion_matrix(cm, classes,\n",
        "                          normalize=False,\n",
        "                          title='Confusion matrix',\n",
        "                          cmap=plt.cm.Blues):\n",
        "    plt.figure(figsize = (5,5))\n",
        "    plt.imshow(cm, interpolation='nearest', cmap=cmap)\n",
        "    plt.title(title)\n",
        "    plt.colorbar()\n",
        "    tick_marks = np.arange(len(classes))\n",
        "    plt.xticks(tick_marks, classes, rotation=90)\n",
        "    plt.yticks(tick_marks, classes)\n",
        "    if normalize:\n",
        "        cm = cm.astype('float') / cm.sum(axis=1)[:, np.newaxis]\n",
        "    thresh = cm.max() / 2.\n",
        "    for i, j in itertools.product(range(cm.shape[0]), range(cm.shape[1])):\n",
        "        plt.text(j, i, cm[i, j],\n",
        "                 horizontalalignment=\"center\",\n",
        "                 color=\"white\" if cm[i, j] > thresh else \"black\")\n",
        "    plt.tight_layout()\n",
        "    plt.ylabel('True label')\n",
        "    plt.xlabel('Predicted label')\n",
        "    plt.savefig(\"/content/drive/MyDrive/Datasets - Copy/cm-\"+title+\".png\")\n",
        "    plt.show()\n",
        "\n",
        "    \n",
        "a=np.array(X_test)\n",
        "b=np.array(y_test)\n",
        "Y_pred = model.predict(a)\n",
        "\n",
        "\n",
        "Y_pred_classes = np.argmax(Y_pred,axis=1)\n",
        "confusion_mtx = confusion_matrix(np.argmax(b,axis=1), Y_pred_classes) \n",
        "plot_confusion_matrix(confusion_mtx, classes = list(image_classes))"
      ]
    },
    {
      "cell_type": "code",
      "execution_count": 13,
      "metadata": {
        "id": "oL1vpGz6TFJf",
        "colab": {
          "base_uri": "https://localhost:8080/"
        },
        "outputId": "935d47e3-67dc-44e8-99fd-ee281cb1b17e"
      },
      "outputs": [
        {
          "output_type": "execute_result",
          "data": {
            "text/plain": [
              "0.65"
            ]
          },
          "metadata": {},
          "execution_count": 13
        }
      ],
      "source": [
        "sklearn.metrics.accuracy_score(Y_pred_classes,np.argmax(b,axis=1))\n"
      ]
    },
    {
      "cell_type": "code",
      "execution_count": 14,
      "metadata": {
        "id": "MRVPLK-QTitJ",
        "colab": {
          "base_uri": "https://localhost:8080/"
        },
        "outputId": "25a2ec03-2f7b-4b94-f2d9-8467d10f2081"
      },
      "outputs": [
        {
          "output_type": "execute_result",
          "data": {
            "text/plain": [
              "array([[ 1,  0,  0,  0,  0,  0],\n",
              "       [ 0,  4,  3,  2,  0,  0],\n",
              "       [ 0,  4,  5,  1,  0,  1],\n",
              "       [ 0,  0,  1,  6,  4,  0],\n",
              "       [ 0,  1,  0,  1,  9,  0],\n",
              "       [ 0,  0,  0,  1,  2, 14]])"
            ]
          },
          "metadata": {},
          "execution_count": 14
        }
      ],
      "source": [
        "confusion_mtx\n"
      ]
    },
    {
      "cell_type": "code",
      "execution_count": 14,
      "metadata": {
        "id": "0bpmQc4uxanz"
      },
      "outputs": [],
      "source": []
    },
    {
      "cell_type": "code",
      "execution_count": 15,
      "metadata": {
        "id": "hZeFNFxTbhA-",
        "colab": {
          "base_uri": "https://localhost:8080/"
        },
        "outputId": "6b72a85e-e787-4c33-ff82-5c8bca35f7b7"
      },
      "outputs": [
        {
          "output_type": "execute_result",
          "data": {
            "text/plain": [
              "[1, 9, 11, 11, 11, 17]"
            ]
          },
          "metadata": {},
          "execution_count": 15
        }
      ],
      "source": [
        "class_totals = [sum(i) for i in confusion_mtx]\n",
        "class_totals"
      ]
    },
    {
      "cell_type": "code",
      "execution_count": 16,
      "metadata": {
        "id": "Ek7KoYxMblDV",
        "colab": {
          "base_uri": "https://localhost:8080/"
        },
        "outputId": "986e411b-db20-4e5a-89bb-76733751c584"
      },
      "outputs": [
        {
          "output_type": "execute_result",
          "data": {
            "text/plain": [
              "[1, 4, 5, 6, 9, 14]"
            ]
          },
          "metadata": {},
          "execution_count": 16
        }
      ],
      "source": [
        "class_correct_pred = [confusion_mtx[i][i] for i in range(6)]\n",
        "class_correct_pred"
      ]
    },
    {
      "cell_type": "code",
      "execution_count": 17,
      "metadata": {
        "id": "oRJywwp7bnh9",
        "colab": {
          "base_uri": "https://localhost:8080/"
        },
        "outputId": "215bf970-93f7-461d-8f76-7ec03d5e6762"
      },
      "outputs": [
        {
          "output_type": "execute_result",
          "data": {
            "text/plain": [
              "[1.0,\n",
              " 0.4444444444444444,\n",
              " 0.45454545454545453,\n",
              " 0.5454545454545454,\n",
              " 0.8181818181818182,\n",
              " 0.8235294117647058]"
            ]
          },
          "metadata": {},
          "execution_count": 17
        }
      ],
      "source": [
        "accuracies = [class_correct_pred[i]/class_totals[i] for i in range(6)]\n",
        "accuracies"
      ]
    },
    {
      "cell_type": "code",
      "execution_count": 18,
      "metadata": {
        "id": "tiyoKLXRbpge",
        "colab": {
          "base_uri": "https://localhost:8080/"
        },
        "outputId": "da022451-644e-4c34-c15c-557b2fae823f"
      },
      "outputs": [
        {
          "output_type": "execute_result",
          "data": {
            "text/plain": [
              "[1.0,\n",
              " 0.4444444444444444,\n",
              " 0.45454545454545453,\n",
              " 0.5454545454545454,\n",
              " 0.8181818181818182,\n",
              " 0.8235294117647058]"
            ]
          },
          "metadata": {},
          "execution_count": 18
        }
      ],
      "source": [
        "class_totals = [sum(i) for i in confusion_mtx]\n",
        "class_totals\n",
        "\n",
        "tp = [confusion_mtx[i][i] for i in range(6)]\n",
        "tp\n",
        "\n",
        "sensetivity = [tp[i]/class_totals[i] for i in range(6)]\n",
        "sensetivity"
      ]
    },
    {
      "cell_type": "code",
      "execution_count": 19,
      "metadata": {
        "id": "bQhIA-q8btxe",
        "colab": {
          "base_uri": "https://localhost:8080/"
        },
        "outputId": "0313434a-3fd3-4eb1-d07b-c006a1926d24"
      },
      "outputs": [
        {
          "output_type": "execute_result",
          "data": {
            "text/plain": [
              "[0, 5, 4, 5, 6, 1]"
            ]
          },
          "metadata": {},
          "execution_count": 19
        }
      ],
      "source": [
        "fp = [[sum(x) for x in zip(*confusion_mtx)][i] - tp[i] for i in range(6)]\n",
        "fp"
      ]
    },
    {
      "cell_type": "code",
      "execution_count": 20,
      "metadata": {
        "id": "UK_W59LXbvzG",
        "colab": {
          "base_uri": "https://localhost:8080/"
        },
        "outputId": "26420ee9-1d33-4ab6-ea43-6ca01fc49b15"
      },
      "outputs": [
        {
          "output_type": "stream",
          "name": "stdout",
          "text": [
            "60\n"
          ]
        },
        {
          "output_type": "execute_result",
          "data": {
            "text/plain": [
              "[1.0,\n",
              " 0.9107142857142857,\n",
              " 0.9272727272727272,\n",
              " 0.9074074074074074,\n",
              " 0.8823529411764706,\n",
              " 0.9782608695652174]"
            ]
          },
          "metadata": {},
          "execution_count": 20
        }
      ],
      "source": [
        "sumall = sum(map(sum, confusion_mtx))\n",
        "print(sumall)\n",
        "tn = [sumall - [sum(x) for x in zip(*confusion_mtx)][i] for i in range(6)]\n",
        "tn\n",
        "specificity = [tn[i]/(tn[i]+fp[i]) for i in range(6)]\n",
        "specificity"
      ]
    },
    {
      "cell_type": "code",
      "execution_count": 21,
      "metadata": {
        "id": "buhU86_-qhxy",
        "colab": {
          "base_uri": "https://localhost:8080/"
        },
        "outputId": "93e0fee1-9fc6-4796-d39c-61b1c0d48c21"
      },
      "outputs": [
        {
          "output_type": "stream",
          "name": "stdout",
          "text": [
            "Epoch 1/250\n",
            "34/34 [==============================] - 6s 162ms/step - loss: 0.1701 - acc: 0.7569 - val_loss: 0.2809 - val_acc: 0.5902\n",
            "Epoch 2/250\n",
            "34/34 [==============================] - 5s 161ms/step - loss: 0.1779 - acc: 0.7301 - val_loss: 0.2857 - val_acc: 0.5902\n",
            "Epoch 3/250\n",
            "34/34 [==============================] - 5s 161ms/step - loss: 0.1779 - acc: 0.7348 - val_loss: 0.2801 - val_acc: 0.5902\n",
            "Epoch 4/250\n",
            "34/34 [==============================] - 6s 162ms/step - loss: 0.1725 - acc: 0.7366 - val_loss: 0.2949 - val_acc: 0.6066\n",
            "Epoch 5/250\n",
            "34/34 [==============================] - 6s 162ms/step - loss: 0.1678 - acc: 0.7588 - val_loss: 0.2905 - val_acc: 0.5574\n",
            "Epoch 6/250\n",
            "34/34 [==============================] - 6s 162ms/step - loss: 0.1707 - acc: 0.7505 - val_loss: 0.3188 - val_acc: 0.5738\n",
            "Epoch 7/250\n",
            "34/34 [==============================] - 6s 162ms/step - loss: 0.1662 - acc: 0.7505 - val_loss: 0.2764 - val_acc: 0.6066\n",
            "Epoch 8/250\n",
            "34/34 [==============================] - 6s 162ms/step - loss: 0.1712 - acc: 0.7542 - val_loss: 0.2662 - val_acc: 0.6230\n",
            "Epoch 9/250\n",
            "34/34 [==============================] - 5s 162ms/step - loss: 0.1694 - acc: 0.7421 - val_loss: 0.2771 - val_acc: 0.6066\n",
            "Epoch 10/250\n",
            "34/34 [==============================] - 5s 161ms/step - loss: 0.1705 - acc: 0.7514 - val_loss: 0.3037 - val_acc: 0.5738\n",
            "Epoch 11/250\n",
            "34/34 [==============================] - 5s 162ms/step - loss: 0.1709 - acc: 0.7440 - val_loss: 0.3405 - val_acc: 0.5574\n",
            "Epoch 12/250\n",
            "34/34 [==============================] - 5s 161ms/step - loss: 0.1623 - acc: 0.7671 - val_loss: 0.2704 - val_acc: 0.5902\n",
            "Epoch 13/250\n",
            "34/34 [==============================] - 5s 161ms/step - loss: 0.1569 - acc: 0.7579 - val_loss: 0.3058 - val_acc: 0.5574\n",
            "Epoch 14/250\n",
            "34/34 [==============================] - 6s 162ms/step - loss: 0.1539 - acc: 0.7588 - val_loss: 0.3360 - val_acc: 0.6393\n",
            "Epoch 15/250\n",
            "34/34 [==============================] - 5s 161ms/step - loss: 0.1504 - acc: 0.7874 - val_loss: 0.3383 - val_acc: 0.5410\n",
            "Epoch 16/250\n",
            "34/34 [==============================] - 5s 161ms/step - loss: 0.1512 - acc: 0.7726 - val_loss: 0.3812 - val_acc: 0.5246\n",
            "Epoch 17/250\n",
            "34/34 [==============================] - 6s 163ms/step - loss: 0.1598 - acc: 0.7652 - val_loss: 0.2512 - val_acc: 0.6393\n",
            "Epoch 18/250\n",
            "34/34 [==============================] - 5s 161ms/step - loss: 0.1597 - acc: 0.7495 - val_loss: 0.3650 - val_acc: 0.6393\n",
            "Epoch 19/250\n",
            "34/34 [==============================] - 5s 162ms/step - loss: 0.1600 - acc: 0.7542 - val_loss: 0.2633 - val_acc: 0.5738\n",
            "Epoch 20/250\n",
            "34/34 [==============================] - 5s 161ms/step - loss: 0.1729 - acc: 0.7348 - val_loss: 0.2577 - val_acc: 0.5410\n",
            "Epoch 21/250\n",
            "34/34 [==============================] - 6s 163ms/step - loss: 0.1588 - acc: 0.7689 - val_loss: 0.4037 - val_acc: 0.5902\n",
            "Epoch 22/250\n",
            "34/34 [==============================] - 5s 161ms/step - loss: 0.1552 - acc: 0.7671 - val_loss: 0.3070 - val_acc: 0.5738\n",
            "Epoch 23/250\n",
            "34/34 [==============================] - 5s 161ms/step - loss: 0.1588 - acc: 0.7671 - val_loss: 0.3027 - val_acc: 0.6066\n",
            "Epoch 24/250\n",
            "34/34 [==============================] - 6s 167ms/step - loss: 0.1557 - acc: 0.7773 - val_loss: 0.3102 - val_acc: 0.5902\n",
            "Epoch 25/250\n",
            "34/34 [==============================] - 6s 163ms/step - loss: 0.1552 - acc: 0.7643 - val_loss: 0.3342 - val_acc: 0.5574\n",
            "Epoch 26/250\n",
            "34/34 [==============================] - 5s 161ms/step - loss: 0.1503 - acc: 0.7736 - val_loss: 0.2824 - val_acc: 0.6066\n",
            "Epoch 27/250\n",
            "34/34 [==============================] - 5s 161ms/step - loss: 0.1515 - acc: 0.7551 - val_loss: 0.3350 - val_acc: 0.5738\n",
            "Epoch 28/250\n",
            "34/34 [==============================] - 5s 161ms/step - loss: 0.1494 - acc: 0.7634 - val_loss: 0.2925 - val_acc: 0.5410\n",
            "Epoch 29/250\n",
            "34/34 [==============================] - 5s 161ms/step - loss: 0.1466 - acc: 0.7745 - val_loss: 0.2514 - val_acc: 0.6066\n",
            "Epoch 30/250\n",
            "34/34 [==============================] - 5s 161ms/step - loss: 0.1470 - acc: 0.7662 - val_loss: 0.2535 - val_acc: 0.5738\n",
            "Epoch 31/250\n",
            "34/34 [==============================] - 6s 162ms/step - loss: 0.1453 - acc: 0.7957 - val_loss: 0.2934 - val_acc: 0.6393\n",
            "Epoch 32/250\n",
            "34/34 [==============================] - 6s 163ms/step - loss: 0.1472 - acc: 0.7810 - val_loss: 0.3395 - val_acc: 0.5902\n",
            "Epoch 33/250\n",
            "34/34 [==============================] - 5s 162ms/step - loss: 0.1528 - acc: 0.7708 - val_loss: 0.2943 - val_acc: 0.6885\n",
            "Epoch 34/250\n",
            "34/34 [==============================] - 5s 162ms/step - loss: 0.1484 - acc: 0.7745 - val_loss: 0.3077 - val_acc: 0.6721\n",
            "Epoch 35/250\n",
            "34/34 [==============================] - 6s 162ms/step - loss: 0.1514 - acc: 0.7828 - val_loss: 0.2388 - val_acc: 0.6230\n",
            "Epoch 36/250\n",
            "34/34 [==============================] - 5s 162ms/step - loss: 0.1503 - acc: 0.7726 - val_loss: 0.2555 - val_acc: 0.5902\n",
            "Epoch 37/250\n",
            "34/34 [==============================] - 5s 162ms/step - loss: 0.1458 - acc: 0.7865 - val_loss: 0.3135 - val_acc: 0.5902\n",
            "Epoch 38/250\n",
            "34/34 [==============================] - 5s 162ms/step - loss: 0.1527 - acc: 0.7763 - val_loss: 1.3909 - val_acc: 0.5574\n",
            "Epoch 39/250\n",
            "34/34 [==============================] - 5s 161ms/step - loss: 0.1565 - acc: 0.7652 - val_loss: 0.3318 - val_acc: 0.6721\n",
            "Epoch 40/250\n",
            "34/34 [==============================] - 6s 163ms/step - loss: 0.1519 - acc: 0.7523 - val_loss: 0.2722 - val_acc: 0.6721\n",
            "Epoch 41/250\n",
            "34/34 [==============================] - 5s 161ms/step - loss: 0.1495 - acc: 0.7699 - val_loss: 0.3685 - val_acc: 0.5902\n",
            "Epoch 42/250\n",
            "34/34 [==============================] - 5s 161ms/step - loss: 0.1450 - acc: 0.7726 - val_loss: 0.3120 - val_acc: 0.6885\n",
            "Epoch 43/250\n",
            "34/34 [==============================] - 5s 161ms/step - loss: 0.1485 - acc: 0.7699 - val_loss: 0.2993 - val_acc: 0.6230\n",
            "Epoch 44/250\n",
            "34/34 [==============================] - 5s 161ms/step - loss: 0.1483 - acc: 0.7810 - val_loss: 0.3640 - val_acc: 0.5902\n",
            "Epoch 45/250\n",
            "34/34 [==============================] - 5s 161ms/step - loss: 0.1465 - acc: 0.7606 - val_loss: 0.2954 - val_acc: 0.5902\n",
            "Epoch 46/250\n",
            "34/34 [==============================] - 5s 161ms/step - loss: 0.1444 - acc: 0.7828 - val_loss: 0.3216 - val_acc: 0.5410\n",
            "Epoch 47/250\n",
            "34/34 [==============================] - 5s 161ms/step - loss: 0.1493 - acc: 0.7847 - val_loss: 0.3244 - val_acc: 0.6230\n",
            "Epoch 48/250\n",
            "34/34 [==============================] - 5s 161ms/step - loss: 0.1613 - acc: 0.7588 - val_loss: 0.3748 - val_acc: 0.6066\n",
            "Epoch 49/250\n",
            "34/34 [==============================] - 5s 161ms/step - loss: 0.1474 - acc: 0.7643 - val_loss: 0.3121 - val_acc: 0.6393\n",
            "Epoch 50/250\n",
            "34/34 [==============================] - 5s 161ms/step - loss: 0.1350 - acc: 0.7856 - val_loss: 0.4249 - val_acc: 0.6557\n",
            "Epoch 51/250\n",
            "34/34 [==============================] - 5s 161ms/step - loss: 0.1399 - acc: 0.7884 - val_loss: 0.3058 - val_acc: 0.6557\n",
            "Epoch 52/250\n",
            "34/34 [==============================] - 5s 161ms/step - loss: 0.1343 - acc: 0.7819 - val_loss: 0.3382 - val_acc: 0.6557\n",
            "Epoch 53/250\n",
            "34/34 [==============================] - 5s 161ms/step - loss: 0.1318 - acc: 0.7893 - val_loss: 0.3469 - val_acc: 0.6066\n",
            "Epoch 54/250\n",
            "34/34 [==============================] - 5s 161ms/step - loss: 0.1319 - acc: 0.7893 - val_loss: 0.3378 - val_acc: 0.6066\n",
            "Epoch 55/250\n",
            "34/34 [==============================] - 5s 161ms/step - loss: 0.1329 - acc: 0.7902 - val_loss: 0.3186 - val_acc: 0.6230\n",
            "Epoch 56/250\n",
            "34/34 [==============================] - 5s 161ms/step - loss: 0.1354 - acc: 0.7893 - val_loss: 0.3192 - val_acc: 0.6066\n",
            "Epoch 57/250\n",
            "34/34 [==============================] - 5s 161ms/step - loss: 0.1321 - acc: 0.7893 - val_loss: 0.3688 - val_acc: 0.6230\n",
            "Epoch 58/250\n",
            "34/34 [==============================] - 5s 161ms/step - loss: 0.1323 - acc: 0.7948 - val_loss: 0.3403 - val_acc: 0.5738\n",
            "Epoch 59/250\n",
            "34/34 [==============================] - 5s 161ms/step - loss: 0.1333 - acc: 0.7819 - val_loss: 0.4251 - val_acc: 0.5738\n",
            "Epoch 60/250\n",
            "34/34 [==============================] - 5s 161ms/step - loss: 0.1316 - acc: 0.7847 - val_loss: 0.3250 - val_acc: 0.6230\n",
            "Epoch 61/250\n",
            "34/34 [==============================] - 5s 161ms/step - loss: 0.1314 - acc: 0.7939 - val_loss: 0.3860 - val_acc: 0.6230\n",
            "Epoch 62/250\n",
            "34/34 [==============================] - 6s 163ms/step - loss: 0.1364 - acc: 0.7847 - val_loss: 0.3813 - val_acc: 0.6230\n",
            "Epoch 63/250\n",
            "34/34 [==============================] - 5s 161ms/step - loss: 0.1421 - acc: 0.7902 - val_loss: 0.3531 - val_acc: 0.6230\n",
            "Epoch 64/250\n",
            "34/34 [==============================] - 5s 161ms/step - loss: 0.1420 - acc: 0.7847 - val_loss: 0.3103 - val_acc: 0.6066\n",
            "Epoch 65/250\n",
            "34/34 [==============================] - 5s 161ms/step - loss: 0.1399 - acc: 0.7717 - val_loss: 0.3302 - val_acc: 0.6066\n",
            "Epoch 66/250\n",
            "34/34 [==============================] - 5s 161ms/step - loss: 0.1295 - acc: 0.8059 - val_loss: 0.3606 - val_acc: 0.6393\n",
            "Epoch 67/250\n",
            "34/34 [==============================] - 5s 161ms/step - loss: 0.1369 - acc: 0.7837 - val_loss: 0.3421 - val_acc: 0.5410\n",
            "Epoch 68/250\n",
            "34/34 [==============================] - 5s 161ms/step - loss: 0.1306 - acc: 0.7976 - val_loss: 0.2993 - val_acc: 0.6557\n",
            "Epoch 69/250\n",
            "34/34 [==============================] - 5s 160ms/step - loss: 0.1955 - acc: 0.7403 - val_loss: 0.3513 - val_acc: 0.5246\n",
            "Epoch 70/250\n",
            "34/34 [==============================] - 5s 161ms/step - loss: 0.2447 - acc: 0.6479 - val_loss: 0.3351 - val_acc: 0.4754\n",
            "Epoch 71/250\n",
            "34/34 [==============================] - 5s 161ms/step - loss: 0.2333 - acc: 0.6534 - val_loss: 0.4197 - val_acc: 0.5246\n",
            "Epoch 72/250\n",
            "34/34 [==============================] - 5s 160ms/step - loss: 0.1843 - acc: 0.7477 - val_loss: 0.2970 - val_acc: 0.5738\n",
            "Epoch 73/250\n",
            "34/34 [==============================] - 5s 161ms/step - loss: 0.1547 - acc: 0.7745 - val_loss: 0.3172 - val_acc: 0.6066\n",
            "Epoch 74/250\n",
            "34/34 [==============================] - 5s 161ms/step - loss: 0.1410 - acc: 0.7856 - val_loss: 0.2843 - val_acc: 0.5902\n",
            "Epoch 75/250\n",
            "34/34 [==============================] - 5s 160ms/step - loss: 0.1358 - acc: 0.7837 - val_loss: 0.3651 - val_acc: 0.5902\n",
            "Epoch 76/250\n",
            "34/34 [==============================] - 5s 161ms/step - loss: 0.1389 - acc: 0.7856 - val_loss: 0.2816 - val_acc: 0.5410\n",
            "Epoch 77/250\n",
            "34/34 [==============================] - 5s 161ms/step - loss: 0.1356 - acc: 0.7874 - val_loss: 0.3043 - val_acc: 0.6393\n",
            "Epoch 78/250\n",
            "34/34 [==============================] - 5s 160ms/step - loss: 0.1240 - acc: 0.8050 - val_loss: 0.4099 - val_acc: 0.6393\n",
            "Epoch 79/250\n",
            "34/34 [==============================] - 5s 160ms/step - loss: 0.1255 - acc: 0.8013 - val_loss: 0.3301 - val_acc: 0.6557\n",
            "Epoch 80/250\n",
            "34/34 [==============================] - 5s 160ms/step - loss: 0.1275 - acc: 0.8050 - val_loss: 0.2970 - val_acc: 0.6230\n",
            "Epoch 81/250\n",
            "34/34 [==============================] - 5s 161ms/step - loss: 0.1330 - acc: 0.7930 - val_loss: 0.3535 - val_acc: 0.5902\n",
            "Epoch 82/250\n",
            "34/34 [==============================] - 5s 161ms/step - loss: 0.1320 - acc: 0.7856 - val_loss: 0.3321 - val_acc: 0.5738\n",
            "Epoch 83/250\n",
            "34/34 [==============================] - 5s 160ms/step - loss: 0.1276 - acc: 0.7874 - val_loss: 0.3378 - val_acc: 0.6230\n",
            "Epoch 84/250\n",
            "34/34 [==============================] - 5s 162ms/step - loss: 0.1264 - acc: 0.8078 - val_loss: 0.3390 - val_acc: 0.5902\n",
            "Epoch 85/250\n",
            "34/34 [==============================] - 5s 161ms/step - loss: 0.1282 - acc: 0.8004 - val_loss: 0.2953 - val_acc: 0.5902\n",
            "Epoch 86/250\n",
            "34/34 [==============================] - 5s 161ms/step - loss: 0.1237 - acc: 0.8041 - val_loss: 0.3140 - val_acc: 0.6230\n",
            "Epoch 87/250\n",
            "34/34 [==============================] - 5s 161ms/step - loss: 0.1259 - acc: 0.7994 - val_loss: 0.3273 - val_acc: 0.5738\n",
            "Epoch 88/250\n",
            "34/34 [==============================] - 5s 161ms/step - loss: 0.1233 - acc: 0.8022 - val_loss: 0.3238 - val_acc: 0.6393\n",
            "Epoch 89/250\n",
            "34/34 [==============================] - 5s 161ms/step - loss: 0.1277 - acc: 0.8022 - val_loss: 0.3091 - val_acc: 0.6230\n",
            "Epoch 90/250\n",
            "34/34 [==============================] - 5s 161ms/step - loss: 0.1225 - acc: 0.8031 - val_loss: 0.3638 - val_acc: 0.5902\n",
            "Epoch 91/250\n",
            "34/34 [==============================] - 5s 161ms/step - loss: 0.1202 - acc: 0.8096 - val_loss: 0.3339 - val_acc: 0.6393\n",
            "Epoch 92/250\n",
            "34/34 [==============================] - 5s 161ms/step - loss: 0.1171 - acc: 0.8059 - val_loss: 0.3257 - val_acc: 0.6230\n",
            "Epoch 93/250\n",
            "34/34 [==============================] - 5s 160ms/step - loss: 0.1244 - acc: 0.8059 - val_loss: 0.3109 - val_acc: 0.5902\n",
            "Epoch 94/250\n",
            "34/34 [==============================] - 5s 160ms/step - loss: 0.1323 - acc: 0.7948 - val_loss: 0.3345 - val_acc: 0.6393\n",
            "Epoch 95/250\n",
            "34/34 [==============================] - 5s 161ms/step - loss: 0.1271 - acc: 0.7976 - val_loss: 0.3491 - val_acc: 0.6066\n",
            "Epoch 96/250\n",
            "34/34 [==============================] - 5s 161ms/step - loss: 0.1169 - acc: 0.8124 - val_loss: 0.3826 - val_acc: 0.6393\n",
            "Epoch 97/250\n",
            "34/34 [==============================] - 5s 160ms/step - loss: 0.1196 - acc: 0.7957 - val_loss: 0.3031 - val_acc: 0.6066\n",
            "Epoch 98/250\n",
            "34/34 [==============================] - 5s 160ms/step - loss: 0.1134 - acc: 0.8124 - val_loss: 0.4297 - val_acc: 0.5738\n",
            "Epoch 99/250\n",
            "34/34 [==============================] - 5s 161ms/step - loss: 0.1182 - acc: 0.8161 - val_loss: 0.3356 - val_acc: 0.6393\n",
            "Epoch 100/250\n",
            "34/34 [==============================] - 5s 161ms/step - loss: 0.1165 - acc: 0.8059 - val_loss: 0.3837 - val_acc: 0.6721\n",
            "Epoch 101/250\n",
            "34/34 [==============================] - 5s 160ms/step - loss: 0.1282 - acc: 0.7994 - val_loss: 0.3329 - val_acc: 0.5574\n",
            "Epoch 102/250\n",
            "34/34 [==============================] - 5s 160ms/step - loss: 0.1201 - acc: 0.8031 - val_loss: 0.3982 - val_acc: 0.5902\n",
            "Epoch 103/250\n",
            "34/34 [==============================] - 5s 160ms/step - loss: 0.1301 - acc: 0.8087 - val_loss: 0.3232 - val_acc: 0.5738\n",
            "Epoch 104/250\n",
            "34/34 [==============================] - 5s 161ms/step - loss: 0.1169 - acc: 0.8041 - val_loss: 0.3200 - val_acc: 0.6066\n",
            "Epoch 105/250\n",
            "34/34 [==============================] - 5s 161ms/step - loss: 0.1159 - acc: 0.8179 - val_loss: 0.3853 - val_acc: 0.6230\n",
            "Epoch 106/250\n",
            "34/34 [==============================] - 5s 161ms/step - loss: 0.1161 - acc: 0.8189 - val_loss: 0.3590 - val_acc: 0.5574\n",
            "Epoch 107/250\n",
            "34/34 [==============================] - 6s 163ms/step - loss: 0.1137 - acc: 0.8087 - val_loss: 0.3947 - val_acc: 0.5410\n",
            "Epoch 108/250\n",
            "34/34 [==============================] - 5s 160ms/step - loss: 0.1141 - acc: 0.8078 - val_loss: 0.3049 - val_acc: 0.6885\n",
            "Epoch 109/250\n",
            "34/34 [==============================] - 5s 162ms/step - loss: 0.1129 - acc: 0.8087 - val_loss: 0.3469 - val_acc: 0.6230\n",
            "Epoch 110/250\n",
            "34/34 [==============================] - 5s 161ms/step - loss: 0.1092 - acc: 0.8152 - val_loss: 0.3695 - val_acc: 0.6066\n",
            "Epoch 111/250\n",
            "34/34 [==============================] - 5s 160ms/step - loss: 0.1121 - acc: 0.8142 - val_loss: 0.3492 - val_acc: 0.6393\n",
            "Epoch 112/250\n",
            "34/34 [==============================] - 5s 161ms/step - loss: 0.1163 - acc: 0.8050 - val_loss: 0.3667 - val_acc: 0.5738\n",
            "Epoch 113/250\n",
            "34/34 [==============================] - 5s 160ms/step - loss: 0.1359 - acc: 0.7837 - val_loss: 0.4298 - val_acc: 0.6230\n",
            "Epoch 114/250\n",
            "34/34 [==============================] - 5s 161ms/step - loss: 0.1253 - acc: 0.8004 - val_loss: 0.3716 - val_acc: 0.5738\n",
            "Epoch 115/250\n",
            "34/34 [==============================] - 5s 160ms/step - loss: 0.1190 - acc: 0.8133 - val_loss: 0.3795 - val_acc: 0.5738\n",
            "Epoch 116/250\n",
            "34/34 [==============================] - 5s 161ms/step - loss: 0.1141 - acc: 0.8198 - val_loss: 0.3143 - val_acc: 0.6393\n",
            "Epoch 117/250\n",
            "34/34 [==============================] - 5s 160ms/step - loss: 0.1165 - acc: 0.8096 - val_loss: 0.3308 - val_acc: 0.6066\n",
            "Epoch 118/250\n",
            "34/34 [==============================] - 5s 161ms/step - loss: 0.1153 - acc: 0.8189 - val_loss: 0.3150 - val_acc: 0.6066\n",
            "Epoch 119/250\n",
            "34/34 [==============================] - 5s 160ms/step - loss: 0.1152 - acc: 0.8096 - val_loss: 0.3448 - val_acc: 0.5902\n",
            "Epoch 120/250\n",
            "34/34 [==============================] - 5s 160ms/step - loss: 0.1097 - acc: 0.8179 - val_loss: 0.3474 - val_acc: 0.6230\n",
            "Epoch 121/250\n",
            "34/34 [==============================] - 5s 161ms/step - loss: 0.1084 - acc: 0.8207 - val_loss: 0.3524 - val_acc: 0.5738\n",
            "Epoch 122/250\n",
            "34/34 [==============================] - 5s 161ms/step - loss: 0.1112 - acc: 0.8152 - val_loss: 0.3442 - val_acc: 0.5902\n",
            "Epoch 123/250\n",
            "34/34 [==============================] - 5s 161ms/step - loss: 0.1077 - acc: 0.8198 - val_loss: 0.3272 - val_acc: 0.6066\n",
            "Epoch 124/250\n",
            "34/34 [==============================] - 5s 161ms/step - loss: 0.1050 - acc: 0.8170 - val_loss: 0.3602 - val_acc: 0.6885\n",
            "Epoch 125/250\n",
            "34/34 [==============================] - 5s 161ms/step - loss: 0.1039 - acc: 0.8179 - val_loss: 0.3677 - val_acc: 0.6557\n",
            "Epoch 126/250\n",
            "34/34 [==============================] - 5s 161ms/step - loss: 0.1165 - acc: 0.8013 - val_loss: 0.3598 - val_acc: 0.6066\n",
            "Epoch 127/250\n",
            "34/34 [==============================] - 5s 161ms/step - loss: 0.1227 - acc: 0.8179 - val_loss: 0.4186 - val_acc: 0.5902\n",
            "Epoch 128/250\n",
            "34/34 [==============================] - 5s 161ms/step - loss: 0.1201 - acc: 0.8152 - val_loss: 0.3390 - val_acc: 0.6230\n",
            "Epoch 129/250\n",
            "34/34 [==============================] - 6s 162ms/step - loss: 0.1127 - acc: 0.8105 - val_loss: 0.3803 - val_acc: 0.6393\n",
            "Epoch 130/250\n",
            "34/34 [==============================] - 5s 161ms/step - loss: 0.1274 - acc: 0.8087 - val_loss: 0.3402 - val_acc: 0.6066\n",
            "Epoch 131/250\n",
            "34/34 [==============================] - 5s 161ms/step - loss: 0.1340 - acc: 0.8068 - val_loss: 0.4122 - val_acc: 0.5902\n",
            "Epoch 132/250\n",
            "34/34 [==============================] - 5s 161ms/step - loss: 0.1494 - acc: 0.7754 - val_loss: 0.3401 - val_acc: 0.6230\n",
            "Epoch 133/250\n",
            "34/34 [==============================] - 5s 160ms/step - loss: 0.1454 - acc: 0.7994 - val_loss: 0.3414 - val_acc: 0.5738\n",
            "Epoch 134/250\n",
            "34/34 [==============================] - 5s 162ms/step - loss: 0.1322 - acc: 0.7911 - val_loss: 0.2942 - val_acc: 0.6066\n",
            "Epoch 135/250\n",
            "34/34 [==============================] - 5s 160ms/step - loss: 0.1239 - acc: 0.8068 - val_loss: 0.7917 - val_acc: 0.5738\n",
            "Epoch 136/250\n",
            "34/34 [==============================] - 5s 161ms/step - loss: 0.2577 - acc: 0.7579 - val_loss: 0.3620 - val_acc: 0.5574\n",
            "Epoch 137/250\n",
            "34/34 [==============================] - 5s 161ms/step - loss: 0.1743 - acc: 0.7523 - val_loss: 0.2639 - val_acc: 0.6721\n",
            "Epoch 138/250\n",
            "34/34 [==============================] - 5s 161ms/step - loss: 0.1397 - acc: 0.7957 - val_loss: 0.3968 - val_acc: 0.5574\n",
            "Epoch 139/250\n",
            "34/34 [==============================] - 5s 161ms/step - loss: 0.1278 - acc: 0.8124 - val_loss: 0.3420 - val_acc: 0.6230\n",
            "Epoch 140/250\n",
            "34/34 [==============================] - 5s 161ms/step - loss: 0.1212 - acc: 0.8105 - val_loss: 0.3614 - val_acc: 0.5902\n",
            "Epoch 141/250\n",
            "34/34 [==============================] - 5s 161ms/step - loss: 0.1172 - acc: 0.8068 - val_loss: 0.3042 - val_acc: 0.6066\n",
            "Epoch 142/250\n",
            "34/34 [==============================] - 5s 161ms/step - loss: 0.1145 - acc: 0.8226 - val_loss: 0.4122 - val_acc: 0.5902\n",
            "Epoch 143/250\n",
            "34/34 [==============================] - 5s 160ms/step - loss: 0.1081 - acc: 0.8207 - val_loss: 0.6493 - val_acc: 0.5574\n",
            "Epoch 144/250\n",
            "34/34 [==============================] - 5s 160ms/step - loss: 0.1126 - acc: 0.8226 - val_loss: 0.3603 - val_acc: 0.6393\n",
            "Epoch 145/250\n",
            "34/34 [==============================] - 5s 162ms/step - loss: 0.1091 - acc: 0.8179 - val_loss: 0.3484 - val_acc: 0.5738\n",
            "Epoch 146/250\n",
            "34/34 [==============================] - 5s 161ms/step - loss: 0.1081 - acc: 0.8152 - val_loss: 0.3740 - val_acc: 0.5574\n",
            "Epoch 147/250\n",
            "34/34 [==============================] - 5s 160ms/step - loss: 0.1037 - acc: 0.8170 - val_loss: 0.3903 - val_acc: 0.5574\n",
            "Epoch 148/250\n",
            "34/34 [==============================] - 5s 160ms/step - loss: 0.1057 - acc: 0.8272 - val_loss: 0.3091 - val_acc: 0.5738\n",
            "Epoch 149/250\n",
            "34/34 [==============================] - 5s 160ms/step - loss: 0.1063 - acc: 0.8253 - val_loss: 0.3283 - val_acc: 0.5574\n",
            "Epoch 150/250\n",
            "34/34 [==============================] - 5s 160ms/step - loss: 0.1042 - acc: 0.8179 - val_loss: 0.4633 - val_acc: 0.5738\n",
            "Epoch 151/250\n",
            "34/34 [==============================] - 6s 163ms/step - loss: 0.1049 - acc: 0.8226 - val_loss: 0.3148 - val_acc: 0.5902\n",
            "Epoch 152/250\n",
            "34/34 [==============================] - 5s 162ms/step - loss: 0.1146 - acc: 0.8244 - val_loss: 0.3041 - val_acc: 0.5902\n",
            "Epoch 153/250\n",
            "34/34 [==============================] - 5s 160ms/step - loss: 0.1092 - acc: 0.8327 - val_loss: 0.3386 - val_acc: 0.6066\n",
            "Epoch 154/250\n",
            "34/34 [==============================] - 5s 161ms/step - loss: 0.1106 - acc: 0.8115 - val_loss: 0.3751 - val_acc: 0.6393\n",
            "Epoch 155/250\n",
            "34/34 [==============================] - 5s 161ms/step - loss: 0.1068 - acc: 0.8189 - val_loss: 0.3539 - val_acc: 0.6066\n",
            "Epoch 156/250\n",
            "34/34 [==============================] - 5s 162ms/step - loss: 0.1359 - acc: 0.8124 - val_loss: 0.3931 - val_acc: 0.5902\n",
            "Epoch 157/250\n",
            "34/34 [==============================] - 5s 160ms/step - loss: 0.1546 - acc: 0.7884 - val_loss: 0.3052 - val_acc: 0.6393\n",
            "Epoch 158/250\n",
            "34/34 [==============================] - 5s 161ms/step - loss: 0.1300 - acc: 0.7994 - val_loss: 0.2929 - val_acc: 0.6557\n",
            "Epoch 159/250\n",
            "34/34 [==============================] - 5s 160ms/step - loss: 0.1403 - acc: 0.7847 - val_loss: 0.2927 - val_acc: 0.6393\n",
            "Epoch 160/250\n",
            "34/34 [==============================] - 5s 160ms/step - loss: 0.1496 - acc: 0.7551 - val_loss: 0.2697 - val_acc: 0.6393\n",
            "Epoch 161/250\n",
            "34/34 [==============================] - 5s 159ms/step - loss: 0.1338 - acc: 0.7884 - val_loss: 0.3547 - val_acc: 0.6393\n",
            "Epoch 162/250\n",
            "34/34 [==============================] - 5s 160ms/step - loss: 0.1278 - acc: 0.7874 - val_loss: 0.3245 - val_acc: 0.6721\n",
            "Epoch 163/250\n",
            "34/34 [==============================] - 5s 159ms/step - loss: 0.1250 - acc: 0.8133 - val_loss: 0.3458 - val_acc: 0.5902\n",
            "Epoch 164/250\n",
            "34/34 [==============================] - 5s 160ms/step - loss: 0.1158 - acc: 0.8133 - val_loss: 0.3041 - val_acc: 0.6557\n",
            "Epoch 165/250\n",
            "34/34 [==============================] - 5s 160ms/step - loss: 0.1108 - acc: 0.8078 - val_loss: 0.3383 - val_acc: 0.6393\n",
            "Epoch 166/250\n",
            "34/34 [==============================] - 5s 159ms/step - loss: 0.1059 - acc: 0.8235 - val_loss: 0.4755 - val_acc: 0.6230\n",
            "Epoch 167/250\n",
            "34/34 [==============================] - 5s 160ms/step - loss: 0.1038 - acc: 0.8235 - val_loss: 0.3665 - val_acc: 0.6066\n",
            "Epoch 168/250\n",
            "34/34 [==============================] - 5s 160ms/step - loss: 0.1154 - acc: 0.8281 - val_loss: 0.3583 - val_acc: 0.5738\n",
            "Epoch 169/250\n",
            "34/34 [==============================] - 5s 160ms/step - loss: 0.1183 - acc: 0.8244 - val_loss: 0.3342 - val_acc: 0.6066\n",
            "Epoch 170/250\n",
            "34/34 [==============================] - 5s 160ms/step - loss: 0.1070 - acc: 0.8262 - val_loss: 0.3181 - val_acc: 0.6393\n",
            "Epoch 171/250\n",
            "34/34 [==============================] - 5s 160ms/step - loss: 0.1031 - acc: 0.8207 - val_loss: 0.3668 - val_acc: 0.6230\n",
            "Epoch 172/250\n",
            "34/34 [==============================] - 5s 160ms/step - loss: 0.0990 - acc: 0.8383 - val_loss: 0.3583 - val_acc: 0.6393\n",
            "Epoch 173/250\n",
            "34/34 [==============================] - 5s 162ms/step - loss: 0.0981 - acc: 0.8318 - val_loss: 0.3741 - val_acc: 0.5410\n",
            "Epoch 174/250\n",
            "34/34 [==============================] - 5s 160ms/step - loss: 0.1121 - acc: 0.8290 - val_loss: 0.2836 - val_acc: 0.5902\n",
            "Epoch 175/250\n",
            "34/34 [==============================] - 5s 161ms/step - loss: 0.1178 - acc: 0.8244 - val_loss: 0.2739 - val_acc: 0.6721\n",
            "Epoch 176/250\n",
            "34/34 [==============================] - 5s 160ms/step - loss: 0.1096 - acc: 0.8207 - val_loss: 0.3674 - val_acc: 0.5738\n",
            "Epoch 177/250\n",
            "34/34 [==============================] - 5s 160ms/step - loss: 0.0990 - acc: 0.8327 - val_loss: 0.3404 - val_acc: 0.6066\n",
            "Epoch 178/250\n",
            "34/34 [==============================] - 5s 160ms/step - loss: 0.0997 - acc: 0.8299 - val_loss: 0.4022 - val_acc: 0.6230\n",
            "Epoch 179/250\n",
            "34/34 [==============================] - 5s 160ms/step - loss: 0.1054 - acc: 0.8179 - val_loss: 0.3831 - val_acc: 0.5902\n",
            "Epoch 180/250\n",
            "34/34 [==============================] - 5s 160ms/step - loss: 0.1009 - acc: 0.8336 - val_loss: 0.3415 - val_acc: 0.6230\n",
            "Epoch 181/250\n",
            "34/34 [==============================] - 5s 160ms/step - loss: 0.1085 - acc: 0.8355 - val_loss: 0.2979 - val_acc: 0.6557\n",
            "Epoch 182/250\n",
            "34/34 [==============================] - 5s 160ms/step - loss: 0.1061 - acc: 0.8216 - val_loss: 0.3440 - val_acc: 0.6393\n",
            "Epoch 183/250\n",
            "34/34 [==============================] - 5s 160ms/step - loss: 0.1005 - acc: 0.8272 - val_loss: 0.4219 - val_acc: 0.6721\n",
            "Epoch 184/250\n",
            "34/34 [==============================] - 5s 160ms/step - loss: 0.1069 - acc: 0.8059 - val_loss: 0.3263 - val_acc: 0.6393\n",
            "Epoch 185/250\n",
            "34/34 [==============================] - 5s 159ms/step - loss: 0.1048 - acc: 0.8253 - val_loss: 0.4662 - val_acc: 0.5246\n",
            "Epoch 186/250\n",
            "34/34 [==============================] - 5s 160ms/step - loss: 0.1088 - acc: 0.8207 - val_loss: 0.3095 - val_acc: 0.6066\n",
            "Epoch 187/250\n",
            "34/34 [==============================] - 5s 160ms/step - loss: 0.1026 - acc: 0.8272 - val_loss: 0.4935 - val_acc: 0.5902\n",
            "Epoch 188/250\n",
            "34/34 [==============================] - 5s 160ms/step - loss: 0.1067 - acc: 0.8198 - val_loss: 0.5024 - val_acc: 0.5902\n",
            "Epoch 189/250\n",
            "34/34 [==============================] - 5s 160ms/step - loss: 0.1033 - acc: 0.8327 - val_loss: 0.4856 - val_acc: 0.5574\n",
            "Epoch 190/250\n",
            "34/34 [==============================] - 5s 160ms/step - loss: 0.1074 - acc: 0.8253 - val_loss: 0.3705 - val_acc: 0.6393\n",
            "Epoch 191/250\n",
            "34/34 [==============================] - 5s 159ms/step - loss: 0.1015 - acc: 0.8281 - val_loss: 0.3728 - val_acc: 0.5574\n",
            "Epoch 192/250\n",
            "34/34 [==============================] - 5s 159ms/step - loss: 0.0982 - acc: 0.8272 - val_loss: 0.3373 - val_acc: 0.6393\n",
            "Epoch 193/250\n",
            "34/34 [==============================] - 5s 160ms/step - loss: 0.0948 - acc: 0.8336 - val_loss: 0.3853 - val_acc: 0.6721\n",
            "Epoch 194/250\n",
            "34/34 [==============================] - 5s 160ms/step - loss: 0.0968 - acc: 0.8438 - val_loss: 0.4528 - val_acc: 0.6230\n",
            "Epoch 195/250\n",
            "34/34 [==============================] - 5s 162ms/step - loss: 0.1035 - acc: 0.8309 - val_loss: 0.3666 - val_acc: 0.6721\n",
            "Epoch 196/250\n",
            "34/34 [==============================] - 5s 161ms/step - loss: 0.1001 - acc: 0.8281 - val_loss: 0.3948 - val_acc: 0.6066\n",
            "Epoch 197/250\n",
            "34/34 [==============================] - 5s 160ms/step - loss: 0.1107 - acc: 0.8105 - val_loss: 0.3333 - val_acc: 0.7049\n",
            "Epoch 198/250\n",
            "34/34 [==============================] - 5s 160ms/step - loss: 0.1023 - acc: 0.8327 - val_loss: 0.3324 - val_acc: 0.6393\n",
            "Epoch 199/250\n",
            "34/34 [==============================] - 5s 160ms/step - loss: 0.1062 - acc: 0.8272 - val_loss: 0.3266 - val_acc: 0.6066\n",
            "Epoch 200/250\n",
            "34/34 [==============================] - 5s 162ms/step - loss: 0.1076 - acc: 0.8244 - val_loss: 0.3583 - val_acc: 0.5902\n",
            "Epoch 201/250\n",
            "34/34 [==============================] - 5s 160ms/step - loss: 0.1030 - acc: 0.8272 - val_loss: 0.2665 - val_acc: 0.6557\n",
            "Epoch 202/250\n",
            "34/34 [==============================] - 5s 160ms/step - loss: 0.1015 - acc: 0.8198 - val_loss: 0.4018 - val_acc: 0.5902\n",
            "Epoch 203/250\n",
            "34/34 [==============================] - 5s 161ms/step - loss: 0.1166 - acc: 0.8216 - val_loss: 0.3237 - val_acc: 0.6721\n",
            "Epoch 204/250\n",
            "34/34 [==============================] - 5s 160ms/step - loss: 0.1264 - acc: 0.8059 - val_loss: 0.3468 - val_acc: 0.5410\n",
            "Epoch 205/250\n",
            "34/34 [==============================] - 5s 160ms/step - loss: 0.1046 - acc: 0.8216 - val_loss: 0.4634 - val_acc: 0.5902\n",
            "Epoch 206/250\n",
            "34/34 [==============================] - 5s 160ms/step - loss: 0.1090 - acc: 0.8207 - val_loss: 0.4281 - val_acc: 0.5738\n",
            "Epoch 207/250\n",
            "34/34 [==============================] - 5s 160ms/step - loss: 0.1344 - acc: 0.8161 - val_loss: 0.4191 - val_acc: 0.6230\n",
            "Epoch 208/250\n",
            "34/34 [==============================] - 5s 160ms/step - loss: 0.1147 - acc: 0.8216 - val_loss: 0.3169 - val_acc: 0.6230\n",
            "Epoch 209/250\n",
            "34/34 [==============================] - 5s 159ms/step - loss: 0.1100 - acc: 0.8198 - val_loss: 0.4374 - val_acc: 0.5738\n",
            "Epoch 210/250\n",
            "34/34 [==============================] - 5s 160ms/step - loss: 0.1072 - acc: 0.8281 - val_loss: 0.3550 - val_acc: 0.5738\n",
            "Epoch 211/250\n",
            "34/34 [==============================] - 5s 161ms/step - loss: 0.1141 - acc: 0.8170 - val_loss: 0.3369 - val_acc: 0.6066\n",
            "Epoch 212/250\n",
            "34/34 [==============================] - 5s 159ms/step - loss: 0.1106 - acc: 0.8216 - val_loss: 0.3793 - val_acc: 0.5902\n",
            "Epoch 213/250\n",
            "34/34 [==============================] - 5s 159ms/step - loss: 0.1060 - acc: 0.8253 - val_loss: 0.3099 - val_acc: 0.6393\n",
            "Epoch 214/250\n",
            "34/34 [==============================] - 5s 159ms/step - loss: 0.1005 - acc: 0.8318 - val_loss: 0.3443 - val_acc: 0.6557\n",
            "Epoch 215/250\n",
            "34/34 [==============================] - 5s 159ms/step - loss: 0.1091 - acc: 0.8235 - val_loss: 0.3432 - val_acc: 0.6557\n",
            "Epoch 216/250\n",
            "34/34 [==============================] - 5s 159ms/step - loss: 0.1000 - acc: 0.8327 - val_loss: 0.3795 - val_acc: 0.6885\n",
            "Epoch 217/250\n",
            "34/34 [==============================] - 5s 160ms/step - loss: 0.1027 - acc: 0.8226 - val_loss: 0.3686 - val_acc: 0.5902\n",
            "Epoch 218/250\n",
            "34/34 [==============================] - 5s 161ms/step - loss: 0.1972 - acc: 0.8013 - val_loss: 0.4630 - val_acc: 0.6230\n",
            "Epoch 219/250\n",
            "34/34 [==============================] - 5s 159ms/step - loss: 0.1943 - acc: 0.7394 - val_loss: 0.2769 - val_acc: 0.6557\n",
            "Epoch 220/250\n",
            "34/34 [==============================] - 5s 159ms/step - loss: 0.1404 - acc: 0.7939 - val_loss: 0.3661 - val_acc: 0.7213\n",
            "Epoch 221/250\n",
            "34/34 [==============================] - 5s 159ms/step - loss: 0.1185 - acc: 0.8031 - val_loss: 0.4462 - val_acc: 0.6066\n",
            "Epoch 222/250\n",
            "34/34 [==============================] - 5s 159ms/step - loss: 0.1085 - acc: 0.8198 - val_loss: 0.2799 - val_acc: 0.6557\n",
            "Epoch 223/250\n",
            "34/34 [==============================] - 5s 159ms/step - loss: 0.1019 - acc: 0.8327 - val_loss: 0.5847 - val_acc: 0.6557\n",
            "Epoch 224/250\n",
            "34/34 [==============================] - 5s 160ms/step - loss: 0.1090 - acc: 0.8327 - val_loss: 0.2852 - val_acc: 0.6393\n",
            "Epoch 225/250\n",
            "34/34 [==============================] - 5s 159ms/step - loss: 0.0992 - acc: 0.8170 - val_loss: 0.3265 - val_acc: 0.6066\n",
            "Epoch 226/250\n",
            "34/34 [==============================] - 5s 159ms/step - loss: 0.1027 - acc: 0.8290 - val_loss: 0.3057 - val_acc: 0.6721\n",
            "Epoch 227/250\n",
            "34/34 [==============================] - 5s 159ms/step - loss: 0.0981 - acc: 0.8392 - val_loss: 0.3111 - val_acc: 0.6393\n",
            "Epoch 228/250\n",
            "34/34 [==============================] - 5s 160ms/step - loss: 0.1170 - acc: 0.8170 - val_loss: 0.3736 - val_acc: 0.5574\n",
            "Epoch 229/250\n",
            "34/34 [==============================] - 5s 159ms/step - loss: 0.1107 - acc: 0.8299 - val_loss: 0.4409 - val_acc: 0.5738\n",
            "Epoch 230/250\n",
            "34/34 [==============================] - 5s 160ms/step - loss: 0.1103 - acc: 0.8152 - val_loss: 0.4045 - val_acc: 0.5574\n",
            "Epoch 231/250\n",
            "34/34 [==============================] - 5s 159ms/step - loss: 0.0992 - acc: 0.8355 - val_loss: 0.4554 - val_acc: 0.5902\n",
            "Epoch 232/250\n",
            "34/34 [==============================] - 5s 160ms/step - loss: 0.0946 - acc: 0.8447 - val_loss: 0.4937 - val_acc: 0.6066\n",
            "Epoch 233/250\n",
            "34/34 [==============================] - 5s 159ms/step - loss: 0.0939 - acc: 0.8346 - val_loss: 0.4053 - val_acc: 0.6393\n",
            "Epoch 234/250\n",
            "34/34 [==============================] - 5s 160ms/step - loss: 0.0948 - acc: 0.8355 - val_loss: 0.3782 - val_acc: 0.6393\n",
            "Epoch 235/250\n",
            "34/34 [==============================] - 5s 159ms/step - loss: 0.0947 - acc: 0.8346 - val_loss: 0.4549 - val_acc: 0.6393\n",
            "Epoch 236/250\n",
            "34/34 [==============================] - 5s 159ms/step - loss: 0.0954 - acc: 0.8373 - val_loss: 0.4253 - val_acc: 0.6393\n",
            "Epoch 237/250\n",
            "34/34 [==============================] - 5s 159ms/step - loss: 0.0929 - acc: 0.8494 - val_loss: 0.5657 - val_acc: 0.6557\n",
            "Epoch 238/250\n",
            "34/34 [==============================] - 5s 160ms/step - loss: 0.1086 - acc: 0.8309 - val_loss: 0.5547 - val_acc: 0.5902\n",
            "Epoch 239/250\n",
            "34/34 [==============================] - 5s 159ms/step - loss: 0.0979 - acc: 0.8244 - val_loss: 0.4783 - val_acc: 0.5902\n",
            "Epoch 240/250\n",
            "34/34 [==============================] - 5s 161ms/step - loss: 0.0955 - acc: 0.8355 - val_loss: 0.4067 - val_acc: 0.6721\n",
            "Epoch 241/250\n",
            "34/34 [==============================] - 5s 161ms/step - loss: 0.0935 - acc: 0.8383 - val_loss: 0.5117 - val_acc: 0.6230\n",
            "Epoch 242/250\n",
            "34/34 [==============================] - 5s 159ms/step - loss: 0.1130 - acc: 0.8133 - val_loss: 0.4396 - val_acc: 0.6066\n",
            "Epoch 243/250\n",
            "34/34 [==============================] - 5s 159ms/step - loss: 0.1056 - acc: 0.8281 - val_loss: 0.5093 - val_acc: 0.5902\n",
            "Epoch 244/250\n",
            "34/34 [==============================] - 5s 159ms/step - loss: 0.1170 - acc: 0.8142 - val_loss: 0.4105 - val_acc: 0.6066\n",
            "Epoch 245/250\n",
            "34/34 [==============================] - 5s 160ms/step - loss: 0.1084 - acc: 0.8299 - val_loss: 0.2677 - val_acc: 0.6393\n",
            "Epoch 246/250\n",
            "34/34 [==============================] - 5s 160ms/step - loss: 0.1085 - acc: 0.8189 - val_loss: 0.3563 - val_acc: 0.6557\n",
            "Epoch 247/250\n",
            "34/34 [==============================] - 5s 160ms/step - loss: 0.1049 - acc: 0.8198 - val_loss: 0.3222 - val_acc: 0.6393\n",
            "Epoch 248/250\n",
            "34/34 [==============================] - 5s 159ms/step - loss: 0.1055 - acc: 0.8309 - val_loss: 0.3928 - val_acc: 0.5574\n",
            "Epoch 249/250\n",
            "34/34 [==============================] - 5s 159ms/step - loss: 0.1035 - acc: 0.8170 - val_loss: 0.4167 - val_acc: 0.6393\n",
            "Epoch 250/250\n",
            "34/34 [==============================] - 5s 159ms/step - loss: 0.0995 - acc: 0.8336 - val_loss: 0.5290 - val_acc: 0.6066\n"
          ]
        }
      ],
      "source": [
        "train_datagen = ImageDataGenerator(rescale=1. / 255, \n",
        "                                   rotation_range=15,\n",
        "                                   width_shift_range=0.1,\n",
        "                                   height_shift_range=0.1,\n",
        "                                   shear_range=0.01,\n",
        "                                   zoom_range=[0.9, 1.25],\n",
        "                                   horizontal_flip=True,\n",
        "                                   vertical_flip=False,\n",
        "                                   fill_mode='reflect')\n",
        "valtest_datagen = ImageDataGenerator(rescale=1. / 255)\n",
        "\n",
        "train_generator = train_datagen.flow(np.array(X_train), y_train, batch_size=batch_size)\n",
        "validation_generator = valtest_datagen.flow(np.array(X_val), y_val, batch_size=batch_size)\n",
        "test_generator = valtest_datagen.flow(np.array(X_test), y_test, batch_size=batch_size)\n",
        "\n",
        "history = model.fit(np.array(X_train), np.array(y_train), validation_data=(np.array(X_val), np.array(y_val)), epochs=250)\n"
      ]
    },
    {
      "cell_type": "code",
      "execution_count": 22,
      "metadata": {
        "id": "b7zFh3yBq2Rg",
        "colab": {
          "base_uri": "https://localhost:8080/",
          "height": 898
        },
        "outputId": "20a27672-7d1b-4e34-cc0c-b4e059d456b4"
      },
      "outputs": [
        {
          "output_type": "display_data",
          "data": {
            "text/plain": [
              "<Figure size 432x288 with 1 Axes>"
            ],
            "image/png": "[encoded data removed]"
          },
          "metadata": {
            "needs_background": "light"
          }
        },
        {
          "output_type": "display_data",
          "data": {
            "text/plain": [
              "<Figure size 432x288 with 1 Axes>"
            ],
            "image/png": "[encoded data removed]"
          },
          "metadata": {
            "needs_background": "light"
          }
        },
        {
          "output_type": "display_data",
          "data": {
            "text/plain": [
              "<Figure size 360x360 with 2 Axes>"
            ],
            "image/png": "[encoded data removed]"
          },
          "metadata": {
            "needs_background": "light"
          }
        }
      ],
      "source": [
        "acc = history.history['acc']\n",
        "val_acc = history.history['val_acc']\n",
        "loss = history.history['loss']\n",
        "val_loss = history.history['val_loss']\n",
        "epochs = range(1, len(acc) + 1)\n",
        "plt.plot(epochs, acc, 'blue', label='Training acc')\n",
        "plt.plot(epochs, val_acc, 'red', label='Validation acc')\n",
        "plt.title('Training and validation accuracy')\n",
        "plt.legend()\n",
        "plt.savefig(\"/content/drive/MyDrive/Datasets - Copy/trvlAcc1.png\")\n",
        "plt.show()\n",
        "\n",
        "plt.figure()\n",
        "plt.plot(epochs, loss, 'blue', label='Training loss')\n",
        "plt.plot(epochs, val_loss, 'red', label='Validation loss')\n",
        "plt.title('Training and validation loss')\n",
        "plt.legend()\n",
        "plt.savefig(\"/content/drive/MyDrive/Datasets - Copy/trvlLoss1.png\")\n",
        "plt.show()\n",
        "\n",
        "import sklearn\n",
        "import itertools\n",
        "from sklearn.metrics import confusion_matrix\n",
        "dict_characters = {0: 'Clear', 1: 'Blurry'}\n",
        "def plot_confusion_matrix(cm, classes,\n",
        "                          normalize=False,\n",
        "                          title='Confusion matrix',\n",
        "                          cmap=plt.cm.Blues):\n",
        "    plt.figure(figsize = (5,5))\n",
        "    plt.imshow(cm, interpolation='nearest', cmap=cmap)\n",
        "    plt.title(title)\n",
        "    plt.colorbar()\n",
        "    tick_marks = np.arange(len(classes))\n",
        "    plt.xticks(tick_marks, classes, rotation=90)\n",
        "    plt.yticks(tick_marks, classes)\n",
        "    if normalize:\n",
        "        cm = cm.astype('float') / cm.sum(axis=1)[:, np.newaxis]\n",
        "    thresh = cm.max() / 2.\n",
        "    for i, j in itertools.product(range(cm.shape[0]), range(cm.shape[1])):\n",
        "        plt.text(j, i, cm[i, j],\n",
        "                 horizontalalignment=\"center\",\n",
        "                 color=\"white\" if cm[i, j] > thresh else \"black\")\n",
        "    plt.tight_layout()\n",
        "    plt.ylabel('True label')\n",
        "    plt.xlabel('Predicted label')\n",
        "    plt.savefig(\"/content/drive/MyDrive/Datasets - Copy/cm-\"+title+\".png\")\n",
        "    plt.show()\n",
        "\n",
        "    \n",
        "a=np.array(X_test)\n",
        "b=np.array(y_test)\n",
        "Y_pred = model.predict(a)\n",
        "\n",
        "\n",
        "Y_pred_classes = np.argmax(Y_pred,axis=1)\n",
        "confusion_mtx = confusion_matrix(np.argmax(b,axis=1), Y_pred_classes) \n",
        "plot_confusion_matrix(confusion_mtx, classes = list(image_classes))"
      ]
    },
    {
      "cell_type": "code",
      "execution_count": 23,
      "metadata": {
        "id": "zYxKO_NyxXA2",
        "colab": {
          "base_uri": "https://localhost:8080/"
        },
        "outputId": "c213fbd7-d4a1-4508-c276-082dde49bca5"
      },
      "outputs": [
        {
          "output_type": "execute_result",
          "data": {
            "text/plain": [
              "0.65"
            ]
          },
          "metadata": {},
          "execution_count": 23
        }
      ],
      "source": [
        "sklearn.metrics.accuracy_score(Y_pred_classes,np.argmax(b,axis=1))\n"
      ]
    },
    {
      "cell_type": "code",
      "execution_count": 24,
      "metadata": {
        "id": "FtSjiZ4pxcAE",
        "colab": {
          "base_uri": "https://localhost:8080/"
        },
        "outputId": "28f690aa-5c0e-4f77-9990-714daa854aa2"
      },
      "outputs": [
        {
          "output_type": "execute_result",
          "data": {
            "text/plain": [
              "array([[ 1,  0,  0,  0,  0,  0],\n",
              "       [ 0,  4,  3,  2,  0,  0],\n",
              "       [ 0,  2,  7,  1,  0,  1],\n",
              "       [ 0,  2,  0,  8,  1,  0],\n",
              "       [ 0,  1,  1,  4,  5,  0],\n",
              "       [ 0,  1,  1,  1,  0, 14]])"
            ]
          },
          "metadata": {},
          "execution_count": 24
        }
      ],
      "source": [
        "confusion_mtx\n"
      ]
    },
    {
      "cell_type": "code",
      "execution_count": 25,
      "metadata": {
        "id": "yF5RniLdxjb1",
        "colab": {
          "base_uri": "https://localhost:8080/"
        },
        "outputId": "f45f5213-078b-4b78-8b46-91beef8845ff"
      },
      "outputs": [
        {
          "output_type": "execute_result",
          "data": {
            "text/plain": [
              "[1.0,\n",
              " 0.4444444444444444,\n",
              " 0.45454545454545453,\n",
              " 0.5454545454545454,\n",
              " 0.8181818181818182,\n",
              " 0.8235294117647058]"
            ]
          },
          "metadata": {},
          "execution_count": 25
        }
      ],
      "source": [
        "accuracies = [class_correct_pred[i]/class_totals[i] for i in range(6)]\n",
        "accuracies"
      ]
    },
    {
      "cell_type": "code",
      "execution_count": 26,
      "metadata": {
        "id": "Hjhfdjpmxtre",
        "colab": {
          "base_uri": "https://localhost:8080/"
        },
        "outputId": "5b9af075-73be-4aaf-971b-dad434b197ef"
      },
      "outputs": [
        {
          "output_type": "stream",
          "name": "stdout",
          "text": [
            "60\n"
          ]
        },
        {
          "output_type": "execute_result",
          "data": {
            "text/plain": [
              "[1.0,\n",
              " 0.9090909090909091,\n",
              " 0.9230769230769231,\n",
              " 0.8979591836734694,\n",
              " 0.9,\n",
              " 0.9782608695652174]"
            ]
          },
          "metadata": {},
          "execution_count": 26
        }
      ],
      "source": [
        "sumall = sum(map(sum, confusion_mtx))\n",
        "print(sumall)\n",
        "tn = [sumall - [sum(x) for x in zip(*confusion_mtx)][i] for i in range(6)]\n",
        "tn\n",
        "specificity = [tn[i]/(tn[i]+fp[i]) for i in range(6)]\n",
        "specificity"
      ]
    }
  ],
  "metadata": {
    "accelerator": "GPU",
    "colab": {
      "provenance": [],
      "mount_file_id": "1o0DJ_DSgRB-g7LO2gJK0jPSy6KnDXEcp",
      "authorship_tag": "ABX9TyMpSsSwKeqg+4L9oM071+wi",
      "include_colab_link": true
    },
    "kernelspec": {
      "display_name": "Python 3",
      "name": "python3"
    },
    "language_info": {
      "name": "python"
    }
  },
  "nbformat": 4,
  "nbformat_minor": 0
}